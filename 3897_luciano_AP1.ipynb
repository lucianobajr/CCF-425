{
  "cells": [
    {
      "cell_type": "markdown",
      "metadata": {
        "id": "v9b5EcQz_YB5"
      },
      "source": [
        "> Introdução à Ciência dos Dados \\\n",
        "> Ciência da Computação – UFV/Florestal\n",
        "\n",
        "\n",
        "* **Nome:** Luciano Belo\n",
        "* **Matrícula:**  3987\n",
        "\n",
        "# Aula Prática 01\n",
        "##  Conhecendo o Ambiente e Manipulando Estruturas de Uma Dimensão\n",
        "\n",
        "**Objetivo:** Conhecer o ambiente de desenvolvimento \\\n",
        "**Pré-requisitos:** Linguagem de programação Python \\\n",
        "**Meta:** Ao final da prática, o aluno será capaz de iniciar o ambiente de desenvolvimento e executar comandos na linguagem Python para manipular uma estrutura de dados de uma dimensão.\n",
        "\n",
        "----"
      ]
    },
    {
      "cell_type": "markdown",
      "metadata": {
        "id": "OVf4E3va_YB-"
      },
      "source": [
        "## Introdução\n",
        "\n",
        "A ferramenta de desenvolvimento a ser utilizada é chamada Jupyter Notebook. Com ela, é possível executar comandos para análises de dados isoladamente, sem precisar executar todo o código sempre que for preciso fazer algum ajuste. Você pode instalar localmente na sua máquina o [Jupyter Notebook](https://jupyter.org) ou utilizar o [Google Colab](https://colab.research.google.com).\n",
        "\n",
        "A principal API de desenvolvimento que será utilizada é chamada de [Pandas](https://pandas.pydata.org). Com ela, é possível manipular estruturas de dados complexas para análises de dados.\n",
        "\n",
        "Dentro da API Pandas, uma estrutura 1-dimensional é a Series. Uma Serie é similar a um arranjo nas linguagens de programação, com algumas características particulares que a torna mais poderosa que as estruturas de arranjos e listas tradicionais.\n",
        "\n",
        "Seguindo o roteiro abaixo, você deverá utilizar o Jupyter Notebook ou Google Colab para manipular algumas estruturas do tipo Series.\n",
        "\n",
        "Para instalar as ferramentas e as bibliotecas necessárias, você pode seguir o tutorial que está no PVANet.\n"
      ]
    },
    {
      "cell_type": "code",
      "source": [
        "### NÃO REMOVA ESSA CÉLULA! ####\n",
        "!pip install learntools_dados_ufv"
      ],
      "metadata": {
        "colab": {
          "base_uri": "https://localhost:8080/"
        },
        "id": "W09QN2cs_cQ_",
        "outputId": "96ef220e-2ffb-497e-c6d0-b29176ecb092"
      },
      "execution_count": null,
      "outputs": [
        {
          "output_type": "stream",
          "name": "stdout",
          "text": [
            "Collecting learntools_dados_ufv\n",
            "  Downloading learntools_dados_ufv-1.0.4.tar.gz (23 kB)\n",
            "Building wheels for collected packages: learntools-dados-ufv\n",
            "  Building wheel for learntools-dados-ufv (setup.py) ... \u001b[?25l\u001b[?25hdone\n",
            "  Created wheel for learntools-dados-ufv: filename=learntools_dados_ufv-1.0.4-py3-none-any.whl size=28521 sha256=9c48b8bc3b5ca151432535665bbfe4a78c223fc32488396aa90a6b0e833ee6ce\n",
            "  Stored in directory: /root/.cache/pip/wheels/da/a6/8a/0cb51a7c24450fe832e0d5b5d7985631f9deb3d8db406a5129\n",
            "Successfully built learntools-dados-ufv\n",
            "Installing collected packages: learntools-dados-ufv\n",
            "Successfully installed learntools-dados-ufv-1.0.4\n"
          ]
        }
      ]
    },
    {
      "cell_type": "code",
      "execution_count": null,
      "metadata": {
        "id": "_X9J3UPRX7_6",
        "colab": {
          "base_uri": "https://localhost:8080/"
        },
        "outputId": "103bc6c3-c66b-45f3-baf4-e9ffa96ab4a1"
      },
      "outputs": [
        {
          "output_type": "stream",
          "name": "stderr",
          "text": [
            "WARNING:root:Ignoring repeated attempt to bind to globals\n"
          ]
        }
      ],
      "source": [
        "#### Não altere essa célula!!! ####\n",
        "import pandas as pd\n",
        "import random\n",
        "\n",
        "from learntools_dados_ufv.core import binder; binder.bind(globals())\n",
        "from learntools_dados_ufv.ccf425.pratica_1 import *"
      ]
    },
    {
      "cell_type": "markdown",
      "metadata": {
        "id": "3LWiNtDCX7_7"
      },
      "source": [
        "## 1. Gere uma Serie com 500 valores inteiros aleatórios entre -1000 e 1000\n",
        "Armazene-o na variável `series`. \n",
        "\n",
        "Chame a função `q1.check()` no fim da célula para verificar a resposta.\n",
        "Você pode pedir dicas com `q1.hint()`"
      ]
    },
    {
      "cell_type": "code",
      "execution_count": null,
      "metadata": {
        "id": "TxEmCjTx_YCB",
        "colab": {
          "base_uri": "https://localhost:8080/",
          "height": 284
        },
        "outputId": "2a34728f-c384-4d73-ddf3-e9f375f08a84"
      },
      "outputs": [
        {
          "output_type": "display_data",
          "data": {
            "text/plain": [
              "<IPython.core.display.Javascript object>"
            ],
            "application/javascript": [
              "parent.postMessage({\"jupyterEvent\": \"custom.exercise_interaction\", \"data\": {\"interactionType\": 2, \"questionType\": 2, \"questionId\": \"1_Q1\", \"learnToolsVersion\": \"1.0.4\", \"valueTowardsCompletion\": 0.0, \"failureMessage\": \"\", \"exceptionClass\": \"\", \"trace\": \"\", \"outcomeType\": 4}}, \"*\")"
            ]
          },
          "metadata": {}
        },
        {
          "output_type": "display_data",
          "data": {
            "text/plain": [
              "Dica: Utilize a função `pd.Series` com uma lista de números aleatórios como argumento. A função `random.sample` pode ser útil..."
            ],
            "text/markdown": "<span style=\"color:#3366cc\">Dica:</span> Utilize a função `pd.Series` com uma lista de números aleatórios como argumento. A função `random.sample` pode ser útil..."
          },
          "metadata": {}
        },
        {
          "output_type": "stream",
          "name": "stdout",
          "text": [
            "0     -912\n",
            "1     -847\n",
            "2      802\n",
            "3      194\n",
            "4       83\n",
            "      ... \n",
            "495   -502\n",
            "496   -718\n",
            "497    661\n",
            "498    653\n",
            "499    938\n",
            "Length: 500, dtype: int64\n"
          ]
        },
        {
          "output_type": "display_data",
          "data": {
            "text/plain": [
              "<IPython.core.display.Javascript object>"
            ],
            "application/javascript": [
              "parent.postMessage({\"jupyterEvent\": \"custom.exercise_interaction\", \"data\": {\"outcomeType\": 1, \"valueTowardsCompletion\": 0.1, \"interactionType\": 1, \"questionType\": 2, \"questionId\": \"1_Q1\", \"learnToolsVersion\": \"1.0.4\", \"failureMessage\": \"\", \"exceptionClass\": \"\", \"trace\": \"\"}}, \"*\")"
            ]
          },
          "metadata": {}
        },
        {
          "output_type": "display_data",
          "data": {
            "text/plain": [
              "CORRETO: \n"
            ],
            "text/markdown": "<span style=\"color:#33cc33\">CORRETO:</span> \n\n"
          },
          "metadata": {}
        }
      ],
      "source": [
        "q1.hint()\n",
        "\n",
        "rand = random.sample(range(-1000,1000),500)\n",
        "series = pd.Series(rand)\n",
        "print(series)\n",
        "\n",
        "q1.check()"
      ]
    },
    {
      "cell_type": "markdown",
      "metadata": {
        "id": "pp_1vrN-_YCB"
      },
      "source": [
        "## 2. Recupere o maior valor da Série\n",
        "Armazene-o na variável `series_max`. \n",
        "\n",
        "Chame a função `q2.check()` no fim da célula para verificar a resposta.\n",
        "Você pode pedir dicas com `q2.hint()`"
      ]
    },
    {
      "cell_type": "code",
      "execution_count": 72,
      "metadata": {
        "id": "oW9iunTR_YCC",
        "colab": {
          "base_uri": "https://localhost:8080/",
          "height": 93
        },
        "outputId": "f91e25fb-f7ff-4c79-c834-8b461c44d88d"
      },
      "outputs": [
        {
          "output_type": "display_data",
          "data": {
            "text/plain": [
              "<IPython.core.display.Javascript object>"
            ],
            "application/javascript": [
              "parent.postMessage({\"jupyterEvent\": \"custom.exercise_interaction\", \"data\": {\"interactionType\": 2, \"questionType\": 2, \"questionId\": \"2_Q2\", \"learnToolsVersion\": \"1.0.4\", \"valueTowardsCompletion\": 0.0, \"failureMessage\": \"\", \"exceptionClass\": \"\", \"trace\": \"\", \"outcomeType\": 4}}, \"*\")"
            ]
          },
          "metadata": {}
        },
        {
          "output_type": "display_data",
          "data": {
            "text/plain": [
              "Dica: Utilize a função `.max()` da classe Series do Pandas"
            ],
            "text/markdown": "<span style=\"color:#3366cc\">Dica:</span> Utilize a função `.max()` da classe Series do Pandas"
          },
          "metadata": {}
        },
        {
          "output_type": "stream",
          "name": "stdout",
          "text": [
            "998\n"
          ]
        },
        {
          "output_type": "display_data",
          "data": {
            "text/plain": [
              "<IPython.core.display.Javascript object>"
            ],
            "application/javascript": [
              "parent.postMessage({\"jupyterEvent\": \"custom.exercise_interaction\", \"data\": {\"outcomeType\": 1, \"valueTowardsCompletion\": 0.1, \"interactionType\": 1, \"questionType\": 2, \"questionId\": \"2_Q2\", \"learnToolsVersion\": \"1.0.4\", \"failureMessage\": \"\", \"exceptionClass\": \"\", \"trace\": \"\"}}, \"*\")"
            ]
          },
          "metadata": {}
        },
        {
          "output_type": "display_data",
          "data": {
            "text/plain": [
              "CORRETO: \n"
            ],
            "text/markdown": "<span style=\"color:#33cc33\">CORRETO:</span> \n\n"
          },
          "metadata": {}
        }
      ],
      "source": [
        " q2.hint()\n",
        "\n",
        "series_max = max(series)\n",
        "print(series_max)\n",
        "\n",
        "q2.check()"
      ]
    },
    {
      "cell_type": "markdown",
      "metadata": {
        "id": "3VTP92eW_YCD"
      },
      "source": [
        "## 3. Recupere o menor valor da Série\n",
        "Armazene-o na variável `series_min`.\n",
        "\n",
        "Chame a função `q3.check()` no fim da célula para verificar a resposta.\n",
        "Você pode pedir dicas com `q3.hint()`"
      ]
    },
    {
      "cell_type": "code",
      "execution_count": null,
      "metadata": {
        "id": "7FK2oejP_YCE",
        "colab": {
          "base_uri": "https://localhost:8080/",
          "height": 93
        },
        "outputId": "f7531e6a-2444-4898-e4f0-d534ce293eac"
      },
      "outputs": [
        {
          "output_type": "display_data",
          "data": {
            "text/plain": [
              "<IPython.core.display.Javascript object>"
            ],
            "application/javascript": [
              "parent.postMessage({\"jupyterEvent\": \"custom.exercise_interaction\", \"data\": {\"interactionType\": 2, \"questionType\": 2, \"questionId\": \"3_Q3\", \"learnToolsVersion\": \"1.0.4\", \"valueTowardsCompletion\": 0.0, \"failureMessage\": \"\", \"exceptionClass\": \"\", \"trace\": \"\", \"outcomeType\": 4}}, \"*\")"
            ]
          },
          "metadata": {}
        },
        {
          "output_type": "display_data",
          "data": {
            "text/plain": [
              "Dica: Utilize a função `.min()` da classe Series do Pandas"
            ],
            "text/markdown": "<span style=\"color:#3366cc\">Dica:</span> Utilize a função `.min()` da classe Series do Pandas"
          },
          "metadata": {}
        },
        {
          "output_type": "stream",
          "name": "stdout",
          "text": [
            "-987\n"
          ]
        },
        {
          "output_type": "display_data",
          "data": {
            "text/plain": [
              "<IPython.core.display.Javascript object>"
            ],
            "application/javascript": [
              "parent.postMessage({\"jupyterEvent\": \"custom.exercise_interaction\", \"data\": {\"outcomeType\": 1, \"valueTowardsCompletion\": 0.1, \"interactionType\": 1, \"questionType\": 2, \"questionId\": \"3_Q3\", \"learnToolsVersion\": \"1.0.4\", \"failureMessage\": \"\", \"exceptionClass\": \"\", \"trace\": \"\"}}, \"*\")"
            ]
          },
          "metadata": {}
        },
        {
          "output_type": "display_data",
          "data": {
            "text/plain": [
              "CORRETO: \n"
            ],
            "text/markdown": "<span style=\"color:#33cc33\">CORRETO:</span> \n\n"
          },
          "metadata": {}
        }
      ],
      "source": [
        "q3.hint()\n",
        "\n",
        "series_min = min(series)\n",
        "print(series_min)\n",
        "\n",
        "q3.check()"
      ]
    },
    {
      "cell_type": "markdown",
      "metadata": {
        "id": "zKImcTgi_YCF"
      },
      "source": [
        "## 4. Recupere somente os valores positivos da Série\n",
        "Armazene-os na variável `series_positives`.\n",
        "\n",
        "Chame a função `q4.check()` no fim da célula para verificar a resposta.\n",
        "Você pode pedir dicas com `q4.hint()`"
      ]
    },
    {
      "cell_type": "code",
      "execution_count": null,
      "metadata": {
        "id": "Zq6yBor2_YCF",
        "colab": {
          "base_uri": "https://localhost:8080/",
          "height": 284
        },
        "outputId": "fa706d24-53a0-4f2f-ad5d-f7530bdb1d50"
      },
      "outputs": [
        {
          "output_type": "display_data",
          "data": {
            "text/plain": [
              "<IPython.core.display.Javascript object>"
            ],
            "application/javascript": [
              "parent.postMessage({\"jupyterEvent\": \"custom.exercise_interaction\", \"data\": {\"interactionType\": 2, \"questionType\": 2, \"questionId\": \"4_Q4\", \"learnToolsVersion\": \"1.0.4\", \"valueTowardsCompletion\": 0.0, \"failureMessage\": \"\", \"exceptionClass\": \"\", \"trace\": \"\", \"outcomeType\": 4}}, \"*\")"
            ]
          },
          "metadata": {}
        },
        {
          "output_type": "display_data",
          "data": {
            "text/plain": [
              "Dica: Faça o filtro de acesso à serie usando a sintaxe `series[filtro]`."
            ],
            "text/markdown": "<span style=\"color:#3366cc\">Dica:</span> Faça o filtro de acesso à serie usando a sintaxe `series[filtro]`."
          },
          "metadata": {}
        },
        {
          "output_type": "stream",
          "name": "stdout",
          "text": [
            "2      802\n",
            "3      194\n",
            "4       83\n",
            "6      813\n",
            "11     892\n",
            "      ... \n",
            "493    139\n",
            "494    377\n",
            "497    661\n",
            "498    653\n",
            "499    938\n",
            "Length: 245, dtype: int64\n"
          ]
        },
        {
          "output_type": "display_data",
          "data": {
            "text/plain": [
              "<IPython.core.display.Javascript object>"
            ],
            "application/javascript": [
              "parent.postMessage({\"jupyterEvent\": \"custom.exercise_interaction\", \"data\": {\"outcomeType\": 1, \"valueTowardsCompletion\": 0.1, \"interactionType\": 1, \"questionType\": 2, \"questionId\": \"4_Q4\", \"learnToolsVersion\": \"1.0.4\", \"failureMessage\": \"\", \"exceptionClass\": \"\", \"trace\": \"\"}}, \"*\")"
            ]
          },
          "metadata": {}
        },
        {
          "output_type": "display_data",
          "data": {
            "text/plain": [
              "CORRETO: \n"
            ],
            "text/markdown": "<span style=\"color:#33cc33\">CORRETO:</span> \n\n"
          },
          "metadata": {}
        }
      ],
      "source": [
        "q4.hint()\n",
        "\n",
        "series_positives = series[series > 0]\n",
        "print(series_positives)\n",
        "\n",
        "q4.check()"
      ]
    },
    {
      "cell_type": "markdown",
      "metadata": {
        "id": "aZRr9TZL_YCG"
      },
      "source": [
        "## 5. Recupere somente os valores ímpares da Série\n",
        "Armazene-os na variável `series_odds`.\n",
        "\n",
        "Chame a função `q5.check()` no fim da célula para verificar a resposta.\n",
        "Você pode pedir dicas com `q5.hint()`"
      ]
    },
    {
      "cell_type": "code",
      "execution_count": null,
      "metadata": {
        "id": "s5XgfoOv_YCG",
        "colab": {
          "base_uri": "https://localhost:8080/",
          "height": 284
        },
        "outputId": "4cbe6de4-2265-4c38-a996-f21d6d36b873"
      },
      "outputs": [
        {
          "output_type": "display_data",
          "data": {
            "text/plain": [
              "<IPython.core.display.Javascript object>"
            ],
            "application/javascript": [
              "parent.postMessage({\"jupyterEvent\": \"custom.exercise_interaction\", \"data\": {\"interactionType\": 2, \"questionType\": 2, \"questionId\": \"5_Q5\", \"learnToolsVersion\": \"1.0.4\", \"valueTowardsCompletion\": 0.0, \"failureMessage\": \"\", \"exceptionClass\": \"\", \"trace\": \"\", \"outcomeType\": 4}}, \"*\")"
            ]
          },
          "metadata": {}
        },
        {
          "output_type": "display_data",
          "data": {
            "text/plain": [
              "Dica 1: Faça o filtro de acesso à serie usando a sintaxe `series[filtro]`.\n",
              "(Para outra dica, chame `.hint(2)`)"
            ],
            "text/markdown": "<span style=\"color:#3366cc\">Dica 1:</span> Faça o filtro de acesso à serie usando a sintaxe `series[filtro]`.\n(Para outra dica, chame `.hint(2)`)"
          },
          "metadata": {}
        },
        {
          "output_type": "stream",
          "name": "stdout",
          "text": [
            "1     -847\n",
            "4       83\n",
            "5     -795\n",
            "6      813\n",
            "9     -821\n",
            "      ... \n",
            "490   -855\n",
            "493    139\n",
            "494    377\n",
            "497    661\n",
            "498    653\n",
            "Length: 246, dtype: int64\n"
          ]
        },
        {
          "output_type": "display_data",
          "data": {
            "text/plain": [
              "<IPython.core.display.Javascript object>"
            ],
            "application/javascript": [
              "parent.postMessage({\"jupyterEvent\": \"custom.exercise_interaction\", \"data\": {\"outcomeType\": 1, \"valueTowardsCompletion\": 0.1, \"interactionType\": 1, \"questionType\": 2, \"questionId\": \"5_Q5\", \"learnToolsVersion\": \"1.0.4\", \"failureMessage\": \"\", \"exceptionClass\": \"\", \"trace\": \"\"}}, \"*\")"
            ]
          },
          "metadata": {}
        },
        {
          "output_type": "display_data",
          "data": {
            "text/plain": [
              "CORRETO: \n"
            ],
            "text/markdown": "<span style=\"color:#33cc33\">CORRETO:</span> \n\n"
          },
          "metadata": {}
        }
      ],
      "source": [
        "q5.hint()\n",
        "\n",
        "series_odds = series[series % 2 != 0]\n",
        "print(series_odds)\n",
        "\n",
        "q5.check()"
      ]
    },
    {
      "cell_type": "markdown",
      "metadata": {
        "id": "KMz-69mj_YCH"
      },
      "source": [
        "## 6. Recupere somente os valores das posições/índices de 50 a 100 (inclusive) da Série\n",
        "Armazene-os na variável `series_range`.\n",
        "\n",
        "Chame a função `q6.check()` no fim da célula para verificar a resposta.\n",
        "Você pode pedir dicas com `q6.hint(n)` onde n é o número da dica."
      ]
    },
    {
      "cell_type": "code",
      "execution_count": null,
      "metadata": {
        "id": "z4DhEQcl_YCH",
        "colab": {
          "base_uri": "https://localhost:8080/",
          "height": 978
        },
        "outputId": "5a969cfe-c6e9-40b5-cd08-5d2afb2eef44"
      },
      "outputs": [
        {
          "output_type": "display_data",
          "data": {
            "text/plain": [
              "<IPython.core.display.Javascript object>"
            ],
            "application/javascript": [
              "parent.postMessage({\"jupyterEvent\": \"custom.exercise_interaction\", \"data\": {\"interactionType\": 2, \"questionType\": 2, \"questionId\": \"6_Q6\", \"learnToolsVersion\": \"1.0.4\", \"valueTowardsCompletion\": 0.0, \"failureMessage\": \"\", \"exceptionClass\": \"\", \"trace\": \"\", \"outcomeType\": 4}}, \"*\")"
            ]
          },
          "metadata": {}
        },
        {
          "output_type": "display_data",
          "data": {
            "text/plain": [
              "Dica 1: Faça o filtro de acesso à serie usando a sintaxe `series[filtro]`.\n",
              "(Para outra dica, chame `.hint(2)`)"
            ],
            "text/markdown": "<span style=\"color:#3366cc\">Dica 1:</span> Faça o filtro de acesso à serie usando a sintaxe `series[filtro]`.\n(Para outra dica, chame `.hint(2)`)"
          },
          "metadata": {}
        },
        {
          "output_type": "stream",
          "name": "stdout",
          "text": [
            "50    -449\n",
            "51    -738\n",
            "52     283\n",
            "53      13\n",
            "54     132\n",
            "55    -639\n",
            "56    -342\n",
            "57      24\n",
            "58    -212\n",
            "59     593\n",
            "60     628\n",
            "61    -784\n",
            "62    -928\n",
            "63    -357\n",
            "64    -495\n",
            "65     835\n",
            "66     128\n",
            "67     763\n",
            "68     453\n",
            "69     940\n",
            "70    -253\n",
            "71    -671\n",
            "72    -386\n",
            "73     294\n",
            "74    -553\n",
            "75     360\n",
            "76     380\n",
            "77     791\n",
            "78    -772\n",
            "79    -434\n",
            "80    -485\n",
            "81     824\n",
            "82     537\n",
            "83     488\n",
            "84     118\n",
            "85     261\n",
            "86     -17\n",
            "87    -576\n",
            "88    -741\n",
            "89     484\n",
            "90     237\n",
            "91    -745\n",
            "92    -401\n",
            "93    -888\n",
            "94     636\n",
            "95     493\n",
            "96    -987\n",
            "97     187\n",
            "98    -193\n",
            "99     441\n",
            "100   -477\n",
            "dtype: int64\n"
          ]
        },
        {
          "output_type": "display_data",
          "data": {
            "text/plain": [
              "<IPython.core.display.Javascript object>"
            ],
            "application/javascript": [
              "parent.postMessage({\"jupyterEvent\": \"custom.exercise_interaction\", \"data\": {\"outcomeType\": 1, \"valueTowardsCompletion\": 0.1, \"interactionType\": 1, \"questionType\": 2, \"questionId\": \"6_Q6\", \"learnToolsVersion\": \"1.0.4\", \"failureMessage\": \"\", \"exceptionClass\": \"\", \"trace\": \"\"}}, \"*\")"
            ]
          },
          "metadata": {}
        },
        {
          "output_type": "display_data",
          "data": {
            "text/plain": [
              "CORRETO"
            ],
            "text/markdown": "<span style=\"color:#33cc33\">CORRETO</span>"
          },
          "metadata": {}
        }
      ],
      "source": [
        "q6.hint()\n",
        "\n",
        "series_range = series[50:101]\n",
        "print(series_range)\n",
        "\n",
        "q6.check()"
      ]
    },
    {
      "cell_type": "markdown",
      "metadata": {
        "id": "PUJQdeCM_YCH"
      },
      "source": [
        "## 7. Recupere a quantidade de valores pares da Série\n",
        "Armazene-o na variável `series_even_size`.\n",
        "\n",
        "Chame a função `q7.check()` no fim da célula para verificar a resposta.\n",
        "Você pode pedir dicas com `q7.hint(n)` onde n é o número da dica."
      ]
    },
    {
      "cell_type": "code",
      "execution_count": null,
      "metadata": {
        "id": "I-8dk7HC_YCI",
        "colab": {
          "base_uri": "https://localhost:8080/",
          "height": 93
        },
        "outputId": "bfaeae9c-bb6d-4467-c377-7e06a0b8f866"
      },
      "outputs": [
        {
          "output_type": "display_data",
          "data": {
            "text/plain": [
              "<IPython.core.display.Javascript object>"
            ],
            "application/javascript": [
              "parent.postMessage({\"jupyterEvent\": \"custom.exercise_interaction\", \"data\": {\"interactionType\": 2, \"questionType\": 2, \"questionId\": \"7_Q7\", \"learnToolsVersion\": \"1.0.4\", \"valueTowardsCompletion\": 0.0, \"failureMessage\": \"\", \"exceptionClass\": \"\", \"trace\": \"\", \"outcomeType\": 4}}, \"*\")"
            ]
          },
          "metadata": {}
        },
        {
          "output_type": "display_data",
          "data": {
            "text/plain": [
              "Dica 1: Faça o filtro de acesso à serie usando a sintaxe `series[filtro]`.\n",
              "(Para outra dica, chame `.hint(2)`)"
            ],
            "text/markdown": "<span style=\"color:#3366cc\">Dica 1:</span> Faça o filtro de acesso à serie usando a sintaxe `series[filtro]`.\n(Para outra dica, chame `.hint(2)`)"
          },
          "metadata": {}
        },
        {
          "output_type": "stream",
          "name": "stdout",
          "text": [
            "254\n"
          ]
        },
        {
          "output_type": "display_data",
          "data": {
            "text/plain": [
              "<IPython.core.display.Javascript object>"
            ],
            "application/javascript": [
              "parent.postMessage({\"jupyterEvent\": \"custom.exercise_interaction\", \"data\": {\"outcomeType\": 1, \"valueTowardsCompletion\": 0.1, \"interactionType\": 1, \"questionType\": 2, \"questionId\": \"7_Q7\", \"learnToolsVersion\": \"1.0.4\", \"failureMessage\": \"\", \"exceptionClass\": \"\", \"trace\": \"\"}}, \"*\")"
            ]
          },
          "metadata": {}
        },
        {
          "output_type": "display_data",
          "data": {
            "text/plain": [
              "CORRETO: \n"
            ],
            "text/markdown": "<span style=\"color:#33cc33\">CORRETO:</span> \n\n"
          },
          "metadata": {}
        }
      ],
      "source": [
        "q7.hint()\n",
        "\n",
        "series_even_size = len(series[series % 2 == 0])\n",
        "print(series_even_size)\n",
        "\n",
        "q7.check()"
      ]
    },
    {
      "cell_type": "markdown",
      "metadata": {
        "id": "Bong0Fb2_YCI"
      },
      "source": [
        "## 8. Recupere a quantidade de valores da Série maiores que 500\n",
        "Armazene-o na variável `series_high_values_size`.\n",
        "\n",
        "Chame a função `q8.check()` no fim da célula para verificar a resposta.\n",
        "Você pode pedir dicas com `q8.hint()` onde n é o número da dica."
      ]
    },
    {
      "cell_type": "code",
      "execution_count": null,
      "metadata": {
        "id": "jRq5nWj5_YCI",
        "colab": {
          "base_uri": "https://localhost:8080/",
          "height": 93
        },
        "outputId": "b02b0102-0c15-4866-f7b7-db9dadc35c9f"
      },
      "outputs": [
        {
          "output_type": "display_data",
          "data": {
            "text/plain": [
              "<IPython.core.display.Javascript object>"
            ],
            "application/javascript": [
              "parent.postMessage({\"jupyterEvent\": \"custom.exercise_interaction\", \"data\": {\"interactionType\": 2, \"questionType\": 2, \"questionId\": \"8_Q8\", \"learnToolsVersion\": \"1.0.4\", \"valueTowardsCompletion\": 0.0, \"failureMessage\": \"\", \"exceptionClass\": \"\", \"trace\": \"\", \"outcomeType\": 4}}, \"*\")"
            ]
          },
          "metadata": {}
        },
        {
          "output_type": "display_data",
          "data": {
            "text/plain": [
              "Dica 1: Faça o filtro de acesso à serie usando a sintaxe `series[filtro]`.\n",
              "(Para outra dica, chame `.hint(2)`)"
            ],
            "text/markdown": "<span style=\"color:#3366cc\">Dica 1:</span> Faça o filtro de acesso à serie usando a sintaxe `series[filtro]`.\n(Para outra dica, chame `.hint(2)`)"
          },
          "metadata": {}
        },
        {
          "output_type": "stream",
          "name": "stdout",
          "text": [
            "113\n"
          ]
        },
        {
          "output_type": "display_data",
          "data": {
            "text/plain": [
              "<IPython.core.display.Javascript object>"
            ],
            "application/javascript": [
              "parent.postMessage({\"jupyterEvent\": \"custom.exercise_interaction\", \"data\": {\"outcomeType\": 1, \"valueTowardsCompletion\": 0.1, \"interactionType\": 1, \"questionType\": 2, \"questionId\": \"8_Q8\", \"learnToolsVersion\": \"1.0.4\", \"failureMessage\": \"\", \"exceptionClass\": \"\", \"trace\": \"\"}}, \"*\")"
            ]
          },
          "metadata": {}
        },
        {
          "output_type": "display_data",
          "data": {
            "text/plain": [
              "CORRETO: \n"
            ],
            "text/markdown": "<span style=\"color:#33cc33\">CORRETO:</span> \n\n"
          },
          "metadata": {}
        }
      ],
      "source": [
        "q8.hint()\n",
        "\n",
        "series_high_values_size = len(series[series > 500])\n",
        "print(series_high_values_size)\n",
        "\n",
        "q8.check()"
      ]
    },
    {
      "cell_type": "markdown",
      "metadata": {
        "id": "9fqTzqCr_YCJ"
      },
      "source": [
        "## 9. Recupere os valores simultaneamente maiores que 500 e menores que 700 da Série\n",
        "Armazene-o na variável `series_subset_values`.\n",
        "\n",
        "Chame a função `q9.check()` no fim da célula para verificar a resposta.\n",
        "Você pode pedir dicas com `q9.hint()` onde n é o número da dica."
      ]
    },
    {
      "cell_type": "code",
      "execution_count": 67,
      "metadata": {
        "id": "MTt9Txfh_YCJ",
        "colab": {
          "base_uri": "https://localhost:8080/",
          "height": 874
        },
        "outputId": "a49f90d3-273b-4f9f-cff8-bcef00b1e87a"
      },
      "outputs": [
        {
          "output_type": "display_data",
          "data": {
            "text/plain": [
              "<IPython.core.display.Javascript object>"
            ],
            "application/javascript": [
              "parent.postMessage({\"jupyterEvent\": \"custom.exercise_interaction\", \"data\": {\"interactionType\": 2, \"questionType\": 2, \"questionId\": \"9_Q9\", \"learnToolsVersion\": \"1.0.4\", \"valueTowardsCompletion\": 0.0, \"failureMessage\": \"\", \"exceptionClass\": \"\", \"trace\": \"\", \"outcomeType\": 4}}, \"*\")"
            ]
          },
          "metadata": {}
        },
        {
          "output_type": "display_data",
          "data": {
            "text/plain": [
              "Dica 1: Faça o filtro de acesso à serie usando a sintaxe `series[filtro]`. Você pode usar múltiplas condições no filtro usando operadores booleanos.\n",
              "(Para outra dica, chame `.hint(2)`)"
            ],
            "text/markdown": "<span style=\"color:#3366cc\">Dica 1:</span> Faça o filtro de acesso à serie usando a sintaxe `series[filtro]`. Você pode usar múltiplas condições no filtro usando operadores booleanos.\n(Para outra dica, chame `.hint(2)`)"
          },
          "metadata": {}
        },
        {
          "output_type": "stream",
          "name": "stdout",
          "text": [
            "21     552\n",
            "29     639\n",
            "37     638\n",
            "40     579\n",
            "47     520\n",
            "59     593\n",
            "60     628\n",
            "82     537\n",
            "94     636\n",
            "129    614\n",
            "138    606\n",
            "148    673\n",
            "175    619\n",
            "201    589\n",
            "203    692\n",
            "212    623\n",
            "218    515\n",
            "230    576\n",
            "238    625\n",
            "280    590\n",
            "313    504\n",
            "316    551\n",
            "320    654\n",
            "321    550\n",
            "322    643\n",
            "323    617\n",
            "326    616\n",
            "340    656\n",
            "350    682\n",
            "353    522\n",
            "364    660\n",
            "370    598\n",
            "373    511\n",
            "391    699\n",
            "408    629\n",
            "442    600\n",
            "449    652\n",
            "479    526\n",
            "481    618\n",
            "483    567\n",
            "485    633\n",
            "492    698\n",
            "497    661\n",
            "498    653\n",
            "dtype: int64\n"
          ]
        },
        {
          "output_type": "display_data",
          "data": {
            "text/plain": [
              "<IPython.core.display.Javascript object>"
            ],
            "application/javascript": [
              "parent.postMessage({\"jupyterEvent\": \"custom.exercise_interaction\", \"data\": {\"outcomeType\": 1, \"valueTowardsCompletion\": 0.1, \"interactionType\": 1, \"questionType\": 2, \"questionId\": \"9_Q9\", \"learnToolsVersion\": \"1.0.4\", \"failureMessage\": \"\", \"exceptionClass\": \"\", \"trace\": \"\"}}, \"*\")"
            ]
          },
          "metadata": {}
        },
        {
          "output_type": "display_data",
          "data": {
            "text/plain": [
              "CORRETO: \n"
            ],
            "text/markdown": "<span style=\"color:#33cc33\">CORRETO:</span> \n\n"
          },
          "metadata": {}
        }
      ],
      "source": [
        "q9.hint()\n",
        "\n",
        "series_subset_values = series[(series > 500) & (series < 700)]\n",
        "print(series_subset_values)\n",
        "\n",
        "q9.check()"
      ]
    },
    {
      "cell_type": "markdown",
      "metadata": {
        "id": "1Dr2uCIC_YCJ"
      },
      "source": [
        "## 10. Imprima a raiz quadrada de todos os valores da Série\n",
        "Armazene-os na variável `series_sqrt_values`.\n",
        "\n",
        "**Atenção**: Mantenha o tipo da série como `float64`. Os valores inválidos devem ser `NaN`.\n",
        "\n",
        "Chame a função `q10.check()` no fim da célula para verificar a resposta.\n",
        "Você pode pedir dicas com `q10.hint()` onde n é o número da dica."
      ]
    },
    {
      "cell_type": "code",
      "execution_count": 66,
      "metadata": {
        "id": "W8J2Sjv2X7_7",
        "colab": {
          "base_uri": "https://localhost:8080/",
          "height": 284
        },
        "outputId": "f2f4a7c0-3d28-48fc-ece3-57c8f9bbcddb"
      },
      "outputs": [
        {
          "output_type": "display_data",
          "data": {
            "text/plain": [
              "<IPython.core.display.Javascript object>"
            ],
            "application/javascript": [
              "parent.postMessage({\"jupyterEvent\": \"custom.exercise_interaction\", \"data\": {\"interactionType\": 2, \"questionType\": 2, \"questionId\": \"10_Q10\", \"learnToolsVersion\": \"1.0.4\", \"valueTowardsCompletion\": 0.0, \"failureMessage\": \"\", \"exceptionClass\": \"\", \"trace\": \"\", \"outcomeType\": 4}}, \"*\")"
            ]
          },
          "metadata": {}
        },
        {
          "output_type": "display_data",
          "data": {
            "text/plain": [
              "Dica: Talvez a função `pd.Series.apply` seja útil... Ou talvez você possa fazer operações matemáticas diretamente na série..."
            ],
            "text/markdown": "<span style=\"color:#3366cc\">Dica:</span> Talvez a função `pd.Series.apply` seja útil... Ou talvez você possa fazer operações matemáticas diretamente na série..."
          },
          "metadata": {}
        },
        {
          "output_type": "stream",
          "name": "stdout",
          "text": [
            "0            NaN\n",
            "1            NaN\n",
            "2      28.319605\n",
            "3      13.928388\n",
            "4       9.110434\n",
            "         ...    \n",
            "495          NaN\n",
            "496          NaN\n",
            "497    25.709920\n",
            "498    25.553865\n",
            "499    30.626786\n",
            "Length: 500, dtype: float64\n"
          ]
        },
        {
          "output_type": "display_data",
          "data": {
            "text/plain": [
              "<IPython.core.display.Javascript object>"
            ],
            "application/javascript": [
              "parent.postMessage({\"jupyterEvent\": \"custom.exercise_interaction\", \"data\": {\"outcomeType\": 1, \"valueTowardsCompletion\": 0.1, \"interactionType\": 1, \"questionType\": 2, \"questionId\": \"10_Q10\", \"learnToolsVersion\": \"1.0.4\", \"failureMessage\": \"\", \"exceptionClass\": \"\", \"trace\": \"\"}}, \"*\")"
            ]
          },
          "metadata": {}
        },
        {
          "output_type": "display_data",
          "data": {
            "text/plain": [
              "CORRETO: \n"
            ],
            "text/markdown": "<span style=\"color:#33cc33\">CORRETO:</span> \n\n"
          },
          "metadata": {}
        }
      ],
      "source": [
        "q10.hint()\n",
        "\n",
        "series_sqrt_values = pow(series,1/2)\n",
        "print(series_sqrt_values)\n",
        "\n",
        "q10.check()"
      ]
    },
    {
      "cell_type": "markdown",
      "metadata": {
        "id": "Jd_q_zl5_YCK"
      },
      "source": [
        "## 11. Faça sua própria ~5ª~ série!\n",
        "\n",
        "Agora é sua vez de brincar com as séries. E bem não é *exatamente* a 5ª série, mas é quase!"
      ]
    },
    {
      "cell_type": "markdown",
      "metadata": {
        "id": "XbaVn97-_YCK"
      },
      "source": [
        "### 11.a.\n",
        "Crie uma série (`pd.Series`) que possui os dados das notas de **todas** as turmas de 5ª série de **todas as disciplinas** de uma escola fictícia. Dê um nome pra essa escola e explique quantas disciplinas essas turmas cursam e quantos alunos possuem em cada sala.\n",
        "\n",
        "Armazene a sua série na variável `grades`.\n",
        "\n",
        "Chame a função `q11.a.check()` no fim da célula para verificar a resposta.\n",
        "Você pode pedir dica com `q11.a.hint()`."
      ]
    },
    {
      "cell_type": "markdown",
      "metadata": {
        "id": "bw1CwZAr_YCK"
      },
      "source": [
        "#### Resposta:  Gere uma Serie com 100 valores inteiros aleatórios entre 0 e 100 referente a todas as notas. Além disso, agrupe as turmas de acordo com cada disciplina ( as disciplinas e turmas seguem a ordem listada, sendo assim, a disciplina 1 com suas duas turmas possui os alunos de 0 a 20 e assim por diante).\n",
        "\n",
        "A Escola estadual Maclaurin possui 5 disciplinas (Português, Matemática, Geografia, História e Ciências) e 2 turmas, sendo que cada sala possui 10 alunos.\n",
        "(escreva aqui sobre seu problema 11.a.)"
      ]
    },
    {
      "cell_type": "code",
      "execution_count": 53,
      "metadata": {
        "id": "x0v7n2tf_YCM",
        "colab": {
          "base_uri": "https://localhost:8080/",
          "height": 1000
        },
        "outputId": "8e28edde-7308-4125-89c5-24c84853eb7c"
      },
      "outputs": [
        {
          "output_type": "display_data",
          "data": {
            "text/plain": [
              "<IPython.core.display.Javascript object>"
            ],
            "application/javascript": [
              "parent.postMessage({\"jupyterEvent\": \"custom.exercise_interaction\", \"data\": {\"interactionType\": 2, \"questionType\": 2, \"questionId\": \"11.1_Q11A\", \"learnToolsVersion\": \"1.0.4\", \"valueTowardsCompletion\": 0.0, \"failureMessage\": \"\", \"exceptionClass\": \"\", \"trace\": \"\", \"outcomeType\": 4}}, \"*\")"
            ]
          },
          "metadata": {}
        },
        {
          "output_type": "display_data",
          "data": {
            "text/plain": [
              "Dica: Utilize a função `pd.Series` com uma lista de números como argumento. A função `random.sample` pode ser útil..."
            ],
            "text/markdown": "<span style=\"color:#3366cc\">Dica:</span> Utilize a função `pd.Series` com uma lista de números como argumento. A função `random.sample` pode ser útil..."
          },
          "metadata": {}
        },
        {
          "output_type": "stream",
          "name": "stdout",
          "text": [
            "0     45\n",
            "1     23\n",
            "2     10\n",
            "3     17\n",
            "4     83\n",
            "5     13\n",
            "6     66\n",
            "7     11\n",
            "8     40\n",
            "9     97\n",
            "10     7\n",
            "11    86\n",
            "12    16\n",
            "13    28\n",
            "14    92\n",
            "15     9\n",
            "16     5\n",
            "17    81\n",
            "18    67\n",
            "19    15\n",
            "dtype: int64\n",
            "20    19\n",
            "21    14\n",
            "22    63\n",
            "23    96\n",
            "24     2\n",
            "25    59\n",
            "26    35\n",
            "27    93\n",
            "28    53\n",
            "29    27\n",
            "30    29\n",
            "31    44\n",
            "32    89\n",
            "33    69\n",
            "34    62\n",
            "35    21\n",
            "36    39\n",
            "37    71\n",
            "38    90\n",
            "39    43\n",
            "dtype: int64\n",
            "40     6\n",
            "41    64\n",
            "42    22\n",
            "43    60\n",
            "44    73\n",
            "45    52\n",
            "46    61\n",
            "47    20\n",
            "48    56\n",
            "49    48\n",
            "50     3\n",
            "51    78\n",
            "52    34\n",
            "53     4\n",
            "54    74\n",
            "55    33\n",
            "56    98\n",
            "57    51\n",
            "58    37\n",
            "59    36\n",
            "dtype: int64\n",
            "60    55\n",
            "61    85\n",
            "62    47\n",
            "63     0\n",
            "64    75\n",
            "65    41\n",
            "66    30\n",
            "67    87\n",
            "68    79\n",
            "69    88\n",
            "70    31\n",
            "71    84\n",
            "72    26\n",
            "73    65\n",
            "74    24\n",
            "75    58\n",
            "76    80\n",
            "77    25\n",
            "78    95\n",
            "79     1\n",
            "dtype: int64\n",
            "80    12\n",
            "81    76\n",
            "82    77\n",
            "83    91\n",
            "84    18\n",
            "85    70\n",
            "86    46\n",
            "87    94\n",
            "88    38\n",
            "89    50\n",
            "90    82\n",
            "91    54\n",
            "92    68\n",
            "93    49\n",
            "94    42\n",
            "95    57\n",
            "96    72\n",
            "97    99\n",
            "98     8\n",
            "99    32\n",
            "dtype: int64\n"
          ]
        },
        {
          "output_type": "display_data",
          "data": {
            "text/plain": [
              "<IPython.core.display.Javascript object>"
            ],
            "application/javascript": [
              "parent.postMessage({\"jupyterEvent\": \"custom.exercise_interaction\", \"data\": {\"outcomeType\": 1, \"valueTowardsCompletion\": 0.1, \"interactionType\": 1, \"questionType\": 2, \"questionId\": \"11.1_Q11A\", \"learnToolsVersion\": \"1.0.4\", \"failureMessage\": \"\", \"exceptionClass\": \"\", \"trace\": \"\"}}, \"*\")"
            ]
          },
          "metadata": {}
        },
        {
          "output_type": "display_data",
          "data": {
            "text/plain": [
              "CORRETO: \n"
            ],
            "text/markdown": "<span style=\"color:#33cc33\">CORRETO:</span> \n\n"
          },
          "metadata": {}
        }
      ],
      "source": [
        "q11.a.hint()\n",
        "\n",
        "notas = random.sample(range(0,100),100)\n",
        "grades = pd.Series(notas)\n",
        "\n",
        "disciplina1 = grades[0:20]\n",
        "disciplina2 = grades[20:40]\n",
        "disciplina3 = grades[40:60]\n",
        "disciplina4 = grades[60:80]\n",
        "disciplina5 = grades[80:100]\n",
        "\n",
        "print(disciplina1)\n",
        "print(disciplina2)\n",
        "print(disciplina3)\n",
        "print(disciplina4)\n",
        "print(disciplina5)\n",
        "\n",
        "q11.a.check()"
      ]
    },
    {
      "cell_type": "markdown",
      "metadata": {
        "id": "B6tRkCai_YCN"
      },
      "source": [
        "### 11.b.\n",
        "Agora, usando a série `grades` que você criou, extraia 5 informações que podem ser úteis em uma reunião de pais, análise pedagócica, avaliações, etc.\n",
        "\n",
        "Esta questão não possui `check`.\n",
        "Mas você pode pedir dica com `q11.b.hint()`."
      ]
    },
    {
      "cell_type": "code",
      "execution_count": 69,
      "metadata": {
        "id": "C6muNafm_YCN",
        "colab": {
          "base_uri": "https://localhost:8080/",
          "height": 1000
        },
        "outputId": "b0275ae3-0e56-4d7f-f5c2-38a24c1310f1"
      },
      "outputs": [
        {
          "output_type": "display_data",
          "data": {
            "text/plain": [
              "<IPython.core.display.Javascript object>"
            ],
            "application/javascript": [
              "parent.postMessage({\"jupyterEvent\": \"custom.exercise_interaction\", \"data\": {\"interactionType\": 2, \"questionType\": 4, \"questionId\": \"11.2_Q11B\", \"learnToolsVersion\": \"1.0.4\", \"valueTowardsCompletion\": 0.0, \"failureMessage\": \"\", \"exceptionClass\": \"\", \"trace\": \"\", \"outcomeType\": 4}}, \"*\")"
            ]
          },
          "metadata": {}
        },
        {
          "output_type": "display_data",
          "data": {
            "text/plain": [
              "Dica: Que tal você olhar nos exercícios de 1 a 10? Pense como um pedagogo ou diretor da escola. Quais informações, mesmo que simples, você iria querer saber sobre seus alunos?"
            ],
            "text/markdown": "<span style=\"color:#3366cc\">Dica:</span> Que tal você olhar nos exercícios de 1 a 10? Pense como um pedagogo ou diretor da escola. Quais informações, mesmo que simples, você iria querer saber sobre seus alunos?"
          },
          "metadata": {}
        },
        {
          "output_type": "stream",
          "name": "stdout",
          "text": [
            "Média das notas de cada disciplina\n",
            "Disciplina 1: 40.55\n",
            "\n",
            "Disciplina 2: 50.90\n",
            "\n",
            "Disciplina 3: 45.50\n",
            "\n",
            "Disciplina 4: 53.80\n",
            "\n",
            "Disciplina 5: 56.75\n",
            "\n",
            "Desvio padrão das notas de cada disciplina\n",
            "Disciplina 1: 33.19\n",
            "\n",
            "Disciplina 2: 28.17\n",
            "\n",
            "Disciplina 3: 26.26\n",
            "\n",
            "Disciplina 4: 30.12\n",
            "\n",
            "Disciplina 5: 26.74\n",
            "\n",
            "Variâncias das nota de cada disciplina\n",
            "Disciplina 1: 1101\n",
            "\n",
            "Disciplina 2: 793\n",
            "\n",
            "Disciplina 3: 689\n",
            "\n",
            "Disciplina 4: 907\n",
            "\n",
            "Disciplina 5: 715\n",
            "\n",
            "Menor nota de cada disciplina\n",
            "Disciplina 1: 5\n",
            "\n",
            "Disciplina 2: 2\n",
            "\n",
            "Disciplina 3: 3\n",
            "\n",
            "Disciplina 4: 0\n",
            "\n",
            "Disciplina 5: 8\n",
            "\n",
            "Maior nota de cada disciplina\n",
            "Disciplina 1: 97\n",
            "\n",
            "Disciplina 2: 96\n",
            "\n",
            "Disciplina 3: 98\n",
            "\n",
            "Disciplina 4: 95\n",
            "\n",
            "Disciplina 5: 99\n",
            "\n"
          ]
        }
      ],
      "source": [
        "q11.b.hint()\n",
        "\n",
        "# Media\n",
        "print(\"Média das notas de cada disciplina\")\n",
        "print(\"Disciplina 1: %.02f\\n\" % disciplina1.mean())\n",
        "\n",
        "print(\"Disciplina 2: %.02f\\n\" % disciplina2.mean())\n",
        "\n",
        "print(\"Disciplina 3: %.02f\\n\" % disciplina3.mean())\n",
        "\n",
        "print(\"Disciplina 4: %.02f\\n\" % disciplina4.mean())\n",
        "\n",
        "print(\"Disciplina 5: %.02f\\n\" % disciplina5.mean())\n",
        "\n",
        "# Desvio padrao\n",
        "print(\"Desvio padrão das notas de cada disciplina\")\n",
        "print(\"Disciplina 1: %.02f\\n\" % disciplina1.std())\n",
        "\n",
        "print(\"Disciplina 2: %.02f\\n\" % disciplina2.std())\n",
        "\n",
        "print(\"Disciplina 3: %.02f\\n\" % disciplina3.std())\n",
        "\n",
        "print(\"Disciplina 4: %.02f\\n\" % disciplina4.std())\n",
        "\n",
        "print(\"Disciplina 5: %.02f\\n\" % disciplina5.std())\n",
        "\n",
        "# Variância\n",
        "print(\"Variâncias das nota de cada disciplina\")\n",
        "print(\"Disciplina 1: %i\\n\" % disciplina1.var())\n",
        "\n",
        "print(\"Disciplina 2: %i\\n\" % disciplina2.var())\n",
        "\n",
        "print(\"Disciplina 3: %i\\n\" % disciplina3.var())\n",
        "\n",
        "print(\"Disciplina 4: %i\\n\" % disciplina4.var())\n",
        "\n",
        "print(\"Disciplina 5: %i\\n\" % disciplina5.var())\n",
        "\n",
        "# Mínimo\n",
        "print(\"Menor nota de cada disciplina\")\n",
        "print(\"Disciplina 1: %i\\n\" % disciplina1.min())\n",
        "\n",
        "print(\"Disciplina 2: %i\\n\" % disciplina2.min())\n",
        "\n",
        "print(\"Disciplina 3: %i\\n\" % disciplina3.min())\n",
        "\n",
        "print(\"Disciplina 4: %i\\n\" % disciplina4.min())\n",
        "\n",
        "print(\"Disciplina 5: %i\\n\" % disciplina5.min())\n",
        "\n",
        "# Máximo\n",
        "print(\"Maior nota de cada disciplina\")\n",
        "print(\"Disciplina 1: %i\\n\" % disciplina1.max())\n",
        "\n",
        "print(\"Disciplina 2: %i\\n\" % disciplina2.max())\n",
        "\n",
        "print(\"Disciplina 3: %i\\n\" % disciplina3.max())\n",
        "\n",
        "print(\"Disciplina 4: %i\\n\" % disciplina4.max())\n",
        "\n",
        "print(\"Disciplina 5: %i\\n\" % disciplina5.max())"
      ]
    },
    {
      "cell_type": "markdown",
      "metadata": {
        "id": "4mgJ4QyA_YCN"
      },
      "source": [
        "### 11.c.\n",
        "Faça uma breve análise sobre a utilidade e limitações de uma série `pandas`. Também inclua uma opinião pessoal curta se gostou ou não dessa estrutura.\n",
        "\n",
        "Esta questão não possui `check`.\n",
        "Mas você pode pedir dica com `q11.c.hint()`."
      ]
    },
    {
      "cell_type": "code",
      "execution_count": 71,
      "metadata": {
        "id": "FAEcBR4E_YCN",
        "colab": {
          "base_uri": "https://localhost:8080/",
          "height": 46
        },
        "outputId": "adeeed63-1ed0-4ece-f60e-6cb65db3e2db"
      },
      "outputs": [
        {
          "output_type": "display_data",
          "data": {
            "text/plain": [
              "<IPython.core.display.Javascript object>"
            ],
            "application/javascript": [
              "parent.postMessage({\"jupyterEvent\": \"custom.exercise_interaction\", \"data\": {\"interactionType\": 2, \"questionType\": 4, \"questionId\": \"11.3_Q11C\", \"learnToolsVersion\": \"1.0.4\", \"valueTowardsCompletion\": 0.0, \"failureMessage\": \"\", \"exceptionClass\": \"\", \"trace\": \"\", \"outcomeType\": 4}}, \"*\")"
            ]
          },
          "metadata": {}
        },
        {
          "output_type": "display_data",
          "data": {
            "text/plain": [
              "Dica: Pense em quais respostas sobre o contexto de turmas de 5ª série apresentado uma série **não** consegue responder?"
            ],
            "text/markdown": "<span style=\"color:#3366cc\">Dica:</span> Pense em quais respostas sobre o contexto de turmas de 5ª série apresentado uma série **não** consegue responder?"
          },
          "metadata": {}
        }
      ],
      "source": [
        "q11.c.hint()"
      ]
    },
    {
      "cell_type": "markdown",
      "metadata": {
        "id": "bgAImaFL_YCN"
      },
      "source": [
        "#### Resposta:\n",
        "\n",
        "A principal limitação da estrutura `Series` em pandas é a exclusividade de utilizarmos somente uma coluna, no caso da questão 11 poderiamos ter por exemplo duas colunas para cada disciplina. Já com relação as utilidades, o grande número de métodos já prontos na `API` facilita e otimiza o tempo de resolução das questões."
      ]
    },
    {
      "cell_type": "markdown",
      "metadata": {
        "id": "-wN9Hq9X_YCO"
      },
      "source": [
        ""
      ]
    }
  ],
  "metadata": {
    "colab": {
      "name": "3897-luciano.ipynb",
      "provenance": [],
      "collapsed_sections": []
    },
    "kernelspec": {
      "display_name": "Python 3",
      "language": "python",
      "name": "python3"
    },
    "language_info": {
      "codemirror_mode": {
        "name": "ipython",
        "version": 3
      },
      "file_extension": ".py",
      "mimetype": "text/x-python",
      "name": "python",
      "nbconvert_exporter": "python",
      "pygments_lexer": "ipython3",
      "version": "3.9.10"
    }
  },
  "nbformat": 4,
  "nbformat_minor": 0
}