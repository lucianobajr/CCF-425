{
  "nbformat": 4,
  "nbformat_minor": 0,
  "metadata": {
    "colab": {
      "name": "first_unit.ipynb",
      "provenance": [],
      "include_colab_link": true
    },
    "kernelspec": {
      "name": "python3",
      "display_name": "Python 3"
    },
    "language_info": {
      "name": "python"
    }
  },
  "cells": [
    {
      "cell_type": "markdown",
      "metadata": {
        "id": "view-in-github",
        "colab_type": "text"
      },
      "source": [
        "<a href=\"https://colab.research.google.com/github/lucianobajr/CCF-425/blob/main/first_unit.ipynb\" target=\"_parent\"><img src=\"https://colab.research.google.com/assets/colab-badge.svg\" alt=\"Open In Colab\"/></a>"
      ]
    },
    {
      "cell_type": "markdown",
      "source": [
        "# Primeira Unidade\n",
        "\n",
        "* Estatística Descritiva\n",
        "* Teorema Central do Limite\n",
        "* Inferência Estatística\n",
        "* Tratamento de Dados\n",
        "* Visualização de Dados"
      ],
      "metadata": {
        "id": "k_xYbhWYvEvM"
      }
    },
    {
      "cell_type": "markdown",
      "source": [
        "## Estatística descritiva\n",
        "\n",
        "`População`: conjunto de elementos que tem pelo menos uma característica em comum.\n",
        "Esta característica deve delimitar corretamente quais são os elementos da população que podem ser animados ou inanimados.\n",
        "\n",
        "`Amostra`: subconjunto de elementos de uma população. Este subconjunto deve ter\n",
        "dimensão menor que o da população e seus elementos devem ser representativos da população. A seleção dos elementos que irão compor a amostra pode ser feita de várias maneiras e irá depender do conhecimento que se tem da população e da quantidade de recursos disponíveis. A \n",
        "estatística inferencial é a área que trata e apresenta a metodologia de amostragem. \n",
        "\n",
        "`Variável`: é a característica que vai ser observada, medida ou contada nos elementos da população ou da amostra e que pode variar, ou seja, assumir um valor diferente de elemento para elemento. \n",
        "\n",
        "![untitled](https://user-images.githubusercontent.com/45442173/175169239-fc970da7-1d72-4b94-862d-691f493cd076.png)\n",
        "\n",
        "A estatística descritiva é um ramo da estatística que aplica várias técnicas para descrever e sumarizar um conjunto de dados. Sendo assim, este ramo pode: \n",
        "* Gerar cálculos para reduzir um complexo arranjo de dados a um punhado de números que descrevam esses dados \n",
        "* Nos dão um resumo manejável e significativo dos fenômenos descritos nos dados\n",
        "\n",
        "Logo, a estatística descritiva não é apenas o cálculo das medidas de tendência central. A `média` é uma estatística descritiva que deve ser usada com cuidado já que é sensível a valores extremos (outliers), que são observações que se situam mais longe do centro."
      ],
      "metadata": {
        "id": "EtN-rnXvlBJM"
      }
    },
    {
      "cell_type": "markdown",
      "source": [
        "### Exportando o colab para pdf"
      ],
      "metadata": {
        "id": "gxVBMXHPrT3T"
      }
    },
    {
      "cell_type": "code",
      "source": [
        "%%capture\n",
        "!wget -nc https://raw.githubusercontent.com/brpy/colab-pdf/master/colab_pdf.py\n",
        "from colab_pdf import colab_pdf\n",
        "colab_pdf('first_unit.ipynb')"
      ],
      "metadata": {
        "id": "akY6Rsa_rQyR"
      },
      "execution_count": null,
      "outputs": []
    }
  ]
}