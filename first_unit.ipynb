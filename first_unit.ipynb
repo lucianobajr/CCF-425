{
  "nbformat": 4,
  "nbformat_minor": 0,
  "metadata": {
    "colab": {
      "name": "first_unit.ipynb",
      "provenance": [],
      "authorship_tag": "ABX9TyPIK54TVeaUm3QvKJh+/xCW",
      "include_colab_link": true
    },
    "kernelspec": {
      "name": "python3",
      "display_name": "Python 3"
    },
    "language_info": {
      "name": "python"
    }
  },
  "cells": [
    {
      "cell_type": "markdown",
      "metadata": {
        "id": "view-in-github",
        "colab_type": "text"
      },
      "source": [
        "<a href=\"https://colab.research.google.com/github/lucianobajr/CCF-425/blob/main/first_unit.ipynb\" target=\"_parent\"><img src=\"https://colab.research.google.com/assets/colab-badge.svg\" alt=\"Open In Colab\"/></a>"
      ]
    },
    {
      "cell_type": "code",
      "execution_count": null,
      "metadata": {
        "id": "fhyoyOLhtdma"
      },
      "outputs": [],
      "source": [
        ""
      ]
    }
  ]
}