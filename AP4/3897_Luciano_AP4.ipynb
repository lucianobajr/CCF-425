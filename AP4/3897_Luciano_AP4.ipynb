{
  "nbformat": 4,
  "nbformat_minor": 0,
  "metadata": {
    "colab": {
      "name": "3897_Luciano_AP4.ipynb",
      "provenance": [],
      "collapsed_sections": []
    },
    "kernelspec": {
      "name": "python3",
      "display_name": "Python 3"
    },
    "language_info": {
      "name": "python"
    }
  },
  "cells": [
    {
      "cell_type": "markdown",
      "source": [
        "> Introdução à Ciência dos Dados \\\n",
        "> Ciência da Computação – UFV/Florestal\n",
        "\n",
        "\n",
        "* **Nome:** Luciano Belo\n",
        "* **Matrícula:**  3897\n",
        "\n",
        "# Aula Prática 04\n",
        "## Inferência Estatística"
      ],
      "metadata": {
        "id": "Vbc2cwmbvVOK"
      }
    },
    {
      "cell_type": "code",
      "source": [
        "import pandas as pd\n",
        "import numpy as np\n",
        "import matplotlib.pyplot as plt\n",
        "import seaborn as sns\n",
        "import scipy\n",
        "from scipy.stats import norm,ttest_ind\n"
      ],
      "metadata": {
        "id": "j0dwUiRJwY5q"
      },
      "execution_count": 106,
      "outputs": []
    },
    {
      "cell_type": "markdown",
      "source": [
        "# Exercícios"
      ],
      "metadata": {
        "id": "dJblNKtNvtWj"
      }
    },
    {
      "cell_type": "markdown",
      "source": [
        "## 1)\n",
        "Você foi alocado no trabalho para decidir sobre qual protocolo de comunicação utilizar para a infraestrutura de IoT que será implantada na sua empresa. As duas opções são os protocolos IA171 e o IE666. O principal\n",
        "critério para a sua empresa é o atraso na transmissão. Então, você implementa os dois protocolos em um simulador de redes e coleta 100 valores de atrasos de transmissão para cada protocolo. Com base nesses\n",
        "valores, você deve decidir qual protocolo utilizar. Faça a análise desses resultados e elabore uma justificativa plausível e quantitativa para a utilização de um ou outro protocolo, ou se não há diferença significativa que indique que um protocolo é melhor que o outro. Os resultados de atrasos\n",
        "estão em milissegundos nos arquivos atraso_ia171.csv atraso_ie666.csv. A empresa espera que você tenha uma confiança de 95% em sua decisão."
      ],
      "metadata": {
        "id": "v5jU60opv5MQ"
      }
    },
    {
      "cell_type": "code",
      "source": [
        "# protocolo IA17\n",
        "\n",
        "atraso_ia171 = pd.read_csv('/content/drive/MyDrive/datasets/CCF425/AP4/atraso_ia171.csv', index_col=False, header=None, squeeze=True)\n",
        "atraso_ia171"
      ],
      "metadata": {
        "colab": {
          "base_uri": "https://localhost:8080/"
        },
        "id": "jlSZb2-DwiM-",
        "outputId": "c99f6e7e-1529-403c-ebd9-85f46c07e817"
      },
      "execution_count": 107,
      "outputs": [
        {
          "output_type": "execute_result",
          "data": {
            "text/plain": [
              "0     511.28\n",
              "1     494.68\n",
              "2     507.27\n",
              "3     461.34\n",
              "4     464.77\n",
              "       ...  \n",
              "95    545.39\n",
              "96    496.13\n",
              "97    504.65\n",
              "98    512.12\n",
              "99    485.72\n",
              "Name: 0, Length: 100, dtype: float64"
            ]
          },
          "metadata": {},
          "execution_count": 107
        }
      ]
    },
    {
      "cell_type": "code",
      "source": [
        "# protocolo IE666\n",
        "\n",
        "atraso_ie666 = pd.read_csv('/content/drive/MyDrive/datasets/CCF425/AP4/atraso_ie666.csv', index_col=False, header=None, squeeze=True)\n",
        "atraso_ie666"
      ],
      "metadata": {
        "colab": {
          "base_uri": "https://localhost:8080/"
        },
        "id": "CuEaw1WGxSmv",
        "outputId": "858911e4-0094-4c8c-dd84-9a7fae6bd87b"
      },
      "execution_count": 108,
      "outputs": [
        {
          "output_type": "execute_result",
          "data": {
            "text/plain": [
              "0     278.03\n",
              "1     135.09\n",
              "2     196.68\n",
              "3     258.81\n",
              "4     230.07\n",
              "       ...  \n",
              "95    191.78\n",
              "96    238.73\n",
              "97    176.90\n",
              "98    122.68\n",
              "99    234.77\n",
              "Name: 0, Length: 100, dtype: float64"
            ]
          },
          "metadata": {},
          "execution_count": 108
        }
      ]
    },
    {
      "cell_type": "code",
      "source": [
        "atraso_ia171.describe()"
      ],
      "metadata": {
        "colab": {
          "base_uri": "https://localhost:8080/"
        },
        "id": "WswpSFbcARrj",
        "outputId": "b82323a1-4ec5-448f-f991-57492fd6e2da"
      },
      "execution_count": 109,
      "outputs": [
        {
          "output_type": "execute_result",
          "data": {
            "text/plain": [
              "count    100.000000\n",
              "mean     500.230600\n",
              "std       23.901383\n",
              "min      424.770000\n",
              "25%      483.540000\n",
              "50%      503.905000\n",
              "75%      516.222500\n",
              "max      558.330000\n",
              "Name: 0, dtype: float64"
            ]
          },
          "metadata": {},
          "execution_count": 109
        }
      ]
    },
    {
      "cell_type": "code",
      "source": [
        "atraso_ie666.describe()"
      ],
      "metadata": {
        "colab": {
          "base_uri": "https://localhost:8080/"
        },
        "id": "VYCgEd7hAYyt",
        "outputId": "e9005c8d-552e-4de1-e1d3-fef6003c9e1e"
      },
      "execution_count": 110,
      "outputs": [
        {
          "output_type": "execute_result",
          "data": {
            "text/plain": [
              "count    100.000000\n",
              "mean     186.781500\n",
              "std       53.278042\n",
              "min       54.960000\n",
              "25%      154.040000\n",
              "50%      178.895000\n",
              "75%      230.262500\n",
              "max      317.690000\n",
              "Name: 0, dtype: float64"
            ]
          },
          "metadata": {},
          "execution_count": 110
        }
      ]
    },
    {
      "cell_type": "markdown",
      "source": [
        "Com base nos dados anteriores, nota-se que o atraso `ia171` é maior que o atraso `ie666` em média. Porém há diferença significativa em relação às médias?\n",
        "\n",
        "- Hipótese nula: não há diferença"
      ],
      "metadata": {
        "id": "xgBcxpeyB835"
      }
    },
    {
      "cell_type": "code",
      "source": [
        "''' \n",
        "- Se p > 0.05 aceita-se a hipótese nula\n",
        "- Se p <= 0.05 rejeita-se a hipótese nula\n",
        "'''\n",
        "\n",
        "pvalue = ttest_ind(atraso_ia171,atraso_ie666).pvalue\n",
        "\n",
        "print(f\"P-valor: {pvalue}\")\n",
        "print(\"Aceita-se a hipótese nula\") if (pvalue > (0.05)) else print(\"Rejeita-se a hipótese nula\")"
      ],
      "metadata": {
        "colab": {
          "base_uri": "https://localhost:8080/"
        },
        "id": "y3uqTRlSzV4t",
        "outputId": "2865c20a-2553-4ce3-8d9c-9ee66ee1bf9e"
      },
      "execution_count": 111,
      "outputs": [
        {
          "output_type": "stream",
          "name": "stdout",
          "text": [
            "P-valor: 6.0146248534390525e-120\n",
            "Rejeita-se a hipótese nula\n"
          ]
        }
      ]
    },
    {
      "cell_type": "markdown",
      "source": [
        "Já que rejeita-se a hipótese nula, podemos afirmar que há diferença e que o melhor protocolo a ser usado é nesse caso o IE666."
      ],
      "metadata": {
        "id": "VUhjrmCQ-GsZ"
      }
    },
    {
      "cell_type": "markdown",
      "source": [
        "## 2)\n",
        "\n",
        "Você precisa implementar um algoritmo para calcular todas as possibilidades de senhas existentes considerando somente números e letras, de no máximo tamanho 8. Como um bom aluno que você é, você pesquisa\n",
        "no Google e encontra duas implementações prontas: CombNar e BitComb. Você então prepara vários testes para comparar os dois algoritmos em termos do tempo de execução em segundos. Os resultados de 100 execuções de cada algoritmo estão armazenados nos arquivos\n",
        "tempo_combinar.csv e tempo_bitcomb.csv. Com base nesses resultados, qual dos dois algoritmos você escolhe? Justifique sua resposta."
      ],
      "metadata": {
        "id": "QzyqCYSHwEnx"
      }
    },
    {
      "cell_type": "code",
      "source": [
        "# BitComb\n",
        "\n",
        "tempo_bitcomb = pd.read_csv('/content/drive/MyDrive/datasets/CCF425/AP4/tempo_bitcomb.csv', index_col=False, header=None, squeeze=True)\n",
        "tempo_bitcomb"
      ],
      "metadata": {
        "colab": {
          "base_uri": "https://localhost:8080/"
        },
        "id": "t2vwU7vyKXvh",
        "outputId": "104ed466-91f1-414b-cb95-cff1fc2b5bd0"
      },
      "execution_count": 112,
      "outputs": [
        {
          "output_type": "execute_result",
          "data": {
            "text/plain": [
              "0     11.92\n",
              "1      8.52\n",
              "2      3.56\n",
              "3      8.25\n",
              "4      9.39\n",
              "      ...  \n",
              "95     9.33\n",
              "96     8.28\n",
              "97    13.63\n",
              "98     9.08\n",
              "99     9.62\n",
              "Name: 0, Length: 100, dtype: float64"
            ]
          },
          "metadata": {},
          "execution_count": 112
        }
      ]
    },
    {
      "cell_type": "code",
      "source": [
        "# CombNar\n",
        "\n",
        "tempo_combinar = pd.read_csv('/content/drive/MyDrive/datasets/CCF425/AP4/tempo_combinar.csv', index_col=False, header=None, squeeze=True)\n",
        "tempo_combinar"
      ],
      "metadata": {
        "colab": {
          "base_uri": "https://localhost:8080/"
        },
        "id": "ZzWnnB6GK3Dr",
        "outputId": "73fac8ca-d66c-4c4d-c9e2-abd0eaca2447"
      },
      "execution_count": 113,
      "outputs": [
        {
          "output_type": "execute_result",
          "data": {
            "text/plain": [
              "0      8.82\n",
              "1      9.63\n",
              "2     11.28\n",
              "3     13.46\n",
              "4      5.27\n",
              "      ...  \n",
              "95     3.39\n",
              "96    14.67\n",
              "97     4.94\n",
              "98    18.40\n",
              "99     5.19\n",
              "Name: 0, Length: 100, dtype: float64"
            ]
          },
          "metadata": {},
          "execution_count": 113
        }
      ]
    },
    {
      "cell_type": "code",
      "source": [
        "tempo_bitcomb.describe()"
      ],
      "metadata": {
        "colab": {
          "base_uri": "https://localhost:8080/"
        },
        "id": "k6sK1JpNLa7m",
        "outputId": "feda74e4-4ba3-4fb8-e358-f41973a3be96"
      },
      "execution_count": 114,
      "outputs": [
        {
          "output_type": "execute_result",
          "data": {
            "text/plain": [
              "count    100.000000\n",
              "mean       8.743500\n",
              "std        3.600244\n",
              "min       -0.070000\n",
              "25%        6.100000\n",
              "50%        8.640000\n",
              "75%       11.382500\n",
              "max       17.200000\n",
              "Name: 0, dtype: float64"
            ]
          },
          "metadata": {},
          "execution_count": 114
        }
      ]
    },
    {
      "cell_type": "code",
      "source": [
        "tempo_combinar.describe()"
      ],
      "metadata": {
        "colab": {
          "base_uri": "https://localhost:8080/"
        },
        "id": "kovRoeo3Ld6e",
        "outputId": "c7abc4d2-6539-4b79-c6e2-92105b6b6931"
      },
      "execution_count": 115,
      "outputs": [
        {
          "output_type": "execute_result",
          "data": {
            "text/plain": [
              "count    100.000000\n",
              "mean       9.540900\n",
              "std        3.956263\n",
              "min       -2.150000\n",
              "25%        7.682500\n",
              "50%        9.250000\n",
              "75%       12.407500\n",
              "max       18.400000\n",
              "Name: 0, dtype: float64"
            ]
          },
          "metadata": {},
          "execution_count": 115
        }
      ]
    },
    {
      "cell_type": "markdown",
      "source": [
        "Com base nos dados anteriores, nota-se que o algoritmo `BitComb` tem valor médio melhor que o `CompNar`. Porém há diferença significativa em relação às médias?\n",
        "\n",
        "- Hipótese nula: não há diferença"
      ],
      "metadata": {
        "id": "ik8JXoe8LoGV"
      }
    },
    {
      "cell_type": "code",
      "source": [
        "''' \n",
        "- Se p > 0.05 aceita-se a hipótese nula\n",
        "- Se p <= 0.05 rejeita-se a hipótese nula\n",
        "'''\n",
        "\n",
        "pvalue_algorithms = ttest_ind(tempo_bitcomb,tempo_combinar).pvalue\n",
        "\n",
        "print(f\"P-valor: {pvalue_algorithms}\")\n",
        "print(\"Aceita-se a hipótese nula\") if (pvalue_algorithms > (0.05)) else print(\"Rejeita-se a hipótese nula\")"
      ],
      "metadata": {
        "colab": {
          "base_uri": "https://localhost:8080/"
        },
        "id": "tMHSJaclMEHt",
        "outputId": "788216b8-c2ea-44de-af90-11d5e0a495bd"
      },
      "execution_count": 116,
      "outputs": [
        {
          "output_type": "stream",
          "name": "stdout",
          "text": [
            "P-valor: 0.13763304867237086\n",
            "Aceita-se a hipótese nula\n"
          ]
        }
      ]
    },
    {
      "cell_type": "markdown",
      "source": [
        "Já que aceita-se a hipótese nula, podemos afirmar que não faz diferença estatisticamente qual algoritmo escolher."
      ],
      "metadata": {
        "id": "xKUlcRksN4sT"
      }
    }
  ]
}