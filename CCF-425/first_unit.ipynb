{
  "nbformat": 4,
  "nbformat_minor": 0,
  "metadata": {
    "colab": {
      "name": "first_unit.ipynb",
      "provenance": [],
      "authorship_tag": "ABX9TyOUsBsL7j8gE/HIaIUIQgC6",
      "include_colab_link": true
    },
    "kernelspec": {
      "name": "python3",
      "display_name": "Python 3"
    },
    "language_info": {
      "name": "python"
    }
  },
  "cells": [
    {
      "cell_type": "markdown",
      "metadata": {
        "id": "view-in-github",
        "colab_type": "text"
      },
      "source": [
        "<a href=\"https://colab.research.google.com/github/lucianobajr/CCF-425/blob/main/CCF-425/first_unit.ipynb\" target=\"_parent\"><img src=\"https://colab.research.google.com/assets/colab-badge.svg\" alt=\"Open In Colab\"/></a>"
      ]
    },
    {
      "cell_type": "markdown",
      "source": [
        "# Primeira Unidade\n",
        "\n",
        "* Estatística Descritiva\n",
        "* Teorema Central do Limite\n",
        "* Inferência Estatística\n",
        "* Tratamento de Dados\n",
        "* Visualização de Dados"
      ],
      "metadata": {
        "id": "k_xYbhWYvEvM"
      }
    }
  ]
}