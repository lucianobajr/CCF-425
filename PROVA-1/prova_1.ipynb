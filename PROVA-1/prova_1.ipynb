{
  "nbformat": 4,
  "nbformat_minor": 0,
  "metadata": {
    "colab": {
      "name": "prova-1.ipynb",
      "provenance": [],
      "collapsed_sections": []
    },
    "kernelspec": {
      "name": "python3",
      "display_name": "Python 3"
    },
    "language_info": {
      "name": "python"
    }
  },
  "cells": [
    {
      "cell_type": "markdown",
      "source": [
        "> Introdução à Ciência dos Dados \\\n",
        "> Ciência da Computação – UFV/Florestal\n",
        "\n",
        "\n",
        "* **Nome:** Luciano Belo de Alcântara Júnior\n",
        "* **Matrícula:**  3897\n",
        "\n",
        "# Prova 1"
      ],
      "metadata": {
        "id": "3gr8hVqHqxyn"
      }
    },
    {
      "cell_type": "code",
      "source": [
        "#### Não altere essa célula!!! ####\n",
        "import pandas as pd\n",
        "import numpy as np\n",
        "import seaborn as sns\n",
        "import matplotlib.pyplot as plt\n",
        "from scipy.stats import norm,ttest_ind\n",
        "import scipy as sp                                                         \n",
        "import scipy.stats \n",
        "import statistics "
      ],
      "metadata": {
        "id": "bq-bEl5DraG7"
      },
      "execution_count": 109,
      "outputs": []
    },
    {
      "cell_type": "code",
      "source": [
        "!wget https://raw.githubusercontent.com/lucianobajr/CCF-425/main/PROVA-1/usuarios_cartao_credito-prova.csv?token=GHSAT0AAAAAABT5KENKSUBRWYLH4R5RYGUKYVUOUYA"
      ],
      "metadata": {
        "colab": {
          "base_uri": "https://localhost:8080/"
        },
        "id": "s_Bnm8vGrAD5",
        "outputId": "bdc2d7ad-318b-4b01-d407-7eb6b1d3e3f0"
      },
      "execution_count": 7,
      "outputs": [
        {
          "output_type": "stream",
          "name": "stdout",
          "text": [
            "--2022-06-23 13:14:23--  https://raw.githubusercontent.com/lucianobajr/CCF-425/main/PROVA-1/usuarios_cartao_credito-prova.csv?token=GHSAT0AAAAAABT5KENKSUBRWYLH4R5RYGUKYVUOUYA\n",
            "Resolving raw.githubusercontent.com (raw.githubusercontent.com)... 185.199.111.133, 185.199.110.133, 185.199.108.133, ...\n",
            "Connecting to raw.githubusercontent.com (raw.githubusercontent.com)|185.199.111.133|:443... connected.\n",
            "HTTP request sent, awaiting response... 200 OK\n",
            "Length: 866640 (846K) [text/plain]\n",
            "Saving to: ‘usuarios_cartao_credito-prova.csv?token=GHSAT0AAAAAABT5KENKSUBRWYLH4R5RYGUKYVUOUYA’\n",
            "\n",
            "usuarios_cartao_cre 100%[===================>] 846.33K  --.-KB/s    in 0.03s   \n",
            "\n",
            "2022-06-23 13:14:23 (32.7 MB/s) - ‘usuarios_cartao_credito-prova.csv?token=GHSAT0AAAAAABT5KENKSUBRWYLH4R5RYGUKYVUOUYA’ saved [866640/866640]\n",
            "\n"
          ]
        }
      ]
    },
    {
      "cell_type": "code",
      "source": [
        "dataset = pd.read_csv('./usuarios_cartao_credito-prova.csv')\n",
        "dataset"
      ],
      "metadata": {
        "colab": {
          "base_uri": "https://localhost:8080/",
          "height": 731
        },
        "id": "eCLfWQ2IrVIh",
        "outputId": "980f4751-a66c-4409-e435-4dabf342edfc"
      },
      "execution_count": 8,
      "outputs": [
        {
          "output_type": "execute_result",
          "data": {
            "text/plain": [
              "       Id_Cliente   Indicador_Status  Idade Sexo  n_dependentes  \\\n",
              "0       768805383  Existing Customer     45    M              3   \n",
              "1       818770008  Existing Customer     49    F              5   \n",
              "2       713982108  Existing Customer     51    M              3   \n",
              "3       769911858  Existing Customer     40    F              4   \n",
              "4       709106358  Existing Customer     40    M              3   \n",
              "...           ...                ...    ...  ...            ...   \n",
              "10122   772366833  Existing Customer     50    M              2   \n",
              "10123   710638233  Attrited Customer     41    M              2   \n",
              "10124   716506083  Attrited Customer     44    F              1   \n",
              "10125   717406983  Attrited Customer     30    M              2   \n",
              "10126   714337233  Attrited Customer     43    F              2   \n",
              "\n",
              "      nivel_educacao estado_civil           renda categoria_cartao  \\\n",
              "0        High School      Married     $60K - $80K             Blue   \n",
              "1           Graduate       Single  Less than $40K             Blue   \n",
              "2           Graduate      Married    $80K - $120K             Blue   \n",
              "3        High School      Unknown  Less than $40K             Blue   \n",
              "4         Uneducated      Married     $60K - $80K             Blue   \n",
              "...              ...          ...             ...              ...   \n",
              "10122       Graduate       Single     $40K - $60K             Blue   \n",
              "10123        Unknown     Divorced     $40K - $60K             Blue   \n",
              "10124    High School      Married  Less than $40K             Blue   \n",
              "10125       Graduate      Unknown     $40K - $60K             Blue   \n",
              "10126       Graduate      Married  Less than $40K           Silver   \n",
              "\n",
              "       meses_contrato  n_produtos  limite_credito  total_transacoes  \n",
              "0                  39           5         12691.0                42  \n",
              "1                  44           6          8256.0                33  \n",
              "2                  36           4          3418.0                20  \n",
              "3                  34           3          3313.0                20  \n",
              "4                  21           5          4716.0                28  \n",
              "...               ...         ...             ...               ...  \n",
              "10122              40           3          4003.0               117  \n",
              "10123              25           4          4277.0                69  \n",
              "10124              36           5          5409.0                60  \n",
              "10125              36           4          5281.0                62  \n",
              "10126              25           6         10388.0                61  \n",
              "\n",
              "[10127 rows x 13 columns]"
            ],
            "text/html": [
              "\n",
              "  <div id=\"df-54291793-e3be-423a-8ec0-e0b7e0b731ec\">\n",
              "    <div class=\"colab-df-container\">\n",
              "      <div>\n",
              "<style scoped>\n",
              "    .dataframe tbody tr th:only-of-type {\n",
              "        vertical-align: middle;\n",
              "    }\n",
              "\n",
              "    .dataframe tbody tr th {\n",
              "        vertical-align: top;\n",
              "    }\n",
              "\n",
              "    .dataframe thead th {\n",
              "        text-align: right;\n",
              "    }\n",
              "</style>\n",
              "<table border=\"1\" class=\"dataframe\">\n",
              "  <thead>\n",
              "    <tr style=\"text-align: right;\">\n",
              "      <th></th>\n",
              "      <th>Id_Cliente</th>\n",
              "      <th>Indicador_Status</th>\n",
              "      <th>Idade</th>\n",
              "      <th>Sexo</th>\n",
              "      <th>n_dependentes</th>\n",
              "      <th>nivel_educacao</th>\n",
              "      <th>estado_civil</th>\n",
              "      <th>renda</th>\n",
              "      <th>categoria_cartao</th>\n",
              "      <th>meses_contrato</th>\n",
              "      <th>n_produtos</th>\n",
              "      <th>limite_credito</th>\n",
              "      <th>total_transacoes</th>\n",
              "    </tr>\n",
              "  </thead>\n",
              "  <tbody>\n",
              "    <tr>\n",
              "      <th>0</th>\n",
              "      <td>768805383</td>\n",
              "      <td>Existing Customer</td>\n",
              "      <td>45</td>\n",
              "      <td>M</td>\n",
              "      <td>3</td>\n",
              "      <td>High School</td>\n",
              "      <td>Married</td>\n",
              "      <td>$60K - $80K</td>\n",
              "      <td>Blue</td>\n",
              "      <td>39</td>\n",
              "      <td>5</td>\n",
              "      <td>12691.0</td>\n",
              "      <td>42</td>\n",
              "    </tr>\n",
              "    <tr>\n",
              "      <th>1</th>\n",
              "      <td>818770008</td>\n",
              "      <td>Existing Customer</td>\n",
              "      <td>49</td>\n",
              "      <td>F</td>\n",
              "      <td>5</td>\n",
              "      <td>Graduate</td>\n",
              "      <td>Single</td>\n",
              "      <td>Less than $40K</td>\n",
              "      <td>Blue</td>\n",
              "      <td>44</td>\n",
              "      <td>6</td>\n",
              "      <td>8256.0</td>\n",
              "      <td>33</td>\n",
              "    </tr>\n",
              "    <tr>\n",
              "      <th>2</th>\n",
              "      <td>713982108</td>\n",
              "      <td>Existing Customer</td>\n",
              "      <td>51</td>\n",
              "      <td>M</td>\n",
              "      <td>3</td>\n",
              "      <td>Graduate</td>\n",
              "      <td>Married</td>\n",
              "      <td>$80K - $120K</td>\n",
              "      <td>Blue</td>\n",
              "      <td>36</td>\n",
              "      <td>4</td>\n",
              "      <td>3418.0</td>\n",
              "      <td>20</td>\n",
              "    </tr>\n",
              "    <tr>\n",
              "      <th>3</th>\n",
              "      <td>769911858</td>\n",
              "      <td>Existing Customer</td>\n",
              "      <td>40</td>\n",
              "      <td>F</td>\n",
              "      <td>4</td>\n",
              "      <td>High School</td>\n",
              "      <td>Unknown</td>\n",
              "      <td>Less than $40K</td>\n",
              "      <td>Blue</td>\n",
              "      <td>34</td>\n",
              "      <td>3</td>\n",
              "      <td>3313.0</td>\n",
              "      <td>20</td>\n",
              "    </tr>\n",
              "    <tr>\n",
              "      <th>4</th>\n",
              "      <td>709106358</td>\n",
              "      <td>Existing Customer</td>\n",
              "      <td>40</td>\n",
              "      <td>M</td>\n",
              "      <td>3</td>\n",
              "      <td>Uneducated</td>\n",
              "      <td>Married</td>\n",
              "      <td>$60K - $80K</td>\n",
              "      <td>Blue</td>\n",
              "      <td>21</td>\n",
              "      <td>5</td>\n",
              "      <td>4716.0</td>\n",
              "      <td>28</td>\n",
              "    </tr>\n",
              "    <tr>\n",
              "      <th>...</th>\n",
              "      <td>...</td>\n",
              "      <td>...</td>\n",
              "      <td>...</td>\n",
              "      <td>...</td>\n",
              "      <td>...</td>\n",
              "      <td>...</td>\n",
              "      <td>...</td>\n",
              "      <td>...</td>\n",
              "      <td>...</td>\n",
              "      <td>...</td>\n",
              "      <td>...</td>\n",
              "      <td>...</td>\n",
              "      <td>...</td>\n",
              "    </tr>\n",
              "    <tr>\n",
              "      <th>10122</th>\n",
              "      <td>772366833</td>\n",
              "      <td>Existing Customer</td>\n",
              "      <td>50</td>\n",
              "      <td>M</td>\n",
              "      <td>2</td>\n",
              "      <td>Graduate</td>\n",
              "      <td>Single</td>\n",
              "      <td>$40K - $60K</td>\n",
              "      <td>Blue</td>\n",
              "      <td>40</td>\n",
              "      <td>3</td>\n",
              "      <td>4003.0</td>\n",
              "      <td>117</td>\n",
              "    </tr>\n",
              "    <tr>\n",
              "      <th>10123</th>\n",
              "      <td>710638233</td>\n",
              "      <td>Attrited Customer</td>\n",
              "      <td>41</td>\n",
              "      <td>M</td>\n",
              "      <td>2</td>\n",
              "      <td>Unknown</td>\n",
              "      <td>Divorced</td>\n",
              "      <td>$40K - $60K</td>\n",
              "      <td>Blue</td>\n",
              "      <td>25</td>\n",
              "      <td>4</td>\n",
              "      <td>4277.0</td>\n",
              "      <td>69</td>\n",
              "    </tr>\n",
              "    <tr>\n",
              "      <th>10124</th>\n",
              "      <td>716506083</td>\n",
              "      <td>Attrited Customer</td>\n",
              "      <td>44</td>\n",
              "      <td>F</td>\n",
              "      <td>1</td>\n",
              "      <td>High School</td>\n",
              "      <td>Married</td>\n",
              "      <td>Less than $40K</td>\n",
              "      <td>Blue</td>\n",
              "      <td>36</td>\n",
              "      <td>5</td>\n",
              "      <td>5409.0</td>\n",
              "      <td>60</td>\n",
              "    </tr>\n",
              "    <tr>\n",
              "      <th>10125</th>\n",
              "      <td>717406983</td>\n",
              "      <td>Attrited Customer</td>\n",
              "      <td>30</td>\n",
              "      <td>M</td>\n",
              "      <td>2</td>\n",
              "      <td>Graduate</td>\n",
              "      <td>Unknown</td>\n",
              "      <td>$40K - $60K</td>\n",
              "      <td>Blue</td>\n",
              "      <td>36</td>\n",
              "      <td>4</td>\n",
              "      <td>5281.0</td>\n",
              "      <td>62</td>\n",
              "    </tr>\n",
              "    <tr>\n",
              "      <th>10126</th>\n",
              "      <td>714337233</td>\n",
              "      <td>Attrited Customer</td>\n",
              "      <td>43</td>\n",
              "      <td>F</td>\n",
              "      <td>2</td>\n",
              "      <td>Graduate</td>\n",
              "      <td>Married</td>\n",
              "      <td>Less than $40K</td>\n",
              "      <td>Silver</td>\n",
              "      <td>25</td>\n",
              "      <td>6</td>\n",
              "      <td>10388.0</td>\n",
              "      <td>61</td>\n",
              "    </tr>\n",
              "  </tbody>\n",
              "</table>\n",
              "<p>10127 rows × 13 columns</p>\n",
              "</div>\n",
              "      <button class=\"colab-df-convert\" onclick=\"convertToInteractive('df-54291793-e3be-423a-8ec0-e0b7e0b731ec')\"\n",
              "              title=\"Convert this dataframe to an interactive table.\"\n",
              "              style=\"display:none;\">\n",
              "        \n",
              "  <svg xmlns=\"http://www.w3.org/2000/svg\" height=\"24px\"viewBox=\"0 0 24 24\"\n",
              "       width=\"24px\">\n",
              "    <path d=\"M0 0h24v24H0V0z\" fill=\"none\"/>\n",
              "    <path d=\"M18.56 5.44l.94 2.06.94-2.06 2.06-.94-2.06-.94-.94-2.06-.94 2.06-2.06.94zm-11 1L8.5 8.5l.94-2.06 2.06-.94-2.06-.94L8.5 2.5l-.94 2.06-2.06.94zm10 10l.94 2.06.94-2.06 2.06-.94-2.06-.94-.94-2.06-.94 2.06-2.06.94z\"/><path d=\"M17.41 7.96l-1.37-1.37c-.4-.4-.92-.59-1.43-.59-.52 0-1.04.2-1.43.59L10.3 9.45l-7.72 7.72c-.78.78-.78 2.05 0 2.83L4 21.41c.39.39.9.59 1.41.59.51 0 1.02-.2 1.41-.59l7.78-7.78 2.81-2.81c.8-.78.8-2.07 0-2.86zM5.41 20L4 18.59l7.72-7.72 1.47 1.35L5.41 20z\"/>\n",
              "  </svg>\n",
              "      </button>\n",
              "      \n",
              "  <style>\n",
              "    .colab-df-container {\n",
              "      display:flex;\n",
              "      flex-wrap:wrap;\n",
              "      gap: 12px;\n",
              "    }\n",
              "\n",
              "    .colab-df-convert {\n",
              "      background-color: #E8F0FE;\n",
              "      border: none;\n",
              "      border-radius: 50%;\n",
              "      cursor: pointer;\n",
              "      display: none;\n",
              "      fill: #1967D2;\n",
              "      height: 32px;\n",
              "      padding: 0 0 0 0;\n",
              "      width: 32px;\n",
              "    }\n",
              "\n",
              "    .colab-df-convert:hover {\n",
              "      background-color: #E2EBFA;\n",
              "      box-shadow: 0px 1px 2px rgba(60, 64, 67, 0.3), 0px 1px 3px 1px rgba(60, 64, 67, 0.15);\n",
              "      fill: #174EA6;\n",
              "    }\n",
              "\n",
              "    [theme=dark] .colab-df-convert {\n",
              "      background-color: #3B4455;\n",
              "      fill: #D2E3FC;\n",
              "    }\n",
              "\n",
              "    [theme=dark] .colab-df-convert:hover {\n",
              "      background-color: #434B5C;\n",
              "      box-shadow: 0px 1px 3px 1px rgba(0, 0, 0, 0.15);\n",
              "      filter: drop-shadow(0px 1px 2px rgba(0, 0, 0, 0.3));\n",
              "      fill: #FFFFFF;\n",
              "    }\n",
              "  </style>\n",
              "\n",
              "      <script>\n",
              "        const buttonEl =\n",
              "          document.querySelector('#df-54291793-e3be-423a-8ec0-e0b7e0b731ec button.colab-df-convert');\n",
              "        buttonEl.style.display =\n",
              "          google.colab.kernel.accessAllowed ? 'block' : 'none';\n",
              "\n",
              "        async function convertToInteractive(key) {\n",
              "          const element = document.querySelector('#df-54291793-e3be-423a-8ec0-e0b7e0b731ec');\n",
              "          const dataTable =\n",
              "            await google.colab.kernel.invokeFunction('convertToInteractive',\n",
              "                                                     [key], {});\n",
              "          if (!dataTable) return;\n",
              "\n",
              "          const docLinkHtml = 'Like what you see? Visit the ' +\n",
              "            '<a target=\"_blank\" href=https://colab.research.google.com/notebooks/data_table.ipynb>data table notebook</a>'\n",
              "            + ' to learn more about interactive tables.';\n",
              "          element.innerHTML = '';\n",
              "          dataTable['output_type'] = 'display_data';\n",
              "          await google.colab.output.renderOutput(dataTable, element);\n",
              "          const docLink = document.createElement('div');\n",
              "          docLink.innerHTML = docLinkHtml;\n",
              "          element.appendChild(docLink);\n",
              "        }\n",
              "      </script>\n",
              "    </div>\n",
              "  </div>\n",
              "  "
            ]
          },
          "metadata": {},
          "execution_count": 8
        }
      ]
    },
    {
      "cell_type": "markdown",
      "source": [
        "# Questão 1\n"
      ],
      "metadata": {
        "id": "kjuRnqLysRuO"
      }
    },
    {
      "cell_type": "code",
      "source": [
        "types = dataset['nivel_educacao'].unique()\n",
        "counts = []\n",
        "\n",
        "for type in types:\n",
        "  counts.append(len(dataset[dataset['nivel_educacao'] == type]))\n",
        "\n",
        "plt.figure(figsize =(11, 6))\n",
        "plt.bar(types, counts, color = 'orange')\n",
        "plt.ylabel(\"# Quantidades\")\n",
        "plt.xlabel(\"# Níveis educacionais\")\n",
        "plt.title(\"Quantas pessoas de cada nível educacional\")\n",
        "plt.xticks(types,rotation='vertical')\n",
        "plt.subplots_adjust(bottom=0.15)\n",
        "plt.show()"
      ],
      "metadata": {
        "colab": {
          "base_uri": "https://localhost:8080/",
          "height": 455
        },
        "id": "-qZsUshstZg9",
        "outputId": "c7f0022b-73a9-4a42-a10f-a08717d97aca"
      },
      "execution_count": 38,
      "outputs": [
        {
          "output_type": "display_data",
          "data": {
            "text/plain": [
              "<Figure size 792x432 with 1 Axes>"
            ],
            "image/png": "[encoded data removed]"
          },
          "metadata": {
            "needs_background": "light"
          }
        }
      ]
    },
    {
      "cell_type": "markdown",
      "source": [
        "# Questão 2"
      ],
      "metadata": {
        "id": "_VpSm00TsVmJ"
      }
    },
    {
      "cell_type": "code",
      "source": [
        "dataset['Idade'].plot(kind='hist', color='#EF2D56')\n",
        "plt.show()\n",
        "\n",
        "\n",
        "x_axis = np.arange(dataset['Idade'].min(), dataset['Idade'].max(), 0.01) \n",
        "mean = statistics.mean(dataset['Idade']) \n",
        "sd = statistics.stdev(dataset['Idade']) \n",
        "  \n",
        "plt.plot(x_axis, norm.pdf(x_axis, mean, sd)) \n",
        "plt.show() "
      ],
      "metadata": {
        "colab": {
          "base_uri": "https://localhost:8080/",
          "height": 514
        },
        "id": "QBQSC6QwxQjS",
        "outputId": "fe502d58-7856-4b27-c2b3-72aeba3bce85"
      },
      "execution_count": 110,
      "outputs": [
        {
          "output_type": "display_data",
          "data": {
            "text/plain": [
              "<Figure size 432x288 with 1 Axes>"
            ],
            "image/png": "[encoded data removed]"
          },
          "metadata": {
            "needs_background": "light"
          }
        },
        {
          "output_type": "display_data",
          "data": {
            "text/plain": [
              "<Figure size 432x288 with 1 Axes>"
            ],
            "image/png": "[encoded data removed]"
          },
          "metadata": {
            "needs_background": "light"
          }
        }
      ]
    },
    {
      "cell_type": "markdown",
      "source": [
        "A partir dos gráficos podemos perceber que as idades segue uma distribuição normal, já que à esquerda e a direita, há muito pouco desvio da distribuição da amostra"
      ],
      "metadata": {
        "id": "2CSnP4-EC8IB"
      }
    },
    {
      "cell_type": "markdown",
      "source": [
        "# Questão 3"
      ],
      "metadata": {
        "id": "Hf2q90zZsVuy"
      }
    },
    {
      "cell_type": "code",
      "source": [
        "# Quantos desvios da média dos homens\n",
        "\n",
        "zscore = lambda x, mean, n: (x-mean)/n \n",
        "\n",
        "mens_limit = dataset[dataset['Sexo'] == 'M']['limite_credito']\n",
        "\n",
        "print(\"Esta a %f desvios médios dos homens\"%zscore(30000,mens_limit.mean(),len(mens_limit)))"
      ],
      "metadata": {
        "colab": {
          "base_uri": "https://localhost:8080/"
        },
        "id": "_QqhernKy-PE",
        "outputId": "c5cad72f-8831-4471-dc7c-843f6e15949b"
      },
      "execution_count": 60,
      "outputs": [
        {
          "output_type": "stream",
          "name": "stdout",
          "text": [
            "Esta a 3.630599 desvios médios dos homens\n"
          ]
        }
      ]
    },
    {
      "cell_type": "markdown",
      "source": [
        "# Questão 4"
      ],
      "metadata": {
        "id": "p3UiKaM5sV2P"
      }
    },
    {
      "cell_type": "code",
      "source": [
        "categories = dataset['categoria_cartao'].unique()\n",
        "\n",
        "for category in categories:\n",
        "  mean_categories = dataset[dataset['categoria_cartao'] == category]['limite_credito'].mean(axis=0)                                             \n",
        "\n",
        "  std_categories = np.std(dataset[dataset['categoria_cartao'] == category]['limite_credito'])                                          \n",
        "  confidence_interval = scipy.stats.norm.interval(0.95, loc=mean_categories, scale=std_categories) \n",
        "  print(\"Categoria = %s, Intervalo de confiança = (%f - %f)\" %(category,confidence_interval[0],confidence_interval[1]))"
      ],
      "metadata": {
        "colab": {
          "base_uri": "https://localhost:8080/"
        },
        "id": "bWhXM2e_-ciF",
        "outputId": "8798ad54-986f-4820-8f8e-3e448e2d8bc9"
      },
      "execution_count": 105,
      "outputs": [
        {
          "output_type": "stream",
          "name": "stdout",
          "text": [
            "Categoria = Blue, Intervalo de confiança = (-7617.879236 - 22345.439240)\n",
            "Categoria = Gold, Intervalo de confiança = (11489.256246 - 45343.485133)\n",
            "Categoria = Silver, Intervalo de confiança = (6375.716189 - 44179.955883)\n",
            "Categoria = Platinum, Intervalo de confiança = (15577.240603 - 44989.659397)\n"
          ]
        }
      ]
    },
    {
      "cell_type": "markdown",
      "source": [
        "# Questão 5\n",
        "\n",
        "A média dos limite  de crédito dos homens é igual à media dos limite  de crédito das mulheres\n",
        "\n",
        "* Hipótese nula: não é igual"
      ],
      "metadata": {
        "id": "GIPv-abIsWPS"
      }
    },
    {
      "cell_type": "code",
      "source": [
        "''' \n",
        "- Se p > 0.05 aceita-se a hipótese nula\n",
        "- Se p <= 0.05 rejeita-se a hipótese nula\n",
        "'''\n",
        "\n",
        "limit_woman = dataset[dataset['Sexo'] == 'F']['limite_credito']\n",
        "limit_mens = dataset[dataset['Sexo'] == 'M']['limite_credito']\n",
        "\n",
        "A = np.random.normal(limit_woman.mean(), limit_woman.std(), len(limit_woman))\n",
        "B = np.random.normal(limit_mens.mean(), limit_mens.std(), len(limit_mens))\n",
        "\n",
        "pvalue = ttest_ind(A,B).pvalue\n",
        "\n",
        "print(f\"P-valor: {pvalue}\")\n",
        "print(\"Aceita-se a hipótese nula\") if (pvalue > (0.05)) else print(\"Rejeita-se a hipótese nula\")"
      ],
      "metadata": {
        "colab": {
          "base_uri": "https://localhost:8080/"
        },
        "id": "FUtFCSJ-3M5S",
        "outputId": "a36e0731-2061-48af-914a-17d037440e16"
      },
      "execution_count": 85,
      "outputs": [
        {
          "output_type": "stream",
          "name": "stdout",
          "text": [
            "P-valor: 0.0\n",
            "Rejeita-se a hipótese nula\n"
          ]
        }
      ]
    },
    {
      "cell_type": "markdown",
      "source": [
        "Já que rejeita-se a hipótese nula, podemos afirmar que não possuem médias iguais"
      ],
      "metadata": {
        "id": "xiXdpqZW7Eg4"
      }
    },
    {
      "cell_type": "markdown",
      "source": [
        "# Questão 6"
      ],
      "metadata": {
        "id": "38t0QcYasWbf"
      }
    },
    {
      "cell_type": "code",
      "source": [
        "dataset_group_per_lim_and_education = dataset.groupby('nivel_educacao')['limite_credito'].sum().sort_values(ascending=False)\n",
        "\n",
        "plt.figure(figsize =(11, 7))\n",
        "plt.boxplot(dataset_group_per_lim_and_education ,vert = 0)\n",
        "plt.xticks(dataset_group_per_lim_and_education ,rotation=\"vertical\")\n",
        "plt.xlabel(\"# Quantidades \")\n",
        "plt.title(\"Limite de crédito agrupado por nível de educação\")\n",
        "plt.show()"
      ],
      "metadata": {
        "colab": {
          "base_uri": "https://localhost:8080/",
          "height": 477
        },
        "id": "y2IqH3ma01qk",
        "outputId": "ce70c574-2f31-4eb9-f7fc-58d04c485a35"
      },
      "execution_count": 72,
      "outputs": [
        {
          "output_type": "display_data",
          "data": {
            "text/plain": [
              "<Figure size 792x504 with 1 Axes>"
            ],
            "image/png": "[encoded data removed]"
          },
          "metadata": {
            "needs_background": "light"
          }
        }
      ]
    },
    {
      "cell_type": "markdown",
      "source": [
        "# Questão 7"
      ],
      "metadata": {
        "id": "_jQrxp5gsl_m"
      }
    },
    {
      "cell_type": "code",
      "source": [
        "colors = {\n",
        "    'M': '#0FA3B1',\n",
        "    'F': '#FFC0CB'\n",
        "}\n",
        "\n",
        "fig, ax = plt.subplots()\n",
        "data = list(map(lambda k: (k, dataset[dataset['Sexo'] == k]), colors.keys()))\n",
        "[ax.scatter(x=d['Idade'], y=d['meses_contrato'], c=colors[k], label=k) for (k, d) in data]\n",
        "plt.ylabel('Meses de Contrato')\n",
        "plt.xlabel('Idade')\n",
        "ax.legend() # Habilita a legenda das cores\n",
        "plt.show()"
      ],
      "metadata": {
        "colab": {
          "base_uri": "https://localhost:8080/",
          "height": 279
        },
        "id": "zfgLlr5A8DNz",
        "outputId": "61a02973-e9a7-4498-86e2-3d49a5849374"
      },
      "execution_count": 89,
      "outputs": [
        {
          "output_type": "display_data",
          "data": {
            "text/plain": [
              "<Figure size 432x288 with 1 Axes>"
            ],
            "image/png": "[encoded data removed]"
          },
          "metadata": {
            "needs_background": "light"
          }
        }
      ]
    },
    {
      "cell_type": "code",
      "source": [
        "%%capture\n",
        "!wget -nc https://raw.githubusercontent.com/brpy/colab-pdf/master/colab_pdf.py\n",
        "from colab_pdf import colab_pdf\n",
        "colab_pdf('prova-1.ipynb')"
      ],
      "metadata": {
        "id": "cNDBJWpjAqJT"
      },
      "execution_count": 113,
      "outputs": []
    }
  ]
}