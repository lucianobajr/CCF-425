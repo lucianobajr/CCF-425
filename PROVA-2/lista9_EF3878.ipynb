{
  "cells": [
    {
      "cell_type": "markdown",
      "metadata": {
        "id": "Hcce9Ipc7sEY"
      },
      "source": [
        "> Introdução à Ciência dos Dados \\\n",
        "> Ciência da Computação – UFV/Florestal\n",
        "\n",
        "\n",
        "* **Nome:** Pedro Augusto Maia Silva\n",
        "* **Matrícula:**  EF03878\n",
        "\n",
        "# Aula Prática 09\n",
        "## Aprendizado Supervisionado\n",
        "**Objetivo:** Utilizar a biblioteca scikit-learn para treinar e testar modelos de aprendizado supervisionado \\\\\n",
        "**Pré-requisitos:** Linguagem de programação Python, Linux, estatística \\\\\n",
        "**Meta**: Ao final da prática, o aluno será capaz de preparar dados e criar modelos de classificação"
      ]
    },
    {
      "cell_type": "code",
      "execution_count": 1,
      "metadata": {
        "colab": {
          "base_uri": "https://localhost:8080/"
        },
        "id": "PKNLonRQ7sEd",
        "outputId": "cb6a426f-dfa1-4c6e-9555-84fe4eba36eb"
      },
      "outputs": [
        {
          "output_type": "stream",
          "name": "stdout",
          "text": [
            "Looking in indexes: https://pypi.org/simple, https://us-python.pkg.dev/colab-wheels/public/simple/\n",
            "Collecting learntools_dados_ufv\n",
            "  Downloading learntools_dados_ufv-1.0.9.tar.gz (28 kB)\n",
            "Building wheels for collected packages: learntools-dados-ufv\n",
            "  Building wheel for learntools-dados-ufv (setup.py) ... \u001b[?25l\u001b[?25hdone\n",
            "  Created wheel for learntools-dados-ufv: filename=learntools_dados_ufv-1.0.9-py3-none-any.whl size=35978 sha256=858d7b3b883a58761df993f39ea6508e6083b3858282b28bd317fd05a11bc170\n",
            "  Stored in directory: /tmp/pip-ephem-wheel-cache-gye7cyv8/wheels/98/7e/ce/0e4d187f24e2a29c7a8e322da422ebb5582d67363b0fdca411\n",
            "Successfully built learntools-dados-ufv\n",
            "Installing collected packages: learntools-dados-ufv\n",
            "Successfully installed learntools-dados-ufv-1.0.9\n",
            "--2022-07-17 16:17:49--  https://raw.githubusercontent.com/gfviegas/CCF425-resources/master/p9/weatherHistory.csv\n",
            "Resolving raw.githubusercontent.com (raw.githubusercontent.com)... 185.199.111.133, 185.199.109.133, 185.199.108.133, ...\n",
            "Connecting to raw.githubusercontent.com (raw.githubusercontent.com)|185.199.111.133|:443... connected.\n",
            "HTTP request sent, awaiting response... 200 OK\n",
            "Length: 16294377 (16M) [text/plain]\n",
            "Saving to: ‘weatherHistory.csv’\n",
            "\n",
            "weatherHistory.csv  100%[===================>]  15.54M  --.-KB/s    in 0.1s    \n",
            "\n",
            "2022-07-17 16:17:49 (140 MB/s) - ‘weatherHistory.csv’ saved [16294377/16294377]\n",
            "\n"
          ]
        }
      ],
      "source": [
        "### NÃO REMOVA ESSA CÉLULA! ####\n",
        "!pip --no-cache-dir install --upgrade learntools_dados_ufv\n",
        "\n",
        "!wget https://raw.githubusercontent.com/gfviegas/CCF425-resources/master/p9/weatherHistory.csv"
      ]
    },
    {
      "cell_type": "code",
      "execution_count": 2,
      "metadata": {
        "colab": {
          "base_uri": "https://localhost:8080/"
        },
        "id": "mOre4hMR7sEe",
        "outputId": "a331b8d6-c1a7-42ed-ea41-68b0c45e5935"
      },
      "outputs": [
        {
          "output_type": "stream",
          "name": "stdout",
          "text": [
            "Setup complete.\n"
          ]
        }
      ],
      "source": [
        "import pandas as pd\n",
        "import numpy as np\n",
        "\n",
        "from sklearn import datasets\n",
        "from sklearn.model_selection import train_test_split\n",
        "\n",
        "import matplotlib.pyplot as plt\n",
        "import seaborn as sns\n",
        "\n",
        "from learntools_dados_ufv.core import binder; binder.bind(globals())\n",
        "from learntools_dados_ufv.ccf425.pratica_9 import *\n",
        "\n",
        "print(\"Setup complete.\")"
      ]
    },
    {
      "cell_type": "markdown",
      "metadata": {
        "id": "M5i9XX-w7sEg"
      },
      "source": [
        "------\n",
        "## Roteiro"
      ]
    },
    {
      "cell_type": "markdown",
      "metadata": {
        "id": "gHlRs1lu7sEi"
      },
      "source": [
        "### Ler o conjunto de dados\n",
        "O conjunto de dados que iremos utilizar é o **iris dataset**, que é um dataset clássico no treinamento em Inteligência Artificial. Os dados estão disponíveis diretamente na biblioteca `scikit-learn`."
      ]
    },
    {
      "cell_type": "code",
      "execution_count": 3,
      "metadata": {
        "id": "Vt5q8Pt47sEj"
      },
      "outputs": [],
      "source": [
        "iris = datasets.load_iris()\n",
        "\n",
        "iris_df = pd.DataFrame(np.c_[iris['data'], iris['target']], columns=np.append(iris['feature_names'], ['target']))\n",
        "\n",
        "# Converte a coluna target para int\n",
        "iris_df['target'] = iris_df['target'].astype('int64')"
      ]
    },
    {
      "cell_type": "markdown",
      "metadata": {
        "id": "x02oIsNZ7sEk"
      },
      "source": [
        "### Visualizar os dados"
      ]
    },
    {
      "cell_type": "code",
      "execution_count": 4,
      "metadata": {
        "id": "B7ZCk1vJ7sEn",
        "outputId": "c3c21444-e083-401a-e3cd-d2366a66bb7f",
        "colab": {
          "base_uri": "https://localhost:8080/",
          "height": 724
        }
      },
      "outputs": [
        {
          "output_type": "display_data",
          "data": {
            "text/plain": [
              "<Figure size 766.6x720 with 20 Axes>"
            ],
            "image/png": "[encoded data removed]"
          },
          "metadata": {}
        }
      ],
      "source": [
        "sns.set(style='ticks')\n",
        "sns.pairplot(iris_df, hue='target')\n",
        "plt.show()"
      ]
    },
    {
      "cell_type": "markdown",
      "metadata": {
        "id": "FIZwGkip7sEo"
      },
      "source": [
        "### Separar o conjunto de dados em treinamento e testes"
      ]
    },
    {
      "cell_type": "code",
      "execution_count": 5,
      "metadata": {
        "id": "09Om5ZK27sEp"
      },
      "outputs": [],
      "source": [
        "iris_df_X = iris_df[['sepal length (cm)', 'sepal width (cm)', 'petal length (cm)', 'petal width (cm)']]\n",
        "iris_df_Y = iris_df['target']\n",
        "\n",
        "X_train, X_test, Y_train, Y_test = train_test_split(\n",
        "    iris_df[['sepal length (cm)', 'sepal width (cm)', 'petal length (cm)', 'petal width (cm)']],\n",
        "    iris_df['target'],\n",
        "    test_size=0.2,\n",
        "    random_state=0\n",
        ")"
      ]
    },
    {
      "cell_type": "markdown",
      "metadata": {
        "id": "zABZqCKW7sEq"
      },
      "source": [
        "### Aplicar o KNN para treinar um modelo\n",
        "\n",
        "Além disso, classificar os exemplos de testes"
      ]
    },
    {
      "cell_type": "code",
      "execution_count": 6,
      "metadata": {
        "id": "SKe26M7v7sEq",
        "outputId": "03274d83-5f46-4d1f-9f56-9358e6cf15b6",
        "colab": {
          "base_uri": "https://localhost:8080/"
        }
      },
      "outputs": [
        {
          "output_type": "stream",
          "name": "stdout",
          "text": [
            "Acurácia: 96.67%\n"
          ]
        }
      ],
      "source": [
        "from sklearn.neighbors import KNeighborsClassifier\n",
        "\n",
        "knn = KNeighborsClassifier()\n",
        "knn.fit(X_train, Y_train)\n",
        "\n",
        "knn_Y_predicted = knn.predict(X_test)\n",
        "knn_accuracy = np.sum(knn_Y_predicted == Y_test) / len(Y_test)\n",
        "\n",
        "print('Acurácia: {:.2f}%'.format(100 * knn_accuracy))"
      ]
    },
    {
      "cell_type": "markdown",
      "metadata": {
        "id": "04uPJRTf7sEr"
      },
      "source": [
        "### Aplicar o SVM para treinar um modelo\n",
        "\n",
        "... e classificar os exemplos de testes..."
      ]
    },
    {
      "cell_type": "code",
      "execution_count": 7,
      "metadata": {
        "id": "BnKMCbkb7sEr",
        "outputId": "450fb362-005b-4550-b819-cc6c7b622cdb",
        "colab": {
          "base_uri": "https://localhost:8080/"
        }
      },
      "outputs": [
        {
          "output_type": "stream",
          "name": "stdout",
          "text": [
            "Acurácia: 100.00%\n"
          ]
        }
      ],
      "source": [
        "from sklearn import svm\n",
        "\n",
        "svm = svm.SVC(kernel='linear', probability=True)\n",
        "svm.fit(X_train, Y_train)\n",
        "\n",
        "svm_Y_predicted = svm.predict(X_test)\n",
        "svm_accuracy = np.sum(svm_Y_predicted == Y_test) / len(Y_test)\n",
        "\n",
        "print('Acurácia: {:.2f}%'.format(100 * svm_accuracy))"
      ]
    },
    {
      "cell_type": "markdown",
      "metadata": {
        "id": "a2aOZhuW7sEt"
      },
      "source": [
        "#### Calcular a precisão e revogação..."
      ]
    },
    {
      "cell_type": "code",
      "execution_count": 8,
      "metadata": {
        "id": "4PozrIRo7sEt",
        "outputId": "5796cbd3-e557-4fef-e79f-9a886c1bbecf",
        "colab": {
          "base_uri": "https://localhost:8080/"
        }
      },
      "outputs": [
        {
          "output_type": "stream",
          "name": "stdout",
          "text": [
            "KNN (precisão, revogação, fscore)\n"
          ]
        },
        {
          "output_type": "execute_result",
          "data": {
            "text/plain": [
              "(array([1.        , 1.        , 0.85714286]),\n",
              " array([1.        , 0.92307692, 1.        ]),\n",
              " array([1.        , 0.96      , 0.92307692]),\n",
              " array([11, 13,  6]))"
            ]
          },
          "metadata": {},
          "execution_count": 8
        }
      ],
      "source": [
        "from sklearn.metrics import precision_recall_fscore_support\n",
        "\n",
        "print(\"KNN (precisão, revogação, fscore)\")\n",
        "precision_recall_fscore_support(Y_test, knn_Y_predicted, average=None)"
      ]
    },
    {
      "cell_type": "code",
      "execution_count": 9,
      "metadata": {
        "id": "HQEqEWTm7sEu",
        "outputId": "3b6451fe-e995-4e90-c383-2f18fdb13230",
        "colab": {
          "base_uri": "https://localhost:8080/"
        }
      },
      "outputs": [
        {
          "output_type": "stream",
          "name": "stdout",
          "text": [
            "SVM (precisão, revogação, fscore)\n"
          ]
        },
        {
          "output_type": "execute_result",
          "data": {
            "text/plain": [
              "(array([1., 1., 1.]),\n",
              " array([1., 1., 1.]),\n",
              " array([1., 1., 1.]),\n",
              " array([11, 13,  6]))"
            ]
          },
          "metadata": {},
          "execution_count": 9
        }
      ],
      "source": [
        "print(\"SVM (precisão, revogação, fscore)\")\n",
        "precision_recall_fscore_support(Y_test, svm_Y_predicted, average=None)"
      ]
    },
    {
      "cell_type": "markdown",
      "metadata": {
        "id": "GBIePn6Y7sEu"
      },
      "source": [
        "#### Calcular a Validação Cruzada..."
      ]
    },
    {
      "cell_type": "code",
      "execution_count": 10,
      "metadata": {
        "id": "OKr4qtHr7sEv",
        "outputId": "01ce80e1-b80c-4b36-a942-dc4ef5a4f202",
        "colab": {
          "base_uri": "https://localhost:8080/"
        }
      },
      "outputs": [
        {
          "output_type": "stream",
          "name": "stdout",
          "text": [
            "Acurácia KNN: 0.97 (± 0.05)\n",
            "Acurácia SVM: 0.98 (± 0.03)\n"
          ]
        }
      ],
      "source": [
        "from sklearn.model_selection import cross_val_score\n",
        "\n",
        "\n",
        "scores_knn = cross_val_score(knn, iris_df_X, iris_df_Y, cv=5)\n",
        "print('Acurácia KNN: {:.2f} (± {:.2f})'.format(scores_knn.mean(), scores_knn.std() * 2))\n",
        "\n",
        "scores_svm = cross_val_score(svm, iris_df_X, iris_df_Y, cv=5)\n",
        "print('Acurácia SVM: {:.2f} (± {:.2f})'.format(scores_svm.mean(), scores_svm.std() * 2))"
      ]
    },
    {
      "cell_type": "markdown",
      "metadata": {
        "id": "E2wcEpTn7sEv"
      },
      "source": [
        "----\n",
        "# Atividades\n",
        "\n",
        "Utilizar o conjunto de dados weatherHistory.csv, que contém o histórico de variáveis relacionadas ao clima da cidade de Szede, Hungria, entre 2006 e 2016.\n",
        "\n",
        "Utilize técnicas de aprendizado de máquina supervisionado para criar modelos para prever o tipo de precipitação (Precip Type) de acordo com outras variáveis. Teste pelo menos três algoritmos e responda:"
      ]
    },
    {
      "cell_type": "markdown",
      "metadata": {
        "id": "7d4ZrEt07sEw"
      },
      "source": [
        "## 1. Leia o arquivo `weatherHistory.csv`\n",
        "Armazene-os nas variável `df`. \n",
        "\n",
        "Chame a função `q1.check()` no fim da célula para verificar a resposta.\n",
        "Você pode pedir dicas com `q1.hint()`"
      ]
    },
    {
      "cell_type": "code",
      "execution_count": 11,
      "metadata": {
        "colab": {
          "base_uri": "https://localhost:8080/",
          "height": 46
        },
        "id": "g9Lyx5XM7sEw",
        "outputId": "1ba8e264-aea9-4552-f9f2-6c8a5882ea5c"
      },
      "outputs": [
        {
          "output_type": "display_data",
          "data": {
            "text/plain": [
              "<IPython.core.display.Javascript object>"
            ],
            "application/javascript": [
              "parent.postMessage({\"jupyterEvent\": \"custom.exercise_interaction\", \"data\": {\"outcomeType\": 1, \"valueTowardsCompletion\": 0.125, \"interactionType\": 1, \"questionType\": 2, \"questionId\": \"1_Q1\", \"learnToolsVersion\": \"1.0.9\", \"failureMessage\": \"\", \"exceptionClass\": \"\", \"trace\": \"\"}}, \"*\")"
            ]
          },
          "metadata": {}
        },
        {
          "output_type": "display_data",
          "data": {
            "text/plain": [
              "CORRETO: \n"
            ],
            "text/markdown": "<span style=\"color:#33cc33\">CORRETO:</span> \n\n"
          },
          "metadata": {}
        }
      ],
      "source": [
        "# q1.hint()\n",
        "\n",
        "df = pd.read_csv(\"/content/weatherHistory.csv\")\n",
        "\n",
        "q1.check()"
      ]
    },
    {
      "cell_type": "markdown",
      "metadata": {
        "id": "_koLVzwm7sEx"
      },
      "source": [
        "## 2. Divida o conjunto de treinamento (70% das instâncias) e de teste (30% das instâncias)\n",
        "\n",
        "Utilize uma amostragem aleatória (pesquise um parâmetro que realize isso).\n",
        "\n",
        "Armazene os dados nas seguintes variáveis:\n",
        "- `X_train` - Conjunto de atributos de entrada para treinamento\n",
        "- `Y_train` - Conjunto de saída para treinamento\n",
        "- `X_test` - Conjunto de atributos de entrada para teste\n",
        "- `Y_test` - Conjunto de saída para teste\n",
        "\n",
        "Chame a função `q2.check()` no fim da célula para verificar a resposta.\n",
        "Você pode pedir dicas com `q2.hint()`"
      ]
    },
    {
      "cell_type": "code",
      "execution_count": 12,
      "metadata": {
        "colab": {
          "base_uri": "https://localhost:8080/",
          "height": 850
        },
        "id": "7WnJghnMiCGK",
        "outputId": "46b01902-6d2c-4785-ae26-b7929dd6413a"
      },
      "outputs": [
        {
          "output_type": "execute_result",
          "data": {
            "text/plain": [
              "                      Formatted Date        Summary Precip Type  \\\n",
              "0      2006-04-01 00:00:00.000 +0200  Partly Cloudy        rain   \n",
              "1      2006-04-01 01:00:00.000 +0200  Partly Cloudy        rain   \n",
              "2      2006-04-01 02:00:00.000 +0200  Mostly Cloudy        rain   \n",
              "3      2006-04-01 03:00:00.000 +0200  Partly Cloudy        rain   \n",
              "4      2006-04-01 04:00:00.000 +0200  Mostly Cloudy        rain   \n",
              "...                              ...            ...         ...   \n",
              "96448  2016-09-09 19:00:00.000 +0200  Partly Cloudy        rain   \n",
              "96449  2016-09-09 20:00:00.000 +0200  Partly Cloudy        rain   \n",
              "96450  2016-09-09 21:00:00.000 +0200  Partly Cloudy        rain   \n",
              "96451  2016-09-09 22:00:00.000 +0200  Partly Cloudy        rain   \n",
              "96452  2016-09-09 23:00:00.000 +0200  Partly Cloudy        rain   \n",
              "\n",
              "       Temperature (C)  Apparent Temperature (C)  Humidity  Wind Speed (km/h)  \\\n",
              "0             9.472222                  7.388889      0.89            14.1197   \n",
              "1             9.355556                  7.227778      0.86            14.2646   \n",
              "2             9.377778                  9.377778      0.89             3.9284   \n",
              "3             8.288889                  5.944444      0.83            14.1036   \n",
              "4             8.755556                  6.977778      0.83            11.0446   \n",
              "...                ...                       ...       ...                ...   \n",
              "96448        26.016667                 26.016667      0.43            10.9963   \n",
              "96449        24.583333                 24.583333      0.48            10.0947   \n",
              "96450        22.038889                 22.038889      0.56             8.9838   \n",
              "96451        21.522222                 21.522222      0.60            10.5294   \n",
              "96452        20.438889                 20.438889      0.61             5.8765   \n",
              "\n",
              "       Wind Bearing (degrees)  Visibility (km)  Loud Cover  \\\n",
              "0                       251.0          15.8263         0.0   \n",
              "1                       259.0          15.8263         0.0   \n",
              "2                       204.0          14.9569         0.0   \n",
              "3                       269.0          15.8263         0.0   \n",
              "4                       259.0          15.8263         0.0   \n",
              "...                       ...              ...         ...   \n",
              "96448                    31.0          16.1000         0.0   \n",
              "96449                    20.0          15.5526         0.0   \n",
              "96450                    30.0          16.1000         0.0   \n",
              "96451                    20.0          16.1000         0.0   \n",
              "96452                    39.0          15.5204         0.0   \n",
              "\n",
              "       Pressure (millibars)                           Daily Summary  \n",
              "0                   1015.13       Partly cloudy throughout the day.  \n",
              "1                   1015.63       Partly cloudy throughout the day.  \n",
              "2                   1015.94       Partly cloudy throughout the day.  \n",
              "3                   1016.41       Partly cloudy throughout the day.  \n",
              "4                   1016.51       Partly cloudy throughout the day.  \n",
              "...                     ...                                     ...  \n",
              "96448               1014.36  Partly cloudy starting in the morning.  \n",
              "96449               1015.16  Partly cloudy starting in the morning.  \n",
              "96450               1015.66  Partly cloudy starting in the morning.  \n",
              "96451               1015.95  Partly cloudy starting in the morning.  \n",
              "96452               1016.16  Partly cloudy starting in the morning.  \n",
              "\n",
              "[96453 rows x 12 columns]"
            ],
            "text/html": [
              "\n",
              "  <div id=\"df-7e7073d6-d515-4e60-92ce-6cba294b7ff0\">\n",
              "    <div class=\"colab-df-container\">\n",
              "      <div>\n",
              "<style scoped>\n",
              "    .dataframe tbody tr th:only-of-type {\n",
              "        vertical-align: middle;\n",
              "    }\n",
              "\n",
              "    .dataframe tbody tr th {\n",
              "        vertical-align: top;\n",
              "    }\n",
              "\n",
              "    .dataframe thead th {\n",
              "        text-align: right;\n",
              "    }\n",
              "</style>\n",
              "<table border=\"1\" class=\"dataframe\">\n",
              "  <thead>\n",
              "    <tr style=\"text-align: right;\">\n",
              "      <th></th>\n",
              "      <th>Formatted Date</th>\n",
              "      <th>Summary</th>\n",
              "      <th>Precip Type</th>\n",
              "      <th>Temperature (C)</th>\n",
              "      <th>Apparent Temperature (C)</th>\n",
              "      <th>Humidity</th>\n",
              "      <th>Wind Speed (km/h)</th>\n",
              "      <th>Wind Bearing (degrees)</th>\n",
              "      <th>Visibility (km)</th>\n",
              "      <th>Loud Cover</th>\n",
              "      <th>Pressure (millibars)</th>\n",
              "      <th>Daily Summary</th>\n",
              "    </tr>\n",
              "  </thead>\n",
              "  <tbody>\n",
              "    <tr>\n",
              "      <th>0</th>\n",
              "      <td>2006-04-01 00:00:00.000 +0200</td>\n",
              "      <td>Partly Cloudy</td>\n",
              "      <td>rain</td>\n",
              "      <td>9.472222</td>\n",
              "      <td>7.388889</td>\n",
              "      <td>0.89</td>\n",
              "      <td>14.1197</td>\n",
              "      <td>251.0</td>\n",
              "      <td>15.8263</td>\n",
              "      <td>0.0</td>\n",
              "      <td>1015.13</td>\n",
              "      <td>Partly cloudy throughout the day.</td>\n",
              "    </tr>\n",
              "    <tr>\n",
              "      <th>1</th>\n",
              "      <td>2006-04-01 01:00:00.000 +0200</td>\n",
              "      <td>Partly Cloudy</td>\n",
              "      <td>rain</td>\n",
              "      <td>9.355556</td>\n",
              "      <td>7.227778</td>\n",
              "      <td>0.86</td>\n",
              "      <td>14.2646</td>\n",
              "      <td>259.0</td>\n",
              "      <td>15.8263</td>\n",
              "      <td>0.0</td>\n",
              "      <td>1015.63</td>\n",
              "      <td>Partly cloudy throughout the day.</td>\n",
              "    </tr>\n",
              "    <tr>\n",
              "      <th>2</th>\n",
              "      <td>2006-04-01 02:00:00.000 +0200</td>\n",
              "      <td>Mostly Cloudy</td>\n",
              "      <td>rain</td>\n",
              "      <td>9.377778</td>\n",
              "      <td>9.377778</td>\n",
              "      <td>0.89</td>\n",
              "      <td>3.9284</td>\n",
              "      <td>204.0</td>\n",
              "      <td>14.9569</td>\n",
              "      <td>0.0</td>\n",
              "      <td>1015.94</td>\n",
              "      <td>Partly cloudy throughout the day.</td>\n",
              "    </tr>\n",
              "    <tr>\n",
              "      <th>3</th>\n",
              "      <td>2006-04-01 03:00:00.000 +0200</td>\n",
              "      <td>Partly Cloudy</td>\n",
              "      <td>rain</td>\n",
              "      <td>8.288889</td>\n",
              "      <td>5.944444</td>\n",
              "      <td>0.83</td>\n",
              "      <td>14.1036</td>\n",
              "      <td>269.0</td>\n",
              "      <td>15.8263</td>\n",
              "      <td>0.0</td>\n",
              "      <td>1016.41</td>\n",
              "      <td>Partly cloudy throughout the day.</td>\n",
              "    </tr>\n",
              "    <tr>\n",
              "      <th>4</th>\n",
              "      <td>2006-04-01 04:00:00.000 +0200</td>\n",
              "      <td>Mostly Cloudy</td>\n",
              "      <td>rain</td>\n",
              "      <td>8.755556</td>\n",
              "      <td>6.977778</td>\n",
              "      <td>0.83</td>\n",
              "      <td>11.0446</td>\n",
              "      <td>259.0</td>\n",
              "      <td>15.8263</td>\n",
              "      <td>0.0</td>\n",
              "      <td>1016.51</td>\n",
              "      <td>Partly cloudy throughout the day.</td>\n",
              "    </tr>\n",
              "    <tr>\n",
              "      <th>...</th>\n",
              "      <td>...</td>\n",
              "      <td>...</td>\n",
              "      <td>...</td>\n",
              "      <td>...</td>\n",
              "      <td>...</td>\n",
              "      <td>...</td>\n",
              "      <td>...</td>\n",
              "      <td>...</td>\n",
              "      <td>...</td>\n",
              "      <td>...</td>\n",
              "      <td>...</td>\n",
              "      <td>...</td>\n",
              "    </tr>\n",
              "    <tr>\n",
              "      <th>96448</th>\n",
              "      <td>2016-09-09 19:00:00.000 +0200</td>\n",
              "      <td>Partly Cloudy</td>\n",
              "      <td>rain</td>\n",
              "      <td>26.016667</td>\n",
              "      <td>26.016667</td>\n",
              "      <td>0.43</td>\n",
              "      <td>10.9963</td>\n",
              "      <td>31.0</td>\n",
              "      <td>16.1000</td>\n",
              "      <td>0.0</td>\n",
              "      <td>1014.36</td>\n",
              "      <td>Partly cloudy starting in the morning.</td>\n",
              "    </tr>\n",
              "    <tr>\n",
              "      <th>96449</th>\n",
              "      <td>2016-09-09 20:00:00.000 +0200</td>\n",
              "      <td>Partly Cloudy</td>\n",
              "      <td>rain</td>\n",
              "      <td>24.583333</td>\n",
              "      <td>24.583333</td>\n",
              "      <td>0.48</td>\n",
              "      <td>10.0947</td>\n",
              "      <td>20.0</td>\n",
              "      <td>15.5526</td>\n",
              "      <td>0.0</td>\n",
              "      <td>1015.16</td>\n",
              "      <td>Partly cloudy starting in the morning.</td>\n",
              "    </tr>\n",
              "    <tr>\n",
              "      <th>96450</th>\n",
              "      <td>2016-09-09 21:00:00.000 +0200</td>\n",
              "      <td>Partly Cloudy</td>\n",
              "      <td>rain</td>\n",
              "      <td>22.038889</td>\n",
              "      <td>22.038889</td>\n",
              "      <td>0.56</td>\n",
              "      <td>8.9838</td>\n",
              "      <td>30.0</td>\n",
              "      <td>16.1000</td>\n",
              "      <td>0.0</td>\n",
              "      <td>1015.66</td>\n",
              "      <td>Partly cloudy starting in the morning.</td>\n",
              "    </tr>\n",
              "    <tr>\n",
              "      <th>96451</th>\n",
              "      <td>2016-09-09 22:00:00.000 +0200</td>\n",
              "      <td>Partly Cloudy</td>\n",
              "      <td>rain</td>\n",
              "      <td>21.522222</td>\n",
              "      <td>21.522222</td>\n",
              "      <td>0.60</td>\n",
              "      <td>10.5294</td>\n",
              "      <td>20.0</td>\n",
              "      <td>16.1000</td>\n",
              "      <td>0.0</td>\n",
              "      <td>1015.95</td>\n",
              "      <td>Partly cloudy starting in the morning.</td>\n",
              "    </tr>\n",
              "    <tr>\n",
              "      <th>96452</th>\n",
              "      <td>2016-09-09 23:00:00.000 +0200</td>\n",
              "      <td>Partly Cloudy</td>\n",
              "      <td>rain</td>\n",
              "      <td>20.438889</td>\n",
              "      <td>20.438889</td>\n",
              "      <td>0.61</td>\n",
              "      <td>5.8765</td>\n",
              "      <td>39.0</td>\n",
              "      <td>15.5204</td>\n",
              "      <td>0.0</td>\n",
              "      <td>1016.16</td>\n",
              "      <td>Partly cloudy starting in the morning.</td>\n",
              "    </tr>\n",
              "  </tbody>\n",
              "</table>\n",
              "<p>96453 rows × 12 columns</p>\n",
              "</div>\n",
              "      <button class=\"colab-df-convert\" onclick=\"convertToInteractive('df-7e7073d6-d515-4e60-92ce-6cba294b7ff0')\"\n",
              "              title=\"Convert this dataframe to an interactive table.\"\n",
              "              style=\"display:none;\">\n",
              "        \n",
              "  <svg xmlns=\"http://www.w3.org/2000/svg\" height=\"24px\"viewBox=\"0 0 24 24\"\n",
              "       width=\"24px\">\n",
              "    <path d=\"M0 0h24v24H0V0z\" fill=\"none\"/>\n",
              "    <path d=\"M18.56 5.44l.94 2.06.94-2.06 2.06-.94-2.06-.94-.94-2.06-.94 2.06-2.06.94zm-11 1L8.5 8.5l.94-2.06 2.06-.94-2.06-.94L8.5 2.5l-.94 2.06-2.06.94zm10 10l.94 2.06.94-2.06 2.06-.94-2.06-.94-.94-2.06-.94 2.06-2.06.94z\"/><path d=\"M17.41 7.96l-1.37-1.37c-.4-.4-.92-.59-1.43-.59-.52 0-1.04.2-1.43.59L10.3 9.45l-7.72 7.72c-.78.78-.78 2.05 0 2.83L4 21.41c.39.39.9.59 1.41.59.51 0 1.02-.2 1.41-.59l7.78-7.78 2.81-2.81c.8-.78.8-2.07 0-2.86zM5.41 20L4 18.59l7.72-7.72 1.47 1.35L5.41 20z\"/>\n",
              "  </svg>\n",
              "      </button>\n",
              "      \n",
              "  <style>\n",
              "    .colab-df-container {\n",
              "      display:flex;\n",
              "      flex-wrap:wrap;\n",
              "      gap: 12px;\n",
              "    }\n",
              "\n",
              "    .colab-df-convert {\n",
              "      background-color: #E8F0FE;\n",
              "      border: none;\n",
              "      border-radius: 50%;\n",
              "      cursor: pointer;\n",
              "      display: none;\n",
              "      fill: #1967D2;\n",
              "      height: 32px;\n",
              "      padding: 0 0 0 0;\n",
              "      width: 32px;\n",
              "    }\n",
              "\n",
              "    .colab-df-convert:hover {\n",
              "      background-color: #E2EBFA;\n",
              "      box-shadow: 0px 1px 2px rgba(60, 64, 67, 0.3), 0px 1px 3px 1px rgba(60, 64, 67, 0.15);\n",
              "      fill: #174EA6;\n",
              "    }\n",
              "\n",
              "    [theme=dark] .colab-df-convert {\n",
              "      background-color: #3B4455;\n",
              "      fill: #D2E3FC;\n",
              "    }\n",
              "\n",
              "    [theme=dark] .colab-df-convert:hover {\n",
              "      background-color: #434B5C;\n",
              "      box-shadow: 0px 1px 3px 1px rgba(0, 0, 0, 0.15);\n",
              "      filter: drop-shadow(0px 1px 2px rgba(0, 0, 0, 0.3));\n",
              "      fill: #FFFFFF;\n",
              "    }\n",
              "  </style>\n",
              "\n",
              "      <script>\n",
              "        const buttonEl =\n",
              "          document.querySelector('#df-7e7073d6-d515-4e60-92ce-6cba294b7ff0 button.colab-df-convert');\n",
              "        buttonEl.style.display =\n",
              "          google.colab.kernel.accessAllowed ? 'block' : 'none';\n",
              "\n",
              "        async function convertToInteractive(key) {\n",
              "          const element = document.querySelector('#df-7e7073d6-d515-4e60-92ce-6cba294b7ff0');\n",
              "          const dataTable =\n",
              "            await google.colab.kernel.invokeFunction('convertToInteractive',\n",
              "                                                     [key], {});\n",
              "          if (!dataTable) return;\n",
              "\n",
              "          const docLinkHtml = 'Like what you see? Visit the ' +\n",
              "            '<a target=\"_blank\" href=https://colab.research.google.com/notebooks/data_table.ipynb>data table notebook</a>'\n",
              "            + ' to learn more about interactive tables.';\n",
              "          element.innerHTML = '';\n",
              "          dataTable['output_type'] = 'display_data';\n",
              "          await google.colab.output.renderOutput(dataTable, element);\n",
              "          const docLink = document.createElement('div');\n",
              "          docLink.innerHTML = docLinkHtml;\n",
              "          element.appendChild(docLink);\n",
              "        }\n",
              "      </script>\n",
              "    </div>\n",
              "  </div>\n",
              "  "
            ]
          },
          "metadata": {},
          "execution_count": 12
        }
      ],
      "source": [
        "df"
      ]
    },
    {
      "cell_type": "code",
      "source": [
        "df['Precip Type'].unique()"
      ],
      "metadata": {
        "colab": {
          "base_uri": "https://localhost:8080/"
        },
        "id": "R0zNbVh-C1Qq",
        "outputId": "aceb2d1e-99b5-46b1-9b80-e4cbd80f5535"
      },
      "execution_count": 13,
      "outputs": [
        {
          "output_type": "execute_result",
          "data": {
            "text/plain": [
              "array(['rain', 'snow', nan], dtype=object)"
            ]
          },
          "metadata": {},
          "execution_count": 13
        }
      ]
    },
    {
      "cell_type": "markdown",
      "metadata": {
        "id": "T_phXTcA_KtC"
      },
      "source": [
        "É notado um valor vazio \"nan\" na culuna Precip Type. Dessa forma, iremos remover esses valores para analisar os dados sem valores nulos e após isso tentar analisar os resultados com alguns modelos de previsão."
      ]
    },
    {
      "cell_type": "code",
      "execution_count": 14,
      "metadata": {
        "colab": {
          "base_uri": "https://localhost:8080/"
        },
        "id": "KBMzS5I3_KGA",
        "outputId": "9d070a61-ef5d-4dec-bf11-679a5402d455"
      },
      "outputs": [
        {
          "output_type": "execute_result",
          "data": {
            "text/plain": [
              "array(['rain', 'snow'], dtype=object)"
            ]
          },
          "metadata": {},
          "execution_count": 14
        }
      ],
      "source": [
        "df = df.dropna(subset=['Precip Type'])\n",
        "df['Precip Type'].unique()"
      ]
    },
    {
      "cell_type": "markdown",
      "source": [
        "Removido os valores nulos, podemos determinar agora os cunjuntos de treino e teste."
      ],
      "metadata": {
        "id": "bj3IRafJDHeB"
      }
    },
    {
      "cell_type": "code",
      "execution_count": 15,
      "metadata": {
        "colab": {
          "base_uri": "https://localhost:8080/",
          "height": 46
        },
        "id": "Xf5ES2647sEy",
        "outputId": "2ec41687-a473-4d9e-c434-1749dc6a47bd"
      },
      "outputs": [
        {
          "output_type": "display_data",
          "data": {
            "text/plain": [
              "<IPython.core.display.Javascript object>"
            ],
            "application/javascript": [
              "parent.postMessage({\"jupyterEvent\": \"custom.exercise_interaction\", \"data\": {\"outcomeType\": 1, \"valueTowardsCompletion\": 0.125, \"interactionType\": 1, \"questionType\": 2, \"questionId\": \"2_Q2\", \"learnToolsVersion\": \"1.0.9\", \"failureMessage\": \"\", \"exceptionClass\": \"\", \"trace\": \"\"}}, \"*\")"
            ]
          },
          "metadata": {}
        },
        {
          "output_type": "display_data",
          "data": {
            "text/plain": [
              "CORRETO: \n"
            ],
            "text/markdown": "<span style=\"color:#33cc33\">CORRETO:</span> \n\n"
          },
          "metadata": {}
        }
      ],
      "source": [
        "# q2.hint()\n",
        "\n",
        "X_train, X_test, Y_train, Y_test = train_test_split(\n",
        "    df[['Temperature (C)','Humidity','Wind Speed (km/h)','Visibility (km)','Pressure (millibars)']],\n",
        "    df['Precip Type'],\n",
        "    test_size=0.3,\n",
        "    random_state=0\n",
        ")\n",
        "\n",
        "q2.check()"
      ]
    },
    {
      "cell_type": "markdown",
      "metadata": {
        "id": "mqNvqF_F7sEy"
      },
      "source": [
        "## 3. Faça uma análise simples da distribuição dos dados de Precipitação\n",
        "Analise se os dados seguem uma distribuição normal ou não, se é contínuo ou não, etc. Talvez com 1 ou 2 gráficos você consiga tirar toda a informação necessária.\n",
        "\n",
        "Tente extrair as informações fundamentais para **escolher um modelo de aprendizado de máquina supervisionado** ideal.\n",
        "\n",
        "Essa questão não possui verificação automática mas você pode pedir dicas com `q3.hint()`"
      ]
    },
    {
      "cell_type": "code",
      "execution_count": 16,
      "metadata": {
        "colab": {
          "base_uri": "https://localhost:8080/"
        },
        "id": "ZqH9uXpAJqVl",
        "outputId": "199a221e-f908-40ba-95b8-dbb64f442a33"
      },
      "outputs": [
        {
          "output_type": "execute_result",
          "data": {
            "text/plain": [
              "array(['rain', 'snow'], dtype=object)"
            ]
          },
          "metadata": {},
          "execution_count": 16
        }
      ],
      "source": [
        "df['Precip Type'].unique()"
      ]
    },
    {
      "cell_type": "code",
      "execution_count": 17,
      "metadata": {
        "colab": {
          "base_uri": "https://localhost:8080/",
          "height": 268
        },
        "id": "XW_aBbv_7sEy",
        "outputId": "10163205-9ce8-4bdf-b625-03a4913735a6"
      },
      "outputs": [
        {
          "output_type": "display_data",
          "data": {
            "text/plain": [
              "<Figure size 432x288 with 1 Axes>"
            ],
            "image/png": "[encoded data removed]"
          },
          "metadata": {}
        }
      ],
      "source": [
        "# Resposta da 3\n",
        "\n",
        "valores = df['Precip Type'].hist()\n",
        "\n",
        "# q3.hint(2)"
      ]
    },
    {
      "cell_type": "markdown",
      "metadata": {
        "id": "2a3wiiMzI52V"
      },
      "source": [
        "Como podemos observar pelo gráfico, os dados são contínuos, isso se deve ao fato de que a precipitação é um atributo categórico. Assim, os valores pertencentes a esse atributo são geralmente relacionados a sua quantidade ou a sua frequência."
      ]
    },
    {
      "cell_type": "code",
      "source": [
        "rain = df.value_counts(df['Precip Type']) [0]\n",
        "snow = df.value_counts(df['Precip Type']) [1]\n",
        "\n",
        "tam = len(df)\n",
        "\n",
        "print('Chuva: ',rain)\n",
        "print('Neve: ',snow)\n",
        "\n",
        "pie = pd.DataFrame([['Chuva',rain],['Neve',snow]],columns=['Tipo' , 'Quantidade'])\n",
        "\n",
        "\n",
        "def pie_chart(data,col1,col2,title): \n",
        "    labels = {'Chuva':0,'Neve':1}\n",
        "    sizes = data[col2]\n",
        "    colors = ['#0FA3B1', '#ffb266']\n",
        "\n",
        "    plt.pie(sizes, labels=labels, colors=colors,\n",
        "                autopct='%1.1f%%', shadow=True, startangle=140, labeldistance =1.2)\n",
        "    plt.title( title )\n",
        "    \n",
        "    plt.axis('equal')\n",
        "    plt.show()\n",
        "\n",
        "pie_chart(pie,'Tipo' , 'Quantidade','Distribuição Percentual Classes de Precipitação')\n",
        "\n",
        "plt.bar(pie.Tipo,pie.Quantidade, color = ['#0FA3B1', '#ffb266'])\n",
        "plt.title(\"Distribuição das Classes de Precipitação\")\n",
        "plt.xlabel(\"Tipo de Precipitação\")\n",
        "plt.ylabel('Quantidade de Registros')\n",
        "plt.show()"
      ],
      "metadata": {
        "colab": {
          "base_uri": "https://localhost:8080/",
          "height": 583
        },
        "id": "qNfXro0QHpWa",
        "outputId": "b2adf458-12bc-4251-e4d9-fa7b9575e4ee"
      },
      "execution_count": 18,
      "outputs": [
        {
          "output_type": "stream",
          "name": "stdout",
          "text": [
            "Chuva:  85224\n",
            "Neve:  10712\n"
          ]
        },
        {
          "output_type": "display_data",
          "data": {
            "text/plain": [
              "<Figure size 432x288 with 1 Axes>"
            ],
            "image/png": "[encoded data removed]"
          },
          "metadata": {}
        },
        {
          "output_type": "display_data",
          "data": {
            "text/plain": [
              "<Figure size 432x288 with 1 Axes>"
            ],
            "image/png": "[encoded data removed]"
          },
          "metadata": {}
        }
      ]
    },
    {
      "cell_type": "markdown",
      "source": [
        "Como podemos perceber nas análises feitas anteriormente, os algoritmos de previsão supervisionado, como o KNN e o SVM seráo bons modelos para determinar os tipos de precipitação existentes, além disso, como são apenas duas classes, e a grande maioria se encontra em um tipo, os modelos terão poucas informações sobre quando deve ser Neve. "
      ],
      "metadata": {
        "id": "RlQDKfb_Jper"
      }
    },
    {
      "cell_type": "markdown",
      "metadata": {
        "id": "Ze4DVGFN7sEz"
      },
      "source": [
        "## 4. Utilize técnicas de aprendizado de máquina **supervisionado** para prever o tipo de precipitação\n",
        "Utilize técnicas de aprendizado de máquina supervisionado para criar modelos para prever o tipo de precipitação (Precip Type) de acordo com outras variáveis. \n",
        "\n",
        "Analise o conjunto de dadoTeste pelo menos três algoritmos. Escolha os que você julgar mais adequado e justifique porque o escolheu (uma frase curta, não precisa se aprofundar... tente aplicar os conhecimentos teóricos sobre cada modelo)\n",
        "\n",
        "\n",
        "É esperado que você preencha uma célula de markdown descrevendo o método e o porquê o escolheu, e uma célula de código que faça o treinamento (`fit`) do modelo.\n",
        "\n",
        "Essa questão não possui verificação automática mas você pode pedir dicas com `q4.hint()`"
      ]
    },
    {
      "cell_type": "markdown",
      "metadata": {
        "id": "Q1EKpTKY7sE0"
      },
      "source": [
        "### Resposta da 4: - Modelo 1\n",
        "\n",
        "**Modelo:** Modelo de previsão KNN:\n",
        "\n",
        "**Justificativa:** O algoritmo usa ‘ similaridade de recurso ‘ para prever valores de quaisquer novos pontos de dados. Isso significa que o novo ponto recebe um valor baseado em quão próximo ele se parece dos pontos no conjunto de treinamento. Dessa forma, como estamos tentando prever se o tipo de precipitação vai ser de chuva ou de neve, ou seja, valores categóricos o algoritmo KNN pode conter resultados significativos."
      ]
    },
    {
      "cell_type": "code",
      "execution_count": 19,
      "metadata": {
        "id": "0YKKO98c7sE0",
        "colab": {
          "base_uri": "https://localhost:8080/"
        },
        "outputId": "4c6b4197-40fd-461e-f91a-5c7d07b6ddfb"
      },
      "outputs": [
        {
          "output_type": "stream",
          "name": "stdout",
          "text": [
            "Acurácia: 98.83%\n"
          ]
        }
      ],
      "source": [
        "# Resposta da 4: - Modelo 1\n",
        "# Faça o modelo do primeiro modelo da 4. aqui!\n",
        "\n",
        "from sklearn.neighbors import KNeighborsClassifier\n",
        "\n",
        "knn = KNeighborsClassifier()\n",
        "knn.fit(X_train, Y_train)\n",
        "\n",
        "knn_Y_predicted = knn.predict(X_test)\n",
        "knn_accuracy = np.sum(knn_Y_predicted == Y_test) / len(Y_test)\n",
        "\n",
        "print('Acurácia: {:.2f}%'.format(100 * knn_accuracy))\n",
        "# q4.hint()"
      ]
    },
    {
      "cell_type": "markdown",
      "metadata": {
        "id": "KYLP-ff77sE0"
      },
      "source": [
        "### Resposta da 4: - Modelo 2\n",
        "\n",
        "**Modelo:** Modelo de previsão SVM:\n",
        "\n",
        "**Justificativa:** O modelo de previsão SVM tenta encontrar um hiperplano que melhor diferencia as duas classes. Dessa forma, como temos os tipos \"Chuva\" e \"Neve\", o modelo SVM tende a ser um bom classificador."
      ]
    },
    {
      "cell_type": "code",
      "execution_count": 88,
      "metadata": {
        "id": "MmbFZLFG7sE1",
        "colab": {
          "base_uri": "https://localhost:8080/"
        },
        "outputId": "1b2570f4-859c-4816-e62d-e2ab733d9974"
      },
      "outputs": [
        {
          "output_type": "stream",
          "name": "stdout",
          "text": [
            "Acurácia: 99.86%\n"
          ]
        }
      ],
      "source": [
        "# Resposta da 4: - Modelo 2\n",
        "# Faça o modelo do segundo modelo da 4. aqui!\n",
        "\n",
        "from sklearn import svm\n",
        "\n",
        "SVM = svm.SVC(kernel='linear', probability=True)\n",
        "SVM.fit(X_train, Y_train)\n",
        "\n",
        "SVM_Y_predicted = SVM.predict(X_test)\n",
        "SVM_accuracy = np.sum(SVM_Y_predicted == Y_test) / len(Y_test)\n",
        "\n",
        "print('Acurácia: {:.2f}%'.format(100 * SVM_accuracy))"
      ]
    },
    {
      "cell_type": "markdown",
      "metadata": {
        "id": "zsVZqX547sE1"
      },
      "source": [
        "### Resposta da 4: - Modelo 3\n",
        "\n",
        "**Modelo:** Modelo de previsão Arvore de decisão:\n",
        "\n",
        "**Justificativa:** Árvore de decisão é um tipo de algoritmo de aprendizagem supervisionada utilizada em problemas de classificação. Com o cálculo do índice GINI (por default no modelo), assim como na Entropia, será verificada a distribuição dos dados nas variáveis preditoras de acordo com a variação da variável target.A variável preditora com o menor índice Gini será a escolhida para o nó principal da árvore, pois um baixo valor do índice indica maior ordem na distribuição dos dados. Como temos os tipos \"Chuva\" e \"Neve\", o modelo arvore de decisão tende a ser um bom classificador."
      ]
    },
    {
      "cell_type": "code",
      "execution_count": 21,
      "metadata": {
        "id": "n6RP54eT7sE2",
        "colab": {
          "base_uri": "https://localhost:8080/"
        },
        "outputId": "1bc30c15-8c31-4aa5-9265-4e172df79ea6"
      },
      "outputs": [
        {
          "output_type": "stream",
          "name": "stdout",
          "text": [
            "Acurácia: 100.00%\n"
          ]
        }
      ],
      "source": [
        "# Resposta da 4: - Modelo 3\n",
        "# Faça o modelo do terceiro modelo da 4. aqui!\n",
        "\n",
        "from sklearn import tree\n",
        "dtc=tree.DecisionTreeClassifier()\n",
        "dtc.fit(X_train,Y_train)\n",
        "\n",
        "tree_Y_predicted = dtc.predict(X_test)\n",
        "tree_accuracy = np.sum(tree_Y_predicted == Y_test) / len(Y_test)\n",
        "\n",
        "print('Acurácia: {:.2f}%'.format(100 * tree_accuracy))"
      ]
    },
    {
      "cell_type": "markdown",
      "metadata": {
        "id": "1KH7llY27sE7"
      },
      "source": [
        "## 5. Calcule estatísticas para cada algoritmo escolhido\n",
        "Calcule a acurácia, precisão e revocação para cada rótulo (tipo de precipitação) para cada algoritmo testado.\n",
        "\n",
        "É esperado que você preencha a tabela markdown abaixo com os resultados.\n",
        "\n",
        "Essa questão não possui verificação automática mas você pode pedir dicas com `q5.hint()`"
      ]
    },
    {
      "cell_type": "code",
      "source": [
        "def VP(Y_test,Predicted,tipo):\n",
        "  valor = 0\n",
        "  conjuntoP = Predicted\n",
        "  conjuntoR = Y_test.values\n",
        "  for i in range(len(conjuntoP)):\n",
        "    if conjuntoP[i] == tipo and conjuntoR[i] == tipo:\n",
        "      valor += 1\n",
        "  return valor"
      ],
      "metadata": {
        "id": "AMOzYd-kpRH4"
      },
      "execution_count": 23,
      "outputs": []
    },
    {
      "cell_type": "code",
      "source": [
        "def VN(Y_test,Predicted,tipo):\n",
        "  valor = 0\n",
        "  conjuntoP = Predicted\n",
        "  conjuntoR = Y_test.values\n",
        "  for i in range(len(conjuntoP)):\n",
        "    if conjuntoP[i] != tipo and conjuntoR[i] != tipo:\n",
        "      valor += 1\n",
        "  return valor"
      ],
      "metadata": {
        "id": "fGbCh1X2qHbp"
      },
      "execution_count": 24,
      "outputs": []
    },
    {
      "cell_type": "code",
      "source": [
        "def FN(Y_test,Predicted,tipo):\n",
        "  valor = 0\n",
        "  conjuntoP = Predicted\n",
        "  conjuntoR = Y_test.values\n",
        "  for i in range(len(conjuntoP)):\n",
        "    if conjuntoP[i] != tipo and conjuntoR[i] == tipo:\n",
        "      valor += 1\n",
        "  return valor"
      ],
      "metadata": {
        "id": "u-i3ckrWq4I6"
      },
      "execution_count": 25,
      "outputs": []
    },
    {
      "cell_type": "code",
      "source": [
        "def FP(Y_test,Predicted,tipo):\n",
        "  valor = 0\n",
        "  conjuntoP = Predicted\n",
        "  conjuntoR = Y_test.values\n",
        "  for i in range(len(conjuntoP)):\n",
        "    if conjuntoP[i] == tipo and conjuntoR[i] != tipo:\n",
        "      valor += 1\n",
        "  return valor"
      ],
      "metadata": {
        "id": "LWQvtvQkrAVU"
      },
      "execution_count": 26,
      "outputs": []
    },
    {
      "cell_type": "code",
      "source": [
        "def acuracia(predicted,modelo,tipo,X_test,Y_test):\n",
        "  return (VP(Y_test,predicted,tipo) + VN(Y_test,predicted,tipo))/(VP(Y_test,predicted,tipo) + VN(Y_test,predicted,tipo) + FP(Y_test,predicted,tipo) + FN(Y_test,predicted,tipo))"
      ],
      "metadata": {
        "id": "4sfimasYf2Nm"
      },
      "execution_count": 27,
      "outputs": []
    },
    {
      "cell_type": "code",
      "source": [
        "def precisao(predicted,modelo,tipo,X_test,Y_test):\n",
        "  return VP(Y_test,predicted,tipo) / (VP(Y_test,predicted,tipo) + FP(Y_test,predicted,tipo))"
      ],
      "metadata": {
        "id": "CjQcFLyMlR8G"
      },
      "execution_count": 28,
      "outputs": []
    },
    {
      "cell_type": "code",
      "source": [
        "def revocacao(predicted,modelo,tipo,X_test,Y_test):\n",
        "  return VP(Y_test,predicted,tipo) / ( VP(Y_test,predicted,tipo) + FN(Y_test,predicted,tipo) )"
      ],
      "metadata": {
        "id": "kF2k2dUboL9U"
      },
      "execution_count": 29,
      "outputs": []
    },
    {
      "cell_type": "code",
      "source": [
        "def estatisticas(modelo,tipo,X_test,Y_test):\n",
        "  predicted = modelo.predict(X_test)\n",
        "  print(f\"Para o tipo {tipo}, temos:\") \n",
        "  print(f\"Acuracia = {acuracia(predicted,modelo,tipo,X_test,Y_test)}\")\n",
        "  print(f\"Precisao = {precisao(predicted,modelo,tipo,X_test,Y_test)}\")\n",
        "  print(f\"Revocacao = {revocacao(predicted,modelo,tipo,X_test,Y_test)}\")\n",
        "  print(50*\"=\")"
      ],
      "metadata": {
        "id": "V6BaaX8UVc25"
      },
      "execution_count": 30,
      "outputs": []
    },
    {
      "cell_type": "markdown",
      "metadata": {
        "id": "UOZKLYNd7sE8"
      },
      "source": [
        "### Algoritmo 1\n",
        "\n",
        "**Nome:** KNN\n",
        "\n",
        "**Resultados:**\n",
        "\n",
        "| Label                  \t| Acurácia \t| Precisão \t| Revogação \t|\n",
        "|------------------------\t|----------\t|----------\t|-----------\t|\n",
        "|          Rain          \t|  0.98829  |  0.99353  |   0.99326   |\n",
        "|          Snow         \t|  0.98829  |  0.94722 \t|   0.94926   |"
      ]
    },
    {
      "cell_type": "code",
      "execution_count": 31,
      "metadata": {
        "id": "ZSItag807sE9",
        "colab": {
          "base_uri": "https://localhost:8080/"
        },
        "outputId": "5f6657ba-9e7c-4d7a-ba5f-a8448929ecd8"
      },
      "outputs": [
        {
          "output_type": "stream",
          "name": "stdout",
          "text": [
            "Para o tipo snow, temos:\n",
            "Acuracia = 0.9882908863486328\n",
            "Precisao = 0.9472230745627493\n",
            "Revocacao = 0.9492619926199262\n",
            "==================================================\n",
            "Para o tipo rain, temos:\n",
            "Acuracia = 0.9882908863486328\n",
            "Precisao = 0.9935349894208918\n",
            "Revocacao = 0.9932625641427396\n",
            "==================================================\n"
          ]
        }
      ],
      "source": [
        "# Insira o código para calcular estatísticas do seu modelo/algoritmo 1. \n",
        "#Algoritmo 1 KNN\n",
        "estatisticas(knn,\"snow\",X_test,Y_test)\n",
        "estatisticas(knn,\"rain\",X_test,Y_test)\n",
        "# q5.hint()"
      ]
    },
    {
      "cell_type": "markdown",
      "metadata": {
        "id": "qZcftOTp7sE9"
      },
      "source": [
        "### Algoritmo 2\n",
        "\n",
        "**Nome:** Modelo de previsão SVM\n",
        "\n",
        "**Resultados:**\n",
        "\n",
        "| Label                  \t| Acurácia \t| Precisão \t| Revogação \t|\n",
        "|------------------------\t|----------\t|----------\t|-----------\t|\n",
        "|          Rain\t          |  0.99861  |    1.0    |   0.99843   |\n",
        "|          Snow \t        |  0.99861  |  0.98784  |   1.0     \t|"
      ]
    },
    {
      "cell_type": "code",
      "execution_count": 32,
      "metadata": {
        "id": "SKogWMS07sE9",
        "colab": {
          "base_uri": "https://localhost:8080/"
        },
        "outputId": "3aa037a3-7a2e-458a-eb87-7611f76e0525"
      },
      "outputs": [
        {
          "output_type": "stream",
          "name": "stdout",
          "text": [
            "Para o tipo snow, temos:\n",
            "Acuracia = 0.998610194225357\n",
            "Precisao = 0.9878493317132442\n",
            "Revocacao = 1.0\n",
            "==================================================\n",
            "Para o tipo rain, temos:\n",
            "Acuracia = 0.998610194225357\n",
            "Precisao = 1.0\n",
            "Revocacao = 0.9984331544517999\n",
            "==================================================\n"
          ]
        }
      ],
      "source": [
        "# Insira o código para calcular estatísticas do seu modelo/algoritmo 2. \n",
        "\n",
        "estatisticas(SVM,\"snow\",X_test,Y_test)\n",
        "estatisticas(SVM,\"rain\",X_test,Y_test)\n",
        "\n",
        "# q5.hint()"
      ]
    },
    {
      "cell_type": "markdown",
      "metadata": {
        "id": "Bfw5Yosu7sE-"
      },
      "source": [
        "### Algoritmo 3\n",
        "\n",
        "**Nome:** Modelo de previsão Arvore de decisão:\n",
        "\n",
        "**Resultados:**\n",
        "\n",
        "| Label                  \t| Acurácia \t| Precisão \t| Revogação \t|\n",
        "|------------------------\t|----------\t|----------\t|-----------\t|\n",
        "|          Rain\t          |    1.0    |    1.0    |     1.0     |\n",
        "|          Snow \t        |    1.0    |    1.0    |     1.0     |"
      ]
    },
    {
      "cell_type": "code",
      "execution_count": 33,
      "metadata": {
        "id": "nubIIkGk7sE-",
        "colab": {
          "base_uri": "https://localhost:8080/"
        },
        "outputId": "87421f69-9363-431d-b832-c5e85560243d"
      },
      "outputs": [
        {
          "output_type": "stream",
          "name": "stdout",
          "text": [
            "Para o tipo snow, temos:\n",
            "Acuracia = 1.0\n",
            "Precisao = 1.0\n",
            "Revocacao = 1.0\n",
            "==================================================\n",
            "Para o tipo rain, temos:\n",
            "Acuracia = 1.0\n",
            "Precisao = 1.0\n",
            "Revocacao = 1.0\n",
            "==================================================\n"
          ]
        }
      ],
      "source": [
        "# Insira o código para calcular estatísticas do seu modelo/algoritmo 3. \n",
        "estatisticas(dtc,\"snow\",X_test,Y_test)\n",
        "estatisticas(dtc,\"rain\",X_test,Y_test)\n",
        "# q5.hint()"
      ]
    },
    {
      "cell_type": "markdown",
      "metadata": {
        "id": "241xYn6z7sE_"
      },
      "source": [
        "## 6.  É possível melhorar o algoritmo se forem selecionados alguns atributos em particular, ao invés de utilizar todos?\n",
        "Descreva sua resposta para cada um dos algoritmos. Utilize evidências empíricas, se achar conveniente.\n",
        "\n",
        "Essa questão não possui verificação automática mas você pode pedir dicas com `q6.hint()`"
      ]
    },
    {
      "cell_type": "code",
      "source": [
        "# Colunas X = df[['Temperature (C)','Humidity','Wind Speed (km/h)','Visibility (km)','Pressure (millibars)']]\n",
        "# Coluna Y = df['Precip Type'],\n",
        "\n",
        "\n",
        "# Ordem == X_train, X_test, Y_train, Y_test \n",
        "def splitar(valoresX,valoresY):\n",
        "  return train_test_split(\n",
        "      valoresX,\n",
        "      valoresY,\n",
        "      test_size=0.3,\n",
        "      random_state=0\n",
        "  )"
      ],
      "metadata": {
        "id": "JDnR4mAyF-xr"
      },
      "execution_count": 68,
      "outputs": []
    },
    {
      "cell_type": "code",
      "source": [
        "from sklearn.neighbors import KNeighborsClassifier\n",
        "\n",
        "def modeloKNN(X_train, X_test, Y_train, Y_test):\n",
        "  knn = KNeighborsClassifier()\n",
        "  knn.fit(X_train, Y_train)\n",
        "\n",
        "  knn_Y_predicted = knn.predict(X_test)\n",
        "  knn_accuracy = np.sum(knn_Y_predicted == Y_test) / len(Y_test)\n",
        "\n",
        "  print('Acurácia: {:.2f}%'.format(100 * knn_accuracy))\n",
        "  return knn"
      ],
      "metadata": {
        "id": "KmTBWuxFAA8r"
      },
      "execution_count": 67,
      "outputs": []
    },
    {
      "cell_type": "code",
      "source": [
        "X_train, X_test, Y_train, Y_test = splitar(df[['Temperature (C)','Humidity','Wind Speed (km/h)','Visibility (km)','Pressure (millibars)']],df['Precip Type'])\n",
        "knn = modeloKNN(X_train, X_test, Y_train, Y_test )"
      ],
      "metadata": {
        "colab": {
          "base_uri": "https://localhost:8080/"
        },
        "id": "J0SrOfEsHGp3",
        "outputId": "c9f2fc4b-c04b-4e08-d981-d63c917348f7"
      },
      "execution_count": 86,
      "outputs": [
        {
          "output_type": "stream",
          "name": "stdout",
          "text": [
            "Acurácia: 98.83%\n"
          ]
        }
      ]
    },
    {
      "cell_type": "markdown",
      "metadata": {
        "id": "ZtILfD8X7sE_"
      },
      "source": [
        "Como podemos observar, utilizando como valores a determinarem o tipo de precipitação as colunas: \n",
        "\n",
        "- 'Temperature (C)' , 'Humidity' , 'Wind Speed (km/h)' , 'Visibility (km)' ,'Pressure (millibars)'\n",
        "\n",
        "O modelo obteve uma acurácia de 98.83%"
      ]
    },
    {
      "cell_type": "code",
      "source": [
        "# Removendo as colunas 'Wind Speed (km/h)' 'Visibility (km)' 'Pressure (millibars)'\n",
        "X_train, X_test, Y_train, Y_test = splitar(df[['Temperature (C)','Humidity']],df['Precip Type'])\n",
        "novoKnn = modeloKNN(X_train, X_test, Y_train, Y_test )"
      ],
      "metadata": {
        "colab": {
          "base_uri": "https://localhost:8080/"
        },
        "id": "MFFJMpJgH2W0",
        "outputId": "d907a75c-c690-464e-e94c-b6ab9ec7e96f"
      },
      "execution_count": 71,
      "outputs": [
        {
          "output_type": "stream",
          "name": "stdout",
          "text": [
            "Acurácia: 99.97%\n"
          ]
        }
      ]
    },
    {
      "cell_type": "markdown",
      "source": [
        "Como podemos observar, ao remover as colunas 'Wind Speed (km/h)' 'Visibility (km)' 'Pressure (millibars)' do modelo para prever o tipo de precipitação, a acurácia do modelo ficou maior"
      ],
      "metadata": {
        "id": "-jNAfOBnITTl"
      }
    },
    {
      "cell_type": "code",
      "source": [
        "# Testando outros atributos do novo modelo\n",
        "colunas = [\"rain\",\"snow\"]\n",
        "for coluna in colunas:\n",
        "  estatisticas(novoKnn,coluna,X_test,Y_test)"
      ],
      "metadata": {
        "colab": {
          "base_uri": "https://localhost:8080/"
        },
        "id": "93Kxh70HIfGk",
        "outputId": "6475b983-8909-4330-99d6-28a2f70ed3f2"
      },
      "execution_count": 72,
      "outputs": [
        {
          "output_type": "stream",
          "name": "stdout",
          "text": [
            "Para o tipo rain, temos:\n",
            "Acuracia = 0.9996525485563392\n",
            "Precisao = 1.0\n",
            "Revocacao = 0.9996082886129499\n",
            "==================================================\n",
            "Para o tipo snow, temos:\n",
            "Acuracia = 0.9996525485563392\n",
            "Precisao = 0.996934396076027\n",
            "Revocacao = 1.0\n",
            "==================================================\n"
          ]
        }
      ]
    },
    {
      "cell_type": "markdown",
      "source": [
        "Não só a acurácia ficou maior, como também a precisão e a revocação do modelo aumentaram, apesar de que não foi um aumento tão grande se comparado com os resultados anteriores. Dessa forma, ao retirar alguns atributos, podemos sim melhorar o modelo de previsão como pode ser visto no modelo KNN"
      ],
      "metadata": {
        "id": "4MdrPEVdJMYz"
      }
    },
    {
      "cell_type": "code",
      "execution_count": 73,
      "metadata": {
        "id": "pGoHJesB7sFA"
      },
      "outputs": [],
      "source": [
        "# q6.hint(3)\n",
        "updated_models = novoKnn"
      ]
    },
    {
      "cell_type": "markdown",
      "metadata": {
        "id": "bIwBFhlS7sFA"
      },
      "source": [
        "## 7. Você percebeu alguma diferença no tempo de processamento dos algoritmos? Qual foi o mais lento? E qual foi o mais rápido?\n",
        "Descreva sua resposta para cada um dos algoritmos. Utilize evidências empíricas, se achar conveniente.\n",
        "\n",
        "Essa questão não possui verificação automática mas você pode pedir dicas com `q7.hint()`"
      ]
    },
    {
      "cell_type": "code",
      "source": [
        "import time\n",
        "from sklearn import svm\n",
        "from sklearn import tree\n",
        "def benchKnn():\n",
        "  start = time.time()\n",
        "  knn = KNeighborsClassifier()\n",
        "  knn.fit(X_train, Y_train)\n",
        "  end = time.time()\n",
        "  print(f\"Tempo decorrido KNN = {end - start} segundos\")\n",
        "\n",
        "def benchSvm():\n",
        "  start = time.time()\n",
        "  SVM = svm.SVC(kernel='linear', probability=True)\n",
        "  SVM.fit(X_train, Y_train)\n",
        "  end = time.time()\n",
        "  print(f\"Tempo decorrido SVM = {end - start} segundos\")\n",
        "\n",
        "def benchTree():\n",
        "  start = time.time()\n",
        "  dtc=tree.DecisionTreeClassifier()\n",
        "  dtc.fit(X_train,Y_train)\n",
        "  end = time.time()\n",
        "  print(f\"Tempo decorrido Arvore = {end - start} segundos\")"
      ],
      "metadata": {
        "id": "DNVnNSdiJ59d"
      },
      "execution_count": 82,
      "outputs": []
    },
    {
      "cell_type": "code",
      "execution_count": 84,
      "metadata": {
        "id": "DrAAUIo07sFA",
        "colab": {
          "base_uri": "https://localhost:8080/"
        },
        "outputId": "8036edb6-957f-4073-dec6-b5a67c0b3d22"
      },
      "outputs": [
        {
          "output_type": "stream",
          "name": "stdout",
          "text": [
            "Tempo decorrido KNN = 0.7692935466766357 segundos\n",
            "Tempo decorrido SVM = 15.160179615020752 segundos\n",
            "Tempo decorrido Arvore = 0.12665271759033203 segundos\n"
          ]
        }
      ],
      "source": [
        "# q7.hint()\n",
        "benchKnn()\n",
        "benchSvm()\n",
        "benchTree()"
      ]
    },
    {
      "cell_type": "markdown",
      "metadata": {
        "id": "2p1uxMoi7sFA"
      },
      "source": [
        "Houve diferenças no tempo de processamento de cada algoritmo, sendo o algoritmo de arvore de decisão o mais rápido com 0.126 segundos e o SVM o mais lento com 15.16 segundos de tempo de treinamento. "
      ]
    },
    {
      "cell_type": "markdown",
      "source": [
        "Dessa forma, o modelo de árvore de decisão se saiu melhor, visto que uma árvore de decisão é um mapa dos possíveis resultados de uma série de escolhas relacionadas. Permite que um indivíduo ou organização compare possíveis ações com base em seus custos, probabilidades e benefícios. Podem pode ser usadas tanto para conduzir diálogos informais quanto para mapear um algoritmo que prevê a melhor escolha, matematicamente."
      ],
      "metadata": {
        "id": "5P5kyiVjNayC"
      }
    },
    {
      "cell_type": "markdown",
      "source": [
        "Já o modelo de SVM teve um desempenho muito inferior aos demais, visto que a velocidade de treinamento varia com os valores dos hiperparâmetros na hora de treinar o modelo."
      ],
      "metadata": {
        "id": "xXQ1og9eNiDg"
      }
    },
    {
      "cell_type": "markdown",
      "metadata": {
        "id": "ivDQ7iLR7sFA"
      },
      "source": [
        "## 8. Mostre a matriz de confusão para os resultados.\n",
        "Pesquise como fazer uma matriz de confusão. Descreva sua resposta para cada um dos algoritmos. Evidencie explicitamente o código utilizado, usando bibliotecas ou não.\n",
        "\n",
        "Essa questão não possui verificação automática mas você pode pedir dicas com `q8.hint()`"
      ]
    },
    {
      "cell_type": "code",
      "execution_count": 89,
      "metadata": {
        "id": "Un2XSPPu7sFC",
        "colab": {
          "base_uri": "https://localhost:8080/"
        },
        "outputId": "4bb0cff1-5093-4f78-8cd6-dba386d45a79"
      },
      "outputs": [
        {
          "output_type": "stream",
          "name": "stdout",
          "text": [
            "KNN\n",
            "[[25357   172]\n",
            " [  165  3087]]\n",
            "SVM\n",
            "[[25489    40]\n",
            " [    0  3252]]\n",
            "ARVORE\n",
            "[[25529     0]\n",
            " [    0  3252]]\n"
          ]
        }
      ],
      "source": [
        "# q8.hint()\n",
        "from sklearn.metrics import confusion_matrix\n",
        "\n",
        "confusion_matrixKNN = confusion_matrix(Y_test, knn.predict(X_test))\n",
        "confusion_matrixSVM = confusion_matrix(Y_test, SVM.predict(X_test))\n",
        "confusion_matrixTree = confusion_matrix(Y_test, dtc.predict(X_test))\n",
        "\n",
        "print(\"KNN\")\n",
        "print(confusion_matrixKNN)\n",
        "print(\"SVM\")\n",
        "print(confusion_matrixSVM)\n",
        "print(\"ARVORE\")\n",
        "print(confusion_matrixTree)\n"
      ]
    },
    {
      "cell_type": "markdown",
      "metadata": {
        "id": "f-TOfsHq7sFC"
      },
      "source": [
        "Para o modelo KNN, foi possivel obter:\n",
        "\n",
        "- VP = 25357\n",
        "- VN = 3087\n",
        "- FP = 165\n",
        "- FN = 172"
      ]
    },
    {
      "cell_type": "markdown",
      "source": [
        "Para o modelo SVM, foi possivel obter:\n",
        "\n",
        "- VP = 25489\n",
        "- VN = 3252\n",
        "- FP = 0\n",
        "- FN = 40"
      ],
      "metadata": {
        "id": "7Xvi4rVoQRt1"
      }
    },
    {
      "cell_type": "markdown",
      "source": [
        "Para o modelo Arvore de decisão , foi possivel obter:\n",
        "\n",
        "- VP = 25529\n",
        "- VN = 3252\n",
        "- FP = 0\n",
        "- FN = 0"
      ],
      "metadata": {
        "id": "U_Jl1piVQfcG"
      }
    }
  ],
  "metadata": {
    "colab": {
      "collapsed_sections": [],
      "name": "Atividade pratica 9 Dados.ipynb",
      "provenance": []
    },
    "interpreter": {
      "hash": "aee8b7b246df8f9039afb4144a1f6fd8d2ca17a180786b69acc140d282b71a49"
    },
    "kernelspec": {
      "display_name": "Python 3.9.12 64-bit",
      "language": "python",
      "name": "python3"
    },
    "language_info": {
      "codemirror_mode": {
        "name": "ipython",
        "version": 3
      },
      "file_extension": ".py",
      "mimetype": "text/x-python",
      "name": "python",
      "nbconvert_exporter": "python",
      "pygments_lexer": "ipython3",
      "version": "3.9.13"
    }
  },
  "nbformat": 4,
  "nbformat_minor": 0
}