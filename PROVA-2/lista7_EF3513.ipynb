{
  "cells": [
    {
      "cell_type": "markdown",
      "metadata": {
        "id": "Ho1-xg7GvjIF"
      },
      "source": [
        "> Introdução à Ciência dos Dados \\\n",
        "> Ciência da Computação – UFV/Florestal\n",
        "\n",
        "\n",
        "* **Nome:** Leandro\n",
        "* **Matrícula:**  3513\n",
        "\n",
        "# Aula Prática 07\n",
        "## Regras de Associação e o Algoritmo Apriori\n",
        "\n",
        "**Objetivo:** Aplicar o algoritmo Apriori para extrair regras de associação de dados reais.\n",
        "**Pré-requisitos:** Linguagem de programação Python, estatística básica \\\n",
        "**Meta:** Ao final da prática, o aluno será capaz de preparar dados e extrair regras de associação desses dados utilizado o algoritmo Apriori.\n",
        "\n",
        "----"
      ]
    },
    {
      "cell_type": "code",
      "execution_count": 161,
      "metadata": {
        "id": "5iH9QPDfvjII",
        "colab": {
          "base_uri": "https://localhost:8080/"
        },
        "outputId": "870378e8-d9e4-4a66-af6e-002d97567fa3"
      },
      "outputs": [
        {
          "output_type": "stream",
          "name": "stdout",
          "text": [
            "Looking in indexes: https://pypi.org/simple, https://us-python.pkg.dev/colab-wheels/public/simple/\n",
            "Requirement already satisfied: learntools_dados_ufv in /usr/local/lib/python3.7/dist-packages (1.0.7)\n",
            "--2022-07-01 22:15:38--  https://raw.githubusercontent.com/gfviegas/CCF425-resources/master/p6/OnlineRetail.xlsx\n",
            "Resolving raw.githubusercontent.com (raw.githubusercontent.com)... 185.199.108.133, 185.199.109.133, 185.199.110.133, ...\n",
            "Connecting to raw.githubusercontent.com (raw.githubusercontent.com)|185.199.108.133|:443... connected.\n",
            "HTTP request sent, awaiting response... 200 OK\n",
            "Length: 23715344 (23M) [application/octet-stream]\n",
            "Saving to: ‘OnlineRetail.xlsx.1’\n",
            "\n",
            "OnlineRetail.xlsx.1 100%[===================>]  22.62M  --.-KB/s    in 0.1s    \n",
            "\n",
            "2022-07-01 22:15:39 (198 MB/s) - ‘OnlineRetail.xlsx.1’ saved [23715344/23715344]\n",
            "\n"
          ]
        }
      ],
      "source": [
        "### NÃO REMOVA ESSA CÉLULA! ####\n",
        "!pip --no-cache-dir install --upgrade learntools_dados_ufv\n",
        "\n",
        "!wget https://raw.githubusercontent.com/gfviegas/CCF425-resources/master/p6/OnlineRetail.xlsx"
      ]
    },
    {
      "cell_type": "code",
      "execution_count": 162,
      "metadata": {
        "id": "_X9J3UPRX7_6",
        "colab": {
          "base_uri": "https://localhost:8080/"
        },
        "outputId": "b92b3690-e071-481d-ecc5-cda1de35bb9f"
      },
      "outputs": [
        {
          "output_type": "stream",
          "name": "stderr",
          "text": [
            "WARNING:root:Ignoring repeated attempt to bind to globals\n"
          ]
        }
      ],
      "source": [
        "#### Não altere essa célula!!! ####\n",
        "import pandas as pd\n",
        "import string\n",
        "import random\n",
        "\n",
        "from mlxtend.preprocessing import TransactionEncoder\n",
        "from mlxtend.frequent_patterns import apriori\n",
        "from mlxtend.frequent_patterns import association_rules\n",
        "\n",
        "from learntools_dados_ufv.core import binder; binder.bind(globals())\n",
        "from learntools_dados_ufv.ccf425.pratica_7 import *"
      ]
    },
    {
      "cell_type": "markdown",
      "metadata": {
        "id": "cvez_9LpvjIL"
      },
      "source": [
        "# Roteiro"
      ]
    },
    {
      "cell_type": "markdown",
      "metadata": {
        "id": "5id0Zl-kvjIM"
      },
      "source": [
        "## Estruturando os dados"
      ]
    },
    {
      "cell_type": "markdown",
      "metadata": {
        "id": "MzP7hXwSvjIM"
      },
      "source": [
        "### Criar o conjunto de dados"
      ]
    },
    {
      "cell_type": "code",
      "execution_count": 163,
      "metadata": {
        "id": "8rmMsiKLvjIM",
        "outputId": "dc4abb32-3c39-421d-c4f2-7b45dd4514eb",
        "colab": {
          "base_uri": "https://localhost:8080/"
        }
      },
      "outputs": [
        {
          "output_type": "execute_result",
          "data": {
            "text/plain": [
              "[['Leite', 'Cebola', 'Nutela', 'Feijão', 'Ovo', 'Iogurte'],\n",
              " ['Arroz', 'Cebola', 'Nutela', 'Feijão', 'Ovo', 'Iogurte'],\n",
              " ['Leite', 'Maça', 'Feijão', 'Ovo'],\n",
              " ['Leite', 'Chocolate', 'Pipoca', 'Feijão', 'Iogurte'],\n",
              " ['Pipoca', 'Cebola', 'Feijão', 'Sorvete', 'Ovo']]"
            ]
          },
          "metadata": {},
          "execution_count": 163
        }
      ],
      "source": [
        "dataset = [['Leite', 'Cebola', 'Nutela', 'Feijão', 'Ovo', 'Iogurte'],\n",
        "          ['Arroz', 'Cebola', 'Nutela', 'Feijão', 'Ovo', 'Iogurte'],\n",
        "          ['Leite', 'Maça', 'Feijão', 'Ovo'],\n",
        "          ['Leite', 'Chocolate', 'Pipoca', 'Feijão', 'Iogurte'],\n",
        "          ['Pipoca', 'Cebola', 'Feijão', 'Sorvete', 'Ovo']]\n",
        "\n",
        "dataset"
      ]
    },
    {
      "cell_type": "markdown",
      "metadata": {
        "id": "4_cbzF8KvjIO"
      },
      "source": [
        "### Transformar no formato para ser utilizado no Apriori"
      ]
    },
    {
      "cell_type": "code",
      "execution_count": 164,
      "metadata": {
        "id": "LKh5EB6CvjIP",
        "outputId": "a1ed5aff-9d1f-4e73-ef04-7d74e86b6ff8",
        "colab": {
          "base_uri": "https://localhost:8080/"
        }
      },
      "outputs": [
        {
          "output_type": "execute_result",
          "data": {
            "text/plain": [
              "array([[False,  True, False,  True,  True,  True, False,  True,  True,\n",
              "        False, False],\n",
              "       [ True,  True, False,  True,  True, False, False,  True,  True,\n",
              "        False, False],\n",
              "       [False, False, False,  True, False,  True,  True, False,  True,\n",
              "        False, False],\n",
              "       [False, False,  True,  True,  True,  True, False, False, False,\n",
              "         True, False],\n",
              "       [False,  True, False,  True, False, False, False, False,  True,\n",
              "         True,  True]])"
            ]
          },
          "metadata": {},
          "execution_count": 164
        }
      ],
      "source": [
        "transactions_oht = TransactionEncoder()\n",
        "transactions = transactions_oht.fit(dataset).transform(dataset)\n",
        "transactions"
      ]
    },
    {
      "cell_type": "code",
      "execution_count": 165,
      "metadata": {
        "id": "85DUHY6EvjIQ",
        "outputId": "fb26a941-6224-4dfe-b630-bab1449a7306",
        "colab": {
          "base_uri": "https://localhost:8080/",
          "height": 206
        }
      },
      "outputs": [
        {
          "output_type": "execute_result",
          "data": {
            "text/plain": [
              "   Arroz  Cebola  Chocolate  Feijão  Iogurte  Leite   Maça  Nutela    Ovo  \\\n",
              "0  False    True      False    True     True   True  False    True   True   \n",
              "1   True    True      False    True     True  False  False    True   True   \n",
              "2  False   False      False    True    False   True   True   False   True   \n",
              "3  False   False       True    True     True   True  False   False  False   \n",
              "4  False    True      False    True    False  False  False   False   True   \n",
              "\n",
              "   Pipoca  Sorvete  \n",
              "0   False    False  \n",
              "1   False    False  \n",
              "2   False    False  \n",
              "3    True    False  \n",
              "4    True     True  "
            ],
            "text/html": [
              "\n",
              "  <div id=\"df-e168bceb-6cd5-4a4b-8c5b-dfcdc41fee76\">\n",
              "    <div class=\"colab-df-container\">\n",
              "      <div>\n",
              "<style scoped>\n",
              "    .dataframe tbody tr th:only-of-type {\n",
              "        vertical-align: middle;\n",
              "    }\n",
              "\n",
              "    .dataframe tbody tr th {\n",
              "        vertical-align: top;\n",
              "    }\n",
              "\n",
              "    .dataframe thead th {\n",
              "        text-align: right;\n",
              "    }\n",
              "</style>\n",
              "<table border=\"1\" class=\"dataframe\">\n",
              "  <thead>\n",
              "    <tr style=\"text-align: right;\">\n",
              "      <th></th>\n",
              "      <th>Arroz</th>\n",
              "      <th>Cebola</th>\n",
              "      <th>Chocolate</th>\n",
              "      <th>Feijão</th>\n",
              "      <th>Iogurte</th>\n",
              "      <th>Leite</th>\n",
              "      <th>Maça</th>\n",
              "      <th>Nutela</th>\n",
              "      <th>Ovo</th>\n",
              "      <th>Pipoca</th>\n",
              "      <th>Sorvete</th>\n",
              "    </tr>\n",
              "  </thead>\n",
              "  <tbody>\n",
              "    <tr>\n",
              "      <th>0</th>\n",
              "      <td>False</td>\n",
              "      <td>True</td>\n",
              "      <td>False</td>\n",
              "      <td>True</td>\n",
              "      <td>True</td>\n",
              "      <td>True</td>\n",
              "      <td>False</td>\n",
              "      <td>True</td>\n",
              "      <td>True</td>\n",
              "      <td>False</td>\n",
              "      <td>False</td>\n",
              "    </tr>\n",
              "    <tr>\n",
              "      <th>1</th>\n",
              "      <td>True</td>\n",
              "      <td>True</td>\n",
              "      <td>False</td>\n",
              "      <td>True</td>\n",
              "      <td>True</td>\n",
              "      <td>False</td>\n",
              "      <td>False</td>\n",
              "      <td>True</td>\n",
              "      <td>True</td>\n",
              "      <td>False</td>\n",
              "      <td>False</td>\n",
              "    </tr>\n",
              "    <tr>\n",
              "      <th>2</th>\n",
              "      <td>False</td>\n",
              "      <td>False</td>\n",
              "      <td>False</td>\n",
              "      <td>True</td>\n",
              "      <td>False</td>\n",
              "      <td>True</td>\n",
              "      <td>True</td>\n",
              "      <td>False</td>\n",
              "      <td>True</td>\n",
              "      <td>False</td>\n",
              "      <td>False</td>\n",
              "    </tr>\n",
              "    <tr>\n",
              "      <th>3</th>\n",
              "      <td>False</td>\n",
              "      <td>False</td>\n",
              "      <td>True</td>\n",
              "      <td>True</td>\n",
              "      <td>True</td>\n",
              "      <td>True</td>\n",
              "      <td>False</td>\n",
              "      <td>False</td>\n",
              "      <td>False</td>\n",
              "      <td>True</td>\n",
              "      <td>False</td>\n",
              "    </tr>\n",
              "    <tr>\n",
              "      <th>4</th>\n",
              "      <td>False</td>\n",
              "      <td>True</td>\n",
              "      <td>False</td>\n",
              "      <td>True</td>\n",
              "      <td>False</td>\n",
              "      <td>False</td>\n",
              "      <td>False</td>\n",
              "      <td>False</td>\n",
              "      <td>True</td>\n",
              "      <td>True</td>\n",
              "      <td>True</td>\n",
              "    </tr>\n",
              "  </tbody>\n",
              "</table>\n",
              "</div>\n",
              "      <button class=\"colab-df-convert\" onclick=\"convertToInteractive('df-e168bceb-6cd5-4a4b-8c5b-dfcdc41fee76')\"\n",
              "              title=\"Convert this dataframe to an interactive table.\"\n",
              "              style=\"display:none;\">\n",
              "        \n",
              "  <svg xmlns=\"http://www.w3.org/2000/svg\" height=\"24px\"viewBox=\"0 0 24 24\"\n",
              "       width=\"24px\">\n",
              "    <path d=\"M0 0h24v24H0V0z\" fill=\"none\"/>\n",
              "    <path d=\"M18.56 5.44l.94 2.06.94-2.06 2.06-.94-2.06-.94-.94-2.06-.94 2.06-2.06.94zm-11 1L8.5 8.5l.94-2.06 2.06-.94-2.06-.94L8.5 2.5l-.94 2.06-2.06.94zm10 10l.94 2.06.94-2.06 2.06-.94-2.06-.94-.94-2.06-.94 2.06-2.06.94z\"/><path d=\"M17.41 7.96l-1.37-1.37c-.4-.4-.92-.59-1.43-.59-.52 0-1.04.2-1.43.59L10.3 9.45l-7.72 7.72c-.78.78-.78 2.05 0 2.83L4 21.41c.39.39.9.59 1.41.59.51 0 1.02-.2 1.41-.59l7.78-7.78 2.81-2.81c.8-.78.8-2.07 0-2.86zM5.41 20L4 18.59l7.72-7.72 1.47 1.35L5.41 20z\"/>\n",
              "  </svg>\n",
              "      </button>\n",
              "      \n",
              "  <style>\n",
              "    .colab-df-container {\n",
              "      display:flex;\n",
              "      flex-wrap:wrap;\n",
              "      gap: 12px;\n",
              "    }\n",
              "\n",
              "    .colab-df-convert {\n",
              "      background-color: #E8F0FE;\n",
              "      border: none;\n",
              "      border-radius: 50%;\n",
              "      cursor: pointer;\n",
              "      display: none;\n",
              "      fill: #1967D2;\n",
              "      height: 32px;\n",
              "      padding: 0 0 0 0;\n",
              "      width: 32px;\n",
              "    }\n",
              "\n",
              "    .colab-df-convert:hover {\n",
              "      background-color: #E2EBFA;\n",
              "      box-shadow: 0px 1px 2px rgba(60, 64, 67, 0.3), 0px 1px 3px 1px rgba(60, 64, 67, 0.15);\n",
              "      fill: #174EA6;\n",
              "    }\n",
              "\n",
              "    [theme=dark] .colab-df-convert {\n",
              "      background-color: #3B4455;\n",
              "      fill: #D2E3FC;\n",
              "    }\n",
              "\n",
              "    [theme=dark] .colab-df-convert:hover {\n",
              "      background-color: #434B5C;\n",
              "      box-shadow: 0px 1px 3px 1px rgba(0, 0, 0, 0.15);\n",
              "      filter: drop-shadow(0px 1px 2px rgba(0, 0, 0, 0.3));\n",
              "      fill: #FFFFFF;\n",
              "    }\n",
              "  </style>\n",
              "\n",
              "      <script>\n",
              "        const buttonEl =\n",
              "          document.querySelector('#df-e168bceb-6cd5-4a4b-8c5b-dfcdc41fee76 button.colab-df-convert');\n",
              "        buttonEl.style.display =\n",
              "          google.colab.kernel.accessAllowed ? 'block' : 'none';\n",
              "\n",
              "        async function convertToInteractive(key) {\n",
              "          const element = document.querySelector('#df-e168bceb-6cd5-4a4b-8c5b-dfcdc41fee76');\n",
              "          const dataTable =\n",
              "            await google.colab.kernel.invokeFunction('convertToInteractive',\n",
              "                                                     [key], {});\n",
              "          if (!dataTable) return;\n",
              "\n",
              "          const docLinkHtml = 'Like what you see? Visit the ' +\n",
              "            '<a target=\"_blank\" href=https://colab.research.google.com/notebooks/data_table.ipynb>data table notebook</a>'\n",
              "            + ' to learn more about interactive tables.';\n",
              "          element.innerHTML = '';\n",
              "          dataTable['output_type'] = 'display_data';\n",
              "          await google.colab.output.renderOutput(dataTable, element);\n",
              "          const docLink = document.createElement('div');\n",
              "          docLink.innerHTML = docLinkHtml;\n",
              "          element.appendChild(docLink);\n",
              "        }\n",
              "      </script>\n",
              "    </div>\n",
              "  </div>\n",
              "  "
            ]
          },
          "metadata": {},
          "execution_count": 165
        }
      ],
      "source": [
        "df = pd.DataFrame(transactions, columns=transactions_oht.columns_)\n",
        "df"
      ]
    },
    {
      "cell_type": "markdown",
      "metadata": {
        "id": "CDUdlS91vjIS"
      },
      "source": [
        "## Calcular conjunto de itens frequentes\n",
        "\n",
        "Com suporte mínimo de 0.6"
      ]
    },
    {
      "cell_type": "code",
      "execution_count": 166,
      "metadata": {
        "id": "-BND7-f9vjIT",
        "outputId": "c40d9ff9-3b6e-4cb4-d1a8-f84b75264121",
        "colab": {
          "base_uri": "https://localhost:8080/",
          "height": 394
        }
      },
      "outputs": [
        {
          "output_type": "execute_result",
          "data": {
            "text/plain": [
              "    support               itemsets\n",
              "0       0.6               (Cebola)\n",
              "1       1.0               (Feijão)\n",
              "2       0.6              (Iogurte)\n",
              "3       0.6                (Leite)\n",
              "4       0.8                  (Ovo)\n",
              "5       0.6       (Feijão, Cebola)\n",
              "6       0.6          (Ovo, Cebola)\n",
              "7       0.6      (Feijão, Iogurte)\n",
              "8       0.6        (Feijão, Leite)\n",
              "9       0.8          (Feijão, Ovo)\n",
              "10      0.6  (Feijão, Ovo, Cebola)"
            ],
            "text/html": [
              "\n",
              "  <div id=\"df-33e86601-e3b0-46fc-9c07-ce648395ab12\">\n",
              "    <div class=\"colab-df-container\">\n",
              "      <div>\n",
              "<style scoped>\n",
              "    .dataframe tbody tr th:only-of-type {\n",
              "        vertical-align: middle;\n",
              "    }\n",
              "\n",
              "    .dataframe tbody tr th {\n",
              "        vertical-align: top;\n",
              "    }\n",
              "\n",
              "    .dataframe thead th {\n",
              "        text-align: right;\n",
              "    }\n",
              "</style>\n",
              "<table border=\"1\" class=\"dataframe\">\n",
              "  <thead>\n",
              "    <tr style=\"text-align: right;\">\n",
              "      <th></th>\n",
              "      <th>support</th>\n",
              "      <th>itemsets</th>\n",
              "    </tr>\n",
              "  </thead>\n",
              "  <tbody>\n",
              "    <tr>\n",
              "      <th>0</th>\n",
              "      <td>0.6</td>\n",
              "      <td>(Cebola)</td>\n",
              "    </tr>\n",
              "    <tr>\n",
              "      <th>1</th>\n",
              "      <td>1.0</td>\n",
              "      <td>(Feijão)</td>\n",
              "    </tr>\n",
              "    <tr>\n",
              "      <th>2</th>\n",
              "      <td>0.6</td>\n",
              "      <td>(Iogurte)</td>\n",
              "    </tr>\n",
              "    <tr>\n",
              "      <th>3</th>\n",
              "      <td>0.6</td>\n",
              "      <td>(Leite)</td>\n",
              "    </tr>\n",
              "    <tr>\n",
              "      <th>4</th>\n",
              "      <td>0.8</td>\n",
              "      <td>(Ovo)</td>\n",
              "    </tr>\n",
              "    <tr>\n",
              "      <th>5</th>\n",
              "      <td>0.6</td>\n",
              "      <td>(Feijão, Cebola)</td>\n",
              "    </tr>\n",
              "    <tr>\n",
              "      <th>6</th>\n",
              "      <td>0.6</td>\n",
              "      <td>(Ovo, Cebola)</td>\n",
              "    </tr>\n",
              "    <tr>\n",
              "      <th>7</th>\n",
              "      <td>0.6</td>\n",
              "      <td>(Feijão, Iogurte)</td>\n",
              "    </tr>\n",
              "    <tr>\n",
              "      <th>8</th>\n",
              "      <td>0.6</td>\n",
              "      <td>(Feijão, Leite)</td>\n",
              "    </tr>\n",
              "    <tr>\n",
              "      <th>9</th>\n",
              "      <td>0.8</td>\n",
              "      <td>(Feijão, Ovo)</td>\n",
              "    </tr>\n",
              "    <tr>\n",
              "      <th>10</th>\n",
              "      <td>0.6</td>\n",
              "      <td>(Feijão, Ovo, Cebola)</td>\n",
              "    </tr>\n",
              "  </tbody>\n",
              "</table>\n",
              "</div>\n",
              "      <button class=\"colab-df-convert\" onclick=\"convertToInteractive('df-33e86601-e3b0-46fc-9c07-ce648395ab12')\"\n",
              "              title=\"Convert this dataframe to an interactive table.\"\n",
              "              style=\"display:none;\">\n",
              "        \n",
              "  <svg xmlns=\"http://www.w3.org/2000/svg\" height=\"24px\"viewBox=\"0 0 24 24\"\n",
              "       width=\"24px\">\n",
              "    <path d=\"M0 0h24v24H0V0z\" fill=\"none\"/>\n",
              "    <path d=\"M18.56 5.44l.94 2.06.94-2.06 2.06-.94-2.06-.94-.94-2.06-.94 2.06-2.06.94zm-11 1L8.5 8.5l.94-2.06 2.06-.94-2.06-.94L8.5 2.5l-.94 2.06-2.06.94zm10 10l.94 2.06.94-2.06 2.06-.94-2.06-.94-.94-2.06-.94 2.06-2.06.94z\"/><path d=\"M17.41 7.96l-1.37-1.37c-.4-.4-.92-.59-1.43-.59-.52 0-1.04.2-1.43.59L10.3 9.45l-7.72 7.72c-.78.78-.78 2.05 0 2.83L4 21.41c.39.39.9.59 1.41.59.51 0 1.02-.2 1.41-.59l7.78-7.78 2.81-2.81c.8-.78.8-2.07 0-2.86zM5.41 20L4 18.59l7.72-7.72 1.47 1.35L5.41 20z\"/>\n",
              "  </svg>\n",
              "      </button>\n",
              "      \n",
              "  <style>\n",
              "    .colab-df-container {\n",
              "      display:flex;\n",
              "      flex-wrap:wrap;\n",
              "      gap: 12px;\n",
              "    }\n",
              "\n",
              "    .colab-df-convert {\n",
              "      background-color: #E8F0FE;\n",
              "      border: none;\n",
              "      border-radius: 50%;\n",
              "      cursor: pointer;\n",
              "      display: none;\n",
              "      fill: #1967D2;\n",
              "      height: 32px;\n",
              "      padding: 0 0 0 0;\n",
              "      width: 32px;\n",
              "    }\n",
              "\n",
              "    .colab-df-convert:hover {\n",
              "      background-color: #E2EBFA;\n",
              "      box-shadow: 0px 1px 2px rgba(60, 64, 67, 0.3), 0px 1px 3px 1px rgba(60, 64, 67, 0.15);\n",
              "      fill: #174EA6;\n",
              "    }\n",
              "\n",
              "    [theme=dark] .colab-df-convert {\n",
              "      background-color: #3B4455;\n",
              "      fill: #D2E3FC;\n",
              "    }\n",
              "\n",
              "    [theme=dark] .colab-df-convert:hover {\n",
              "      background-color: #434B5C;\n",
              "      box-shadow: 0px 1px 3px 1px rgba(0, 0, 0, 0.15);\n",
              "      filter: drop-shadow(0px 1px 2px rgba(0, 0, 0, 0.3));\n",
              "      fill: #FFFFFF;\n",
              "    }\n",
              "  </style>\n",
              "\n",
              "      <script>\n",
              "        const buttonEl =\n",
              "          document.querySelector('#df-33e86601-e3b0-46fc-9c07-ce648395ab12 button.colab-df-convert');\n",
              "        buttonEl.style.display =\n",
              "          google.colab.kernel.accessAllowed ? 'block' : 'none';\n",
              "\n",
              "        async function convertToInteractive(key) {\n",
              "          const element = document.querySelector('#df-33e86601-e3b0-46fc-9c07-ce648395ab12');\n",
              "          const dataTable =\n",
              "            await google.colab.kernel.invokeFunction('convertToInteractive',\n",
              "                                                     [key], {});\n",
              "          if (!dataTable) return;\n",
              "\n",
              "          const docLinkHtml = 'Like what you see? Visit the ' +\n",
              "            '<a target=\"_blank\" href=https://colab.research.google.com/notebooks/data_table.ipynb>data table notebook</a>'\n",
              "            + ' to learn more about interactive tables.';\n",
              "          element.innerHTML = '';\n",
              "          dataTable['output_type'] = 'display_data';\n",
              "          await google.colab.output.renderOutput(dataTable, element);\n",
              "          const docLink = document.createElement('div');\n",
              "          docLink.innerHTML = docLinkHtml;\n",
              "          element.appendChild(docLink);\n",
              "        }\n",
              "      </script>\n",
              "    </div>\n",
              "  </div>\n",
              "  "
            ]
          },
          "metadata": {},
          "execution_count": 166
        }
      ],
      "source": [
        "# Calcula os conjuntos de itens frequentes, com suporte minimo de 0.6\n",
        "frequent_itemsets = apriori(df, min_support=0.6, use_colnames=True)\n",
        "frequent_itemsets"
      ]
    },
    {
      "cell_type": "markdown",
      "metadata": {
        "id": "scf2zkGmvjIU"
      },
      "source": [
        "## Calcular regras de associacão utilizando o Apriori\n",
        "\n",
        "Com filtro de confiança de 0.1"
      ]
    },
    {
      "cell_type": "code",
      "execution_count": 167,
      "metadata": {
        "id": "b84sKUCfvjIV",
        "outputId": "8c7fd52f-d1f1-4264-9d2e-ebd4c8de03e9",
        "colab": {
          "base_uri": "https://localhost:8080/",
          "height": 647
        }
      },
      "outputs": [
        {
          "output_type": "execute_result",
          "data": {
            "text/plain": [
              "         antecedents       consequents  antecedent support  \\\n",
              "0           (Feijão)          (Cebola)                 1.0   \n",
              "1           (Cebola)          (Feijão)                 0.6   \n",
              "2              (Ovo)          (Cebola)                 0.8   \n",
              "3           (Cebola)             (Ovo)                 0.6   \n",
              "4           (Feijão)         (Iogurte)                 1.0   \n",
              "5          (Iogurte)          (Feijão)                 0.6   \n",
              "6           (Feijão)           (Leite)                 1.0   \n",
              "7            (Leite)          (Feijão)                 0.6   \n",
              "8           (Feijão)             (Ovo)                 1.0   \n",
              "9              (Ovo)          (Feijão)                 0.8   \n",
              "10     (Feijão, Ovo)          (Cebola)                 0.8   \n",
              "11  (Feijão, Cebola)             (Ovo)                 0.6   \n",
              "12     (Ovo, Cebola)          (Feijão)                 0.6   \n",
              "13          (Feijão)     (Ovo, Cebola)                 1.0   \n",
              "14             (Ovo)  (Feijão, Cebola)                 0.8   \n",
              "15          (Cebola)     (Feijão, Ovo)                 0.6   \n",
              "\n",
              "    consequent support  support  confidence  lift  leverage  conviction  \n",
              "0                  0.6      0.6        0.60  1.00      0.00         1.0  \n",
              "1                  1.0      0.6        1.00  1.00      0.00         inf  \n",
              "2                  0.6      0.6        0.75  1.25      0.12         1.6  \n",
              "3                  0.8      0.6        1.00  1.25      0.12         inf  \n",
              "4                  0.6      0.6        0.60  1.00      0.00         1.0  \n",
              "5                  1.0      0.6        1.00  1.00      0.00         inf  \n",
              "6                  0.6      0.6        0.60  1.00      0.00         1.0  \n",
              "7                  1.0      0.6        1.00  1.00      0.00         inf  \n",
              "8                  0.8      0.8        0.80  1.00      0.00         1.0  \n",
              "9                  1.0      0.8        1.00  1.00      0.00         inf  \n",
              "10                 0.6      0.6        0.75  1.25      0.12         1.6  \n",
              "11                 0.8      0.6        1.00  1.25      0.12         inf  \n",
              "12                 1.0      0.6        1.00  1.00      0.00         inf  \n",
              "13                 0.6      0.6        0.60  1.00      0.00         1.0  \n",
              "14                 0.6      0.6        0.75  1.25      0.12         1.6  \n",
              "15                 0.8      0.6        1.00  1.25      0.12         inf  "
            ],
            "text/html": [
              "\n",
              "  <div id=\"df-a09cf8dc-5c83-4337-9570-a2607d547059\">\n",
              "    <div class=\"colab-df-container\">\n",
              "      <div>\n",
              "<style scoped>\n",
              "    .dataframe tbody tr th:only-of-type {\n",
              "        vertical-align: middle;\n",
              "    }\n",
              "\n",
              "    .dataframe tbody tr th {\n",
              "        vertical-align: top;\n",
              "    }\n",
              "\n",
              "    .dataframe thead th {\n",
              "        text-align: right;\n",
              "    }\n",
              "</style>\n",
              "<table border=\"1\" class=\"dataframe\">\n",
              "  <thead>\n",
              "    <tr style=\"text-align: right;\">\n",
              "      <th></th>\n",
              "      <th>antecedents</th>\n",
              "      <th>consequents</th>\n",
              "      <th>antecedent support</th>\n",
              "      <th>consequent support</th>\n",
              "      <th>support</th>\n",
              "      <th>confidence</th>\n",
              "      <th>lift</th>\n",
              "      <th>leverage</th>\n",
              "      <th>conviction</th>\n",
              "    </tr>\n",
              "  </thead>\n",
              "  <tbody>\n",
              "    <tr>\n",
              "      <th>0</th>\n",
              "      <td>(Feijão)</td>\n",
              "      <td>(Cebola)</td>\n",
              "      <td>1.0</td>\n",
              "      <td>0.6</td>\n",
              "      <td>0.6</td>\n",
              "      <td>0.60</td>\n",
              "      <td>1.00</td>\n",
              "      <td>0.00</td>\n",
              "      <td>1.0</td>\n",
              "    </tr>\n",
              "    <tr>\n",
              "      <th>1</th>\n",
              "      <td>(Cebola)</td>\n",
              "      <td>(Feijão)</td>\n",
              "      <td>0.6</td>\n",
              "      <td>1.0</td>\n",
              "      <td>0.6</td>\n",
              "      <td>1.00</td>\n",
              "      <td>1.00</td>\n",
              "      <td>0.00</td>\n",
              "      <td>inf</td>\n",
              "    </tr>\n",
              "    <tr>\n",
              "      <th>2</th>\n",
              "      <td>(Ovo)</td>\n",
              "      <td>(Cebola)</td>\n",
              "      <td>0.8</td>\n",
              "      <td>0.6</td>\n",
              "      <td>0.6</td>\n",
              "      <td>0.75</td>\n",
              "      <td>1.25</td>\n",
              "      <td>0.12</td>\n",
              "      <td>1.6</td>\n",
              "    </tr>\n",
              "    <tr>\n",
              "      <th>3</th>\n",
              "      <td>(Cebola)</td>\n",
              "      <td>(Ovo)</td>\n",
              "      <td>0.6</td>\n",
              "      <td>0.8</td>\n",
              "      <td>0.6</td>\n",
              "      <td>1.00</td>\n",
              "      <td>1.25</td>\n",
              "      <td>0.12</td>\n",
              "      <td>inf</td>\n",
              "    </tr>\n",
              "    <tr>\n",
              "      <th>4</th>\n",
              "      <td>(Feijão)</td>\n",
              "      <td>(Iogurte)</td>\n",
              "      <td>1.0</td>\n",
              "      <td>0.6</td>\n",
              "      <td>0.6</td>\n",
              "      <td>0.60</td>\n",
              "      <td>1.00</td>\n",
              "      <td>0.00</td>\n",
              "      <td>1.0</td>\n",
              "    </tr>\n",
              "    <tr>\n",
              "      <th>5</th>\n",
              "      <td>(Iogurte)</td>\n",
              "      <td>(Feijão)</td>\n",
              "      <td>0.6</td>\n",
              "      <td>1.0</td>\n",
              "      <td>0.6</td>\n",
              "      <td>1.00</td>\n",
              "      <td>1.00</td>\n",
              "      <td>0.00</td>\n",
              "      <td>inf</td>\n",
              "    </tr>\n",
              "    <tr>\n",
              "      <th>6</th>\n",
              "      <td>(Feijão)</td>\n",
              "      <td>(Leite)</td>\n",
              "      <td>1.0</td>\n",
              "      <td>0.6</td>\n",
              "      <td>0.6</td>\n",
              "      <td>0.60</td>\n",
              "      <td>1.00</td>\n",
              "      <td>0.00</td>\n",
              "      <td>1.0</td>\n",
              "    </tr>\n",
              "    <tr>\n",
              "      <th>7</th>\n",
              "      <td>(Leite)</td>\n",
              "      <td>(Feijão)</td>\n",
              "      <td>0.6</td>\n",
              "      <td>1.0</td>\n",
              "      <td>0.6</td>\n",
              "      <td>1.00</td>\n",
              "      <td>1.00</td>\n",
              "      <td>0.00</td>\n",
              "      <td>inf</td>\n",
              "    </tr>\n",
              "    <tr>\n",
              "      <th>8</th>\n",
              "      <td>(Feijão)</td>\n",
              "      <td>(Ovo)</td>\n",
              "      <td>1.0</td>\n",
              "      <td>0.8</td>\n",
              "      <td>0.8</td>\n",
              "      <td>0.80</td>\n",
              "      <td>1.00</td>\n",
              "      <td>0.00</td>\n",
              "      <td>1.0</td>\n",
              "    </tr>\n",
              "    <tr>\n",
              "      <th>9</th>\n",
              "      <td>(Ovo)</td>\n",
              "      <td>(Feijão)</td>\n",
              "      <td>0.8</td>\n",
              "      <td>1.0</td>\n",
              "      <td>0.8</td>\n",
              "      <td>1.00</td>\n",
              "      <td>1.00</td>\n",
              "      <td>0.00</td>\n",
              "      <td>inf</td>\n",
              "    </tr>\n",
              "    <tr>\n",
              "      <th>10</th>\n",
              "      <td>(Feijão, Ovo)</td>\n",
              "      <td>(Cebola)</td>\n",
              "      <td>0.8</td>\n",
              "      <td>0.6</td>\n",
              "      <td>0.6</td>\n",
              "      <td>0.75</td>\n",
              "      <td>1.25</td>\n",
              "      <td>0.12</td>\n",
              "      <td>1.6</td>\n",
              "    </tr>\n",
              "    <tr>\n",
              "      <th>11</th>\n",
              "      <td>(Feijão, Cebola)</td>\n",
              "      <td>(Ovo)</td>\n",
              "      <td>0.6</td>\n",
              "      <td>0.8</td>\n",
              "      <td>0.6</td>\n",
              "      <td>1.00</td>\n",
              "      <td>1.25</td>\n",
              "      <td>0.12</td>\n",
              "      <td>inf</td>\n",
              "    </tr>\n",
              "    <tr>\n",
              "      <th>12</th>\n",
              "      <td>(Ovo, Cebola)</td>\n",
              "      <td>(Feijão)</td>\n",
              "      <td>0.6</td>\n",
              "      <td>1.0</td>\n",
              "      <td>0.6</td>\n",
              "      <td>1.00</td>\n",
              "      <td>1.00</td>\n",
              "      <td>0.00</td>\n",
              "      <td>inf</td>\n",
              "    </tr>\n",
              "    <tr>\n",
              "      <th>13</th>\n",
              "      <td>(Feijão)</td>\n",
              "      <td>(Ovo, Cebola)</td>\n",
              "      <td>1.0</td>\n",
              "      <td>0.6</td>\n",
              "      <td>0.6</td>\n",
              "      <td>0.60</td>\n",
              "      <td>1.00</td>\n",
              "      <td>0.00</td>\n",
              "      <td>1.0</td>\n",
              "    </tr>\n",
              "    <tr>\n",
              "      <th>14</th>\n",
              "      <td>(Ovo)</td>\n",
              "      <td>(Feijão, Cebola)</td>\n",
              "      <td>0.8</td>\n",
              "      <td>0.6</td>\n",
              "      <td>0.6</td>\n",
              "      <td>0.75</td>\n",
              "      <td>1.25</td>\n",
              "      <td>0.12</td>\n",
              "      <td>1.6</td>\n",
              "    </tr>\n",
              "    <tr>\n",
              "      <th>15</th>\n",
              "      <td>(Cebola)</td>\n",
              "      <td>(Feijão, Ovo)</td>\n",
              "      <td>0.6</td>\n",
              "      <td>0.8</td>\n",
              "      <td>0.6</td>\n",
              "      <td>1.00</td>\n",
              "      <td>1.25</td>\n",
              "      <td>0.12</td>\n",
              "      <td>inf</td>\n",
              "    </tr>\n",
              "  </tbody>\n",
              "</table>\n",
              "</div>\n",
              "      <button class=\"colab-df-convert\" onclick=\"convertToInteractive('df-a09cf8dc-5c83-4337-9570-a2607d547059')\"\n",
              "              title=\"Convert this dataframe to an interactive table.\"\n",
              "              style=\"display:none;\">\n",
              "        \n",
              "  <svg xmlns=\"http://www.w3.org/2000/svg\" height=\"24px\"viewBox=\"0 0 24 24\"\n",
              "       width=\"24px\">\n",
              "    <path d=\"M0 0h24v24H0V0z\" fill=\"none\"/>\n",
              "    <path d=\"M18.56 5.44l.94 2.06.94-2.06 2.06-.94-2.06-.94-.94-2.06-.94 2.06-2.06.94zm-11 1L8.5 8.5l.94-2.06 2.06-.94-2.06-.94L8.5 2.5l-.94 2.06-2.06.94zm10 10l.94 2.06.94-2.06 2.06-.94-2.06-.94-.94-2.06-.94 2.06-2.06.94z\"/><path d=\"M17.41 7.96l-1.37-1.37c-.4-.4-.92-.59-1.43-.59-.52 0-1.04.2-1.43.59L10.3 9.45l-7.72 7.72c-.78.78-.78 2.05 0 2.83L4 21.41c.39.39.9.59 1.41.59.51 0 1.02-.2 1.41-.59l7.78-7.78 2.81-2.81c.8-.78.8-2.07 0-2.86zM5.41 20L4 18.59l7.72-7.72 1.47 1.35L5.41 20z\"/>\n",
              "  </svg>\n",
              "      </button>\n",
              "      \n",
              "  <style>\n",
              "    .colab-df-container {\n",
              "      display:flex;\n",
              "      flex-wrap:wrap;\n",
              "      gap: 12px;\n",
              "    }\n",
              "\n",
              "    .colab-df-convert {\n",
              "      background-color: #E8F0FE;\n",
              "      border: none;\n",
              "      border-radius: 50%;\n",
              "      cursor: pointer;\n",
              "      display: none;\n",
              "      fill: #1967D2;\n",
              "      height: 32px;\n",
              "      padding: 0 0 0 0;\n",
              "      width: 32px;\n",
              "    }\n",
              "\n",
              "    .colab-df-convert:hover {\n",
              "      background-color: #E2EBFA;\n",
              "      box-shadow: 0px 1px 2px rgba(60, 64, 67, 0.3), 0px 1px 3px 1px rgba(60, 64, 67, 0.15);\n",
              "      fill: #174EA6;\n",
              "    }\n",
              "\n",
              "    [theme=dark] .colab-df-convert {\n",
              "      background-color: #3B4455;\n",
              "      fill: #D2E3FC;\n",
              "    }\n",
              "\n",
              "    [theme=dark] .colab-df-convert:hover {\n",
              "      background-color: #434B5C;\n",
              "      box-shadow: 0px 1px 3px 1px rgba(0, 0, 0, 0.15);\n",
              "      filter: drop-shadow(0px 1px 2px rgba(0, 0, 0, 0.3));\n",
              "      fill: #FFFFFF;\n",
              "    }\n",
              "  </style>\n",
              "\n",
              "      <script>\n",
              "        const buttonEl =\n",
              "          document.querySelector('#df-a09cf8dc-5c83-4337-9570-a2607d547059 button.colab-df-convert');\n",
              "        buttonEl.style.display =\n",
              "          google.colab.kernel.accessAllowed ? 'block' : 'none';\n",
              "\n",
              "        async function convertToInteractive(key) {\n",
              "          const element = document.querySelector('#df-a09cf8dc-5c83-4337-9570-a2607d547059');\n",
              "          const dataTable =\n",
              "            await google.colab.kernel.invokeFunction('convertToInteractive',\n",
              "                                                     [key], {});\n",
              "          if (!dataTable) return;\n",
              "\n",
              "          const docLinkHtml = 'Like what you see? Visit the ' +\n",
              "            '<a target=\"_blank\" href=https://colab.research.google.com/notebooks/data_table.ipynb>data table notebook</a>'\n",
              "            + ' to learn more about interactive tables.';\n",
              "          element.innerHTML = '';\n",
              "          dataTable['output_type'] = 'display_data';\n",
              "          await google.colab.output.renderOutput(dataTable, element);\n",
              "          const docLink = document.createElement('div');\n",
              "          docLink.innerHTML = docLinkHtml;\n",
              "          element.appendChild(docLink);\n",
              "        }\n",
              "      </script>\n",
              "    </div>\n",
              "  </div>\n",
              "  "
            ]
          },
          "metadata": {},
          "execution_count": 167
        }
      ],
      "source": [
        "rules = association_rules(frequent_itemsets, metric='confidence', min_threshold=0.1)\n",
        "rules"
      ]
    },
    {
      "cell_type": "code",
      "execution_count": 168,
      "metadata": {
        "id": "XYH3HLAzvjIX",
        "outputId": "d40d9a72-8973-4f13-d546-1d5c22f12e98",
        "colab": {
          "base_uri": "https://localhost:8080/",
          "height": 410
        }
      },
      "outputs": [
        {
          "output_type": "execute_result",
          "data": {
            "text/plain": [
              "         antecedents    consequents  antecedent support  consequent support  \\\n",
              "1           (Cebola)       (Feijão)                 0.6                 1.0   \n",
              "3           (Cebola)          (Ovo)                 0.6                 0.8   \n",
              "5          (Iogurte)       (Feijão)                 0.6                 1.0   \n",
              "7            (Leite)       (Feijão)                 0.6                 1.0   \n",
              "8           (Feijão)          (Ovo)                 1.0                 0.8   \n",
              "9              (Ovo)       (Feijão)                 0.8                 1.0   \n",
              "11  (Feijão, Cebola)          (Ovo)                 0.6                 0.8   \n",
              "12     (Ovo, Cebola)       (Feijão)                 0.6                 1.0   \n",
              "15          (Cebola)  (Feijão, Ovo)                 0.6                 0.8   \n",
              "\n",
              "    support  confidence  lift  leverage  conviction  \n",
              "1       0.6         1.0  1.00      0.00         inf  \n",
              "3       0.6         1.0  1.25      0.12         inf  \n",
              "5       0.6         1.0  1.00      0.00         inf  \n",
              "7       0.6         1.0  1.00      0.00         inf  \n",
              "8       0.8         0.8  1.00      0.00         1.0  \n",
              "9       0.8         1.0  1.00      0.00         inf  \n",
              "11      0.6         1.0  1.25      0.12         inf  \n",
              "12      0.6         1.0  1.00      0.00         inf  \n",
              "15      0.6         1.0  1.25      0.12         inf  "
            ],
            "text/html": [
              "\n",
              "  <div id=\"df-603fd8d6-8628-4ea3-80c8-8c600c7b4a95\">\n",
              "    <div class=\"colab-df-container\">\n",
              "      <div>\n",
              "<style scoped>\n",
              "    .dataframe tbody tr th:only-of-type {\n",
              "        vertical-align: middle;\n",
              "    }\n",
              "\n",
              "    .dataframe tbody tr th {\n",
              "        vertical-align: top;\n",
              "    }\n",
              "\n",
              "    .dataframe thead th {\n",
              "        text-align: right;\n",
              "    }\n",
              "</style>\n",
              "<table border=\"1\" class=\"dataframe\">\n",
              "  <thead>\n",
              "    <tr style=\"text-align: right;\">\n",
              "      <th></th>\n",
              "      <th>antecedents</th>\n",
              "      <th>consequents</th>\n",
              "      <th>antecedent support</th>\n",
              "      <th>consequent support</th>\n",
              "      <th>support</th>\n",
              "      <th>confidence</th>\n",
              "      <th>lift</th>\n",
              "      <th>leverage</th>\n",
              "      <th>conviction</th>\n",
              "    </tr>\n",
              "  </thead>\n",
              "  <tbody>\n",
              "    <tr>\n",
              "      <th>1</th>\n",
              "      <td>(Cebola)</td>\n",
              "      <td>(Feijão)</td>\n",
              "      <td>0.6</td>\n",
              "      <td>1.0</td>\n",
              "      <td>0.6</td>\n",
              "      <td>1.0</td>\n",
              "      <td>1.00</td>\n",
              "      <td>0.00</td>\n",
              "      <td>inf</td>\n",
              "    </tr>\n",
              "    <tr>\n",
              "      <th>3</th>\n",
              "      <td>(Cebola)</td>\n",
              "      <td>(Ovo)</td>\n",
              "      <td>0.6</td>\n",
              "      <td>0.8</td>\n",
              "      <td>0.6</td>\n",
              "      <td>1.0</td>\n",
              "      <td>1.25</td>\n",
              "      <td>0.12</td>\n",
              "      <td>inf</td>\n",
              "    </tr>\n",
              "    <tr>\n",
              "      <th>5</th>\n",
              "      <td>(Iogurte)</td>\n",
              "      <td>(Feijão)</td>\n",
              "      <td>0.6</td>\n",
              "      <td>1.0</td>\n",
              "      <td>0.6</td>\n",
              "      <td>1.0</td>\n",
              "      <td>1.00</td>\n",
              "      <td>0.00</td>\n",
              "      <td>inf</td>\n",
              "    </tr>\n",
              "    <tr>\n",
              "      <th>7</th>\n",
              "      <td>(Leite)</td>\n",
              "      <td>(Feijão)</td>\n",
              "      <td>0.6</td>\n",
              "      <td>1.0</td>\n",
              "      <td>0.6</td>\n",
              "      <td>1.0</td>\n",
              "      <td>1.00</td>\n",
              "      <td>0.00</td>\n",
              "      <td>inf</td>\n",
              "    </tr>\n",
              "    <tr>\n",
              "      <th>8</th>\n",
              "      <td>(Feijão)</td>\n",
              "      <td>(Ovo)</td>\n",
              "      <td>1.0</td>\n",
              "      <td>0.8</td>\n",
              "      <td>0.8</td>\n",
              "      <td>0.8</td>\n",
              "      <td>1.00</td>\n",
              "      <td>0.00</td>\n",
              "      <td>1.0</td>\n",
              "    </tr>\n",
              "    <tr>\n",
              "      <th>9</th>\n",
              "      <td>(Ovo)</td>\n",
              "      <td>(Feijão)</td>\n",
              "      <td>0.8</td>\n",
              "      <td>1.0</td>\n",
              "      <td>0.8</td>\n",
              "      <td>1.0</td>\n",
              "      <td>1.00</td>\n",
              "      <td>0.00</td>\n",
              "      <td>inf</td>\n",
              "    </tr>\n",
              "    <tr>\n",
              "      <th>11</th>\n",
              "      <td>(Feijão, Cebola)</td>\n",
              "      <td>(Ovo)</td>\n",
              "      <td>0.6</td>\n",
              "      <td>0.8</td>\n",
              "      <td>0.6</td>\n",
              "      <td>1.0</td>\n",
              "      <td>1.25</td>\n",
              "      <td>0.12</td>\n",
              "      <td>inf</td>\n",
              "    </tr>\n",
              "    <tr>\n",
              "      <th>12</th>\n",
              "      <td>(Ovo, Cebola)</td>\n",
              "      <td>(Feijão)</td>\n",
              "      <td>0.6</td>\n",
              "      <td>1.0</td>\n",
              "      <td>0.6</td>\n",
              "      <td>1.0</td>\n",
              "      <td>1.00</td>\n",
              "      <td>0.00</td>\n",
              "      <td>inf</td>\n",
              "    </tr>\n",
              "    <tr>\n",
              "      <th>15</th>\n",
              "      <td>(Cebola)</td>\n",
              "      <td>(Feijão, Ovo)</td>\n",
              "      <td>0.6</td>\n",
              "      <td>0.8</td>\n",
              "      <td>0.6</td>\n",
              "      <td>1.0</td>\n",
              "      <td>1.25</td>\n",
              "      <td>0.12</td>\n",
              "      <td>inf</td>\n",
              "    </tr>\n",
              "  </tbody>\n",
              "</table>\n",
              "</div>\n",
              "      <button class=\"colab-df-convert\" onclick=\"convertToInteractive('df-603fd8d6-8628-4ea3-80c8-8c600c7b4a95')\"\n",
              "              title=\"Convert this dataframe to an interactive table.\"\n",
              "              style=\"display:none;\">\n",
              "        \n",
              "  <svg xmlns=\"http://www.w3.org/2000/svg\" height=\"24px\"viewBox=\"0 0 24 24\"\n",
              "       width=\"24px\">\n",
              "    <path d=\"M0 0h24v24H0V0z\" fill=\"none\"/>\n",
              "    <path d=\"M18.56 5.44l.94 2.06.94-2.06 2.06-.94-2.06-.94-.94-2.06-.94 2.06-2.06.94zm-11 1L8.5 8.5l.94-2.06 2.06-.94-2.06-.94L8.5 2.5l-.94 2.06-2.06.94zm10 10l.94 2.06.94-2.06 2.06-.94-2.06-.94-.94-2.06-.94 2.06-2.06.94z\"/><path d=\"M17.41 7.96l-1.37-1.37c-.4-.4-.92-.59-1.43-.59-.52 0-1.04.2-1.43.59L10.3 9.45l-7.72 7.72c-.78.78-.78 2.05 0 2.83L4 21.41c.39.39.9.59 1.41.59.51 0 1.02-.2 1.41-.59l7.78-7.78 2.81-2.81c.8-.78.8-2.07 0-2.86zM5.41 20L4 18.59l7.72-7.72 1.47 1.35L5.41 20z\"/>\n",
              "  </svg>\n",
              "      </button>\n",
              "      \n",
              "  <style>\n",
              "    .colab-df-container {\n",
              "      display:flex;\n",
              "      flex-wrap:wrap;\n",
              "      gap: 12px;\n",
              "    }\n",
              "\n",
              "    .colab-df-convert {\n",
              "      background-color: #E8F0FE;\n",
              "      border: none;\n",
              "      border-radius: 50%;\n",
              "      cursor: pointer;\n",
              "      display: none;\n",
              "      fill: #1967D2;\n",
              "      height: 32px;\n",
              "      padding: 0 0 0 0;\n",
              "      width: 32px;\n",
              "    }\n",
              "\n",
              "    .colab-df-convert:hover {\n",
              "      background-color: #E2EBFA;\n",
              "      box-shadow: 0px 1px 2px rgba(60, 64, 67, 0.3), 0px 1px 3px 1px rgba(60, 64, 67, 0.15);\n",
              "      fill: #174EA6;\n",
              "    }\n",
              "\n",
              "    [theme=dark] .colab-df-convert {\n",
              "      background-color: #3B4455;\n",
              "      fill: #D2E3FC;\n",
              "    }\n",
              "\n",
              "    [theme=dark] .colab-df-convert:hover {\n",
              "      background-color: #434B5C;\n",
              "      box-shadow: 0px 1px 3px 1px rgba(0, 0, 0, 0.15);\n",
              "      filter: drop-shadow(0px 1px 2px rgba(0, 0, 0, 0.3));\n",
              "      fill: #FFFFFF;\n",
              "    }\n",
              "  </style>\n",
              "\n",
              "      <script>\n",
              "        const buttonEl =\n",
              "          document.querySelector('#df-603fd8d6-8628-4ea3-80c8-8c600c7b4a95 button.colab-df-convert');\n",
              "        buttonEl.style.display =\n",
              "          google.colab.kernel.accessAllowed ? 'block' : 'none';\n",
              "\n",
              "        async function convertToInteractive(key) {\n",
              "          const element = document.querySelector('#df-603fd8d6-8628-4ea3-80c8-8c600c7b4a95');\n",
              "          const dataTable =\n",
              "            await google.colab.kernel.invokeFunction('convertToInteractive',\n",
              "                                                     [key], {});\n",
              "          if (!dataTable) return;\n",
              "\n",
              "          const docLinkHtml = 'Like what you see? Visit the ' +\n",
              "            '<a target=\"_blank\" href=https://colab.research.google.com/notebooks/data_table.ipynb>data table notebook</a>'\n",
              "            + ' to learn more about interactive tables.';\n",
              "          element.innerHTML = '';\n",
              "          dataTable['output_type'] = 'display_data';\n",
              "          await google.colab.output.renderOutput(dataTable, element);\n",
              "          const docLink = document.createElement('div');\n",
              "          docLink.innerHTML = docLinkHtml;\n",
              "          element.appendChild(docLink);\n",
              "        }\n",
              "      </script>\n",
              "    </div>\n",
              "  </div>\n",
              "  "
            ]
          },
          "metadata": {},
          "execution_count": 168
        }
      ],
      "source": [
        "# Filtro por 'confidence'. Pode ser feito por outros campos também\n",
        "rules[rules['confidence'] > 0.75]"
      ]
    },
    {
      "cell_type": "markdown",
      "metadata": {
        "id": "iTzgEQxdvjIY"
      },
      "source": [
        "# Exercícios\n",
        "\n",
        "Os exercícios abaixo são referentes ao conjunto de dados `OnlineRetail` que já foi utilizado em práticas anteriores"
      ]
    },
    {
      "cell_type": "markdown",
      "metadata": {
        "id": "SEGG2lSSvjIZ"
      },
      "source": [
        "Execute e não remova a célula abaixo antes de iniciar os exercícios. Faça todas as atividades manipulando a variável `df`."
      ]
    },
    {
      "cell_type": "code",
      "execution_count": 169,
      "metadata": {
        "id": "W4JbmDrAvjIZ"
      },
      "outputs": [],
      "source": [
        "# Atribui o dataframe com o estado \"original\" em uma variável isolada\n",
        "original_df = pd.read_excel('./OnlineRetail.xlsx')"
      ]
    },
    {
      "cell_type": "code",
      "source": [
        "df = original_df.copy()"
      ],
      "metadata": {
        "id": "rf9KJdVo-5Fz"
      },
      "execution_count": 170,
      "outputs": []
    },
    {
      "cell_type": "markdown",
      "metadata": {
        "id": "MCsHEXPFvjIb"
      },
      "source": [
        "## 1. Faça uma preparação dos dados.\n",
        "Antes de fazer a análise de regras de associação, é necessário que você trate alguns dados desse dataset. Essa prática é **extremamente** importante e comum, já que os dados que encntramos ~~quase nunca~~ nem sempre estão prontos para serem manipulados."
      ]
    },
    {
      "cell_type": "markdown",
      "metadata": {
        "id": "TwKx7WXwvjId"
      },
      "source": [
        "### 1.a. Remova os espaços em branco do começo e fim da coluna de Descrição do Produto\n",
        "Faça a alteração do dataframe reatribuindo a variável `df`.\n",
        "> Não use o argumento `inplace=True`\n",
        "\n",
        "Chame a função `q1.a.check()` no fim da célula para verificar a resposta.\n",
        "Você pode pedir dicas com `q1.a.hint()`"
      ]
    },
    {
      "cell_type": "code",
      "source": [
        "df.dtypes"
      ],
      "metadata": {
        "colab": {
          "base_uri": "https://localhost:8080/"
        },
        "id": "h1B39ohW9orA",
        "outputId": "2523cbbe-1e08-44f9-a83f-a17e5b91c74a"
      },
      "execution_count": 171,
      "outputs": [
        {
          "output_type": "execute_result",
          "data": {
            "text/plain": [
              "InvoiceNo              object\n",
              "StockCode              object\n",
              "Description            object\n",
              "Quantity                int64\n",
              "InvoiceDate    datetime64[ns]\n",
              "UnitPrice             float64\n",
              "CustomerID            float64\n",
              "Country                object\n",
              "dtype: object"
            ]
          },
          "metadata": {},
          "execution_count": 171
        }
      ]
    },
    {
      "cell_type": "code",
      "execution_count": 172,
      "metadata": {
        "id": "R_bobm8rvjIe",
        "colab": {
          "base_uri": "https://localhost:8080/",
          "height": 46
        },
        "outputId": "bfd8d97f-d17b-423e-f8ab-5344cc51c0cb"
      },
      "outputs": [
        {
          "output_type": "display_data",
          "data": {
            "text/plain": [
              "<IPython.core.display.Javascript object>"
            ],
            "application/javascript": [
              "parent.postMessage({\"jupyterEvent\": \"custom.exercise_interaction\", \"data\": {\"outcomeType\": 1, \"valueTowardsCompletion\": 1.0, \"interactionType\": 1, \"questionType\": 2, \"questionId\": \"1.1_Q1A\", \"learnToolsVersion\": \"1.0.7\", \"failureMessage\": \"\", \"exceptionClass\": \"\", \"trace\": \"\"}}, \"*\")"
            ]
          },
          "metadata": {}
        },
        {
          "output_type": "display_data",
          "data": {
            "text/plain": [
              "CORRETO: \n"
            ],
            "text/markdown": "<span style=\"color:#33cc33\">CORRETO:</span> \n\n"
          },
          "metadata": {}
        }
      ],
      "source": [
        "df['Description']=df['Description'].apply(lambda x: str(x).strip())\n",
        "\n",
        "# # df = ...\n",
        "\n",
        "q1.a.check()"
      ]
    },
    {
      "cell_type": "code",
      "source": [
        "df"
      ],
      "metadata": {
        "colab": {
          "base_uri": "https://localhost:8080/",
          "height": 641
        },
        "id": "ZNnUW7Al_SZs",
        "outputId": "23b835db-baf2-459d-cf71-26834125d47d"
      },
      "execution_count": 173,
      "outputs": [
        {
          "output_type": "execute_result",
          "data": {
            "text/plain": [
              "       InvoiceNo StockCode                          Description  Quantity  \\\n",
              "0         536365    85123A   WHITE HANGING HEART T-LIGHT HOLDER         6   \n",
              "1         536365     71053                  WHITE METAL LANTERN         6   \n",
              "2         536365    84406B       CREAM CUPID HEARTS COAT HANGER         8   \n",
              "3         536365    84029G  KNITTED UNION FLAG HOT WATER BOTTLE         6   \n",
              "4         536365    84029E       RED WOOLLY HOTTIE WHITE HEART.         6   \n",
              "...          ...       ...                                  ...       ...   \n",
              "541904    581587     22613          PACK OF 20 SPACEBOY NAPKINS        12   \n",
              "541905    581587     22899          CHILDREN'S APRON DOLLY GIRL         6   \n",
              "541906    581587     23254         CHILDRENS CUTLERY DOLLY GIRL         4   \n",
              "541907    581587     23255      CHILDRENS CUTLERY CIRCUS PARADE         4   \n",
              "541908    581587     22138         BAKING SET 9 PIECE RETROSPOT         3   \n",
              "\n",
              "               InvoiceDate  UnitPrice  CustomerID         Country  \n",
              "0      2010-12-01 08:26:00       2.55     17850.0  United Kingdom  \n",
              "1      2010-12-01 08:26:00       3.39     17850.0  United Kingdom  \n",
              "2      2010-12-01 08:26:00       2.75     17850.0  United Kingdom  \n",
              "3      2010-12-01 08:26:00       3.39     17850.0  United Kingdom  \n",
              "4      2010-12-01 08:26:00       3.39     17850.0  United Kingdom  \n",
              "...                    ...        ...         ...             ...  \n",
              "541904 2011-12-09 12:50:00       0.85     12680.0          France  \n",
              "541905 2011-12-09 12:50:00       2.10     12680.0          France  \n",
              "541906 2011-12-09 12:50:00       4.15     12680.0          France  \n",
              "541907 2011-12-09 12:50:00       4.15     12680.0          France  \n",
              "541908 2011-12-09 12:50:00       4.95     12680.0          France  \n",
              "\n",
              "[541909 rows x 8 columns]"
            ],
            "text/html": [
              "\n",
              "  <div id=\"df-0618e8f4-80b2-4e5e-8fdc-485c71351c40\">\n",
              "    <div class=\"colab-df-container\">\n",
              "      <div>\n",
              "<style scoped>\n",
              "    .dataframe tbody tr th:only-of-type {\n",
              "        vertical-align: middle;\n",
              "    }\n",
              "\n",
              "    .dataframe tbody tr th {\n",
              "        vertical-align: top;\n",
              "    }\n",
              "\n",
              "    .dataframe thead th {\n",
              "        text-align: right;\n",
              "    }\n",
              "</style>\n",
              "<table border=\"1\" class=\"dataframe\">\n",
              "  <thead>\n",
              "    <tr style=\"text-align: right;\">\n",
              "      <th></th>\n",
              "      <th>InvoiceNo</th>\n",
              "      <th>StockCode</th>\n",
              "      <th>Description</th>\n",
              "      <th>Quantity</th>\n",
              "      <th>InvoiceDate</th>\n",
              "      <th>UnitPrice</th>\n",
              "      <th>CustomerID</th>\n",
              "      <th>Country</th>\n",
              "    </tr>\n",
              "  </thead>\n",
              "  <tbody>\n",
              "    <tr>\n",
              "      <th>0</th>\n",
              "      <td>536365</td>\n",
              "      <td>85123A</td>\n",
              "      <td>WHITE HANGING HEART T-LIGHT HOLDER</td>\n",
              "      <td>6</td>\n",
              "      <td>2010-12-01 08:26:00</td>\n",
              "      <td>2.55</td>\n",
              "      <td>17850.0</td>\n",
              "      <td>United Kingdom</td>\n",
              "    </tr>\n",
              "    <tr>\n",
              "      <th>1</th>\n",
              "      <td>536365</td>\n",
              "      <td>71053</td>\n",
              "      <td>WHITE METAL LANTERN</td>\n",
              "      <td>6</td>\n",
              "      <td>2010-12-01 08:26:00</td>\n",
              "      <td>3.39</td>\n",
              "      <td>17850.0</td>\n",
              "      <td>United Kingdom</td>\n",
              "    </tr>\n",
              "    <tr>\n",
              "      <th>2</th>\n",
              "      <td>536365</td>\n",
              "      <td>84406B</td>\n",
              "      <td>CREAM CUPID HEARTS COAT HANGER</td>\n",
              "      <td>8</td>\n",
              "      <td>2010-12-01 08:26:00</td>\n",
              "      <td>2.75</td>\n",
              "      <td>17850.0</td>\n",
              "      <td>United Kingdom</td>\n",
              "    </tr>\n",
              "    <tr>\n",
              "      <th>3</th>\n",
              "      <td>536365</td>\n",
              "      <td>84029G</td>\n",
              "      <td>KNITTED UNION FLAG HOT WATER BOTTLE</td>\n",
              "      <td>6</td>\n",
              "      <td>2010-12-01 08:26:00</td>\n",
              "      <td>3.39</td>\n",
              "      <td>17850.0</td>\n",
              "      <td>United Kingdom</td>\n",
              "    </tr>\n",
              "    <tr>\n",
              "      <th>4</th>\n",
              "      <td>536365</td>\n",
              "      <td>84029E</td>\n",
              "      <td>RED WOOLLY HOTTIE WHITE HEART.</td>\n",
              "      <td>6</td>\n",
              "      <td>2010-12-01 08:26:00</td>\n",
              "      <td>3.39</td>\n",
              "      <td>17850.0</td>\n",
              "      <td>United Kingdom</td>\n",
              "    </tr>\n",
              "    <tr>\n",
              "      <th>...</th>\n",
              "      <td>...</td>\n",
              "      <td>...</td>\n",
              "      <td>...</td>\n",
              "      <td>...</td>\n",
              "      <td>...</td>\n",
              "      <td>...</td>\n",
              "      <td>...</td>\n",
              "      <td>...</td>\n",
              "    </tr>\n",
              "    <tr>\n",
              "      <th>541904</th>\n",
              "      <td>581587</td>\n",
              "      <td>22613</td>\n",
              "      <td>PACK OF 20 SPACEBOY NAPKINS</td>\n",
              "      <td>12</td>\n",
              "      <td>2011-12-09 12:50:00</td>\n",
              "      <td>0.85</td>\n",
              "      <td>12680.0</td>\n",
              "      <td>France</td>\n",
              "    </tr>\n",
              "    <tr>\n",
              "      <th>541905</th>\n",
              "      <td>581587</td>\n",
              "      <td>22899</td>\n",
              "      <td>CHILDREN'S APRON DOLLY GIRL</td>\n",
              "      <td>6</td>\n",
              "      <td>2011-12-09 12:50:00</td>\n",
              "      <td>2.10</td>\n",
              "      <td>12680.0</td>\n",
              "      <td>France</td>\n",
              "    </tr>\n",
              "    <tr>\n",
              "      <th>541906</th>\n",
              "      <td>581587</td>\n",
              "      <td>23254</td>\n",
              "      <td>CHILDRENS CUTLERY DOLLY GIRL</td>\n",
              "      <td>4</td>\n",
              "      <td>2011-12-09 12:50:00</td>\n",
              "      <td>4.15</td>\n",
              "      <td>12680.0</td>\n",
              "      <td>France</td>\n",
              "    </tr>\n",
              "    <tr>\n",
              "      <th>541907</th>\n",
              "      <td>581587</td>\n",
              "      <td>23255</td>\n",
              "      <td>CHILDRENS CUTLERY CIRCUS PARADE</td>\n",
              "      <td>4</td>\n",
              "      <td>2011-12-09 12:50:00</td>\n",
              "      <td>4.15</td>\n",
              "      <td>12680.0</td>\n",
              "      <td>France</td>\n",
              "    </tr>\n",
              "    <tr>\n",
              "      <th>541908</th>\n",
              "      <td>581587</td>\n",
              "      <td>22138</td>\n",
              "      <td>BAKING SET 9 PIECE RETROSPOT</td>\n",
              "      <td>3</td>\n",
              "      <td>2011-12-09 12:50:00</td>\n",
              "      <td>4.95</td>\n",
              "      <td>12680.0</td>\n",
              "      <td>France</td>\n",
              "    </tr>\n",
              "  </tbody>\n",
              "</table>\n",
              "<p>541909 rows × 8 columns</p>\n",
              "</div>\n",
              "      <button class=\"colab-df-convert\" onclick=\"convertToInteractive('df-0618e8f4-80b2-4e5e-8fdc-485c71351c40')\"\n",
              "              title=\"Convert this dataframe to an interactive table.\"\n",
              "              style=\"display:none;\">\n",
              "        \n",
              "  <svg xmlns=\"http://www.w3.org/2000/svg\" height=\"24px\"viewBox=\"0 0 24 24\"\n",
              "       width=\"24px\">\n",
              "    <path d=\"M0 0h24v24H0V0z\" fill=\"none\"/>\n",
              "    <path d=\"M18.56 5.44l.94 2.06.94-2.06 2.06-.94-2.06-.94-.94-2.06-.94 2.06-2.06.94zm-11 1L8.5 8.5l.94-2.06 2.06-.94-2.06-.94L8.5 2.5l-.94 2.06-2.06.94zm10 10l.94 2.06.94-2.06 2.06-.94-2.06-.94-.94-2.06-.94 2.06-2.06.94z\"/><path d=\"M17.41 7.96l-1.37-1.37c-.4-.4-.92-.59-1.43-.59-.52 0-1.04.2-1.43.59L10.3 9.45l-7.72 7.72c-.78.78-.78 2.05 0 2.83L4 21.41c.39.39.9.59 1.41.59.51 0 1.02-.2 1.41-.59l7.78-7.78 2.81-2.81c.8-.78.8-2.07 0-2.86zM5.41 20L4 18.59l7.72-7.72 1.47 1.35L5.41 20z\"/>\n",
              "  </svg>\n",
              "      </button>\n",
              "      \n",
              "  <style>\n",
              "    .colab-df-container {\n",
              "      display:flex;\n",
              "      flex-wrap:wrap;\n",
              "      gap: 12px;\n",
              "    }\n",
              "\n",
              "    .colab-df-convert {\n",
              "      background-color: #E8F0FE;\n",
              "      border: none;\n",
              "      border-radius: 50%;\n",
              "      cursor: pointer;\n",
              "      display: none;\n",
              "      fill: #1967D2;\n",
              "      height: 32px;\n",
              "      padding: 0 0 0 0;\n",
              "      width: 32px;\n",
              "    }\n",
              "\n",
              "    .colab-df-convert:hover {\n",
              "      background-color: #E2EBFA;\n",
              "      box-shadow: 0px 1px 2px rgba(60, 64, 67, 0.3), 0px 1px 3px 1px rgba(60, 64, 67, 0.15);\n",
              "      fill: #174EA6;\n",
              "    }\n",
              "\n",
              "    [theme=dark] .colab-df-convert {\n",
              "      background-color: #3B4455;\n",
              "      fill: #D2E3FC;\n",
              "    }\n",
              "\n",
              "    [theme=dark] .colab-df-convert:hover {\n",
              "      background-color: #434B5C;\n",
              "      box-shadow: 0px 1px 3px 1px rgba(0, 0, 0, 0.15);\n",
              "      filter: drop-shadow(0px 1px 2px rgba(0, 0, 0, 0.3));\n",
              "      fill: #FFFFFF;\n",
              "    }\n",
              "  </style>\n",
              "\n",
              "      <script>\n",
              "        const buttonEl =\n",
              "          document.querySelector('#df-0618e8f4-80b2-4e5e-8fdc-485c71351c40 button.colab-df-convert');\n",
              "        buttonEl.style.display =\n",
              "          google.colab.kernel.accessAllowed ? 'block' : 'none';\n",
              "\n",
              "        async function convertToInteractive(key) {\n",
              "          const element = document.querySelector('#df-0618e8f4-80b2-4e5e-8fdc-485c71351c40');\n",
              "          const dataTable =\n",
              "            await google.colab.kernel.invokeFunction('convertToInteractive',\n",
              "                                                     [key], {});\n",
              "          if (!dataTable) return;\n",
              "\n",
              "          const docLinkHtml = 'Like what you see? Visit the ' +\n",
              "            '<a target=\"_blank\" href=https://colab.research.google.com/notebooks/data_table.ipynb>data table notebook</a>'\n",
              "            + ' to learn more about interactive tables.';\n",
              "          element.innerHTML = '';\n",
              "          dataTable['output_type'] = 'display_data';\n",
              "          await google.colab.output.renderOutput(dataTable, element);\n",
              "          const docLink = document.createElement('div');\n",
              "          docLink.innerHTML = docLinkHtml;\n",
              "          element.appendChild(docLink);\n",
              "        }\n",
              "      </script>\n",
              "    </div>\n",
              "  </div>\n",
              "  "
            ]
          },
          "metadata": {},
          "execution_count": 173
        }
      ]
    },
    {
      "cell_type": "markdown",
      "metadata": {
        "id": "LgIMpcMhvjIe"
      },
      "source": [
        "### 1.b. Remova as instâncias que não possuem um Número de Nota Fiscal\n",
        "Faça a alteração do dataframe reatribuindo a variável `df`.\n",
        "> Não use o argumento `inplace=True`\n",
        "\n",
        "Chame a função `q1.b.check()` no fim da célula para verificar a resposta.\n",
        "Você pode pedir dicas com `q1.b.hint()`"
      ]
    },
    {
      "cell_type": "code",
      "execution_count": 174,
      "metadata": {
        "id": "_JNIGluLvjIf",
        "colab": {
          "base_uri": "https://localhost:8080/",
          "height": 46
        },
        "outputId": "1fa76787-13da-4b36-a4b4-ca68b316cb42"
      },
      "outputs": [
        {
          "output_type": "display_data",
          "data": {
            "text/plain": [
              "<IPython.core.display.Javascript object>"
            ],
            "application/javascript": [
              "parent.postMessage({\"jupyterEvent\": \"custom.exercise_interaction\", \"data\": {\"outcomeType\": 1, \"valueTowardsCompletion\": 1.0, \"interactionType\": 1, \"questionType\": 2, \"questionId\": \"1.2_Q1B\", \"learnToolsVersion\": \"1.0.7\", \"failureMessage\": \"\", \"exceptionClass\": \"\", \"trace\": \"\"}}, \"*\")"
            ]
          },
          "metadata": {}
        },
        {
          "output_type": "display_data",
          "data": {
            "text/plain": [
              "CORRETO: \n"
            ],
            "text/markdown": "<span style=\"color:#33cc33\">CORRETO:</span> \n\n"
          },
          "metadata": {}
        }
      ],
      "source": [
        "df['InvoiceNo']=df['InvoiceNo'].dropna()\n",
        "\n",
        "# q1.b.hint()\n",
        "\n",
        "# df = ...\n",
        "\n",
        "q1.b.check()"
      ]
    },
    {
      "cell_type": "markdown",
      "metadata": {
        "id": "OkZfG7jTvjIg"
      },
      "source": [
        "### 1.c. Converta a coluna de Número de Nota Fiscal para string\n",
        "Faça a alteração do dataframe reatribuindo a variável `df`.\n",
        "> Não use o argumento `inplace=True`\n",
        "\n",
        "Chame a função `q1.c.check()` no fim da célula para verificar a resposta.\n",
        "Você pode pedir dicas com `q1.c.hint()`"
      ]
    },
    {
      "cell_type": "code",
      "execution_count": 175,
      "metadata": {
        "id": "boW1Jr_9vjIh",
        "colab": {
          "base_uri": "https://localhost:8080/",
          "height": 46
        },
        "outputId": "ce579ec5-5a0b-450b-85c2-a1abe819a125"
      },
      "outputs": [
        {
          "output_type": "display_data",
          "data": {
            "text/plain": [
              "<IPython.core.display.Javascript object>"
            ],
            "application/javascript": [
              "parent.postMessage({\"jupyterEvent\": \"custom.exercise_interaction\", \"data\": {\"outcomeType\": 1, \"valueTowardsCompletion\": 1.0, \"interactionType\": 1, \"questionType\": 2, \"questionId\": \"1.3_Q1C\", \"learnToolsVersion\": \"1.0.7\", \"failureMessage\": \"\", \"exceptionClass\": \"\", \"trace\": \"\"}}, \"*\")"
            ]
          },
          "metadata": {}
        },
        {
          "output_type": "display_data",
          "data": {
            "text/plain": [
              "CORRETO: \n"
            ],
            "text/markdown": "<span style=\"color:#33cc33\">CORRETO:</span> \n\n"
          },
          "metadata": {}
        }
      ],
      "source": [
        "df['InvoiceNo']=df['InvoiceNo'].apply(lambda x: str(x))\n",
        "\n",
        "# Resposta da 1.c\n",
        "\n",
        "# q1.c.hint()\n",
        "\n",
        "# df = ...\n",
        "\n",
        "q1.c.check()"
      ]
    },
    {
      "cell_type": "markdown",
      "metadata": {
        "id": "mFdGmhGvvjIh"
      },
      "source": [
        "## 2. Faça a recuperação e formatação de transações relevantes.\n",
        "Vamos analisar somente as compras realizadas no país **Alemanha (Germany)**"
      ]
    },
    {
      "cell_type": "markdown",
      "metadata": {
        "id": "2RD3pgmWvjIi"
      },
      "source": [
        "### 2.a. Filtre o dataframe para recupearar somente as compras realizadas no país `Germany`\n",
        "Armazene-a na variável `df_germany`.\n",
        "\n",
        "Chame a função `q2.a.check()` no fim da célula para verificar a resposta.\n",
        "Você pode pedir dicas com `q2.a.hint()`"
      ]
    },
    {
      "cell_type": "code",
      "execution_count": 176,
      "metadata": {
        "id": "g6BvLY-0vjIi",
        "colab": {
          "base_uri": "https://localhost:8080/",
          "height": 46
        },
        "outputId": "2b807cae-148c-49fc-9a85-eab58c3d8906"
      },
      "outputs": [
        {
          "output_type": "display_data",
          "data": {
            "text/plain": [
              "<IPython.core.display.Javascript object>"
            ],
            "application/javascript": [
              "parent.postMessage({\"jupyterEvent\": \"custom.exercise_interaction\", \"data\": {\"outcomeType\": 1, \"valueTowardsCompletion\": 1.0, \"interactionType\": 1, \"questionType\": 2, \"questionId\": \"2.1_Q2A\", \"learnToolsVersion\": \"1.0.7\", \"failureMessage\": \"\", \"exceptionClass\": \"\", \"trace\": \"\"}}, \"*\")"
            ]
          },
          "metadata": {}
        },
        {
          "output_type": "display_data",
          "data": {
            "text/plain": [
              "CORRETO: \n"
            ],
            "text/markdown": "<span style=\"color:#33cc33\">CORRETO:</span> \n\n"
          },
          "metadata": {}
        }
      ],
      "source": [
        "# q2.a.hint()\n",
        "\n",
        "df_germany = df.loc[df['Country']=='Germany']\n",
        "\n",
        "q2.a.check()"
      ]
    },
    {
      "cell_type": "markdown",
      "metadata": {
        "id": "vrTxCZ2NvjIj"
      },
      "source": [
        "### 2.b. A partir do `df_germany`, recupere um dataframe agrupado pelo Número da Nota Fiscal e Descrição do Produto \n",
        "\n",
        "Armazene-a na variável `df_germany_grouped`.\n",
        "\n",
        "Chame a função `q2.b.check()` no fim da célula para verificar a resposta.\n",
        "Você pode pedir dicas com `q2.b.hint()`"
      ]
    },
    {
      "cell_type": "code",
      "execution_count": 177,
      "metadata": {
        "id": "sajZV5IFvjIk",
        "colab": {
          "base_uri": "https://localhost:8080/",
          "height": 46
        },
        "outputId": "0b740078-5a5a-4150-f465-b6bb6f37427a"
      },
      "outputs": [
        {
          "output_type": "display_data",
          "data": {
            "text/plain": [
              "<IPython.core.display.Javascript object>"
            ],
            "application/javascript": [
              "parent.postMessage({\"jupyterEvent\": \"custom.exercise_interaction\", \"data\": {\"outcomeType\": 1, \"valueTowardsCompletion\": 1.0, \"interactionType\": 1, \"questionType\": 2, \"questionId\": \"2.2_Q2B\", \"learnToolsVersion\": \"1.0.7\", \"failureMessage\": \"\", \"exceptionClass\": \"\", \"trace\": \"\"}}, \"*\")"
            ]
          },
          "metadata": {}
        },
        {
          "output_type": "display_data",
          "data": {
            "text/plain": [
              "CORRETO: \n"
            ],
            "text/markdown": "<span style=\"color:#33cc33\">CORRETO:</span> \n\n"
          },
          "metadata": {}
        }
      ],
      "source": [
        "# Resposta da 2.b\n",
        "\n",
        "# q2.b.hint()\n",
        "\n",
        "df_germany_grouped = df_germany.groupby(['InvoiceNo','Description'])\n",
        "\n",
        "q2.b.check()"
      ]
    },
    {
      "cell_type": "markdown",
      "metadata": {
        "id": "uFKnKCA_vjIk"
      },
      "source": [
        "### 2.c. A partir de `df_germany_grouped`, recupere a **Soma da Quantidade** de cada produto \n",
        "\n",
        "Armazene-a na variável `df_germany_grouped_sum`.\n",
        "\n",
        "Chame a função `q2.c.check()` no fim da célula para verificar a resposta.\n",
        "Você pode pedir dicas com `q2.c.hint()`"
      ]
    },
    {
      "cell_type": "code",
      "execution_count": 178,
      "metadata": {
        "id": "GpyGzeYcvjIk",
        "colab": {
          "base_uri": "https://localhost:8080/",
          "height": 70
        },
        "outputId": "4528b545-f1ff-4f62-b069-9329e78b5d76"
      },
      "outputs": [
        {
          "output_type": "display_data",
          "data": {
            "text/plain": [
              "<IPython.core.display.Javascript object>"
            ],
            "application/javascript": [
              "parent.postMessage({\"jupyterEvent\": \"custom.exercise_interaction\", \"data\": {\"interactionType\": 2, \"questionType\": 2, \"questionId\": \"2.3_Q2C\", \"learnToolsVersion\": \"1.0.7\", \"valueTowardsCompletion\": 0.0, \"failureMessage\": \"\", \"exceptionClass\": \"\", \"trace\": \"\", \"outcomeType\": 4}}, \"*\")"
            ]
          },
          "metadata": {}
        },
        {
          "output_type": "display_data",
          "data": {
            "text/plain": [
              "Dica 1: Utilize a função `sum` de uma coluna agrupada do Pandas.\n",
              "(Para outra dica, chame `.hint(2)`)"
            ],
            "text/markdown": "<span style=\"color:#3366cc\">Dica 1:</span> Utilize a função `sum` de uma coluna agrupada do Pandas.\n(Para outra dica, chame `.hint(2)`)"
          },
          "metadata": {}
        },
        {
          "output_type": "display_data",
          "data": {
            "text/plain": [
              "<IPython.core.display.Javascript object>"
            ],
            "application/javascript": [
              "parent.postMessage({\"jupyterEvent\": \"custom.exercise_interaction\", \"data\": {\"outcomeType\": 1, \"valueTowardsCompletion\": 1.0, \"interactionType\": 1, \"questionType\": 2, \"questionId\": \"2.3_Q2C\", \"learnToolsVersion\": \"1.0.7\", \"failureMessage\": \"\", \"exceptionClass\": \"\", \"trace\": \"\"}}, \"*\")"
            ]
          },
          "metadata": {}
        },
        {
          "output_type": "display_data",
          "data": {
            "text/plain": [
              "CORRETO: \n"
            ],
            "text/markdown": "<span style=\"color:#33cc33\">CORRETO:</span> \n\n"
          },
          "metadata": {}
        }
      ],
      "source": [
        "q2.c.hint()\n",
        "\n",
        "df_germany_grouped_sum=df_germany_grouped['Quantity'].sum()\n",
        "\n",
        "# df_germany_grouped_sum = df_germany_grouped['StockCode'].value_counts()\n",
        "q2.c.check()\n"
      ]
    },
    {
      "cell_type": "markdown",
      "metadata": {
        "id": "SmcZKt_bvjIl"
      },
      "source": [
        "### 2.d. A partir de `df_germany_grouped_sum`, recupere um dataframe onde cada coluna possui a **soma da quantidade de cada produto**\n",
        "Armazene-a na variável `df_germany_basket`.\n",
        "\n",
        "#### Atenção:\n",
        "- O dataframe deve possuir **uma coluna para cada descrição de produto**.\n",
        "- Atribua o índice do dataframe com o **Número da Nota Fiscal**. \n",
        "- Todos os valores `NaN` devem ser convertidos para `0`\n",
        "\n",
        "\n",
        "Chame a função `q2.d.check()` no fim da célula para verificar a resposta.\n",
        "Você pode pedir dicas com `q2.d.hint()`"
      ]
    },
    {
      "cell_type": "code",
      "execution_count": 179,
      "metadata": {
        "id": "XQz8q2FuvjIm",
        "colab": {
          "base_uri": "https://localhost:8080/",
          "height": 70
        },
        "outputId": "58dca5bb-5c91-4eee-fc17-14072ed03ddc"
      },
      "outputs": [
        {
          "output_type": "display_data",
          "data": {
            "text/plain": [
              "<IPython.core.display.Javascript object>"
            ],
            "application/javascript": [
              "parent.postMessage({\"jupyterEvent\": \"custom.exercise_interaction\", \"data\": {\"interactionType\": 2, \"questionType\": 2, \"questionId\": \"2.4_Q2D\", \"learnToolsVersion\": \"1.0.7\", \"valueTowardsCompletion\": 0.0, \"failureMessage\": \"\", \"exceptionClass\": \"\", \"trace\": \"\", \"outcomeType\": 4}}, \"*\")"
            ]
          },
          "metadata": {}
        },
        {
          "output_type": "display_data",
          "data": {
            "text/plain": [
              "Dica 4: Pesquise sobre a função `set_index` do Pandas.\n",
              "(Para outra dica, chame `.hint(5)`)"
            ],
            "text/markdown": "<span style=\"color:#3366cc\">Dica 4:</span> Pesquise sobre a função `set_index` do Pandas.\n(Para outra dica, chame `.hint(5)`)"
          },
          "metadata": {}
        },
        {
          "output_type": "display_data",
          "data": {
            "text/plain": [
              "<IPython.core.display.Javascript object>"
            ],
            "application/javascript": [
              "parent.postMessage({\"jupyterEvent\": \"custom.exercise_interaction\", \"data\": {\"outcomeType\": 1, \"valueTowardsCompletion\": 1.0, \"interactionType\": 1, \"questionType\": 2, \"questionId\": \"2.4_Q2D\", \"learnToolsVersion\": \"1.0.7\", \"failureMessage\": \"\", \"exceptionClass\": \"\", \"trace\": \"\"}}, \"*\")"
            ]
          },
          "metadata": {}
        },
        {
          "output_type": "display_data",
          "data": {
            "text/plain": [
              "CORRETO: \n"
            ],
            "text/markdown": "<span style=\"color:#33cc33\">CORRETO:</span> \n\n"
          },
          "metadata": {}
        }
      ],
      "source": [
        "# Resposta da 2.d\n",
        "\n",
        "q2.d.hint(4)\n",
        "\n",
        "df_germany_basket=df_germany_grouped_sum.unstack(level=-1).reset_index().fillna(0).set_index('InvoiceNo')\n",
        "\n",
        "# df_germany_basket = ...\n",
        "\n",
        "q2.d.check()"
      ]
    },
    {
      "cell_type": "markdown",
      "metadata": {
        "id": "3m7YqgBNvjIm"
      },
      "source": [
        "### 2.e. A partir de `df_germany_basket`, altere **TODAS AS COLUNAS** para obedecer a regra booleana abaixo.\n",
        "> Regra: Se o valor do atributo for menor ou igual a 0, atribua-o 0. Se o valor do atributo for maior ou igual a 1, atribua-o 1.\n",
        "\n",
        "Faça a alteração do dataframe reatribuindo a variável `df_germany_basket`.\n",
        "> Não use o argumento `inplace=True`\n",
        "\n",
        "Chame a função `q2.e.check()` no fim da célula para verificar a resposta.\n",
        "Você pode pedir dicas com `q2.e.hint()`"
      ]
    },
    {
      "cell_type": "code",
      "execution_count": 180,
      "metadata": {
        "id": "cAsoFIp5vjIm",
        "colab": {
          "base_uri": "https://localhost:8080/",
          "height": 70
        },
        "outputId": "b09e6703-2891-49f3-909c-9cc2a3bff54c"
      },
      "outputs": [
        {
          "output_type": "display_data",
          "data": {
            "text/plain": [
              "<IPython.core.display.Javascript object>"
            ],
            "application/javascript": [
              "parent.postMessage({\"jupyterEvent\": \"custom.exercise_interaction\", \"data\": {\"interactionType\": 2, \"questionType\": 2, \"questionId\": \"2.5_Q2E\", \"learnToolsVersion\": \"1.0.7\", \"valueTowardsCompletion\": 0.0, \"failureMessage\": \"\", \"exceptionClass\": \"\", \"trace\": \"\", \"outcomeType\": 4}}, \"*\")"
            ]
          },
          "metadata": {}
        },
        {
          "output_type": "display_data",
          "data": {
            "text/plain": [
              "Dica 2: Pesquise sobre a função `applymap` do Pandas."
            ],
            "text/markdown": "<span style=\"color:#3366cc\">Dica 2:</span> Pesquise sobre a função `applymap` do Pandas."
          },
          "metadata": {}
        },
        {
          "output_type": "display_data",
          "data": {
            "text/plain": [
              "<IPython.core.display.Javascript object>"
            ],
            "application/javascript": [
              "parent.postMessage({\"jupyterEvent\": \"custom.exercise_interaction\", \"data\": {\"outcomeType\": 1, \"valueTowardsCompletion\": 1.0, \"interactionType\": 1, \"questionType\": 2, \"questionId\": \"2.5_Q2E\", \"learnToolsVersion\": \"1.0.7\", \"failureMessage\": \"\", \"exceptionClass\": \"\", \"trace\": \"\"}}, \"*\")"
            ]
          },
          "metadata": {}
        },
        {
          "output_type": "display_data",
          "data": {
            "text/plain": [
              "CORRETO: \n"
            ],
            "text/markdown": "<span style=\"color:#33cc33\">CORRETO:</span> \n\n"
          },
          "metadata": {}
        }
      ],
      "source": [
        "# Resposta da 2.e\n",
        "\n",
        "df_germany_basket=df_germany_basket.applymap(lambda x: 1 if x>=1 else 0)\n",
        "\n",
        "q2.e.hint(2)\n",
        "\n",
        "# df_germany_basket = ...\n",
        "\n",
        "q2.e.check()"
      ]
    },
    {
      "cell_type": "markdown",
      "metadata": {
        "id": "bavVs7tPvjIn"
      },
      "source": [
        "### 2.f. A partir de `df_germany_basket`, remova a coluna `POSTAGE`.\n",
        "\n",
        "Faça a alteração do dataframe reatribuindo a variável `df_germany_basket`.\n",
        "> Não use o argumento `inplace=True`\n",
        "\n",
        "Chame a função `q2.f.check()` no fim da célula para verificar a resposta.\n",
        "Você pode pedir dicas com `q2.f.hint()`"
      ]
    },
    {
      "cell_type": "code",
      "execution_count": 181,
      "metadata": {
        "id": "2dwrjetsvjIo",
        "colab": {
          "base_uri": "https://localhost:8080/",
          "height": 70
        },
        "outputId": "2c997efc-bf4e-4cfa-b0e5-1b8f8f14103b"
      },
      "outputs": [
        {
          "output_type": "display_data",
          "data": {
            "text/plain": [
              "<IPython.core.display.Javascript object>"
            ],
            "application/javascript": [
              "parent.postMessage({\"jupyterEvent\": \"custom.exercise_interaction\", \"data\": {\"interactionType\": 2, \"questionType\": 2, \"questionId\": \"2.6_Q2F\", \"learnToolsVersion\": \"1.0.7\", \"valueTowardsCompletion\": 0.0, \"failureMessage\": \"\", \"exceptionClass\": \"\", \"trace\": \"\", \"outcomeType\": 4}}, \"*\")"
            ]
          },
          "metadata": {}
        },
        {
          "output_type": "display_data",
          "data": {
            "text/plain": [
              "Dica 2: Você quer dropar uma **coluna**. Então, lembre-se de passar o parâmetro `axis` corretamente."
            ],
            "text/markdown": "<span style=\"color:#3366cc\">Dica 2:</span> Você quer dropar uma **coluna**. Então, lembre-se de passar o parâmetro `axis` corretamente."
          },
          "metadata": {}
        },
        {
          "output_type": "display_data",
          "data": {
            "text/plain": [
              "<IPython.core.display.Javascript object>"
            ],
            "application/javascript": [
              "parent.postMessage({\"jupyterEvent\": \"custom.exercise_interaction\", \"data\": {\"outcomeType\": 1, \"valueTowardsCompletion\": 1.0, \"interactionType\": 1, \"questionType\": 2, \"questionId\": \"2.6_Q2F\", \"learnToolsVersion\": \"1.0.7\", \"failureMessage\": \"\", \"exceptionClass\": \"\", \"trace\": \"\"}}, \"*\")"
            ]
          },
          "metadata": {}
        },
        {
          "output_type": "display_data",
          "data": {
            "text/plain": [
              "CORRETO: \n"
            ],
            "text/markdown": "<span style=\"color:#33cc33\">CORRETO:</span> \n\n"
          },
          "metadata": {}
        }
      ],
      "source": [
        "# Resposta da 2.f\n",
        "\n",
        "q2.f.hint(2)\n",
        "\n",
        "df_germany_basket=df_germany_basket.drop(['POSTAGE'],axis=1)\n",
        "\n",
        "q2.f.check()"
      ]
    },
    {
      "cell_type": "markdown",
      "metadata": {
        "id": "ZLGr3Q8bvjIo"
      },
      "source": [
        "## 3. Faça o cálculo dos itemsets frequentes e regras de associação.\n",
        "Utilize o algoritmo _apriori_."
      ]
    },
    {
      "cell_type": "markdown",
      "metadata": {
        "id": "YAljdFgEvjIp"
      },
      "source": [
        "### 3.a. A partir de `df_germany_basket`, calcule os itemsets frequentes utilizando `apriori`. \n",
        "\n",
        "Utilize o suporte mínimo de 0.04. Utilize o paramêtro `use_colnames=True`.\n",
        "\n",
        "Armazene-a na variável `germany_frequent_itemsets`.\n",
        "\n",
        "Chame a função `q3.a.check()` no fim da célula para verificar a resposta.\n",
        "Você pode pedir dicas com `q3.a.hint()`"
      ]
    },
    {
      "cell_type": "code",
      "execution_count": 182,
      "metadata": {
        "id": "DY8FCtuFvjIp",
        "colab": {
          "base_uri": "https://localhost:8080/",
          "height": 46
        },
        "outputId": "768b577a-8abe-46ec-a8d3-51d88aa0e8ff"
      },
      "outputs": [
        {
          "output_type": "display_data",
          "data": {
            "text/plain": [
              "<IPython.core.display.Javascript object>"
            ],
            "application/javascript": [
              "parent.postMessage({\"jupyterEvent\": \"custom.exercise_interaction\", \"data\": {\"outcomeType\": 1, \"valueTowardsCompletion\": 1.0, \"interactionType\": 1, \"questionType\": 2, \"questionId\": \"3.1_Q3A\", \"learnToolsVersion\": \"1.0.7\", \"failureMessage\": \"\", \"exceptionClass\": \"\", \"trace\": \"\"}}, \"*\")"
            ]
          },
          "metadata": {}
        },
        {
          "output_type": "display_data",
          "data": {
            "text/plain": [
              "CORRETO: \n"
            ],
            "text/markdown": "<span style=\"color:#33cc33\">CORRETO:</span> \n\n"
          },
          "metadata": {}
        }
      ],
      "source": [
        "# Resposta da 3.a\n",
        "\n",
        "# q3.a.hint()\n",
        "\n",
        "germany_frequent_itemsets = apriori(df_germany_basket, min_support=0.04, use_colnames=True)\n",
        "\n",
        "\n",
        "q3.a.check()"
      ]
    },
    {
      "cell_type": "markdown",
      "metadata": {
        "id": "p2AjRP3CvjIq"
      },
      "source": [
        "### 3.b. A partir de `germany_frequent_itemsets`, calcule as regras de associação. \n",
        "\n",
        "Utilize filtro de confiança de `0.5`.\n",
        "\n",
        "Armazene-a na variável `germany_rules`.\n",
        "\n",
        "Chame a função `q3.b.check()` no fim da célula para verificar a resposta.\n",
        "Você pode pedir dicas com `q3.b.hint()`"
      ]
    },
    {
      "cell_type": "code",
      "execution_count": 183,
      "metadata": {
        "id": "xHq10SjbvjIq",
        "colab": {
          "base_uri": "https://localhost:8080/",
          "height": 46
        },
        "outputId": "daa106ad-9d15-45e5-d121-c271a4b59129"
      },
      "outputs": [
        {
          "output_type": "display_data",
          "data": {
            "text/plain": [
              "<IPython.core.display.Javascript object>"
            ],
            "application/javascript": [
              "parent.postMessage({\"jupyterEvent\": \"custom.exercise_interaction\", \"data\": {\"outcomeType\": 1, \"valueTowardsCompletion\": 1.0, \"interactionType\": 1, \"questionType\": 2, \"questionId\": \"3.2_Q3B\", \"learnToolsVersion\": \"1.0.7\", \"failureMessage\": \"\", \"exceptionClass\": \"\", \"trace\": \"\"}}, \"*\")"
            ]
          },
          "metadata": {}
        },
        {
          "output_type": "display_data",
          "data": {
            "text/plain": [
              "CORRETO: \n"
            ],
            "text/markdown": "<span style=\"color:#33cc33\">CORRETO:</span> \n\n"
          },
          "metadata": {}
        }
      ],
      "source": [
        "# Resposta da 3.b\n",
        "\n",
        "# q3.b.hint()\n",
        "\n",
        "germany_rules = association_rules(germany_frequent_itemsets, metric=\"confidence\", min_threshold=0.5)\n",
        "\n",
        "q3.b.check()"
      ]
    },
    {
      "cell_type": "markdown",
      "metadata": {
        "id": "Lno2HH_bvjIr"
      },
      "source": [
        "## 4. Analise as regras obtidas."
      ]
    },
    {
      "cell_type": "markdown",
      "metadata": {
        "id": "zILTKyyTvjIr"
      },
      "source": [
        "### 4.a. A partir de `germany_rules`, recupere as regras com suporte maior ou igual a 0.015 e confiança maior ou igual a 0.75. \n",
        "\n",
        "Armazene-a na variável `germany_rules_a`.\n",
        "\n",
        "Chame a função `q4.a.check()` no fim da célula para verificar a resposta.\n",
        "Você pode pedir dicas com `q4.a.hint()`"
      ]
    },
    {
      "cell_type": "code",
      "execution_count": 184,
      "metadata": {
        "id": "I_MUEg6hvjIr",
        "colab": {
          "base_uri": "https://localhost:8080/",
          "height": 46
        },
        "outputId": "4c89ba38-5738-46dc-addb-1e98ab883486"
      },
      "outputs": [
        {
          "output_type": "display_data",
          "data": {
            "text/plain": [
              "<IPython.core.display.Javascript object>"
            ],
            "application/javascript": [
              "parent.postMessage({\"jupyterEvent\": \"custom.exercise_interaction\", \"data\": {\"outcomeType\": 1, \"valueTowardsCompletion\": 1.0, \"interactionType\": 1, \"questionType\": 2, \"questionId\": \"4.1_Q4A\", \"learnToolsVersion\": \"1.0.7\", \"failureMessage\": \"\", \"exceptionClass\": \"\", \"trace\": \"\"}}, \"*\")"
            ]
          },
          "metadata": {}
        },
        {
          "output_type": "display_data",
          "data": {
            "text/plain": [
              "CORRETO: \n"
            ],
            "text/markdown": "<span style=\"color:#33cc33\">CORRETO:</span> \n\n"
          },
          "metadata": {}
        }
      ],
      "source": [
        "# Resposta da 4.a\n",
        "\n",
        "# q4.a.hint()\n",
        "\n",
        "germany_rules_a = germany_rules[(germany_rules['confidence'] >= 0.75) & (germany_rules['support']>=0.015)]\n",
        "\n",
        "q4.a.check()"
      ]
    },
    {
      "cell_type": "markdown",
      "metadata": {
        "id": "eElWoMOMvjIs"
      },
      "source": [
        "### 4.b. A partir de `germany_rules`, recupere as regras com lift maior ou igual a 4 e confiança maior ou igual a 0.8. \n",
        "\n",
        "Armazene-a na variável `germany_rules_b`.\n",
        "\n",
        "Chame a função `q4.b.check()` no fim da célula para verificar a resposta.\n",
        "Você pode pedir dicas com `q4.b.hint()`"
      ]
    },
    {
      "cell_type": "code",
      "execution_count": 185,
      "metadata": {
        "id": "NfsIN4F0vjIs",
        "colab": {
          "base_uri": "https://localhost:8080/",
          "height": 46
        },
        "outputId": "cc757807-d427-4265-c4c6-c9e045388ef6"
      },
      "outputs": [
        {
          "output_type": "display_data",
          "data": {
            "text/plain": [
              "<IPython.core.display.Javascript object>"
            ],
            "application/javascript": [
              "parent.postMessage({\"jupyterEvent\": \"custom.exercise_interaction\", \"data\": {\"outcomeType\": 1, \"valueTowardsCompletion\": 1.0, \"interactionType\": 1, \"questionType\": 2, \"questionId\": \"4.2_Q4B\", \"learnToolsVersion\": \"1.0.7\", \"failureMessage\": \"\", \"exceptionClass\": \"\", \"trace\": \"\"}}, \"*\")"
            ]
          },
          "metadata": {}
        },
        {
          "output_type": "display_data",
          "data": {
            "text/plain": [
              "CORRETO: \n"
            ],
            "text/markdown": "<span style=\"color:#33cc33\">CORRETO:</span> \n\n"
          },
          "metadata": {}
        }
      ],
      "source": [
        "# Resposta da 4.b\n",
        "\n",
        "# q4.b.hint()\n",
        "\n",
        "germany_rules_b = germany_rules[(germany_rules['lift'] >= 4) & (germany_rules['confidence']>=0.8)]\n",
        "\n",
        "q4.b.check()"
      ]
    },
    {
      "cell_type": "markdown",
      "metadata": {
        "id": "i-b4LXE9vjIt"
      },
      "source": [
        "### 4.c. Quais produtos você recomendaria colocar próximos se fosse organizar um supermercado físico?\n",
        "\n",
        "Justifique sua resposta com evidências plausíveis em uma resposta completa.\n",
        "\n",
        "Essa qustão não possui check automático. Mas você pode pedir dica com `q4.c.hint()`. "
      ]
    },
    {
      "cell_type": "code",
      "source": [
        "germany_rules.sort_values(by=[\"confidence\",\"support\"],ascending=False).head()"
      ],
      "metadata": {
        "colab": {
          "base_uri": "https://localhost:8080/",
          "height": 424
        },
        "id": "stAR2hNKTsRm",
        "outputId": "6fe2926e-b34c-4025-a4b6-6587b5b2c65b"
      },
      "execution_count": 186,
      "outputs": [
        {
          "output_type": "execute_result",
          "data": {
            "text/plain": [
              "                           antecedents                           consequents  \\\n",
              "3        (RED RETROSPOT CHARLOTTE BAG)              (WOODLAND CHARLOTTE BAG)   \n",
              "5  (ROUND SNACK BOXES SET OF 4 FRUITS)  (ROUND SNACK BOXES SET OF4 WOODLAND)   \n",
              "6                 (SPACEBOY LUNCH BOX)  (ROUND SNACK BOXES SET OF4 WOODLAND)   \n",
              "0      (PLASTERS IN TIN CIRCUS PARADE)    (PLASTERS IN TIN WOODLAND ANIMALS)   \n",
              "1           (PLASTERS IN TIN SPACEBOY)    (PLASTERS IN TIN WOODLAND ANIMALS)   \n",
              "\n",
              "   antecedent support  consequent support   support  confidence      lift  \\\n",
              "3            0.053068            0.096186  0.044776    0.843750  8.772091   \n",
              "5            0.119403            0.185738  0.099502    0.833333  4.486607   \n",
              "6            0.077944            0.185738  0.053068    0.680851  3.665653   \n",
              "0            0.087894            0.104478  0.051410    0.584906  5.598383   \n",
              "1            0.081260            0.104478  0.046434    0.571429  5.469388   \n",
              "\n",
              "   leverage  conviction  \n",
              "3  0.039672    5.784411  \n",
              "5  0.077325    4.885572  \n",
              "6  0.038591    2.551354  \n",
              "0  0.042227    2.157395  \n",
              "1  0.037945    2.089552  "
            ],
            "text/html": [
              "\n",
              "  <div id=\"df-2b317b3b-8523-4539-90e5-fdc4cf80d21d\">\n",
              "    <div class=\"colab-df-container\">\n",
              "      <div>\n",
              "<style scoped>\n",
              "    .dataframe tbody tr th:only-of-type {\n",
              "        vertical-align: middle;\n",
              "    }\n",
              "\n",
              "    .dataframe tbody tr th {\n",
              "        vertical-align: top;\n",
              "    }\n",
              "\n",
              "    .dataframe thead th {\n",
              "        text-align: right;\n",
              "    }\n",
              "</style>\n",
              "<table border=\"1\" class=\"dataframe\">\n",
              "  <thead>\n",
              "    <tr style=\"text-align: right;\">\n",
              "      <th></th>\n",
              "      <th>antecedents</th>\n",
              "      <th>consequents</th>\n",
              "      <th>antecedent support</th>\n",
              "      <th>consequent support</th>\n",
              "      <th>support</th>\n",
              "      <th>confidence</th>\n",
              "      <th>lift</th>\n",
              "      <th>leverage</th>\n",
              "      <th>conviction</th>\n",
              "    </tr>\n",
              "  </thead>\n",
              "  <tbody>\n",
              "    <tr>\n",
              "      <th>3</th>\n",
              "      <td>(RED RETROSPOT CHARLOTTE BAG)</td>\n",
              "      <td>(WOODLAND CHARLOTTE BAG)</td>\n",
              "      <td>0.053068</td>\n",
              "      <td>0.096186</td>\n",
              "      <td>0.044776</td>\n",
              "      <td>0.843750</td>\n",
              "      <td>8.772091</td>\n",
              "      <td>0.039672</td>\n",
              "      <td>5.784411</td>\n",
              "    </tr>\n",
              "    <tr>\n",
              "      <th>5</th>\n",
              "      <td>(ROUND SNACK BOXES SET OF 4 FRUITS)</td>\n",
              "      <td>(ROUND SNACK BOXES SET OF4 WOODLAND)</td>\n",
              "      <td>0.119403</td>\n",
              "      <td>0.185738</td>\n",
              "      <td>0.099502</td>\n",
              "      <td>0.833333</td>\n",
              "      <td>4.486607</td>\n",
              "      <td>0.077325</td>\n",
              "      <td>4.885572</td>\n",
              "    </tr>\n",
              "    <tr>\n",
              "      <th>6</th>\n",
              "      <td>(SPACEBOY LUNCH BOX)</td>\n",
              "      <td>(ROUND SNACK BOXES SET OF4 WOODLAND)</td>\n",
              "      <td>0.077944</td>\n",
              "      <td>0.185738</td>\n",
              "      <td>0.053068</td>\n",
              "      <td>0.680851</td>\n",
              "      <td>3.665653</td>\n",
              "      <td>0.038591</td>\n",
              "      <td>2.551354</td>\n",
              "    </tr>\n",
              "    <tr>\n",
              "      <th>0</th>\n",
              "      <td>(PLASTERS IN TIN CIRCUS PARADE)</td>\n",
              "      <td>(PLASTERS IN TIN WOODLAND ANIMALS)</td>\n",
              "      <td>0.087894</td>\n",
              "      <td>0.104478</td>\n",
              "      <td>0.051410</td>\n",
              "      <td>0.584906</td>\n",
              "      <td>5.598383</td>\n",
              "      <td>0.042227</td>\n",
              "      <td>2.157395</td>\n",
              "    </tr>\n",
              "    <tr>\n",
              "      <th>1</th>\n",
              "      <td>(PLASTERS IN TIN SPACEBOY)</td>\n",
              "      <td>(PLASTERS IN TIN WOODLAND ANIMALS)</td>\n",
              "      <td>0.081260</td>\n",
              "      <td>0.104478</td>\n",
              "      <td>0.046434</td>\n",
              "      <td>0.571429</td>\n",
              "      <td>5.469388</td>\n",
              "      <td>0.037945</td>\n",
              "      <td>2.089552</td>\n",
              "    </tr>\n",
              "  </tbody>\n",
              "</table>\n",
              "</div>\n",
              "      <button class=\"colab-df-convert\" onclick=\"convertToInteractive('df-2b317b3b-8523-4539-90e5-fdc4cf80d21d')\"\n",
              "              title=\"Convert this dataframe to an interactive table.\"\n",
              "              style=\"display:none;\">\n",
              "        \n",
              "  <svg xmlns=\"http://www.w3.org/2000/svg\" height=\"24px\"viewBox=\"0 0 24 24\"\n",
              "       width=\"24px\">\n",
              "    <path d=\"M0 0h24v24H0V0z\" fill=\"none\"/>\n",
              "    <path d=\"M18.56 5.44l.94 2.06.94-2.06 2.06-.94-2.06-.94-.94-2.06-.94 2.06-2.06.94zm-11 1L8.5 8.5l.94-2.06 2.06-.94-2.06-.94L8.5 2.5l-.94 2.06-2.06.94zm10 10l.94 2.06.94-2.06 2.06-.94-2.06-.94-.94-2.06-.94 2.06-2.06.94z\"/><path d=\"M17.41 7.96l-1.37-1.37c-.4-.4-.92-.59-1.43-.59-.52 0-1.04.2-1.43.59L10.3 9.45l-7.72 7.72c-.78.78-.78 2.05 0 2.83L4 21.41c.39.39.9.59 1.41.59.51 0 1.02-.2 1.41-.59l7.78-7.78 2.81-2.81c.8-.78.8-2.07 0-2.86zM5.41 20L4 18.59l7.72-7.72 1.47 1.35L5.41 20z\"/>\n",
              "  </svg>\n",
              "      </button>\n",
              "      \n",
              "  <style>\n",
              "    .colab-df-container {\n",
              "      display:flex;\n",
              "      flex-wrap:wrap;\n",
              "      gap: 12px;\n",
              "    }\n",
              "\n",
              "    .colab-df-convert {\n",
              "      background-color: #E8F0FE;\n",
              "      border: none;\n",
              "      border-radius: 50%;\n",
              "      cursor: pointer;\n",
              "      display: none;\n",
              "      fill: #1967D2;\n",
              "      height: 32px;\n",
              "      padding: 0 0 0 0;\n",
              "      width: 32px;\n",
              "    }\n",
              "\n",
              "    .colab-df-convert:hover {\n",
              "      background-color: #E2EBFA;\n",
              "      box-shadow: 0px 1px 2px rgba(60, 64, 67, 0.3), 0px 1px 3px 1px rgba(60, 64, 67, 0.15);\n",
              "      fill: #174EA6;\n",
              "    }\n",
              "\n",
              "    [theme=dark] .colab-df-convert {\n",
              "      background-color: #3B4455;\n",
              "      fill: #D2E3FC;\n",
              "    }\n",
              "\n",
              "    [theme=dark] .colab-df-convert:hover {\n",
              "      background-color: #434B5C;\n",
              "      box-shadow: 0px 1px 3px 1px rgba(0, 0, 0, 0.15);\n",
              "      filter: drop-shadow(0px 1px 2px rgba(0, 0, 0, 0.3));\n",
              "      fill: #FFFFFF;\n",
              "    }\n",
              "  </style>\n",
              "\n",
              "      <script>\n",
              "        const buttonEl =\n",
              "          document.querySelector('#df-2b317b3b-8523-4539-90e5-fdc4cf80d21d button.colab-df-convert');\n",
              "        buttonEl.style.display =\n",
              "          google.colab.kernel.accessAllowed ? 'block' : 'none';\n",
              "\n",
              "        async function convertToInteractive(key) {\n",
              "          const element = document.querySelector('#df-2b317b3b-8523-4539-90e5-fdc4cf80d21d');\n",
              "          const dataTable =\n",
              "            await google.colab.kernel.invokeFunction('convertToInteractive',\n",
              "                                                     [key], {});\n",
              "          if (!dataTable) return;\n",
              "\n",
              "          const docLinkHtml = 'Like what you see? Visit the ' +\n",
              "            '<a target=\"_blank\" href=https://colab.research.google.com/notebooks/data_table.ipynb>data table notebook</a>'\n",
              "            + ' to learn more about interactive tables.';\n",
              "          element.innerHTML = '';\n",
              "          dataTable['output_type'] = 'display_data';\n",
              "          await google.colab.output.renderOutput(dataTable, element);\n",
              "          const docLink = document.createElement('div');\n",
              "          docLink.innerHTML = docLinkHtml;\n",
              "          element.appendChild(docLink);\n",
              "        }\n",
              "      </script>\n",
              "    </div>\n",
              "  </div>\n",
              "  "
            ]
          },
          "metadata": {},
          "execution_count": 186
        }
      ]
    },
    {
      "cell_type": "markdown",
      "metadata": {
        "id": "Nm9U5h3KvjIt"
      },
      "source": [
        "**RESPOSTA 4.c.:** Todos os listados acima, já que foram agrupados por confidence seguidos pelo support"
      ]
    },
    {
      "cell_type": "markdown",
      "metadata": {
        "id": "ZTNkV1yWvjIt"
      },
      "source": [
        "## 5. Compare as regras da Alemanha aplicadas agora para a França.\n",
        "Essa questão não possui correção automática."
      ]
    },
    {
      "cell_type": "code",
      "source": [
        "df_france_basket = df.loc[df['Country']=='France'].groupby(['InvoiceNo','Description'])['Quantity'].sum().unstack(level=-1).reset_index().fillna(0).set_index('InvoiceNo').applymap(lambda x: 1 if x>=1 else 0).drop(['POSTAGE'],axis=1)"
      ],
      "metadata": {
        "id": "VfABjjAAZNkX"
      },
      "execution_count": 187,
      "outputs": []
    },
    {
      "cell_type": "markdown",
      "metadata": {
        "id": "AJzgBno9vjIt"
      },
      "source": [
        "### 5.a. Existe alguma similaridade nas principais regras?"
      ]
    },
    {
      "cell_type": "code",
      "source": [
        "germany_rules.sort_values(by=[\"confidence\",\"support\"],ascending=False).head()"
      ],
      "metadata": {
        "colab": {
          "base_uri": "https://localhost:8080/",
          "height": 424
        },
        "id": "LzUeLq_AakFM",
        "outputId": "e65c1c82-fc4d-4d7a-fae2-0b23dc0299b6"
      },
      "execution_count": 188,
      "outputs": [
        {
          "output_type": "execute_result",
          "data": {
            "text/plain": [
              "                           antecedents                           consequents  \\\n",
              "3        (RED RETROSPOT CHARLOTTE BAG)              (WOODLAND CHARLOTTE BAG)   \n",
              "5  (ROUND SNACK BOXES SET OF 4 FRUITS)  (ROUND SNACK BOXES SET OF4 WOODLAND)   \n",
              "6                 (SPACEBOY LUNCH BOX)  (ROUND SNACK BOXES SET OF4 WOODLAND)   \n",
              "0      (PLASTERS IN TIN CIRCUS PARADE)    (PLASTERS IN TIN WOODLAND ANIMALS)   \n",
              "1           (PLASTERS IN TIN SPACEBOY)    (PLASTERS IN TIN WOODLAND ANIMALS)   \n",
              "\n",
              "   antecedent support  consequent support   support  confidence      lift  \\\n",
              "3            0.053068            0.096186  0.044776    0.843750  8.772091   \n",
              "5            0.119403            0.185738  0.099502    0.833333  4.486607   \n",
              "6            0.077944            0.185738  0.053068    0.680851  3.665653   \n",
              "0            0.087894            0.104478  0.051410    0.584906  5.598383   \n",
              "1            0.081260            0.104478  0.046434    0.571429  5.469388   \n",
              "\n",
              "   leverage  conviction  \n",
              "3  0.039672    5.784411  \n",
              "5  0.077325    4.885572  \n",
              "6  0.038591    2.551354  \n",
              "0  0.042227    2.157395  \n",
              "1  0.037945    2.089552  "
            ],
            "text/html": [
              "\n",
              "  <div id=\"df-87b937c4-ac4d-48c1-8b30-882a2bdf489c\">\n",
              "    <div class=\"colab-df-container\">\n",
              "      <div>\n",
              "<style scoped>\n",
              "    .dataframe tbody tr th:only-of-type {\n",
              "        vertical-align: middle;\n",
              "    }\n",
              "\n",
              "    .dataframe tbody tr th {\n",
              "        vertical-align: top;\n",
              "    }\n",
              "\n",
              "    .dataframe thead th {\n",
              "        text-align: right;\n",
              "    }\n",
              "</style>\n",
              "<table border=\"1\" class=\"dataframe\">\n",
              "  <thead>\n",
              "    <tr style=\"text-align: right;\">\n",
              "      <th></th>\n",
              "      <th>antecedents</th>\n",
              "      <th>consequents</th>\n",
              "      <th>antecedent support</th>\n",
              "      <th>consequent support</th>\n",
              "      <th>support</th>\n",
              "      <th>confidence</th>\n",
              "      <th>lift</th>\n",
              "      <th>leverage</th>\n",
              "      <th>conviction</th>\n",
              "    </tr>\n",
              "  </thead>\n",
              "  <tbody>\n",
              "    <tr>\n",
              "      <th>3</th>\n",
              "      <td>(RED RETROSPOT CHARLOTTE BAG)</td>\n",
              "      <td>(WOODLAND CHARLOTTE BAG)</td>\n",
              "      <td>0.053068</td>\n",
              "      <td>0.096186</td>\n",
              "      <td>0.044776</td>\n",
              "      <td>0.843750</td>\n",
              "      <td>8.772091</td>\n",
              "      <td>0.039672</td>\n",
              "      <td>5.784411</td>\n",
              "    </tr>\n",
              "    <tr>\n",
              "      <th>5</th>\n",
              "      <td>(ROUND SNACK BOXES SET OF 4 FRUITS)</td>\n",
              "      <td>(ROUND SNACK BOXES SET OF4 WOODLAND)</td>\n",
              "      <td>0.119403</td>\n",
              "      <td>0.185738</td>\n",
              "      <td>0.099502</td>\n",
              "      <td>0.833333</td>\n",
              "      <td>4.486607</td>\n",
              "      <td>0.077325</td>\n",
              "      <td>4.885572</td>\n",
              "    </tr>\n",
              "    <tr>\n",
              "      <th>6</th>\n",
              "      <td>(SPACEBOY LUNCH BOX)</td>\n",
              "      <td>(ROUND SNACK BOXES SET OF4 WOODLAND)</td>\n",
              "      <td>0.077944</td>\n",
              "      <td>0.185738</td>\n",
              "      <td>0.053068</td>\n",
              "      <td>0.680851</td>\n",
              "      <td>3.665653</td>\n",
              "      <td>0.038591</td>\n",
              "      <td>2.551354</td>\n",
              "    </tr>\n",
              "    <tr>\n",
              "      <th>0</th>\n",
              "      <td>(PLASTERS IN TIN CIRCUS PARADE)</td>\n",
              "      <td>(PLASTERS IN TIN WOODLAND ANIMALS)</td>\n",
              "      <td>0.087894</td>\n",
              "      <td>0.104478</td>\n",
              "      <td>0.051410</td>\n",
              "      <td>0.584906</td>\n",
              "      <td>5.598383</td>\n",
              "      <td>0.042227</td>\n",
              "      <td>2.157395</td>\n",
              "    </tr>\n",
              "    <tr>\n",
              "      <th>1</th>\n",
              "      <td>(PLASTERS IN TIN SPACEBOY)</td>\n",
              "      <td>(PLASTERS IN TIN WOODLAND ANIMALS)</td>\n",
              "      <td>0.081260</td>\n",
              "      <td>0.104478</td>\n",
              "      <td>0.046434</td>\n",
              "      <td>0.571429</td>\n",
              "      <td>5.469388</td>\n",
              "      <td>0.037945</td>\n",
              "      <td>2.089552</td>\n",
              "    </tr>\n",
              "  </tbody>\n",
              "</table>\n",
              "</div>\n",
              "      <button class=\"colab-df-convert\" onclick=\"convertToInteractive('df-87b937c4-ac4d-48c1-8b30-882a2bdf489c')\"\n",
              "              title=\"Convert this dataframe to an interactive table.\"\n",
              "              style=\"display:none;\">\n",
              "        \n",
              "  <svg xmlns=\"http://www.w3.org/2000/svg\" height=\"24px\"viewBox=\"0 0 24 24\"\n",
              "       width=\"24px\">\n",
              "    <path d=\"M0 0h24v24H0V0z\" fill=\"none\"/>\n",
              "    <path d=\"M18.56 5.44l.94 2.06.94-2.06 2.06-.94-2.06-.94-.94-2.06-.94 2.06-2.06.94zm-11 1L8.5 8.5l.94-2.06 2.06-.94-2.06-.94L8.5 2.5l-.94 2.06-2.06.94zm10 10l.94 2.06.94-2.06 2.06-.94-2.06-.94-.94-2.06-.94 2.06-2.06.94z\"/><path d=\"M17.41 7.96l-1.37-1.37c-.4-.4-.92-.59-1.43-.59-.52 0-1.04.2-1.43.59L10.3 9.45l-7.72 7.72c-.78.78-.78 2.05 0 2.83L4 21.41c.39.39.9.59 1.41.59.51 0 1.02-.2 1.41-.59l7.78-7.78 2.81-2.81c.8-.78.8-2.07 0-2.86zM5.41 20L4 18.59l7.72-7.72 1.47 1.35L5.41 20z\"/>\n",
              "  </svg>\n",
              "      </button>\n",
              "      \n",
              "  <style>\n",
              "    .colab-df-container {\n",
              "      display:flex;\n",
              "      flex-wrap:wrap;\n",
              "      gap: 12px;\n",
              "    }\n",
              "\n",
              "    .colab-df-convert {\n",
              "      background-color: #E8F0FE;\n",
              "      border: none;\n",
              "      border-radius: 50%;\n",
              "      cursor: pointer;\n",
              "      display: none;\n",
              "      fill: #1967D2;\n",
              "      height: 32px;\n",
              "      padding: 0 0 0 0;\n",
              "      width: 32px;\n",
              "    }\n",
              "\n",
              "    .colab-df-convert:hover {\n",
              "      background-color: #E2EBFA;\n",
              "      box-shadow: 0px 1px 2px rgba(60, 64, 67, 0.3), 0px 1px 3px 1px rgba(60, 64, 67, 0.15);\n",
              "      fill: #174EA6;\n",
              "    }\n",
              "\n",
              "    [theme=dark] .colab-df-convert {\n",
              "      background-color: #3B4455;\n",
              "      fill: #D2E3FC;\n",
              "    }\n",
              "\n",
              "    [theme=dark] .colab-df-convert:hover {\n",
              "      background-color: #434B5C;\n",
              "      box-shadow: 0px 1px 3px 1px rgba(0, 0, 0, 0.15);\n",
              "      filter: drop-shadow(0px 1px 2px rgba(0, 0, 0, 0.3));\n",
              "      fill: #FFFFFF;\n",
              "    }\n",
              "  </style>\n",
              "\n",
              "      <script>\n",
              "        const buttonEl =\n",
              "          document.querySelector('#df-87b937c4-ac4d-48c1-8b30-882a2bdf489c button.colab-df-convert');\n",
              "        buttonEl.style.display =\n",
              "          google.colab.kernel.accessAllowed ? 'block' : 'none';\n",
              "\n",
              "        async function convertToInteractive(key) {\n",
              "          const element = document.querySelector('#df-87b937c4-ac4d-48c1-8b30-882a2bdf489c');\n",
              "          const dataTable =\n",
              "            await google.colab.kernel.invokeFunction('convertToInteractive',\n",
              "                                                     [key], {});\n",
              "          if (!dataTable) return;\n",
              "\n",
              "          const docLinkHtml = 'Like what you see? Visit the ' +\n",
              "            '<a target=\"_blank\" href=https://colab.research.google.com/notebooks/data_table.ipynb>data table notebook</a>'\n",
              "            + ' to learn more about interactive tables.';\n",
              "          element.innerHTML = '';\n",
              "          dataTable['output_type'] = 'display_data';\n",
              "          await google.colab.output.renderOutput(dataTable, element);\n",
              "          const docLink = document.createElement('div');\n",
              "          docLink.innerHTML = docLinkHtml;\n",
              "          element.appendChild(docLink);\n",
              "        }\n",
              "      </script>\n",
              "    </div>\n",
              "  </div>\n",
              "  "
            ]
          },
          "metadata": {},
          "execution_count": 188
        }
      ]
    },
    {
      "cell_type": "code",
      "source": [
        "france_frequent_itemsets = apriori(df_france_basket, min_support=0.04, use_colnames=True)\n",
        "france_rules = association_rules(france_frequent_itemsets, metric=\"confidence\", min_threshold=0.5)\n",
        "\n",
        "france_rules.sort_values(by=[\"confidence\",\"support\"],ascending=False).head()"
      ],
      "metadata": {
        "colab": {
          "base_uri": "https://localhost:8080/",
          "height": 476
        },
        "id": "FURh7b7nYC1d",
        "outputId": "c3b17801-bca8-47b9-de69-38a5916795cd"
      },
      "execution_count": 189,
      "outputs": [
        {
          "output_type": "execute_result",
          "data": {
            "text/plain": [
              "                                          antecedents  \\\n",
              "47  (SET/6 RED SPOTTY PAPER CUPS, SET/20 RED RETRO...   \n",
              "49  (SET/20 RED RETROSPOT PAPER NAPKINS, SET/6 RED...   \n",
              "36                    (SET/6 RED SPOTTY PAPER PLATES)   \n",
              "9                        (CHILDRENS CUTLERY SPACEBOY)   \n",
              "21                     (PACK OF 6 SKULL PAPER PLATES)   \n",
              "\n",
              "                        consequents  antecedent support  consequent support  \\\n",
              "47  (SET/6 RED SPOTTY PAPER PLATES)            0.086768            0.108460   \n",
              "49    (SET/6 RED SPOTTY PAPER CUPS)            0.086768            0.117137   \n",
              "36    (SET/6 RED SPOTTY PAPER CUPS)            0.108460            0.117137   \n",
              "9    (CHILDRENS CUTLERY DOLLY GIRL)            0.058568            0.060738   \n",
              "21     (PACK OF 6 SKULL PAPER CUPS)            0.047722            0.054230   \n",
              "\n",
              "     support  confidence       lift  leverage  conviction  \n",
              "47  0.084599    0.975000   8.989500  0.075188   35.661605  \n",
              "49  0.084599    0.975000   8.323611  0.074435   35.314534  \n",
              "36  0.104121    0.960000   8.195556  0.091417   22.071584  \n",
              "9   0.054230    0.925926  15.244709  0.050673   12.680043  \n",
              "21  0.043384    0.909091  16.763636  0.040796   10.403471  "
            ],
            "text/html": [
              "\n",
              "  <div id=\"df-5ed4c984-43d4-49ed-828e-dee99950ac01\">\n",
              "    <div class=\"colab-df-container\">\n",
              "      <div>\n",
              "<style scoped>\n",
              "    .dataframe tbody tr th:only-of-type {\n",
              "        vertical-align: middle;\n",
              "    }\n",
              "\n",
              "    .dataframe tbody tr th {\n",
              "        vertical-align: top;\n",
              "    }\n",
              "\n",
              "    .dataframe thead th {\n",
              "        text-align: right;\n",
              "    }\n",
              "</style>\n",
              "<table border=\"1\" class=\"dataframe\">\n",
              "  <thead>\n",
              "    <tr style=\"text-align: right;\">\n",
              "      <th></th>\n",
              "      <th>antecedents</th>\n",
              "      <th>consequents</th>\n",
              "      <th>antecedent support</th>\n",
              "      <th>consequent support</th>\n",
              "      <th>support</th>\n",
              "      <th>confidence</th>\n",
              "      <th>lift</th>\n",
              "      <th>leverage</th>\n",
              "      <th>conviction</th>\n",
              "    </tr>\n",
              "  </thead>\n",
              "  <tbody>\n",
              "    <tr>\n",
              "      <th>47</th>\n",
              "      <td>(SET/6 RED SPOTTY PAPER CUPS, SET/20 RED RETRO...</td>\n",
              "      <td>(SET/6 RED SPOTTY PAPER PLATES)</td>\n",
              "      <td>0.086768</td>\n",
              "      <td>0.108460</td>\n",
              "      <td>0.084599</td>\n",
              "      <td>0.975000</td>\n",
              "      <td>8.989500</td>\n",
              "      <td>0.075188</td>\n",
              "      <td>35.661605</td>\n",
              "    </tr>\n",
              "    <tr>\n",
              "      <th>49</th>\n",
              "      <td>(SET/20 RED RETROSPOT PAPER NAPKINS, SET/6 RED...</td>\n",
              "      <td>(SET/6 RED SPOTTY PAPER CUPS)</td>\n",
              "      <td>0.086768</td>\n",
              "      <td>0.117137</td>\n",
              "      <td>0.084599</td>\n",
              "      <td>0.975000</td>\n",
              "      <td>8.323611</td>\n",
              "      <td>0.074435</td>\n",
              "      <td>35.314534</td>\n",
              "    </tr>\n",
              "    <tr>\n",
              "      <th>36</th>\n",
              "      <td>(SET/6 RED SPOTTY PAPER PLATES)</td>\n",
              "      <td>(SET/6 RED SPOTTY PAPER CUPS)</td>\n",
              "      <td>0.108460</td>\n",
              "      <td>0.117137</td>\n",
              "      <td>0.104121</td>\n",
              "      <td>0.960000</td>\n",
              "      <td>8.195556</td>\n",
              "      <td>0.091417</td>\n",
              "      <td>22.071584</td>\n",
              "    </tr>\n",
              "    <tr>\n",
              "      <th>9</th>\n",
              "      <td>(CHILDRENS CUTLERY SPACEBOY)</td>\n",
              "      <td>(CHILDRENS CUTLERY DOLLY GIRL)</td>\n",
              "      <td>0.058568</td>\n",
              "      <td>0.060738</td>\n",
              "      <td>0.054230</td>\n",
              "      <td>0.925926</td>\n",
              "      <td>15.244709</td>\n",
              "      <td>0.050673</td>\n",
              "      <td>12.680043</td>\n",
              "    </tr>\n",
              "    <tr>\n",
              "      <th>21</th>\n",
              "      <td>(PACK OF 6 SKULL PAPER PLATES)</td>\n",
              "      <td>(PACK OF 6 SKULL PAPER CUPS)</td>\n",
              "      <td>0.047722</td>\n",
              "      <td>0.054230</td>\n",
              "      <td>0.043384</td>\n",
              "      <td>0.909091</td>\n",
              "      <td>16.763636</td>\n",
              "      <td>0.040796</td>\n",
              "      <td>10.403471</td>\n",
              "    </tr>\n",
              "  </tbody>\n",
              "</table>\n",
              "</div>\n",
              "      <button class=\"colab-df-convert\" onclick=\"convertToInteractive('df-5ed4c984-43d4-49ed-828e-dee99950ac01')\"\n",
              "              title=\"Convert this dataframe to an interactive table.\"\n",
              "              style=\"display:none;\">\n",
              "        \n",
              "  <svg xmlns=\"http://www.w3.org/2000/svg\" height=\"24px\"viewBox=\"0 0 24 24\"\n",
              "       width=\"24px\">\n",
              "    <path d=\"M0 0h24v24H0V0z\" fill=\"none\"/>\n",
              "    <path d=\"M18.56 5.44l.94 2.06.94-2.06 2.06-.94-2.06-.94-.94-2.06-.94 2.06-2.06.94zm-11 1L8.5 8.5l.94-2.06 2.06-.94-2.06-.94L8.5 2.5l-.94 2.06-2.06.94zm10 10l.94 2.06.94-2.06 2.06-.94-2.06-.94-.94-2.06-.94 2.06-2.06.94z\"/><path d=\"M17.41 7.96l-1.37-1.37c-.4-.4-.92-.59-1.43-.59-.52 0-1.04.2-1.43.59L10.3 9.45l-7.72 7.72c-.78.78-.78 2.05 0 2.83L4 21.41c.39.39.9.59 1.41.59.51 0 1.02-.2 1.41-.59l7.78-7.78 2.81-2.81c.8-.78.8-2.07 0-2.86zM5.41 20L4 18.59l7.72-7.72 1.47 1.35L5.41 20z\"/>\n",
              "  </svg>\n",
              "      </button>\n",
              "      \n",
              "  <style>\n",
              "    .colab-df-container {\n",
              "      display:flex;\n",
              "      flex-wrap:wrap;\n",
              "      gap: 12px;\n",
              "    }\n",
              "\n",
              "    .colab-df-convert {\n",
              "      background-color: #E8F0FE;\n",
              "      border: none;\n",
              "      border-radius: 50%;\n",
              "      cursor: pointer;\n",
              "      display: none;\n",
              "      fill: #1967D2;\n",
              "      height: 32px;\n",
              "      padding: 0 0 0 0;\n",
              "      width: 32px;\n",
              "    }\n",
              "\n",
              "    .colab-df-convert:hover {\n",
              "      background-color: #E2EBFA;\n",
              "      box-shadow: 0px 1px 2px rgba(60, 64, 67, 0.3), 0px 1px 3px 1px rgba(60, 64, 67, 0.15);\n",
              "      fill: #174EA6;\n",
              "    }\n",
              "\n",
              "    [theme=dark] .colab-df-convert {\n",
              "      background-color: #3B4455;\n",
              "      fill: #D2E3FC;\n",
              "    }\n",
              "\n",
              "    [theme=dark] .colab-df-convert:hover {\n",
              "      background-color: #434B5C;\n",
              "      box-shadow: 0px 1px 3px 1px rgba(0, 0, 0, 0.15);\n",
              "      filter: drop-shadow(0px 1px 2px rgba(0, 0, 0, 0.3));\n",
              "      fill: #FFFFFF;\n",
              "    }\n",
              "  </style>\n",
              "\n",
              "      <script>\n",
              "        const buttonEl =\n",
              "          document.querySelector('#df-5ed4c984-43d4-49ed-828e-dee99950ac01 button.colab-df-convert');\n",
              "        buttonEl.style.display =\n",
              "          google.colab.kernel.accessAllowed ? 'block' : 'none';\n",
              "\n",
              "        async function convertToInteractive(key) {\n",
              "          const element = document.querySelector('#df-5ed4c984-43d4-49ed-828e-dee99950ac01');\n",
              "          const dataTable =\n",
              "            await google.colab.kernel.invokeFunction('convertToInteractive',\n",
              "                                                     [key], {});\n",
              "          if (!dataTable) return;\n",
              "\n",
              "          const docLinkHtml = 'Like what you see? Visit the ' +\n",
              "            '<a target=\"_blank\" href=https://colab.research.google.com/notebooks/data_table.ipynb>data table notebook</a>'\n",
              "            + ' to learn more about interactive tables.';\n",
              "          element.innerHTML = '';\n",
              "          dataTable['output_type'] = 'display_data';\n",
              "          await google.colab.output.renderOutput(dataTable, element);\n",
              "          const docLink = document.createElement('div');\n",
              "          docLink.innerHTML = docLinkHtml;\n",
              "          element.appendChild(docLink);\n",
              "        }\n",
              "      </script>\n",
              "    </div>\n",
              "  </div>\n",
              "  "
            ]
          },
          "metadata": {},
          "execution_count": 189
        }
      ]
    },
    {
      "cell_type": "markdown",
      "metadata": {
        "id": "WGZ0RituvjIu"
      },
      "source": [
        "**RESPOSTA 5.a.:** A maioria das regras de assosciação são diferentes mesmo adotando os mesmos parametros para a geração das mesmas"
      ]
    },
    {
      "cell_type": "markdown",
      "metadata": {
        "id": "5RSCz--uvjIu"
      },
      "source": [
        "### 5.b. Quais produtos você recomendaria colocar próximos em um supermercado físico na França?"
      ]
    },
    {
      "cell_type": "code",
      "source": [
        "france_rules.sort_values(by=[\"confidence\",\"support\"],ascending=False).head()"
      ],
      "metadata": {
        "colab": {
          "base_uri": "https://localhost:8080/",
          "height": 476
        },
        "id": "PF47ZKaFf-J2",
        "outputId": "6e8984e2-3403-43e2-97ba-244de05a86dc"
      },
      "execution_count": 190,
      "outputs": [
        {
          "output_type": "execute_result",
          "data": {
            "text/plain": [
              "                                          antecedents  \\\n",
              "47  (SET/6 RED SPOTTY PAPER CUPS, SET/20 RED RETRO...   \n",
              "49  (SET/20 RED RETROSPOT PAPER NAPKINS, SET/6 RED...   \n",
              "36                    (SET/6 RED SPOTTY PAPER PLATES)   \n",
              "9                        (CHILDRENS CUTLERY SPACEBOY)   \n",
              "21                     (PACK OF 6 SKULL PAPER PLATES)   \n",
              "\n",
              "                        consequents  antecedent support  consequent support  \\\n",
              "47  (SET/6 RED SPOTTY PAPER PLATES)            0.086768            0.108460   \n",
              "49    (SET/6 RED SPOTTY PAPER CUPS)            0.086768            0.117137   \n",
              "36    (SET/6 RED SPOTTY PAPER CUPS)            0.108460            0.117137   \n",
              "9    (CHILDRENS CUTLERY DOLLY GIRL)            0.058568            0.060738   \n",
              "21     (PACK OF 6 SKULL PAPER CUPS)            0.047722            0.054230   \n",
              "\n",
              "     support  confidence       lift  leverage  conviction  \n",
              "47  0.084599    0.975000   8.989500  0.075188   35.661605  \n",
              "49  0.084599    0.975000   8.323611  0.074435   35.314534  \n",
              "36  0.104121    0.960000   8.195556  0.091417   22.071584  \n",
              "9   0.054230    0.925926  15.244709  0.050673   12.680043  \n",
              "21  0.043384    0.909091  16.763636  0.040796   10.403471  "
            ],
            "text/html": [
              "\n",
              "  <div id=\"df-46f39355-7b2c-4c97-a11e-b6c27ffd155e\">\n",
              "    <div class=\"colab-df-container\">\n",
              "      <div>\n",
              "<style scoped>\n",
              "    .dataframe tbody tr th:only-of-type {\n",
              "        vertical-align: middle;\n",
              "    }\n",
              "\n",
              "    .dataframe tbody tr th {\n",
              "        vertical-align: top;\n",
              "    }\n",
              "\n",
              "    .dataframe thead th {\n",
              "        text-align: right;\n",
              "    }\n",
              "</style>\n",
              "<table border=\"1\" class=\"dataframe\">\n",
              "  <thead>\n",
              "    <tr style=\"text-align: right;\">\n",
              "      <th></th>\n",
              "      <th>antecedents</th>\n",
              "      <th>consequents</th>\n",
              "      <th>antecedent support</th>\n",
              "      <th>consequent support</th>\n",
              "      <th>support</th>\n",
              "      <th>confidence</th>\n",
              "      <th>lift</th>\n",
              "      <th>leverage</th>\n",
              "      <th>conviction</th>\n",
              "    </tr>\n",
              "  </thead>\n",
              "  <tbody>\n",
              "    <tr>\n",
              "      <th>47</th>\n",
              "      <td>(SET/6 RED SPOTTY PAPER CUPS, SET/20 RED RETRO...</td>\n",
              "      <td>(SET/6 RED SPOTTY PAPER PLATES)</td>\n",
              "      <td>0.086768</td>\n",
              "      <td>0.108460</td>\n",
              "      <td>0.084599</td>\n",
              "      <td>0.975000</td>\n",
              "      <td>8.989500</td>\n",
              "      <td>0.075188</td>\n",
              "      <td>35.661605</td>\n",
              "    </tr>\n",
              "    <tr>\n",
              "      <th>49</th>\n",
              "      <td>(SET/20 RED RETROSPOT PAPER NAPKINS, SET/6 RED...</td>\n",
              "      <td>(SET/6 RED SPOTTY PAPER CUPS)</td>\n",
              "      <td>0.086768</td>\n",
              "      <td>0.117137</td>\n",
              "      <td>0.084599</td>\n",
              "      <td>0.975000</td>\n",
              "      <td>8.323611</td>\n",
              "      <td>0.074435</td>\n",
              "      <td>35.314534</td>\n",
              "    </tr>\n",
              "    <tr>\n",
              "      <th>36</th>\n",
              "      <td>(SET/6 RED SPOTTY PAPER PLATES)</td>\n",
              "      <td>(SET/6 RED SPOTTY PAPER CUPS)</td>\n",
              "      <td>0.108460</td>\n",
              "      <td>0.117137</td>\n",
              "      <td>0.104121</td>\n",
              "      <td>0.960000</td>\n",
              "      <td>8.195556</td>\n",
              "      <td>0.091417</td>\n",
              "      <td>22.071584</td>\n",
              "    </tr>\n",
              "    <tr>\n",
              "      <th>9</th>\n",
              "      <td>(CHILDRENS CUTLERY SPACEBOY)</td>\n",
              "      <td>(CHILDRENS CUTLERY DOLLY GIRL)</td>\n",
              "      <td>0.058568</td>\n",
              "      <td>0.060738</td>\n",
              "      <td>0.054230</td>\n",
              "      <td>0.925926</td>\n",
              "      <td>15.244709</td>\n",
              "      <td>0.050673</td>\n",
              "      <td>12.680043</td>\n",
              "    </tr>\n",
              "    <tr>\n",
              "      <th>21</th>\n",
              "      <td>(PACK OF 6 SKULL PAPER PLATES)</td>\n",
              "      <td>(PACK OF 6 SKULL PAPER CUPS)</td>\n",
              "      <td>0.047722</td>\n",
              "      <td>0.054230</td>\n",
              "      <td>0.043384</td>\n",
              "      <td>0.909091</td>\n",
              "      <td>16.763636</td>\n",
              "      <td>0.040796</td>\n",
              "      <td>10.403471</td>\n",
              "    </tr>\n",
              "  </tbody>\n",
              "</table>\n",
              "</div>\n",
              "      <button class=\"colab-df-convert\" onclick=\"convertToInteractive('df-46f39355-7b2c-4c97-a11e-b6c27ffd155e')\"\n",
              "              title=\"Convert this dataframe to an interactive table.\"\n",
              "              style=\"display:none;\">\n",
              "        \n",
              "  <svg xmlns=\"http://www.w3.org/2000/svg\" height=\"24px\"viewBox=\"0 0 24 24\"\n",
              "       width=\"24px\">\n",
              "    <path d=\"M0 0h24v24H0V0z\" fill=\"none\"/>\n",
              "    <path d=\"M18.56 5.44l.94 2.06.94-2.06 2.06-.94-2.06-.94-.94-2.06-.94 2.06-2.06.94zm-11 1L8.5 8.5l.94-2.06 2.06-.94-2.06-.94L8.5 2.5l-.94 2.06-2.06.94zm10 10l.94 2.06.94-2.06 2.06-.94-2.06-.94-.94-2.06-.94 2.06-2.06.94z\"/><path d=\"M17.41 7.96l-1.37-1.37c-.4-.4-.92-.59-1.43-.59-.52 0-1.04.2-1.43.59L10.3 9.45l-7.72 7.72c-.78.78-.78 2.05 0 2.83L4 21.41c.39.39.9.59 1.41.59.51 0 1.02-.2 1.41-.59l7.78-7.78 2.81-2.81c.8-.78.8-2.07 0-2.86zM5.41 20L4 18.59l7.72-7.72 1.47 1.35L5.41 20z\"/>\n",
              "  </svg>\n",
              "      </button>\n",
              "      \n",
              "  <style>\n",
              "    .colab-df-container {\n",
              "      display:flex;\n",
              "      flex-wrap:wrap;\n",
              "      gap: 12px;\n",
              "    }\n",
              "\n",
              "    .colab-df-convert {\n",
              "      background-color: #E8F0FE;\n",
              "      border: none;\n",
              "      border-radius: 50%;\n",
              "      cursor: pointer;\n",
              "      display: none;\n",
              "      fill: #1967D2;\n",
              "      height: 32px;\n",
              "      padding: 0 0 0 0;\n",
              "      width: 32px;\n",
              "    }\n",
              "\n",
              "    .colab-df-convert:hover {\n",
              "      background-color: #E2EBFA;\n",
              "      box-shadow: 0px 1px 2px rgba(60, 64, 67, 0.3), 0px 1px 3px 1px rgba(60, 64, 67, 0.15);\n",
              "      fill: #174EA6;\n",
              "    }\n",
              "\n",
              "    [theme=dark] .colab-df-convert {\n",
              "      background-color: #3B4455;\n",
              "      fill: #D2E3FC;\n",
              "    }\n",
              "\n",
              "    [theme=dark] .colab-df-convert:hover {\n",
              "      background-color: #434B5C;\n",
              "      box-shadow: 0px 1px 3px 1px rgba(0, 0, 0, 0.15);\n",
              "      filter: drop-shadow(0px 1px 2px rgba(0, 0, 0, 0.3));\n",
              "      fill: #FFFFFF;\n",
              "    }\n",
              "  </style>\n",
              "\n",
              "      <script>\n",
              "        const buttonEl =\n",
              "          document.querySelector('#df-46f39355-7b2c-4c97-a11e-b6c27ffd155e button.colab-df-convert');\n",
              "        buttonEl.style.display =\n",
              "          google.colab.kernel.accessAllowed ? 'block' : 'none';\n",
              "\n",
              "        async function convertToInteractive(key) {\n",
              "          const element = document.querySelector('#df-46f39355-7b2c-4c97-a11e-b6c27ffd155e');\n",
              "          const dataTable =\n",
              "            await google.colab.kernel.invokeFunction('convertToInteractive',\n",
              "                                                     [key], {});\n",
              "          if (!dataTable) return;\n",
              "\n",
              "          const docLinkHtml = 'Like what you see? Visit the ' +\n",
              "            '<a target=\"_blank\" href=https://colab.research.google.com/notebooks/data_table.ipynb>data table notebook</a>'\n",
              "            + ' to learn more about interactive tables.';\n",
              "          element.innerHTML = '';\n",
              "          dataTable['output_type'] = 'display_data';\n",
              "          await google.colab.output.renderOutput(dataTable, element);\n",
              "          const docLink = document.createElement('div');\n",
              "          docLink.innerHTML = docLinkHtml;\n",
              "          element.appendChild(docLink);\n",
              "        }\n",
              "      </script>\n",
              "    </div>\n",
              "  </div>\n",
              "  "
            ]
          },
          "metadata": {},
          "execution_count": 190
        }
      ]
    },
    {
      "cell_type": "markdown",
      "metadata": {
        "id": "t39q7TDuvjIu"
      },
      "source": [
        "**RESPOSTA 5.b.:** Todos os listados acima, já que pertencem ao grupo com mais alta confiança e mais alto suporte."
      ]
    },
    {
      "cell_type": "markdown",
      "metadata": {
        "id": "GE82HfLHvjIv"
      },
      "source": [
        "### 5.c. Liste 5 cenários hipotéticos que você vê utilidade de se analisar regras de associação"
      ]
    },
    {
      "cell_type": "markdown",
      "metadata": {
        "id": "jx0tOcmzvjIv"
      },
      "source": [
        "**RESPOSTA 5.c.:** Detecção de causas de churn, fraude de cartão de crédito, treinamento de IA's, Maximização de vendas, descrobir associações sem sentido porém engraçadas como o número maior de afogamentos estar associado a venda de sorvetes"
      ]
    },
    {
      "cell_type": "markdown",
      "metadata": {
        "id": "6Y8VV1TivjIv"
      },
      "source": [
        "### 5.d. Utilize a função auxiliar abaixo para calcular conjuntos de itens frequentes (utilize suporte mínimo no intervalo [0.05, 0.3]) variando os tamanhos. Qual padrão você observa?\n",
        "Qual variável você acredita que afeta a performance desse método? Experimente e discorra sobre quando usar esse método."
      ]
    },
    {
      "cell_type": "code",
      "execution_count": 191,
      "metadata": {
        "id": "QXWJ-vp9vjIw"
      },
      "outputs": [],
      "source": [
        "# Gera uma matriz 2D de strings aleatórias.\n",
        "#\n",
        "# Parâmetro dv (different values): Quantidade de strings aleatórias únicas que a matriz irá conter.\n",
        "# Parâmetro vpi (values per instance): Quantidade de strings aleatórias que cada instância terá.\n",
        "# Parâmetro n: Quantidade de instâncias que será retornada.\n",
        "def generate_fictional_data(dv=50, vpi=10, n=2500000):\n",
        "    instances = [''.join(random.choices(string.ascii_uppercase + string.digits, k=20)) for _i in range(dv)]\n",
        "    fictional_data = [random.choices(instances, k=vpi) for _i in range(n)]\n",
        "    return fictional_data"
      ]
    },
    {
      "cell_type": "code",
      "source": [
        "import time"
      ],
      "metadata": {
        "id": "Nbea1fN5q-NW"
      },
      "execution_count": 192,
      "outputs": []
    },
    {
      "cell_type": "code",
      "source": [
        "inicio = time.time()\n",
        "generate_fictional_data(dv=9, vpi=9, n=2500000)\n",
        "fim = time.time()\n",
        "print(fim - inicio)"
      ],
      "metadata": {
        "colab": {
          "base_uri": "https://localhost:8080/"
        },
        "id": "wbQo7N7Po-pU",
        "outputId": "9d7d8ac1-acf8-4c18-baa8-f6b1f2d88b82"
      },
      "execution_count": 193,
      "outputs": [
        {
          "output_type": "stream",
          "name": "stdout",
          "text": [
            "8.23952054977417\n"
          ]
        }
      ]
    },
    {
      "cell_type": "code",
      "source": [
        "inicio = time.time()\n",
        "generate_fictional_data(dv=18, vpi=9, n=2500000)\n",
        "fim = time.time()\n",
        "print(fim - inicio)"
      ],
      "metadata": {
        "colab": {
          "base_uri": "https://localhost:8080/"
        },
        "id": "0Teb1Cg1pY65",
        "outputId": "c9149017-7d22-4fb1-f792-8bb5609c71c2"
      },
      "execution_count": 194,
      "outputs": [
        {
          "output_type": "stream",
          "name": "stdout",
          "text": [
            "8.200323343276978\n"
          ]
        }
      ]
    },
    {
      "cell_type": "code",
      "source": [
        "inicio = time.time()\n",
        "generate_fictional_data(dv=9, vpi=18, n=2500000)\n",
        "fim = time.time()\n",
        "print(fim - inicio)"
      ],
      "metadata": {
        "colab": {
          "base_uri": "https://localhost:8080/"
        },
        "id": "nresSjtqq4hs",
        "outputId": "5749e60c-84df-46c7-b80a-b84ab183f28b"
      },
      "execution_count": 195,
      "outputs": [
        {
          "output_type": "stream",
          "name": "stdout",
          "text": [
            "17.14121961593628\n"
          ]
        }
      ]
    },
    {
      "cell_type": "markdown",
      "metadata": {
        "id": "7-9fBd5QvjIw"
      },
      "source": [
        "**RESPOSTA 5.d.:** A variável que mais afeta o desempenho é a vpi, já que o seu valor impacta diretamente em quantas vezes a função choices será chamada. Além disso, após os testes acima foi possivel perceber que essa função é o principal responsável por impactar o desempenho\n"
      ]
    },
    {
      "cell_type": "code",
      "execution_count": 197,
      "metadata": {
        "id": "cfZ9wqEdvjIx",
        "colab": {
          "base_uri": "https://localhost:8080/",
          "height": 1000
        },
        "outputId": "ef1cd3a4-641b-48ce-961b-0bc08ed9260e"
      },
      "outputs": [
        {
          "output_type": "execute_result",
          "data": {
            "text/plain": [
              "     support                  itemsets\n",
              "0   0.055378  (0_16UW6F2842ZZNMT5LFJQ)\n",
              "1   0.055665  (0_2HOVMI8BM044JOCQR6N4)\n",
              "2   0.055594  (0_392QFQDI1GIY3UZY95Y0)\n",
              "3   0.055611  (0_56277PLV6Q8J76MLGUP6)\n",
              "4   0.055607  (0_A52BNTCWZB45CUREUYVK)\n",
              "5   0.055785  (0_AGDNYR4Z6SOJSG0N8I88)\n",
              "6   0.055352  (0_B9GZ5P21PO3AZVCARXZ2)\n",
              "7   0.055690  (0_BLY04OT17DR542TBM19S)\n",
              "8   0.055267  (0_CYSV8NCDU32FH8KXQMNN)\n",
              "9   0.055552  (0_CZXGYJWWU3MQ3ZZKGQOV)\n",
              "10  0.055519  (0_F0USNWJJ4HBRKOXTSV9S)\n",
              "11  0.055558  (0_LCO1RHTFQM69UQDYFXH6)\n",
              "12  0.055273  (0_M8B3O8K7OQ40X0EX1MJY)\n",
              "13  0.055700  (0_OU0XDBWYWXVZUD5FXU8S)\n",
              "14  0.055579  (0_PMJUKZ9KT4DMHMGXYT5J)\n",
              "15  0.055574  (0_PY75AH3DYF0TLZFCXYU7)\n",
              "16  0.055488  (0_W8HW6AHYRA56WXO3XIMU)\n",
              "17  0.055810  (0_Y2416F342N2Z2ALN62U8)\n",
              "18  0.055570  (1_16UW6F2842ZZNMT5LFJQ)\n",
              "19  0.055566  (1_2HOVMI8BM044JOCQR6N4)\n",
              "20  0.055399  (1_392QFQDI1GIY3UZY95Y0)\n",
              "21  0.055414  (1_56277PLV6Q8J76MLGUP6)\n",
              "22  0.055436  (1_A52BNTCWZB45CUREUYVK)\n",
              "23  0.055571  (1_AGDNYR4Z6SOJSG0N8I88)\n",
              "24  0.055662  (1_B9GZ5P21PO3AZVCARXZ2)\n",
              "25  0.055499  (1_BLY04OT17DR542TBM19S)\n",
              "26  0.055581  (1_CYSV8NCDU32FH8KXQMNN)\n",
              "27  0.055803  (1_CZXGYJWWU3MQ3ZZKGQOV)\n",
              "28  0.055534  (1_F0USNWJJ4HBRKOXTSV9S)\n",
              "29  0.055434  (1_LCO1RHTFQM69UQDYFXH6)\n",
              "30  0.055640  (1_M8B3O8K7OQ40X0EX1MJY)\n",
              "31  0.055525  (1_OU0XDBWYWXVZUD5FXU8S)\n",
              "32  0.055676  (1_PMJUKZ9KT4DMHMGXYT5J)\n",
              "33  0.055345  (1_PY75AH3DYF0TLZFCXYU7)\n",
              "34  0.055598  (1_W8HW6AHYRA56WXO3XIMU)\n",
              "35  0.055746  (1_Y2416F342N2Z2ALN62U8)"
            ],
            "text/html": [
              "\n",
              "  <div id=\"df-b6ada37a-397b-43df-b6fb-50633f009734\">\n",
              "    <div class=\"colab-df-container\">\n",
              "      <div>\n",
              "<style scoped>\n",
              "    .dataframe tbody tr th:only-of-type {\n",
              "        vertical-align: middle;\n",
              "    }\n",
              "\n",
              "    .dataframe tbody tr th {\n",
              "        vertical-align: top;\n",
              "    }\n",
              "\n",
              "    .dataframe thead th {\n",
              "        text-align: right;\n",
              "    }\n",
              "</style>\n",
              "<table border=\"1\" class=\"dataframe\">\n",
              "  <thead>\n",
              "    <tr style=\"text-align: right;\">\n",
              "      <th></th>\n",
              "      <th>support</th>\n",
              "      <th>itemsets</th>\n",
              "    </tr>\n",
              "  </thead>\n",
              "  <tbody>\n",
              "    <tr>\n",
              "      <th>0</th>\n",
              "      <td>0.055378</td>\n",
              "      <td>(0_16UW6F2842ZZNMT5LFJQ)</td>\n",
              "    </tr>\n",
              "    <tr>\n",
              "      <th>1</th>\n",
              "      <td>0.055665</td>\n",
              "      <td>(0_2HOVMI8BM044JOCQR6N4)</td>\n",
              "    </tr>\n",
              "    <tr>\n",
              "      <th>2</th>\n",
              "      <td>0.055594</td>\n",
              "      <td>(0_392QFQDI1GIY3UZY95Y0)</td>\n",
              "    </tr>\n",
              "    <tr>\n",
              "      <th>3</th>\n",
              "      <td>0.055611</td>\n",
              "      <td>(0_56277PLV6Q8J76MLGUP6)</td>\n",
              "    </tr>\n",
              "    <tr>\n",
              "      <th>4</th>\n",
              "      <td>0.055607</td>\n",
              "      <td>(0_A52BNTCWZB45CUREUYVK)</td>\n",
              "    </tr>\n",
              "    <tr>\n",
              "      <th>5</th>\n",
              "      <td>0.055785</td>\n",
              "      <td>(0_AGDNYR4Z6SOJSG0N8I88)</td>\n",
              "    </tr>\n",
              "    <tr>\n",
              "      <th>6</th>\n",
              "      <td>0.055352</td>\n",
              "      <td>(0_B9GZ5P21PO3AZVCARXZ2)</td>\n",
              "    </tr>\n",
              "    <tr>\n",
              "      <th>7</th>\n",
              "      <td>0.055690</td>\n",
              "      <td>(0_BLY04OT17DR542TBM19S)</td>\n",
              "    </tr>\n",
              "    <tr>\n",
              "      <th>8</th>\n",
              "      <td>0.055267</td>\n",
              "      <td>(0_CYSV8NCDU32FH8KXQMNN)</td>\n",
              "    </tr>\n",
              "    <tr>\n",
              "      <th>9</th>\n",
              "      <td>0.055552</td>\n",
              "      <td>(0_CZXGYJWWU3MQ3ZZKGQOV)</td>\n",
              "    </tr>\n",
              "    <tr>\n",
              "      <th>10</th>\n",
              "      <td>0.055519</td>\n",
              "      <td>(0_F0USNWJJ4HBRKOXTSV9S)</td>\n",
              "    </tr>\n",
              "    <tr>\n",
              "      <th>11</th>\n",
              "      <td>0.055558</td>\n",
              "      <td>(0_LCO1RHTFQM69UQDYFXH6)</td>\n",
              "    </tr>\n",
              "    <tr>\n",
              "      <th>12</th>\n",
              "      <td>0.055273</td>\n",
              "      <td>(0_M8B3O8K7OQ40X0EX1MJY)</td>\n",
              "    </tr>\n",
              "    <tr>\n",
              "      <th>13</th>\n",
              "      <td>0.055700</td>\n",
              "      <td>(0_OU0XDBWYWXVZUD5FXU8S)</td>\n",
              "    </tr>\n",
              "    <tr>\n",
              "      <th>14</th>\n",
              "      <td>0.055579</td>\n",
              "      <td>(0_PMJUKZ9KT4DMHMGXYT5J)</td>\n",
              "    </tr>\n",
              "    <tr>\n",
              "      <th>15</th>\n",
              "      <td>0.055574</td>\n",
              "      <td>(0_PY75AH3DYF0TLZFCXYU7)</td>\n",
              "    </tr>\n",
              "    <tr>\n",
              "      <th>16</th>\n",
              "      <td>0.055488</td>\n",
              "      <td>(0_W8HW6AHYRA56WXO3XIMU)</td>\n",
              "    </tr>\n",
              "    <tr>\n",
              "      <th>17</th>\n",
              "      <td>0.055810</td>\n",
              "      <td>(0_Y2416F342N2Z2ALN62U8)</td>\n",
              "    </tr>\n",
              "    <tr>\n",
              "      <th>18</th>\n",
              "      <td>0.055570</td>\n",
              "      <td>(1_16UW6F2842ZZNMT5LFJQ)</td>\n",
              "    </tr>\n",
              "    <tr>\n",
              "      <th>19</th>\n",
              "      <td>0.055566</td>\n",
              "      <td>(1_2HOVMI8BM044JOCQR6N4)</td>\n",
              "    </tr>\n",
              "    <tr>\n",
              "      <th>20</th>\n",
              "      <td>0.055399</td>\n",
              "      <td>(1_392QFQDI1GIY3UZY95Y0)</td>\n",
              "    </tr>\n",
              "    <tr>\n",
              "      <th>21</th>\n",
              "      <td>0.055414</td>\n",
              "      <td>(1_56277PLV6Q8J76MLGUP6)</td>\n",
              "    </tr>\n",
              "    <tr>\n",
              "      <th>22</th>\n",
              "      <td>0.055436</td>\n",
              "      <td>(1_A52BNTCWZB45CUREUYVK)</td>\n",
              "    </tr>\n",
              "    <tr>\n",
              "      <th>23</th>\n",
              "      <td>0.055571</td>\n",
              "      <td>(1_AGDNYR4Z6SOJSG0N8I88)</td>\n",
              "    </tr>\n",
              "    <tr>\n",
              "      <th>24</th>\n",
              "      <td>0.055662</td>\n",
              "      <td>(1_B9GZ5P21PO3AZVCARXZ2)</td>\n",
              "    </tr>\n",
              "    <tr>\n",
              "      <th>25</th>\n",
              "      <td>0.055499</td>\n",
              "      <td>(1_BLY04OT17DR542TBM19S)</td>\n",
              "    </tr>\n",
              "    <tr>\n",
              "      <th>26</th>\n",
              "      <td>0.055581</td>\n",
              "      <td>(1_CYSV8NCDU32FH8KXQMNN)</td>\n",
              "    </tr>\n",
              "    <tr>\n",
              "      <th>27</th>\n",
              "      <td>0.055803</td>\n",
              "      <td>(1_CZXGYJWWU3MQ3ZZKGQOV)</td>\n",
              "    </tr>\n",
              "    <tr>\n",
              "      <th>28</th>\n",
              "      <td>0.055534</td>\n",
              "      <td>(1_F0USNWJJ4HBRKOXTSV9S)</td>\n",
              "    </tr>\n",
              "    <tr>\n",
              "      <th>29</th>\n",
              "      <td>0.055434</td>\n",
              "      <td>(1_LCO1RHTFQM69UQDYFXH6)</td>\n",
              "    </tr>\n",
              "    <tr>\n",
              "      <th>30</th>\n",
              "      <td>0.055640</td>\n",
              "      <td>(1_M8B3O8K7OQ40X0EX1MJY)</td>\n",
              "    </tr>\n",
              "    <tr>\n",
              "      <th>31</th>\n",
              "      <td>0.055525</td>\n",
              "      <td>(1_OU0XDBWYWXVZUD5FXU8S)</td>\n",
              "    </tr>\n",
              "    <tr>\n",
              "      <th>32</th>\n",
              "      <td>0.055676</td>\n",
              "      <td>(1_PMJUKZ9KT4DMHMGXYT5J)</td>\n",
              "    </tr>\n",
              "    <tr>\n",
              "      <th>33</th>\n",
              "      <td>0.055345</td>\n",
              "      <td>(1_PY75AH3DYF0TLZFCXYU7)</td>\n",
              "    </tr>\n",
              "    <tr>\n",
              "      <th>34</th>\n",
              "      <td>0.055598</td>\n",
              "      <td>(1_W8HW6AHYRA56WXO3XIMU)</td>\n",
              "    </tr>\n",
              "    <tr>\n",
              "      <th>35</th>\n",
              "      <td>0.055746</td>\n",
              "      <td>(1_Y2416F342N2Z2ALN62U8)</td>\n",
              "    </tr>\n",
              "  </tbody>\n",
              "</table>\n",
              "</div>\n",
              "      <button class=\"colab-df-convert\" onclick=\"convertToInteractive('df-b6ada37a-397b-43df-b6fb-50633f009734')\"\n",
              "              title=\"Convert this dataframe to an interactive table.\"\n",
              "              style=\"display:none;\">\n",
              "        \n",
              "  <svg xmlns=\"http://www.w3.org/2000/svg\" height=\"24px\"viewBox=\"0 0 24 24\"\n",
              "       width=\"24px\">\n",
              "    <path d=\"M0 0h24v24H0V0z\" fill=\"none\"/>\n",
              "    <path d=\"M18.56 5.44l.94 2.06.94-2.06 2.06-.94-2.06-.94-.94-2.06-.94 2.06-2.06.94zm-11 1L8.5 8.5l.94-2.06 2.06-.94-2.06-.94L8.5 2.5l-.94 2.06-2.06.94zm10 10l.94 2.06.94-2.06 2.06-.94-2.06-.94-.94-2.06-.94 2.06-2.06.94z\"/><path d=\"M17.41 7.96l-1.37-1.37c-.4-.4-.92-.59-1.43-.59-.52 0-1.04.2-1.43.59L10.3 9.45l-7.72 7.72c-.78.78-.78 2.05 0 2.83L4 21.41c.39.39.9.59 1.41.59.51 0 1.02-.2 1.41-.59l7.78-7.78 2.81-2.81c.8-.78.8-2.07 0-2.86zM5.41 20L4 18.59l7.72-7.72 1.47 1.35L5.41 20z\"/>\n",
              "  </svg>\n",
              "      </button>\n",
              "      \n",
              "  <style>\n",
              "    .colab-df-container {\n",
              "      display:flex;\n",
              "      flex-wrap:wrap;\n",
              "      gap: 12px;\n",
              "    }\n",
              "\n",
              "    .colab-df-convert {\n",
              "      background-color: #E8F0FE;\n",
              "      border: none;\n",
              "      border-radius: 50%;\n",
              "      cursor: pointer;\n",
              "      display: none;\n",
              "      fill: #1967D2;\n",
              "      height: 32px;\n",
              "      padding: 0 0 0 0;\n",
              "      width: 32px;\n",
              "    }\n",
              "\n",
              "    .colab-df-convert:hover {\n",
              "      background-color: #E2EBFA;\n",
              "      box-shadow: 0px 1px 2px rgba(60, 64, 67, 0.3), 0px 1px 3px 1px rgba(60, 64, 67, 0.15);\n",
              "      fill: #174EA6;\n",
              "    }\n",
              "\n",
              "    [theme=dark] .colab-df-convert {\n",
              "      background-color: #3B4455;\n",
              "      fill: #D2E3FC;\n",
              "    }\n",
              "\n",
              "    [theme=dark] .colab-df-convert:hover {\n",
              "      background-color: #434B5C;\n",
              "      box-shadow: 0px 1px 3px 1px rgba(0, 0, 0, 0.15);\n",
              "      filter: drop-shadow(0px 1px 2px rgba(0, 0, 0, 0.3));\n",
              "      fill: #FFFFFF;\n",
              "    }\n",
              "  </style>\n",
              "\n",
              "      <script>\n",
              "        const buttonEl =\n",
              "          document.querySelector('#df-b6ada37a-397b-43df-b6fb-50633f009734 button.colab-df-convert');\n",
              "        buttonEl.style.display =\n",
              "          google.colab.kernel.accessAllowed ? 'block' : 'none';\n",
              "\n",
              "        async function convertToInteractive(key) {\n",
              "          const element = document.querySelector('#df-b6ada37a-397b-43df-b6fb-50633f009734');\n",
              "          const dataTable =\n",
              "            await google.colab.kernel.invokeFunction('convertToInteractive',\n",
              "                                                     [key], {});\n",
              "          if (!dataTable) return;\n",
              "\n",
              "          const docLinkHtml = 'Like what you see? Visit the ' +\n",
              "            '<a target=\"_blank\" href=https://colab.research.google.com/notebooks/data_table.ipynb>data table notebook</a>'\n",
              "            + ' to learn more about interactive tables.';\n",
              "          element.innerHTML = '';\n",
              "          dataTable['output_type'] = 'display_data';\n",
              "          await google.colab.output.renderOutput(dataTable, element);\n",
              "          const docLink = document.createElement('div');\n",
              "          docLink.innerHTML = docLinkHtml;\n",
              "          element.appendChild(docLink);\n",
              "        }\n",
              "      </script>\n",
              "    </div>\n",
              "  </div>\n",
              "  "
            ]
          },
          "metadata": {},
          "execution_count": 197
        }
      ],
      "source": [
        "df_fictional_data=pd.DataFrame(generate_fictional_data(dv=18, vpi=2, n=2500000))\n",
        "\n",
        "df_fictional_data_basket=pd.get_dummies(df_fictional_data)\n",
        "\n",
        "fictional_frequent_itemsets = apriori(df_fictional_data_basket, min_support=0.05, use_colnames=True)\n",
        "\n",
        "fictional_frequent_itemsets"
      ]
    },
    {
      "cell_type": "markdown",
      "source": [
        "Quanto mais Strings diferentes menos cada uma delas aparecerá no conjunto de dados, ou seja, em media, quanto mais Strings distintas menos frequência em média"
      ],
      "metadata": {
        "id": "5jY-biAMzxsE"
      }
    }
  ],
  "metadata": {
    "colab": {
      "name": "Cópia de pratica_7_ccf425.ipynb",
      "provenance": [],
      "toc_visible": true,
      "collapsed_sections": []
    },
    "interpreter": {
      "hash": "aee8b7b246df8f9039afb4144a1f6fd8d2ca17a180786b69acc140d282b71a49"
    },
    "kernelspec": {
      "display_name": "Python 3.9.12 64-bit",
      "language": "python",
      "name": "python3"
    },
    "language_info": {
      "codemirror_mode": {
        "name": "ipython",
        "version": 3
      },
      "file_extension": ".py",
      "mimetype": "text/x-python",
      "name": "python",
      "nbconvert_exporter": "python",
      "pygments_lexer": "ipython3",
      "version": "3.9.12"
    }
  },
  "nbformat": 4,
  "nbformat_minor": 0
}