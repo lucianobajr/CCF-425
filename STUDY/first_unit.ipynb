{
  "nbformat": 4,
  "nbformat_minor": 0,
  "metadata": {
    "colab": {
      "name": "first_unit.ipynb",
      "provenance": [],
      "include_colab_link": true
    },
    "kernelspec": {
      "name": "python3",
      "display_name": "Python 3"
    },
    "language_info": {
      "name": "python"
    }
  },
  "cells": [
    {
      "cell_type": "markdown",
      "metadata": {
        "id": "view-in-github",
        "colab_type": "text"
      },
      "source": [
        "<a href=\"https://colab.research.google.com/github/lucianobajr/CCF-425/blob/main/first_unit.ipynb\" target=\"_parent\"><img src=\"https://colab.research.google.com/assets/colab-badge.svg\" alt=\"Open In Colab\"/></a>"
      ]
    },
    {
      "cell_type": "markdown",
      "source": [
        "# Primeira Unidade\n",
        "\n",
        "* Estatística Descritiva\n",
        "* Teorema Central do Limite\n",
        "* Inferência Estatística\n",
        "* Tratamento de Dados\n",
        "* Visualização de Dados"
      ],
      "metadata": {
        "id": "k_xYbhWYvEvM"
      }
    },
    {
      "cell_type": "markdown",
      "source": [
        "## Estatística descritiva\n",
        "\n",
        "`População`: conjunto de elementos que tem pelo menos uma característica em comum.\n",
        "Esta característica deve delimitar corretamente quais são os elementos da população que podem ser animados ou inanimados.\n",
        "\n",
        "`Amostra`: subconjunto de elementos de uma população. Este subconjunto deve ter\n",
        "dimensão menor que o da população e seus elementos devem ser representativos da população. A seleção dos elementos que irão compor a amostra pode ser feita de várias maneiras e irá depender do conhecimento que se tem da população e da quantidade de recursos disponíveis. A \n",
        "estatística inferencial é a área que trata e apresenta a metodologia de amostragem. \n",
        "\n",
        "`Variável`: é a característica que vai ser observada, medida ou contada nos elementos da população ou da amostra e que pode variar, ou seja, assumir um valor diferente de elemento para elemento. \n",
        "\n",
        "![untitled](https://user-images.githubusercontent.com/45442173/175169239-fc970da7-1d72-4b94-862d-691f493cd076.png)\n",
        "\n",
        "A estatística descritiva é um ramo da estatística que aplica várias técnicas para descrever e sumarizar um conjunto de dados. Sendo assim, este ramo pode: \n",
        "* Gerar cálculos para reduzir um complexo arranjo de dados a um punhado de números que descrevam esses dados \n",
        "* Nos dão um resumo manejável e significativo dos fenômenos descritos nos dados\n",
        "\n",
        "### Cálculos matemáticos\n",
        "Logo, a estatística descritiva não é apenas o cálculo das medidas de tendência central. A `média` é uma estatística descritiva que deve ser usada com cuidado já que é sensível a valores extremos (*outliers*), que são observações que se situam mais longe do centro. A `mediana` é ponto que divide a distribuição ao meio, significando que metade das observações está acima da mediana, e metade abaixo porém ao contrário da média não é sensível a *outliers*.\n",
        "\n",
        "A `variância`, uma medida de dispersão que mostra quão distantes os valores estão da média. Já o `desvio padrão` é uma medida que expressa o grau de dispersão de um conjunto de dados. Ou seja, o desvio padrão indica o quanto um conjunto de dados é uniforme. Quanto mais próximo de 0 for o desvio padrão, mais homogêneo são os dados.\n",
        "\n",
        "Em estatística descritiva, os `percentis` são medidas que dividem a amostra em 100 partes, cada uma com uma percentagem de dados aproximadamente igual.\n",
        "\n",
        "Em estatística, `zscore` é o número de desvios padrão pelos quais o valor de uma pontuação bruta está acima ou abaixo do valor médio do que está sendo observado ou medido"
      ],
      "metadata": {
        "id": "EtN-rnXvlBJM"
      }
    },
    {
      "cell_type": "markdown",
      "source": [
        "### Explorando dados "
      ],
      "metadata": {
        "id": "_tuUq5dKueLN"
      }
    },
    {
      "cell_type": "code",
      "source": [
        "import pandas as pd\n",
        "import numpy as np\n",
        "import scipy.stats as stats\n",
        "import matplotlib.pyplot as plt"
      ],
      "metadata": {
        "id": "OKsbj0YJvMp1"
      },
      "execution_count": 46,
      "outputs": []
    },
    {
      "cell_type": "code",
      "source": [
        "!wget https://raw.githubusercontent.com/fivethirtyeight/data/master/alcohol-consumption/drinks.csv"
      ],
      "metadata": {
        "colab": {
          "base_uri": "https://localhost:8080/"
        },
        "id": "ZQZ8tyLJuZy6",
        "outputId": "7a1464d5-30c2-45fc-dcb8-ea453626e78a"
      },
      "execution_count": 1,
      "outputs": [
        {
          "output_type": "stream",
          "name": "stdout",
          "text": [
            "--2022-06-22 23:25:54--  https://raw.githubusercontent.com/fivethirtyeight/data/master/alcohol-consumption/drinks.csv\n",
            "Resolving raw.githubusercontent.com (raw.githubusercontent.com)... 185.199.108.133, 185.199.109.133, 185.199.110.133, ...\n",
            "Connecting to raw.githubusercontent.com (raw.githubusercontent.com)|185.199.108.133|:443... connected.\n",
            "HTTP request sent, awaiting response... 200 OK\n",
            "Length: 4384 (4.3K) [text/plain]\n",
            "Saving to: ‘drinks.csv’\n",
            "\n",
            "\rdrinks.csv            0%[                    ]       0  --.-KB/s               \rdrinks.csv          100%[===================>]   4.28K  --.-KB/s    in 0s      \n",
            "\n",
            "2022-06-22 23:25:54 (48.0 MB/s) - ‘drinks.csv’ saved [4384/4384]\n",
            "\n"
          ]
        }
      ]
    },
    {
      "cell_type": "code",
      "source": [
        "# lendo o arquivo csv\n",
        "dataset = pd.read_csv(\"drinks.csv\")\n",
        "dataset"
      ],
      "metadata": {
        "id": "0T6gH5Bz8MHt",
        "outputId": "1c9d37f9-8238-4d02-fdcc-89b51a17101d",
        "colab": {
          "base_uri": "https://localhost:8080/",
          "height": 424
        }
      },
      "execution_count": 33,
      "outputs": [
        {
          "output_type": "execute_result",
          "data": {
            "text/plain": [
              "         country  beer_servings  spirit_servings  wine_servings  \\\n",
              "0    Afghanistan              0                0              0   \n",
              "1        Albania             89              132             54   \n",
              "2        Algeria             25                0             14   \n",
              "3        Andorra            245              138            312   \n",
              "4         Angola            217               57             45   \n",
              "..           ...            ...              ...            ...   \n",
              "188    Venezuela            333              100              3   \n",
              "189      Vietnam            111                2              1   \n",
              "190        Yemen              6                0              0   \n",
              "191       Zambia             32               19              4   \n",
              "192     Zimbabwe             64               18              4   \n",
              "\n",
              "     total_litres_of_pure_alcohol  \n",
              "0                             0.0  \n",
              "1                             4.9  \n",
              "2                             0.7  \n",
              "3                            12.4  \n",
              "4                             5.9  \n",
              "..                            ...  \n",
              "188                           7.7  \n",
              "189                           2.0  \n",
              "190                           0.1  \n",
              "191                           2.5  \n",
              "192                           4.7  \n",
              "\n",
              "[193 rows x 5 columns]"
            ],
            "text/html": [
              "\n",
              "  <div id=\"df-4d40f616-4aa7-4abd-8e99-bb8128eb58bc\">\n",
              "    <div class=\"colab-df-container\">\n",
              "      <div>\n",
              "<style scoped>\n",
              "    .dataframe tbody tr th:only-of-type {\n",
              "        vertical-align: middle;\n",
              "    }\n",
              "\n",
              "    .dataframe tbody tr th {\n",
              "        vertical-align: top;\n",
              "    }\n",
              "\n",
              "    .dataframe thead th {\n",
              "        text-align: right;\n",
              "    }\n",
              "</style>\n",
              "<table border=\"1\" class=\"dataframe\">\n",
              "  <thead>\n",
              "    <tr style=\"text-align: right;\">\n",
              "      <th></th>\n",
              "      <th>country</th>\n",
              "      <th>beer_servings</th>\n",
              "      <th>spirit_servings</th>\n",
              "      <th>wine_servings</th>\n",
              "      <th>total_litres_of_pure_alcohol</th>\n",
              "    </tr>\n",
              "  </thead>\n",
              "  <tbody>\n",
              "    <tr>\n",
              "      <th>0</th>\n",
              "      <td>Afghanistan</td>\n",
              "      <td>0</td>\n",
              "      <td>0</td>\n",
              "      <td>0</td>\n",
              "      <td>0.0</td>\n",
              "    </tr>\n",
              "    <tr>\n",
              "      <th>1</th>\n",
              "      <td>Albania</td>\n",
              "      <td>89</td>\n",
              "      <td>132</td>\n",
              "      <td>54</td>\n",
              "      <td>4.9</td>\n",
              "    </tr>\n",
              "    <tr>\n",
              "      <th>2</th>\n",
              "      <td>Algeria</td>\n",
              "      <td>25</td>\n",
              "      <td>0</td>\n",
              "      <td>14</td>\n",
              "      <td>0.7</td>\n",
              "    </tr>\n",
              "    <tr>\n",
              "      <th>3</th>\n",
              "      <td>Andorra</td>\n",
              "      <td>245</td>\n",
              "      <td>138</td>\n",
              "      <td>312</td>\n",
              "      <td>12.4</td>\n",
              "    </tr>\n",
              "    <tr>\n",
              "      <th>4</th>\n",
              "      <td>Angola</td>\n",
              "      <td>217</td>\n",
              "      <td>57</td>\n",
              "      <td>45</td>\n",
              "      <td>5.9</td>\n",
              "    </tr>\n",
              "    <tr>\n",
              "      <th>...</th>\n",
              "      <td>...</td>\n",
              "      <td>...</td>\n",
              "      <td>...</td>\n",
              "      <td>...</td>\n",
              "      <td>...</td>\n",
              "    </tr>\n",
              "    <tr>\n",
              "      <th>188</th>\n",
              "      <td>Venezuela</td>\n",
              "      <td>333</td>\n",
              "      <td>100</td>\n",
              "      <td>3</td>\n",
              "      <td>7.7</td>\n",
              "    </tr>\n",
              "    <tr>\n",
              "      <th>189</th>\n",
              "      <td>Vietnam</td>\n",
              "      <td>111</td>\n",
              "      <td>2</td>\n",
              "      <td>1</td>\n",
              "      <td>2.0</td>\n",
              "    </tr>\n",
              "    <tr>\n",
              "      <th>190</th>\n",
              "      <td>Yemen</td>\n",
              "      <td>6</td>\n",
              "      <td>0</td>\n",
              "      <td>0</td>\n",
              "      <td>0.1</td>\n",
              "    </tr>\n",
              "    <tr>\n",
              "      <th>191</th>\n",
              "      <td>Zambia</td>\n",
              "      <td>32</td>\n",
              "      <td>19</td>\n",
              "      <td>4</td>\n",
              "      <td>2.5</td>\n",
              "    </tr>\n",
              "    <tr>\n",
              "      <th>192</th>\n",
              "      <td>Zimbabwe</td>\n",
              "      <td>64</td>\n",
              "      <td>18</td>\n",
              "      <td>4</td>\n",
              "      <td>4.7</td>\n",
              "    </tr>\n",
              "  </tbody>\n",
              "</table>\n",
              "<p>193 rows × 5 columns</p>\n",
              "</div>\n",
              "      <button class=\"colab-df-convert\" onclick=\"convertToInteractive('df-4d40f616-4aa7-4abd-8e99-bb8128eb58bc')\"\n",
              "              title=\"Convert this dataframe to an interactive table.\"\n",
              "              style=\"display:none;\">\n",
              "        \n",
              "  <svg xmlns=\"http://www.w3.org/2000/svg\" height=\"24px\"viewBox=\"0 0 24 24\"\n",
              "       width=\"24px\">\n",
              "    <path d=\"M0 0h24v24H0V0z\" fill=\"none\"/>\n",
              "    <path d=\"M18.56 5.44l.94 2.06.94-2.06 2.06-.94-2.06-.94-.94-2.06-.94 2.06-2.06.94zm-11 1L8.5 8.5l.94-2.06 2.06-.94-2.06-.94L8.5 2.5l-.94 2.06-2.06.94zm10 10l.94 2.06.94-2.06 2.06-.94-2.06-.94-.94-2.06-.94 2.06-2.06.94z\"/><path d=\"M17.41 7.96l-1.37-1.37c-.4-.4-.92-.59-1.43-.59-.52 0-1.04.2-1.43.59L10.3 9.45l-7.72 7.72c-.78.78-.78 2.05 0 2.83L4 21.41c.39.39.9.59 1.41.59.51 0 1.02-.2 1.41-.59l7.78-7.78 2.81-2.81c.8-.78.8-2.07 0-2.86zM5.41 20L4 18.59l7.72-7.72 1.47 1.35L5.41 20z\"/>\n",
              "  </svg>\n",
              "      </button>\n",
              "      \n",
              "  <style>\n",
              "    .colab-df-container {\n",
              "      display:flex;\n",
              "      flex-wrap:wrap;\n",
              "      gap: 12px;\n",
              "    }\n",
              "\n",
              "    .colab-df-convert {\n",
              "      background-color: #E8F0FE;\n",
              "      border: none;\n",
              "      border-radius: 50%;\n",
              "      cursor: pointer;\n",
              "      display: none;\n",
              "      fill: #1967D2;\n",
              "      height: 32px;\n",
              "      padding: 0 0 0 0;\n",
              "      width: 32px;\n",
              "    }\n",
              "\n",
              "    .colab-df-convert:hover {\n",
              "      background-color: #E2EBFA;\n",
              "      box-shadow: 0px 1px 2px rgba(60, 64, 67, 0.3), 0px 1px 3px 1px rgba(60, 64, 67, 0.15);\n",
              "      fill: #174EA6;\n",
              "    }\n",
              "\n",
              "    [theme=dark] .colab-df-convert {\n",
              "      background-color: #3B4455;\n",
              "      fill: #D2E3FC;\n",
              "    }\n",
              "\n",
              "    [theme=dark] .colab-df-convert:hover {\n",
              "      background-color: #434B5C;\n",
              "      box-shadow: 0px 1px 3px 1px rgba(0, 0, 0, 0.15);\n",
              "      filter: drop-shadow(0px 1px 2px rgba(0, 0, 0, 0.3));\n",
              "      fill: #FFFFFF;\n",
              "    }\n",
              "  </style>\n",
              "\n",
              "      <script>\n",
              "        const buttonEl =\n",
              "          document.querySelector('#df-4d40f616-4aa7-4abd-8e99-bb8128eb58bc button.colab-df-convert');\n",
              "        buttonEl.style.display =\n",
              "          google.colab.kernel.accessAllowed ? 'block' : 'none';\n",
              "\n",
              "        async function convertToInteractive(key) {\n",
              "          const element = document.querySelector('#df-4d40f616-4aa7-4abd-8e99-bb8128eb58bc');\n",
              "          const dataTable =\n",
              "            await google.colab.kernel.invokeFunction('convertToInteractive',\n",
              "                                                     [key], {});\n",
              "          if (!dataTable) return;\n",
              "\n",
              "          const docLinkHtml = 'Like what you see? Visit the ' +\n",
              "            '<a target=\"_blank\" href=https://colab.research.google.com/notebooks/data_table.ipynb>data table notebook</a>'\n",
              "            + ' to learn more about interactive tables.';\n",
              "          element.innerHTML = '';\n",
              "          dataTable['output_type'] = 'display_data';\n",
              "          await google.colab.output.renderOutput(dataTable, element);\n",
              "          const docLink = document.createElement('div');\n",
              "          docLink.innerHTML = docLinkHtml;\n",
              "          element.appendChild(docLink);\n",
              "        }\n",
              "      </script>\n",
              "    </div>\n",
              "  </div>\n",
              "  "
            ]
          },
          "metadata": {},
          "execution_count": 33
        }
      ]
    },
    {
      "cell_type": "code",
      "source": [
        "dataset.describe()"
      ],
      "metadata": {
        "colab": {
          "base_uri": "https://localhost:8080/",
          "height": 300
        },
        "id": "JpD4dq-dvqZL",
        "outputId": "b946c769-ea3f-4404-d030-fa6eb285fdfa"
      },
      "execution_count": 7,
      "outputs": [
        {
          "output_type": "execute_result",
          "data": {
            "text/plain": [
              "       beer_servings  spirit_servings  wine_servings  \\\n",
              "count     193.000000       193.000000     193.000000   \n",
              "mean      106.160622        80.994819      49.450777   \n",
              "std       101.143103        88.284312      79.697598   \n",
              "min         0.000000         0.000000       0.000000   \n",
              "25%        20.000000         4.000000       1.000000   \n",
              "50%        76.000000        56.000000       8.000000   \n",
              "75%       188.000000       128.000000      59.000000   \n",
              "max       376.000000       438.000000     370.000000   \n",
              "\n",
              "       total_litres_of_pure_alcohol  \n",
              "count                    193.000000  \n",
              "mean                       4.717098  \n",
              "std                        3.773298  \n",
              "min                        0.000000  \n",
              "25%                        1.300000  \n",
              "50%                        4.200000  \n",
              "75%                        7.200000  \n",
              "max                       14.400000  "
            ],
            "text/html": [
              "\n",
              "  <div id=\"df-1211199b-9847-43e0-b30d-f2a16d65b67a\">\n",
              "    <div class=\"colab-df-container\">\n",
              "      <div>\n",
              "<style scoped>\n",
              "    .dataframe tbody tr th:only-of-type {\n",
              "        vertical-align: middle;\n",
              "    }\n",
              "\n",
              "    .dataframe tbody tr th {\n",
              "        vertical-align: top;\n",
              "    }\n",
              "\n",
              "    .dataframe thead th {\n",
              "        text-align: right;\n",
              "    }\n",
              "</style>\n",
              "<table border=\"1\" class=\"dataframe\">\n",
              "  <thead>\n",
              "    <tr style=\"text-align: right;\">\n",
              "      <th></th>\n",
              "      <th>beer_servings</th>\n",
              "      <th>spirit_servings</th>\n",
              "      <th>wine_servings</th>\n",
              "      <th>total_litres_of_pure_alcohol</th>\n",
              "    </tr>\n",
              "  </thead>\n",
              "  <tbody>\n",
              "    <tr>\n",
              "      <th>count</th>\n",
              "      <td>193.000000</td>\n",
              "      <td>193.000000</td>\n",
              "      <td>193.000000</td>\n",
              "      <td>193.000000</td>\n",
              "    </tr>\n",
              "    <tr>\n",
              "      <th>mean</th>\n",
              "      <td>106.160622</td>\n",
              "      <td>80.994819</td>\n",
              "      <td>49.450777</td>\n",
              "      <td>4.717098</td>\n",
              "    </tr>\n",
              "    <tr>\n",
              "      <th>std</th>\n",
              "      <td>101.143103</td>\n",
              "      <td>88.284312</td>\n",
              "      <td>79.697598</td>\n",
              "      <td>3.773298</td>\n",
              "    </tr>\n",
              "    <tr>\n",
              "      <th>min</th>\n",
              "      <td>0.000000</td>\n",
              "      <td>0.000000</td>\n",
              "      <td>0.000000</td>\n",
              "      <td>0.000000</td>\n",
              "    </tr>\n",
              "    <tr>\n",
              "      <th>25%</th>\n",
              "      <td>20.000000</td>\n",
              "      <td>4.000000</td>\n",
              "      <td>1.000000</td>\n",
              "      <td>1.300000</td>\n",
              "    </tr>\n",
              "    <tr>\n",
              "      <th>50%</th>\n",
              "      <td>76.000000</td>\n",
              "      <td>56.000000</td>\n",
              "      <td>8.000000</td>\n",
              "      <td>4.200000</td>\n",
              "    </tr>\n",
              "    <tr>\n",
              "      <th>75%</th>\n",
              "      <td>188.000000</td>\n",
              "      <td>128.000000</td>\n",
              "      <td>59.000000</td>\n",
              "      <td>7.200000</td>\n",
              "    </tr>\n",
              "    <tr>\n",
              "      <th>max</th>\n",
              "      <td>376.000000</td>\n",
              "      <td>438.000000</td>\n",
              "      <td>370.000000</td>\n",
              "      <td>14.400000</td>\n",
              "    </tr>\n",
              "  </tbody>\n",
              "</table>\n",
              "</div>\n",
              "      <button class=\"colab-df-convert\" onclick=\"convertToInteractive('df-1211199b-9847-43e0-b30d-f2a16d65b67a')\"\n",
              "              title=\"Convert this dataframe to an interactive table.\"\n",
              "              style=\"display:none;\">\n",
              "        \n",
              "  <svg xmlns=\"http://www.w3.org/2000/svg\" height=\"24px\"viewBox=\"0 0 24 24\"\n",
              "       width=\"24px\">\n",
              "    <path d=\"M0 0h24v24H0V0z\" fill=\"none\"/>\n",
              "    <path d=\"M18.56 5.44l.94 2.06.94-2.06 2.06-.94-2.06-.94-.94-2.06-.94 2.06-2.06.94zm-11 1L8.5 8.5l.94-2.06 2.06-.94-2.06-.94L8.5 2.5l-.94 2.06-2.06.94zm10 10l.94 2.06.94-2.06 2.06-.94-2.06-.94-.94-2.06-.94 2.06-2.06.94z\"/><path d=\"M17.41 7.96l-1.37-1.37c-.4-.4-.92-.59-1.43-.59-.52 0-1.04.2-1.43.59L10.3 9.45l-7.72 7.72c-.78.78-.78 2.05 0 2.83L4 21.41c.39.39.9.59 1.41.59.51 0 1.02-.2 1.41-.59l7.78-7.78 2.81-2.81c.8-.78.8-2.07 0-2.86zM5.41 20L4 18.59l7.72-7.72 1.47 1.35L5.41 20z\"/>\n",
              "  </svg>\n",
              "      </button>\n",
              "      \n",
              "  <style>\n",
              "    .colab-df-container {\n",
              "      display:flex;\n",
              "      flex-wrap:wrap;\n",
              "      gap: 12px;\n",
              "    }\n",
              "\n",
              "    .colab-df-convert {\n",
              "      background-color: #E8F0FE;\n",
              "      border: none;\n",
              "      border-radius: 50%;\n",
              "      cursor: pointer;\n",
              "      display: none;\n",
              "      fill: #1967D2;\n",
              "      height: 32px;\n",
              "      padding: 0 0 0 0;\n",
              "      width: 32px;\n",
              "    }\n",
              "\n",
              "    .colab-df-convert:hover {\n",
              "      background-color: #E2EBFA;\n",
              "      box-shadow: 0px 1px 2px rgba(60, 64, 67, 0.3), 0px 1px 3px 1px rgba(60, 64, 67, 0.15);\n",
              "      fill: #174EA6;\n",
              "    }\n",
              "\n",
              "    [theme=dark] .colab-df-convert {\n",
              "      background-color: #3B4455;\n",
              "      fill: #D2E3FC;\n",
              "    }\n",
              "\n",
              "    [theme=dark] .colab-df-convert:hover {\n",
              "      background-color: #434B5C;\n",
              "      box-shadow: 0px 1px 3px 1px rgba(0, 0, 0, 0.15);\n",
              "      filter: drop-shadow(0px 1px 2px rgba(0, 0, 0, 0.3));\n",
              "      fill: #FFFFFF;\n",
              "    }\n",
              "  </style>\n",
              "\n",
              "      <script>\n",
              "        const buttonEl =\n",
              "          document.querySelector('#df-1211199b-9847-43e0-b30d-f2a16d65b67a button.colab-df-convert');\n",
              "        buttonEl.style.display =\n",
              "          google.colab.kernel.accessAllowed ? 'block' : 'none';\n",
              "\n",
              "        async function convertToInteractive(key) {\n",
              "          const element = document.querySelector('#df-1211199b-9847-43e0-b30d-f2a16d65b67a');\n",
              "          const dataTable =\n",
              "            await google.colab.kernel.invokeFunction('convertToInteractive',\n",
              "                                                     [key], {});\n",
              "          if (!dataTable) return;\n",
              "\n",
              "          const docLinkHtml = 'Like what you see? Visit the ' +\n",
              "            '<a target=\"_blank\" href=https://colab.research.google.com/notebooks/data_table.ipynb>data table notebook</a>'\n",
              "            + ' to learn more about interactive tables.';\n",
              "          element.innerHTML = '';\n",
              "          dataTable['output_type'] = 'display_data';\n",
              "          await google.colab.output.renderOutput(dataTable, element);\n",
              "          const docLink = document.createElement('div');\n",
              "          docLink.innerHTML = docLinkHtml;\n",
              "          element.appendChild(docLink);\n",
              "        }\n",
              "      </script>\n",
              "    </div>\n",
              "  </div>\n",
              "  "
            ]
          },
          "metadata": {},
          "execution_count": 7
        }
      ]
    },
    {
      "cell_type": "code",
      "source": [
        "dataset.dtypes"
      ],
      "metadata": {
        "colab": {
          "base_uri": "https://localhost:8080/"
        },
        "id": "kPbgxnD8v8In",
        "outputId": "cfe29a80-9b9c-412b-a3e3-739f5db2d5af"
      },
      "execution_count": 8,
      "outputs": [
        {
          "output_type": "execute_result",
          "data": {
            "text/plain": [
              "country                          object\n",
              "beer_servings                     int64\n",
              "spirit_servings                   int64\n",
              "wine_servings                     int64\n",
              "total_litres_of_pure_alcohol    float64\n",
              "dtype: object"
            ]
          },
          "metadata": {},
          "execution_count": 8
        }
      ]
    },
    {
      "cell_type": "code",
      "source": [
        "dataset.isnull().sum()"
      ],
      "metadata": {
        "colab": {
          "base_uri": "https://localhost:8080/"
        },
        "id": "MvGQsikm0ZkP",
        "outputId": "f5146878-5472-487b-d480-df2ceeb96ec0"
      },
      "execution_count": 30,
      "outputs": [
        {
          "output_type": "execute_result",
          "data": {
            "text/plain": [
              "country                         0\n",
              "beer_servings                   0\n",
              "spirit_servings                 0\n",
              "wine_servings                   0\n",
              "total_litres_of_pure_alcohol    0\n",
              "dtype: int64"
            ]
          },
          "metadata": {},
          "execution_count": 30
        }
      ]
    },
    {
      "cell_type": "code",
      "source": [
        "# Média\n",
        "mean = dataset['beer_servings'].mean()\n",
        "\n",
        "# Moda\n",
        "mode = dataset['beer_servings'].mode()\n",
        "\n",
        "# Mediana\n",
        "median = dataset['beer_servings'].median()\n",
        "\n",
        "print(\"Média = %.02f, Moda = %.02f, Mediana = %.02f\"%(mean,mode,median))"
      ],
      "metadata": {
        "colab": {
          "base_uri": "https://localhost:8080/"
        },
        "id": "anCwR25wwBKr",
        "outputId": "7cc3003d-9080-433a-b59c-365182de3d64"
      },
      "execution_count": 13,
      "outputs": [
        {
          "output_type": "stream",
          "name": "stdout",
          "text": [
            "Média = 106.16, Moda = 0.00, Mediana = 76.00,\n"
          ]
        }
      ]
    },
    {
      "cell_type": "code",
      "source": [
        "# Variância\n",
        "var = dataset['beer_servings'].var()\n",
        "\n",
        "# Desvio padrão\n",
        "std = dataset['beer_servings'].std()\n",
        "\n",
        "print(\"Variância = %.02f, Desvio padrão = %.02f\"%(var,std))"
      ],
      "metadata": {
        "colab": {
          "base_uri": "https://localhost:8080/"
        },
        "id": "IK7WoeunyxXz",
        "outputId": "44cd05c6-bb7c-4089-dde2-f65f31f745a8"
      },
      "execution_count": 16,
      "outputs": [
        {
          "output_type": "stream",
          "name": "stdout",
          "text": [
            "Variância = 10229.93, Desvio padrão = 101.14\n"
          ]
        }
      ]
    },
    {
      "cell_type": "code",
      "source": [
        "# Maior valor\n",
        "max = dataset['beer_servings'].max()\n",
        "\n",
        "# Menor valor\n",
        "min = dataset['beer_servings'].min()\n",
        "\n",
        "print(\"Maior valor = %.02f, Menor valor = %.02f\"%(max,min))"
      ],
      "metadata": {
        "colab": {
          "base_uri": "https://localhost:8080/"
        },
        "id": "eLsB3SAGzIE4",
        "outputId": "966008cf-4193-40bd-a391-90c3aa5b7424"
      },
      "execution_count": 17,
      "outputs": [
        {
          "output_type": "stream",
          "name": "stdout",
          "text": [
            "Maior valor = 376.00, Menor valor = 0.00\n"
          ]
        }
      ]
    },
    {
      "cell_type": "code",
      "source": [
        "# Quantos desvios padrões da média\n",
        "\n",
        "zscore = lambda x, mean, std: (x-mean)/std \n",
        "zscore(188, mean, std)"
      ],
      "metadata": {
        "id": "nXNUMsNW4uqa",
        "outputId": "1f569d89-7f78-4bea-a3db-1ec37c16e51d",
        "colab": {
          "base_uri": "https://localhost:8080/"
        }
      },
      "execution_count": 39,
      "outputs": [
        {
          "output_type": "execute_result",
          "data": {
            "text/plain": [
              "0.809144431836385"
            ]
          },
          "metadata": {},
          "execution_count": 39
        }
      ]
    },
    {
      "cell_type": "markdown",
      "source": [
        "## Teorema Central do Limite\n",
        "\n",
        "Uma razão pela qual a distribuição normal é tão útil é o teorema central do limite, que diz (em essência) que uma variável aleatória definida como a média (ou soma) de um grande número de variáveis aleatórias independentes e identicamente distribuídas é aproximadamente distribuída normalmente. Em outras palavras, a distribuição amostral de médias segue uma normal.\n",
        "\n",
        "Em detalhes, se $X_1, ..., X_n$ são variáveis aleatórias. Em particular, todas as VAs foram amostradas de uma mesma população com média $\\mu$ (finita), desvio padrão $\\sigma$ (finito). Além do mais, a geração de cada VA é independente da outra, sendo todas identicamente distribuídas. Quando $n$ é grande, então\n",
        "\n",
        "$$\\frac{1}{n}(X_1 + \\cdots + X_n)$$\n",
        "\n",
        "é aproximadamente distribuído por uma Normal com média $\\mu$ e desvio padrão $\\sigma/\\sqrt{n}$. De forma equivalente (mas muitas vezes mais útil), \n",
        "\n",
        "$$Z = \\frac{(X_1 + \\cdots + X_n) - \\mu }{\\sigma / \\sqrt{n}}$$\n",
        "\n",
        "é aproximadamente uma normal com média 0 e desvio padrão 1.\n",
        "\n",
        "$$Z \\sim Normal(0, 1).$$\n",
        "\n",
        "### Como transformar VAs?\n",
        "\n",
        "Lemebre-se da aula passada que sabemos estimar:\n",
        "\n",
        "$$\\bar{x} \\approx \\mu$$\n",
        "\n",
        "e \n",
        "\n",
        "$$s^2 \\approx \\sigma$$\n",
        "\n",
        "Além do mais, sabemos que a variância do estimador da média é:\n",
        "\n",
        "$$Var(\\hat{\\mu}) = \\frac{\\sigma^2}{n}$$\n",
        "\n",
        "Assim:\n",
        "\n",
        "\\begin{align}\n",
        "\\bar{X} \\sim Normal(\\mu, \\frac{\\sigma^2}{n}) \\\\\n",
        "\\bar{X}- \\mu \\sim Normal(0, \\frac{\\sigma^2}{n}) \\\\\n",
        "\\frac{\\bar{X}- \\mu}{\\sigma / \\sqrt{n}} \\sim Normal(0, 1) \\\\\n",
        "\\end{align}\n",
        "\n",
        "O `erro padrão` é o desvio padrão das médias de amostras.Um erro padrão grande significa que as médias das amostras estão esparsamente espalhadas em torno da média da população e um erro padrão pequeno significa que as médias das amostras estão relativamente aglomeradas em torno da média\n",
        "\n",
        "Sabemos pelo teorema central do limite que as médias de amostras se situam dentro de três erros padrões da média da população, então este deve ser o ponto a ser analisado já que se verdadeiro a amostra pertence a população"
      ],
      "metadata": {
        "id": "3aPKf-H50-b8"
      }
    },
    {
      "cell_type": "markdown",
      "source": [
        "## Inferência Estatística\n",
        "Inferência estatística é o processo pelo qual os\n",
        "dados falam conosco, possibilitando-nos tirar\n",
        "conclusões significativas\n",
        "\n",
        "### Testes de Hipótese\n",
        "\n",
        "*   Hipótese Nula implícita ou explícita\n",
        "\n",
        "  *    Premissa de partida, que será rejeitada ou não\n",
        "  * Se rejeitada, aceitamos alguma hipótese alternativa que seja mais consistente com os dados observados\n",
        "  * Não será provada verdadeira; apenas pode-se falhar em rejeitá-la\n",
        "\n",
        "\n",
        "*    Hipótese Alternativa\n",
        "  * Conclusão que precisa ser verdadeira se é para rejeitar a hipótese nula\n",
        "\n",
        "Podemos rejeitar a hipótese nula no nível 0,05 se a chance de obter um resultado no mínimo tão extremo quanto o que observamos se a hipótese nula for verdadeira for menor que 5%. Na estatística clássica, o `valor-p`, é a probabilidade de se obter uma estatística de teste igual ou mais extrema que aquela observada em uma amostra, sob a hipótese nula.\n",
        "\n",
        "\n"
      ],
      "metadata": {
        "id": "jinXC5GZBaH3"
      }
    },
    {
      "cell_type": "markdown",
      "source": [
        "Com base nos dados anteriores, nota-se que se consome mais cerveja do que vinho em média. Porém há diferença significativa em relação às médias?\n",
        "\n",
        "* Hipótese nula: não há diferença"
      ],
      "metadata": {
        "id": "t6JphJ6DEY3T"
      }
    },
    {
      "cell_type": "code",
      "source": [
        "''' \n",
        "- Se p > 0.05 aceita-se a hipótese nula\n",
        "- Se p <= 0.05 rejeita-se a hipótese nula\n",
        "'''\n",
        "from scipy.stats import norm,ttest_ind\n",
        "\n",
        "pvalue = ttest_ind(dataset['beer_servings'],dataset['wine_servings']).pvalue\n",
        "print(f\"P-valor: {pvalue}\")\n",
        "print(\"Aceita-se a hipótese nula\") if (pvalue > (0.05)) else print(\"Rejeita-se a hipótese nula\")"
      ],
      "metadata": {
        "id": "lRVdAnNaDXye",
        "outputId": "706379c4-6618-439b-8579-74608157a951",
        "colab": {
          "base_uri": "https://localhost:8080/"
        }
      },
      "execution_count": 45,
      "outputs": [
        {
          "output_type": "stream",
          "name": "stdout",
          "text": [
            "P-valor: 2.3346193715127866e-09\n",
            "Rejeita-se a hipótese nula\n"
          ]
        }
      ]
    },
    {
      "cell_type": "markdown",
      "source": [
        "Já que rejeita-se a hipótese nula, podemos afirmar que há diferença"
      ],
      "metadata": {
        "id": "hdbMAQ4kE1Ls"
      }
    },
    {
      "cell_type": "markdown",
      "source": [
        "## Visualização"
      ],
      "metadata": {
        "id": "Yo1oAtGHF52G"
      }
    },
    {
      "cell_type": "markdown",
      "source": [
        "### Gráfico de barra"
      ],
      "metadata": {
        "id": "3fmnrtiSHbCg"
      }
    },
    {
      "cell_type": "code",
      "source": [
        "plt.figure(figsize =(11, 6))\n",
        "plt.bar(dataset['country'][0:10],dataset['beer_servings'][0:10], color = 'orange')\n",
        "plt.ylabel(\"# Quantidades\")\n",
        "plt.xlabel(\"# Países \")\n",
        "plt.title(\"Quantidade total vendida de cerveja - 10 primeiros países\")\n",
        "\n",
        "plt.xticks(dataset['country'][0:10],rotation='vertical')\n",
        "plt.subplots_adjust(bottom=0.15)\n",
        "plt.show()"
      ],
      "metadata": {
        "id": "WRR-YwVYGJSl",
        "outputId": "cb614212-69a5-4c61-fe83-2828837093cd",
        "colab": {
          "base_uri": "https://localhost:8080/",
          "height": 479
        }
      },
      "execution_count": 63,
      "outputs": [
        {
          "output_type": "display_data",
          "data": {
            "text/plain": [
              "<Figure size 792x432 with 1 Axes>"
            ],
            "image/png": "[encoded data removed]"
          },
          "metadata": {
            "needs_background": "light"
          }
        }
      ]
    },
    {
      "cell_type": "markdown",
      "source": [
        "### Boxplot\n"
      ],
      "metadata": {
        "id": "TkCW3bBYHfZO"
      }
    },
    {
      "cell_type": "code",
      "source": [
        "plt.figure(figsize =(11, 7))\n",
        "plt.boxplot(dataset['beer_servings'].sort_values(ascending=False)[0:10],vert = 0)\n",
        "plt.xticks(dataset['beer_servings'].sort_values(ascending=False)[0:10],rotation=\"vertical\")\n",
        "plt.xlabel(\"# Quantidades \")\n",
        "plt.title(\"Consumo de cerveja - 10 primeiros países\")\n",
        "plt.show()"
      ],
      "metadata": {
        "id": "J9rk6Al1Hp-5",
        "outputId": "fa0eb971-d797-4e7e-f4aa-9cd9da24bdfc",
        "colab": {
          "base_uri": "https://localhost:8080/",
          "height": 468
        }
      },
      "execution_count": 75,
      "outputs": [
        {
          "output_type": "display_data",
          "data": {
            "text/plain": [
              "<Figure size 792x504 with 1 Axes>"
            ],
            "image/png": "[encoded data removed]"
          },
          "metadata": {
            "needs_background": "light"
          }
        }
      ]
    },
    {
      "cell_type": "markdown",
      "source": [
        "### Gráfico de Pontos (Scatter Plot)"
      ],
      "metadata": {
        "id": "RxpyCEl5JgFF"
      }
    },
    {
      "cell_type": "code",
      "source": [
        "dataset.plot.scatter(x='beer_servings', y='total_litres_of_pure_alcohol', c='#EF2D56',label = \"Quantidade\")\n",
        "plt.xlabel('Quantidade')\n",
        "plt.ylabel('Preço Total')\n",
        "plt.show()"
      ],
      "metadata": {
        "id": "zRWjuj73I7b8",
        "outputId": "eba308ca-4dc2-4619-b832-8ef78e065251",
        "colab": {
          "base_uri": "https://localhost:8080/",
          "height": 279
        }
      },
      "execution_count": 81,
      "outputs": [
        {
          "output_type": "display_data",
          "data": {
            "text/plain": [
              "<Figure size 432x288 with 1 Axes>"
            ],
            "image/png": "[encoded data removed]"
          },
          "metadata": {
            "needs_background": "light"
          }
        }
      ]
    },
    {
      "cell_type": "markdown",
      "source": [
        "### Gráfico de linhas"
      ],
      "metadata": {
        "id": "OhbzZc8sKIFw"
      }
    },
    {
      "cell_type": "code",
      "source": [
        "dataset['beer_servings'].plot(c='#EF2D56')\n",
        "plt.show()"
      ],
      "metadata": {
        "id": "MUE7lnxJJta7",
        "outputId": "1b81e64e-3aaa-496e-d310-73a91d5e3213",
        "colab": {
          "base_uri": "https://localhost:8080/",
          "height": 265
        }
      },
      "execution_count": 83,
      "outputs": [
        {
          "output_type": "display_data",
          "data": {
            "text/plain": [
              "<Figure size 432x288 with 1 Axes>"
            ],
            "image/png": "[encoded data removed]"
          },
          "metadata": {
            "needs_background": "light"
          }
        }
      ]
    },
    {
      "cell_type": "markdown",
      "source": [
        "### Histograma"
      ],
      "metadata": {
        "id": "0awQwcSXKo3k"
      }
    },
    {
      "cell_type": "code",
      "source": [
        "plt.figure(figsize =(11, 8))\n",
        "plt.hist(dataset['beer_servings'], density=True)\n",
        "plt.show()"
      ],
      "metadata": {
        "id": "uBLDz-_3KSjg",
        "outputId": "d5c3c877-ddbb-4ecb-8a4b-3cfc27ad3874",
        "colab": {
          "base_uri": "https://localhost:8080/",
          "height": 483
        }
      },
      "execution_count": 87,
      "outputs": [
        {
          "output_type": "display_data",
          "data": {
            "text/plain": [
              "<Figure size 792x576 with 1 Axes>"
            ],
            "image/png": "[encoded data removed]"
          },
          "metadata": {
            "needs_background": "light"
          }
        }
      ]
    },
    {
      "cell_type": "markdown",
      "source": [
        "### Gráfico de pizzas"
      ],
      "metadata": {
        "id": "gRlHcDLqK1hF"
      }
    },
    {
      "cell_type": "code",
      "source": [
        "labels = 'Beer', 'Spirit', 'Wine'\n",
        "sizes = [dataset['beer_servings'].sum(), dataset['spirit_servings'].sum(), \tdataset['wine_servings'].sum()]\n",
        "explode = (0.1, 0, 0)  # only \"explode\" the 2nd slice (i.e. 'Hogs')\n",
        "\n",
        "fig1, ax1 = plt.subplots()\n",
        "ax1.pie(sizes, explode=explode, labels=labels, autopct='%1.1f%%',\n",
        "        shadow=True, startangle=90)\n",
        "ax1.axis('equal')  # Equal aspect ratio ensures that pie is drawn as a circle.\n",
        "\n",
        "plt.show()"
      ],
      "metadata": {
        "id": "kLRZ_2YxK4nv",
        "outputId": "865de26b-7e60-4be2-e73c-702bf036b472",
        "colab": {
          "base_uri": "https://localhost:8080/",
          "height": 248
        }
      },
      "execution_count": 90,
      "outputs": [
        {
          "output_type": "display_data",
          "data": {
            "text/plain": [
              "<Figure size 432x288 with 1 Axes>"
            ],
            "image/png": "[encoded data removed]"
          },
          "metadata": {}
        }
      ]
    },
    {
      "cell_type": "markdown",
      "source": [
        "## Exportando o colab para pdf"
      ],
      "metadata": {
        "id": "gxVBMXHPrT3T"
      }
    },
    {
      "cell_type": "code",
      "source": [
        "%%capture\n",
        "!wget -nc https://raw.githubusercontent.com/brpy/colab-pdf/master/colab_pdf.py\n",
        "from colab_pdf import colab_pdf\n",
        "colab_pdf('first_unit.ipynb')"
      ],
      "metadata": {
        "colab": {
          "base_uri": "https://localhost:8080/",
          "height": 345
        },
        "id": "akY6Rsa_rQyR",
        "outputId": "66d61dc9-5875-481f-8c24-61839de57878"
      },
      "execution_count": 91,
      "outputs": [
        {
          "output_type": "error",
          "ename": "MessageError",
          "evalue": "ignored",
          "traceback": [
            "\u001b[0;31m---------------------------------------------------------------------------\u001b[0m",
            "\u001b[0;31mMessageError\u001b[0m                              Traceback (most recent call last)",
            "\u001b[0;32m<ipython-input-91-f86a063a7d2e>\u001b[0m in \u001b[0;36m<module>\u001b[0;34m()\u001b[0m\n\u001b[1;32m      1\u001b[0m \u001b[0mget_ipython\u001b[0m\u001b[0;34m(\u001b[0m\u001b[0;34m)\u001b[0m\u001b[0;34m.\u001b[0m\u001b[0msystem\u001b[0m\u001b[0;34m(\u001b[0m\u001b[0;34m'wget -nc https://raw.githubusercontent.com/brpy/colab-pdf/master/colab_pdf.py'\u001b[0m\u001b[0;34m)\u001b[0m\u001b[0;34m\u001b[0m\u001b[0;34m\u001b[0m\u001b[0m\n\u001b[1;32m      2\u001b[0m \u001b[0;32mfrom\u001b[0m \u001b[0mcolab_pdf\u001b[0m \u001b[0;32mimport\u001b[0m \u001b[0mcolab_pdf\u001b[0m\u001b[0;34m\u001b[0m\u001b[0;34m\u001b[0m\u001b[0m\n\u001b[0;32m----> 3\u001b[0;31m \u001b[0mcolab_pdf\u001b[0m\u001b[0;34m(\u001b[0m\u001b[0;34m'first_unit.ipynb'\u001b[0m\u001b[0;34m)\u001b[0m\u001b[0;34m\u001b[0m\u001b[0;34m\u001b[0m\u001b[0m\n\u001b[0m",
            "\u001b[0;32m/content/colab_pdf.py\u001b[0m in \u001b[0;36mcolab_pdf\u001b[0;34m(file_name, notebookpath)\u001b[0m\n\u001b[1;32m     16\u001b[0m         \u001b[0;32mfrom\u001b[0m \u001b[0mgoogle\u001b[0m\u001b[0;34m.\u001b[0m\u001b[0mcolab\u001b[0m \u001b[0;32mimport\u001b[0m \u001b[0mdrive\u001b[0m\u001b[0;34m\u001b[0m\u001b[0;34m\u001b[0m\u001b[0m\n\u001b[1;32m     17\u001b[0m \u001b[0;34m\u001b[0m\u001b[0m\n\u001b[0;32m---> 18\u001b[0;31m         \u001b[0mdrive\u001b[0m\u001b[0;34m.\u001b[0m\u001b[0mmount\u001b[0m\u001b[0;34m(\u001b[0m\u001b[0mdrive_mount_point\u001b[0m\u001b[0;34m)\u001b[0m\u001b[0;34m\u001b[0m\u001b[0;34m\u001b[0m\u001b[0m\n\u001b[0m\u001b[1;32m     19\u001b[0m \u001b[0;34m\u001b[0m\u001b[0m\n\u001b[1;32m     20\u001b[0m     \u001b[0;31m# Check if the notebook exists in the Drive.\u001b[0m\u001b[0;34m\u001b[0m\u001b[0;34m\u001b[0m\u001b[0;34m\u001b[0m\u001b[0m\n",
            "\u001b[0;32m/usr/local/lib/python3.7/dist-packages/google/colab/drive.py\u001b[0m in \u001b[0;36mmount\u001b[0;34m(mountpoint, force_remount, timeout_ms)\u001b[0m\n\u001b[1;32m    107\u001b[0m       \u001b[0mforce_remount\u001b[0m\u001b[0;34m=\u001b[0m\u001b[0mforce_remount\u001b[0m\u001b[0;34m,\u001b[0m\u001b[0;34m\u001b[0m\u001b[0;34m\u001b[0m\u001b[0m\n\u001b[1;32m    108\u001b[0m       \u001b[0mtimeout_ms\u001b[0m\u001b[0;34m=\u001b[0m\u001b[0mtimeout_ms\u001b[0m\u001b[0;34m,\u001b[0m\u001b[0;34m\u001b[0m\u001b[0;34m\u001b[0m\u001b[0m\n\u001b[0;32m--> 109\u001b[0;31m       ephemeral=True)\n\u001b[0m\u001b[1;32m    110\u001b[0m \u001b[0;34m\u001b[0m\u001b[0m\n\u001b[1;32m    111\u001b[0m \u001b[0;34m\u001b[0m\u001b[0m\n",
            "\u001b[0;32m/usr/local/lib/python3.7/dist-packages/google/colab/drive.py\u001b[0m in \u001b[0;36m_mount\u001b[0;34m(mountpoint, force_remount, timeout_ms, ephemeral)\u001b[0m\n\u001b[1;32m    122\u001b[0m   \u001b[0;32mif\u001b[0m \u001b[0mephemeral\u001b[0m\u001b[0;34m:\u001b[0m\u001b[0;34m\u001b[0m\u001b[0;34m\u001b[0m\u001b[0m\n\u001b[1;32m    123\u001b[0m     _message.blocking_request(\n\u001b[0;32m--> 124\u001b[0;31m         'request_auth', request={'authType': 'dfs_ephemeral'}, timeout_sec=None)\n\u001b[0m\u001b[1;32m    125\u001b[0m \u001b[0;34m\u001b[0m\u001b[0m\n\u001b[1;32m    126\u001b[0m   \u001b[0mmountpoint\u001b[0m \u001b[0;34m=\u001b[0m \u001b[0m_os\u001b[0m\u001b[0;34m.\u001b[0m\u001b[0mpath\u001b[0m\u001b[0;34m.\u001b[0m\u001b[0mexpanduser\u001b[0m\u001b[0;34m(\u001b[0m\u001b[0mmountpoint\u001b[0m\u001b[0;34m)\u001b[0m\u001b[0;34m\u001b[0m\u001b[0;34m\u001b[0m\u001b[0m\n",
            "\u001b[0;32m/usr/local/lib/python3.7/dist-packages/google/colab/_message.py\u001b[0m in \u001b[0;36mblocking_request\u001b[0;34m(request_type, request, timeout_sec, parent)\u001b[0m\n\u001b[1;32m    173\u001b[0m   request_id = send_request(\n\u001b[1;32m    174\u001b[0m       request_type, request, parent=parent, expect_reply=True)\n\u001b[0;32m--> 175\u001b[0;31m   \u001b[0;32mreturn\u001b[0m \u001b[0mread_reply_from_input\u001b[0m\u001b[0;34m(\u001b[0m\u001b[0mrequest_id\u001b[0m\u001b[0;34m,\u001b[0m \u001b[0mtimeout_sec\u001b[0m\u001b[0;34m)\u001b[0m\u001b[0;34m\u001b[0m\u001b[0;34m\u001b[0m\u001b[0m\n\u001b[0m",
            "\u001b[0;32m/usr/local/lib/python3.7/dist-packages/google/colab/_message.py\u001b[0m in \u001b[0;36mread_reply_from_input\u001b[0;34m(message_id, timeout_sec)\u001b[0m\n\u001b[1;32m    104\u001b[0m         reply.get('colab_msg_id') == message_id):\n\u001b[1;32m    105\u001b[0m       \u001b[0;32mif\u001b[0m \u001b[0;34m'error'\u001b[0m \u001b[0;32min\u001b[0m \u001b[0mreply\u001b[0m\u001b[0;34m:\u001b[0m\u001b[0;34m\u001b[0m\u001b[0;34m\u001b[0m\u001b[0m\n\u001b[0;32m--> 106\u001b[0;31m         \u001b[0;32mraise\u001b[0m \u001b[0mMessageError\u001b[0m\u001b[0;34m(\u001b[0m\u001b[0mreply\u001b[0m\u001b[0;34m[\u001b[0m\u001b[0;34m'error'\u001b[0m\u001b[0;34m]\u001b[0m\u001b[0;34m)\u001b[0m\u001b[0;34m\u001b[0m\u001b[0;34m\u001b[0m\u001b[0m\n\u001b[0m\u001b[1;32m    107\u001b[0m       \u001b[0;32mreturn\u001b[0m \u001b[0mreply\u001b[0m\u001b[0;34m.\u001b[0m\u001b[0mget\u001b[0m\u001b[0;34m(\u001b[0m\u001b[0;34m'data'\u001b[0m\u001b[0;34m,\u001b[0m \u001b[0;32mNone\u001b[0m\u001b[0;34m)\u001b[0m\u001b[0;34m\u001b[0m\u001b[0;34m\u001b[0m\u001b[0m\n\u001b[1;32m    108\u001b[0m \u001b[0;34m\u001b[0m\u001b[0m\n",
            "\u001b[0;31mMessageError\u001b[0m: Error: credential propagation was unsuccessful"
          ]
        }
      ]
    }
  ]
}