{
  "cells": [
    {
      "cell_type": "markdown",
      "metadata": {
        "id": "B7ekE2pBce0f"
      },
      "source": [
        "> Introdução à Ciência dos Dados \\\n",
        "> Ciência da Computação – UFV/Florestal\n",
        "\n",
        "\n",
        "* **Nome:** Luciano Belo\n",
        "* **Matrícula:**  3897\n",
        "\n",
        "# Aula Prática 03\n",
        "##  Teorema Central do Limite\n",
        "\n",
        "**Objetivo:** Aplicar os conceitos do teorema central do limite para inferir conhecimento sobre uma população. \\\n",
        "**Pré-requisitos:** Linguagem de programação Python, estatística básica \\\n",
        "**Meta:** Ao final da prática, o aluno será capaz de utilizar ferramentas de análise de dados para inferir características de uma população a partir de amostras, e também de verificar se uma amostra pertence ou não a determinada população.\n",
        "\n",
        "----"
      ]
    },
    {
      "cell_type": "code",
      "source": [
        "### NÃO REMOVA ESSA CÉLULA! ####\n",
        "!pip --no-cache-dir install --upgrade learntools_dados_ufv\n",
        "\n",
        "!wget https://raw.githubusercontent.com/gfviegas/CCF425-resources/master/p3/renda_populacao.csv\n",
        "!wget https://raw.githubusercontent.com/gfviegas/CCF425-resources/master/p3/renda_amostra1.csv\n",
        "\n",
        "!wget https://raw.githubusercontent.com/gfviegas/CCF425-resources/master/p3/pesos_populacao.csv\n",
        "!wget https://raw.githubusercontent.com/gfviegas/CCF425-resources/master/p3/pesos_amostra1.csv\n",
        "!wget https://raw.githubusercontent.com/gfviegas/CCF425-resources/master/p3/pesos_amostra2.csv\n",
        "!wget https://raw.githubusercontent.com/gfviegas/CCF425-resources/master/p3/pesos_amostra3.csv\n",
        "!wget https://raw.githubusercontent.com/gfviegas/CCF425-resources/master/p3/pesos_amostra4.csv"
      ],
      "metadata": {
        "id": "JWrndYx6csMf",
        "colab": {
          "base_uri": "https://localhost:8080/"
        },
        "outputId": "969bbdc9-c0da-4660-85c8-e755b260abf1"
      },
      "execution_count": 48,
      "outputs": [
        {
          "output_type": "stream",
          "name": "stdout",
          "text": [
            "Requirement already satisfied: learntools_dados_ufv in /usr/local/lib/python3.7/dist-packages (1.0.5)\n",
            "--2022-05-19 15:51:44--  https://raw.githubusercontent.com/gfviegas/CCF425-resources/master/p3/renda_populacao.csv\n",
            "Resolving raw.githubusercontent.com (raw.githubusercontent.com)... 185.199.108.133, 185.199.110.133, 185.199.109.133, ...\n",
            "Connecting to raw.githubusercontent.com (raw.githubusercontent.com)|185.199.108.133|:443... connected.\n",
            "HTTP request sent, awaiting response... 200 OK\n",
            "Length: 88501 (86K) [text/plain]\n",
            "Saving to: ‘renda_populacao.csv.1’\n",
            "\n",
            "renda_populacao.csv 100%[===================>]  86.43K  --.-KB/s    in 0.01s   \n",
            "\n",
            "2022-05-19 15:51:44 (6.49 MB/s) - ‘renda_populacao.csv.1’ saved [88501/88501]\n",
            "\n",
            "--2022-05-19 15:51:44--  https://raw.githubusercontent.com/gfviegas/CCF425-resources/master/p3/renda_amostra1.csv\n",
            "Resolving raw.githubusercontent.com (raw.githubusercontent.com)... 185.199.108.133, 185.199.109.133, 185.199.110.133, ...\n",
            "Connecting to raw.githubusercontent.com (raw.githubusercontent.com)|185.199.108.133|:443... connected.\n",
            "HTTP request sent, awaiting response... 200 OK\n",
            "Length: 877 [text/plain]\n",
            "Saving to: ‘renda_amostra1.csv.1’\n",
            "\n",
            "renda_amostra1.csv. 100%[===================>]     877  --.-KB/s    in 0s      \n",
            "\n",
            "2022-05-19 15:51:44 (68.5 MB/s) - ‘renda_amostra1.csv.1’ saved [877/877]\n",
            "\n",
            "--2022-05-19 15:51:44--  https://raw.githubusercontent.com/gfviegas/CCF425-resources/master/p3/pesos_populacao.csv\n",
            "Resolving raw.githubusercontent.com (raw.githubusercontent.com)... 185.199.108.133, 185.199.109.133, 185.199.110.133, ...\n",
            "Connecting to raw.githubusercontent.com (raw.githubusercontent.com)|185.199.108.133|:443... connected.\n",
            "HTTP request sent, awaiting response... 200 OK\n",
            "Length: 70000 (68K) [text/plain]\n",
            "Saving to: ‘pesos_populacao.csv.1’\n",
            "\n",
            "pesos_populacao.csv 100%[===================>]  68.36K  --.-KB/s    in 0.01s   \n",
            "\n",
            "2022-05-19 15:51:44 (5.46 MB/s) - ‘pesos_populacao.csv.1’ saved [70000/70000]\n",
            "\n",
            "--2022-05-19 15:51:44--  https://raw.githubusercontent.com/gfviegas/CCF425-resources/master/p3/pesos_amostra1.csv\n",
            "Resolving raw.githubusercontent.com (raw.githubusercontent.com)... 185.199.108.133, 185.199.109.133, 185.199.110.133, ...\n",
            "Connecting to raw.githubusercontent.com (raw.githubusercontent.com)|185.199.108.133|:443... connected.\n",
            "HTTP request sent, awaiting response... 200 OK\n",
            "Length: 700 [text/plain]\n",
            "Saving to: ‘pesos_amostra1.csv.1’\n",
            "\n",
            "pesos_amostra1.csv. 100%[===================>]     700  --.-KB/s    in 0s      \n",
            "\n",
            "2022-05-19 15:51:44 (29.9 MB/s) - ‘pesos_amostra1.csv.1’ saved [700/700]\n",
            "\n",
            "--2022-05-19 15:51:45--  https://raw.githubusercontent.com/gfviegas/CCF425-resources/master/p3/pesos_amostra2.csv\n",
            "Resolving raw.githubusercontent.com (raw.githubusercontent.com)... 185.199.108.133, 185.199.109.133, 185.199.110.133, ...\n",
            "Connecting to raw.githubusercontent.com (raw.githubusercontent.com)|185.199.108.133|:443... connected.\n",
            "HTTP request sent, awaiting response... 200 OK\n",
            "Length: 608 [text/plain]\n",
            "Saving to: ‘pesos_amostra2.csv.1’\n",
            "\n",
            "pesos_amostra2.csv. 100%[===================>]     608  --.-KB/s    in 0s      \n",
            "\n",
            "2022-05-19 15:51:45 (24.5 MB/s) - ‘pesos_amostra2.csv.1’ saved [608/608]\n",
            "\n",
            "--2022-05-19 15:51:45--  https://raw.githubusercontent.com/gfviegas/CCF425-resources/master/p3/pesos_amostra3.csv\n",
            "Resolving raw.githubusercontent.com (raw.githubusercontent.com)... 185.199.108.133, 185.199.109.133, 185.199.110.133, ...\n",
            "Connecting to raw.githubusercontent.com (raw.githubusercontent.com)|185.199.108.133|:443... connected.\n",
            "HTTP request sent, awaiting response... 200 OK\n",
            "Length: 700 [text/plain]\n",
            "Saving to: ‘pesos_amostra3.csv.1’\n",
            "\n",
            "pesos_amostra3.csv. 100%[===================>]     700  --.-KB/s    in 0s      \n",
            "\n",
            "2022-05-19 15:51:45 (21.1 MB/s) - ‘pesos_amostra3.csv.1’ saved [700/700]\n",
            "\n",
            "--2022-05-19 15:51:45--  https://raw.githubusercontent.com/gfviegas/CCF425-resources/master/p3/pesos_amostra4.csv\n",
            "Resolving raw.githubusercontent.com (raw.githubusercontent.com)... 185.199.108.133, 185.199.109.133, 185.199.110.133, ...\n",
            "Connecting to raw.githubusercontent.com (raw.githubusercontent.com)|185.199.108.133|:443... connected.\n",
            "HTTP request sent, awaiting response... 200 OK\n",
            "Length: 700 [text/plain]\n",
            "Saving to: ‘pesos_amostra4.csv.1’\n",
            "\n",
            "pesos_amostra4.csv. 100%[===================>]     700  --.-KB/s    in 0s      \n",
            "\n",
            "2022-05-19 15:51:45 (42.8 MB/s) - ‘pesos_amostra4.csv.1’ saved [700/700]\n",
            "\n"
          ]
        }
      ]
    },
    {
      "cell_type": "code",
      "execution_count": 49,
      "metadata": {
        "id": "_X9J3UPRX7_6",
        "colab": {
          "base_uri": "https://localhost:8080/"
        },
        "outputId": "18013d81-c1da-40af-aace-05a123f13e4c"
      },
      "outputs": [
        {
          "output_type": "stream",
          "name": "stderr",
          "text": [
            "WARNING:root:Ignoring repeated attempt to bind to globals\n"
          ]
        }
      ],
      "source": [
        "#### Não altere essa célula!!! ####\n",
        "import pandas as pd\n",
        "import numpy as np\n",
        "import matplotlib.pyplot as plt\n",
        "import seaborn as sns\n",
        "\n",
        "\n",
        "from learntools_dados_ufv.core import binder; binder.bind(globals())\n",
        "from learntools_dados_ufv.ccf425.pratica_3 import *"
      ]
    },
    {
      "cell_type": "markdown",
      "metadata": {
        "id": "AwbsSFyfce0j"
      },
      "source": [
        "# Roteiro"
      ]
    },
    {
      "cell_type": "markdown",
      "metadata": {
        "id": "CHMN-XCice0k"
      },
      "source": [
        "## Leitura dos dados\n",
        "Veja os dados do arquivo `renda_populacao.csv`. \n",
        "\n",
        "Use a opção `squeeze=True` para obter uma Série do arquivo e não um DataFrame (comportamento default). Note que não possui cabeçalhos."
      ]
    },
    {
      "cell_type": "code",
      "execution_count": 50,
      "metadata": {
        "id": "WPytsVToce0k",
        "outputId": "7af1bf46-be89-4871-d266-ce635ddda44b",
        "colab": {
          "base_uri": "https://localhost:8080/"
        }
      },
      "outputs": [
        {
          "output_type": "execute_result",
          "data": {
            "text/plain": [
              "0        9536.34\n",
              "1      267273.60\n",
              "2       39596.61\n",
              "3       24992.04\n",
              "4        9286.11\n",
              "          ...   \n",
              "9995    31717.13\n",
              "9996    30511.21\n",
              "9997     9335.55\n",
              "9998     9905.62\n",
              "9999   122687.20\n",
              "Name: 0, Length: 10000, dtype: float64"
            ]
          },
          "metadata": {},
          "execution_count": 50
        }
      ],
      "source": [
        "series = pd.read_csv('./renda_populacao.csv', index_col=False, header=None, squeeze=True)\n",
        "series"
      ]
    },
    {
      "cell_type": "markdown",
      "metadata": {
        "id": "XJam9X9Rce0l"
      },
      "source": [
        "## Explorar os dados com base em estatísticas descritivas\n",
        "\n",
        "Observação: para formatar a saída dos números reais no pandas, utilizar o comando: `pd.options.display.float_format = \"{:.2f}\".format`\n"
      ]
    },
    {
      "cell_type": "code",
      "execution_count": 51,
      "metadata": {
        "id": "mXO_Ud9zce0m",
        "outputId": "b6b7199b-c197-4a85-b1bb-38bd4a730d4b",
        "colab": {
          "base_uri": "https://localhost:8080/"
        }
      },
      "outputs": [
        {
          "output_type": "execute_result",
          "data": {
            "text/plain": [
              "count     10000.00\n",
              "mean      36210.55\n",
              "std       46539.07\n",
              "min         391.72\n",
              "25%       11205.69\n",
              "50%       22006.79\n",
              "75%       43049.55\n",
              "max     1119768.63\n",
              "Name: 0, dtype: float64"
            ]
          },
          "metadata": {},
          "execution_count": 51
        }
      ],
      "source": [
        "pd.options.display.float_format = \"{:.2f}\".format\n",
        "\n",
        "series.describe()"
      ]
    },
    {
      "cell_type": "markdown",
      "metadata": {
        "id": "0-cPTAN8ce0m"
      },
      "source": [
        "## Plotar a distribuição dessa população\n",
        "\n",
        "Observação: Por enquanto vamos simplesmente aceitar esse código usando as bibliotecas _matplotlib_ e _seaborn_. Depois vamos entender melhor como gerar gráficos."
      ]
    },
    {
      "cell_type": "code",
      "execution_count": 52,
      "metadata": {
        "id": "f0EZo97Lce0n",
        "outputId": "8ee2e84c-b3e2-4984-bea8-2b85c34751c8",
        "colab": {
          "base_uri": "https://localhost:8080/",
          "height": 369
        }
      },
      "outputs": [
        {
          "output_type": "display_data",
          "data": {
            "text/plain": [
              "<Figure size 360x360 with 1 Axes>"
            ],
            "image/png": "[encoded data removed]"
          },
          "metadata": {
            "needs_background": "light"
          }
        }
      ],
      "source": [
        "def plot_dist_data(data):\n",
        "    ax = sns.displot(data)\n",
        "    ax.set(xlabel=\"Renda\", ylabel=\"Frequência\")\n",
        "\n",
        "    plt.show()\n",
        "\n",
        "\n",
        "plot_dist_data(series)"
      ]
    },
    {
      "cell_type": "markdown",
      "metadata": {
        "id": "PD-SIyvTce0n"
      },
      "source": [
        "## Plotar uma amostra dessa população de tamanho 10\n",
        "\n",
        "Note que a amostragem é aleatória, e portanto, em cada execução vai gerar um gráfico diferente."
      ]
    },
    {
      "cell_type": "code",
      "execution_count": 53,
      "metadata": {
        "id": "3l7cYnhjce0n",
        "outputId": "2d687dca-b41a-45e2-9640-c8af94dbb262",
        "colab": {
          "base_uri": "https://localhost:8080/"
        }
      },
      "outputs": [
        {
          "output_type": "execute_result",
          "data": {
            "text/plain": [
              "7526   55814.43\n",
              "2879   56823.57\n",
              "7085    7276.36\n",
              "8030   10334.52\n",
              "3838   45065.50\n",
              "         ...   \n",
              "7020   60163.39\n",
              "7180   27503.87\n",
              "1149    7337.56\n",
              "1407   14031.57\n",
              "7145   16637.35\n",
              "Name: 0, Length: 100, dtype: float64"
            ]
          },
          "metadata": {},
          "execution_count": 53
        }
      ],
      "source": [
        "# Gera uma amostra de tamanho 100 dos dados. \n",
        "sample = series.sample(100)\n",
        "sample"
      ]
    },
    {
      "cell_type": "code",
      "execution_count": 54,
      "metadata": {
        "id": "3DOjbUaqce0o",
        "outputId": "d8f6ebfc-f5de-44d6-9508-2880ba5e883a",
        "colab": {
          "base_uri": "https://localhost:8080/",
          "height": 369
        }
      },
      "outputs": [
        {
          "output_type": "display_data",
          "data": {
            "text/plain": [
              "<Figure size 360x360 with 1 Axes>"
            ],
            "image/png": "[encoded data removed]"
          },
          "metadata": {
            "needs_background": "light"
          }
        }
      ],
      "source": [
        "# Plota de fato a amostra\n",
        "plot_dist_data(sample)"
      ]
    },
    {
      "cell_type": "markdown",
      "metadata": {
        "id": "ifEeRfWLce0o"
      },
      "source": [
        "## Explorar os dados com base em estatísticas descritivas da amostra\n",
        "\n",
        "Veja a média da amostra. Esse valor está dentro do esperado para a população?\n",
        "\n",
        "Repita os últimos 3 passos (gerar amostra, plotar amostra, calcular média da amostra) algumas vezes para verificar o que acontece com a média. \n",
        "\n",
        "> Observação: os resultados de cada execução serão diferentes, pois estamos pegando amostras aleatórias."
      ]
    },
    {
      "cell_type": "code",
      "execution_count": 55,
      "metadata": {
        "id": "hY5UGk9mce0p",
        "outputId": "bad64440-2078-491a-bced-4b9e8696d7f9",
        "colab": {
          "base_uri": "https://localhost:8080/"
        }
      },
      "outputs": [
        {
          "output_type": "execute_result",
          "data": {
            "text/plain": [
              "count      100.00\n",
              "mean     40375.85\n",
              "std      47262.45\n",
              "min       1946.74\n",
              "25%      12143.24\n",
              "50%      26224.88\n",
              "75%      54320.72\n",
              "max     323691.03\n",
              "Name: 0, dtype: float64"
            ]
          },
          "metadata": {},
          "execution_count": 55
        }
      ],
      "source": [
        "sample.describe()"
      ]
    },
    {
      "cell_type": "markdown",
      "metadata": {
        "id": "imXBatyzce0p"
      },
      "source": [
        "## Gerar métricas de um conjunto de amostras aleatórias\n",
        "\n",
        "Vamos gerar 50 amostras aleatórias da população, calcular a média de cada amostra, plotar a distribuição das médias, e calcular a média das médias das amostras e o erro padrão."
      ]
    },
    {
      "cell_type": "code",
      "execution_count": 56,
      "metadata": {
        "id": "_vq_l-dkce0p",
        "outputId": "f78f1286-3624-4fd9-8a76-f30a32da9e66",
        "colab": {
          "base_uri": "https://localhost:8080/",
          "height": 418
        }
      },
      "outputs": [
        {
          "output_type": "stream",
          "name": "stdout",
          "text": [
            "Média das médias: 35227.56\n",
            "Erro padrão: 6581.62\n"
          ]
        },
        {
          "output_type": "display_data",
          "data": {
            "text/plain": [
              "<Figure size 360x360 with 1 Axes>"
            ],
            "image/png": "[encoded data removed]"
          },
          "metadata": {
            "needs_background": "light"
          }
        }
      ],
      "source": [
        "# Gerar N amostras de tamanho T e plota as médias das amostras\n",
        "def analyze_samples(N=50, T=100):\n",
        "    # Gera N amostras diferentes de tamanho T\n",
        "    samples_list = [series.sample(T) for _i in range(0, N)]\n",
        "    # Gera uma lista com a média de cada uma das amostras acima\n",
        "    means_of_samples = [s.mean() for s in samples_list]\n",
        "\n",
        "    # Média das médias\n",
        "    mean_of_means = np.mean(means_of_samples)\n",
        "\n",
        "    # Erro padrão\n",
        "    std_error = series.std() / np.sqrt(len(means_of_samples))\n",
        "\n",
        "    print(\"Média das médias: {:.2f}\".format(mean_of_means))\n",
        "    print(\"Erro padrão: {:.2f}\".format(std_error))\n",
        "\n",
        "    plot_dist_data(means_of_samples)\n",
        "\n",
        "\n",
        "\n",
        "analyze_samples(50, 100)"
      ]
    },
    {
      "cell_type": "markdown",
      "metadata": {
        "id": "cB69YZjsce0q"
      },
      "source": [
        "## Analisar o conjunto de amostras\n",
        "Repita a célula anterior algumas vezes. Observe o gráfico.\n",
        "\n",
        "- Ele segue a distribuição Normal?\n",
        "- As médias das médias das amostras estão próximas da média da população?\n",
        "- E os erros padrões?\n"
      ]
    },
    {
      "cell_type": "markdown",
      "metadata": {
        "id": "zM6ddcFBce0q"
      },
      "source": [
        "## Veja amostras maiores\n",
        "Repita o processo apresentado (de gerar amostras, calcular médias e ver gráficos), mas agora com um número maior de amostras (100, 250, 500). \n",
        "\n",
        "Podemos observar que a distribuição das médias se aproxima mais da distribuição Normal? E o que acontece com o erro padrão?"
      ]
    },
    {
      "cell_type": "code",
      "execution_count": 57,
      "metadata": {
        "id": "p3No6jtMce0q",
        "outputId": "26008b2b-b99a-4f57-f1e5-625fb29b02eb",
        "colab": {
          "base_uri": "https://localhost:8080/",
          "height": 418
        }
      },
      "outputs": [
        {
          "output_type": "stream",
          "name": "stdout",
          "text": [
            "Média das médias: 36729.77\n",
            "Erro padrão: 4653.91\n"
          ]
        },
        {
          "output_type": "display_data",
          "data": {
            "text/plain": [
              "<Figure size 360x360 with 1 Axes>"
            ],
            "image/png": "[encoded data removed]"
          },
          "metadata": {
            "needs_background": "light"
          }
        }
      ],
      "source": [
        "analyze_samples(N=100)"
      ]
    },
    {
      "cell_type": "code",
      "execution_count": 58,
      "metadata": {
        "id": "-5wUXhcece0q",
        "outputId": "4635620b-6c8c-4e5f-9397-bccc8f17d5d0",
        "colab": {
          "base_uri": "https://localhost:8080/",
          "height": 418
        }
      },
      "outputs": [
        {
          "output_type": "stream",
          "name": "stdout",
          "text": [
            "Média das médias: 36119.63\n",
            "Erro padrão: 2943.39\n"
          ]
        },
        {
          "output_type": "display_data",
          "data": {
            "text/plain": [
              "<Figure size 360x360 with 1 Axes>"
            ],
            "image/png": "[encoded data removed]"
          },
          "metadata": {
            "needs_background": "light"
          }
        }
      ],
      "source": [
        "analyze_samples(N=250)"
      ]
    },
    {
      "cell_type": "code",
      "execution_count": 59,
      "metadata": {
        "id": "oTNyivXece0r",
        "outputId": "4142cece-a70e-4188-a155-9809df4213d7",
        "colab": {
          "base_uri": "https://localhost:8080/",
          "height": 418
        }
      },
      "outputs": [
        {
          "output_type": "stream",
          "name": "stdout",
          "text": [
            "Média das médias: 36092.74\n",
            "Erro padrão: 2081.29\n"
          ]
        },
        {
          "output_type": "display_data",
          "data": {
            "text/plain": [
              "<Figure size 360x360 with 1 Axes>"
            ],
            "image/png": "[encoded data removed]"
          },
          "metadata": {
            "needs_background": "light"
          }
        }
      ],
      "source": [
        "analyze_samples(N=500)"
      ]
    },
    {
      "cell_type": "markdown",
      "metadata": {
        "id": "cxH2JZ8sce0r"
      },
      "source": [
        "## Verificar se uma amostra pertence a população\n",
        "\n",
        "Leia o arquivo de amostra de rendas (renda_amostra1.csv). Verifique se essa amostra faz parte da população de renda (renda.csv) ou não: \n",
        "1. Calcule a média e o erro padrão;\n",
        "2. Verifique a quantos erros da média da população a média da amostra está;\n"
      ]
    },
    {
      "cell_type": "code",
      "execution_count": 60,
      "metadata": {
        "id": "Oqrrz41Bce0r",
        "outputId": "f549993a-811b-41bf-8561-5bf01302b470",
        "colab": {
          "base_uri": "https://localhost:8080/"
        }
      },
      "outputs": [
        {
          "output_type": "execute_result",
          "data": {
            "text/plain": [
              "0      4462.94\n",
              "1     28223.57\n",
              "2     64744.10\n",
              "3      4326.30\n",
              "4      6050.94\n",
              "        ...   \n",
              "95     6257.41\n",
              "96     7002.31\n",
              "97     2489.48\n",
              "98    59734.25\n",
              "99   194382.99\n",
              "Name: 0, Length: 100, dtype: float64"
            ]
          },
          "metadata": {},
          "execution_count": 60
        }
      ],
      "source": [
        "sample_1 = pd.read_csv(\"./renda_amostra1.csv\", index_col=False, header=None, squeeze=True)\n",
        "sample_1"
      ]
    },
    {
      "cell_type": "code",
      "execution_count": null,
      "metadata": {
        "id": "3MUPPamRce0r",
        "outputId": "4ff274e8-40b8-437a-85e8-e3b4644a1b5f"
      },
      "outputs": [
        {
          "name": "stdout",
          "output_type": "stream",
          "text": [
            "Média da população: 36210.55\n",
            "Média da amostra: 35515.00\n",
            "Erro padrão: 4653.91\n"
          ]
        }
      ],
      "source": [
        "series_mean = series.mean()\n",
        "sample_1_mean = sample_1.mean()\n",
        "std_error = series.std() / np.sqrt(len(sample_1))\n",
        "\n",
        "print(\"Média da população: {:.2f}\".format(series_mean))\n",
        "print(\"Média da amostra: {:.2f}\".format(sample_1_mean))\n",
        "print(\"Erro padrão: {:.2f}\".format(std_error))"
      ]
    },
    {
      "cell_type": "code",
      "execution_count": null,
      "metadata": {
        "id": "WG8FPQSWce0s",
        "outputId": "601b8758-174c-4aec-b36d-cdea70972260"
      },
      "outputs": [
        {
          "name": "stdout",
          "output_type": "stream",
          "text": [
            "A diferença entre a média da população e da amostra é de 0.1495 erros padrão\n"
          ]
        }
      ],
      "source": [
        "# Calcula a diferença entre a média da população e da amostra, em termos do erro padrão.\n",
        "std_error_distance = abs(series_mean - sample_1_mean) / std_error\n",
        "\n",
        "print(\"A diferença entre a média da população e da amostra é de {:.4f} erros padrão\".format(std_error_distance))"
      ]
    },
    {
      "cell_type": "markdown",
      "metadata": {
        "id": "8aG5nMG5ce0s"
      },
      "source": [
        "# Exercícios"
      ]
    },
    {
      "cell_type": "markdown",
      "metadata": {
        "id": "3LWiNtDCX7_7"
      },
      "source": [
        "## 1. Leia os dados de uma população de pesos (_pesos_populacao.csv_)\n",
        "Armazene na variável `population_weight`. \n",
        "\n",
        "Chame a função `q1.check()` no fim da célula para verificar a resposta.\n",
        "Você pode pedir dicas com `q1.hint()`"
      ]
    },
    {
      "cell_type": "code",
      "execution_count": 61,
      "metadata": {
        "id": "ja1KJaDIce0s",
        "colab": {
          "base_uri": "https://localhost:8080/",
          "height": 255
        },
        "outputId": "aa2ba195-6f39-4455-c581-a57f6cacd7b9"
      },
      "outputs": [
        {
          "output_type": "display_data",
          "data": {
            "text/plain": [
              "0      158.98\n",
              "1      176.40\n",
              "2      148.37\n",
              "3      184.33\n",
              "4      188.31\n",
              "        ...  \n",
              "9995   187.56\n",
              "9996   143.56\n",
              "9997   135.31\n",
              "9998   157.65\n",
              "9999   170.29\n",
              "Name: 0, Length: 10000, dtype: float64"
            ]
          },
          "metadata": {}
        },
        {
          "output_type": "display_data",
          "data": {
            "text/plain": [
              "<IPython.core.display.Javascript object>"
            ],
            "application/javascript": [
              "parent.postMessage({\"jupyterEvent\": \"custom.exercise_interaction\", \"data\": {\"outcomeType\": 1, \"valueTowardsCompletion\": 0.5, \"interactionType\": 1, \"questionType\": 2, \"questionId\": \"1_Q1\", \"learnToolsVersion\": \"1.0.5\", \"failureMessage\": \"\", \"exceptionClass\": \"\", \"trace\": \"\"}}, \"*\")"
            ]
          },
          "metadata": {}
        },
        {
          "output_type": "display_data",
          "data": {
            "text/plain": [
              "CORRETO: \n"
            ],
            "text/markdown": "<span style=\"color:#33cc33\">CORRETO:</span> \n\n"
          },
          "metadata": {}
        }
      ],
      "source": [
        "# q1.hint()\n",
        "\n",
        "population_weight =  pd.read_csv(\"./pesos_populacao.csv\", index_col=False, header=None, squeeze=True)\n",
        "display(population_weight)\n",
        "\n",
        "q1.check()"
      ]
    },
    {
      "cell_type": "markdown",
      "metadata": {
        "id": "wPZMt8Fpce0s"
      },
      "source": [
        "## 2. Analise a `Amostra 1`\n",
        "Essa é uma atividade com múltiplas questões."
      ]
    },
    {
      "cell_type": "markdown",
      "metadata": {
        "id": "Qdz528Ecce0t"
      },
      "source": [
        "### 2.a. Leia o arquivo com os dados da amostra.\n",
        "Armazene na variável `sample_1_weight`. \n",
        "\n",
        "Chame a função `q2.a.check()` no fim da célula para verificar a resposta.\n",
        "Você pode pedir dicas com `q2.a.hint()`"
      ]
    },
    {
      "cell_type": "code",
      "execution_count": 62,
      "metadata": {
        "id": "5xuRkwaJce0t",
        "colab": {
          "base_uri": "https://localhost:8080/",
          "height": 255
        },
        "outputId": "4b3794c8-4dff-4220-c639-bcd34fbd091b"
      },
      "outputs": [
        {
          "output_type": "display_data",
          "data": {
            "text/plain": [
              "0    145.43\n",
              "1    173.47\n",
              "2    168.14\n",
              "3    163.19\n",
              "4    151.58\n",
              "      ...  \n",
              "95   147.93\n",
              "96   172.30\n",
              "97   194.69\n",
              "98   170.92\n",
              "99   185.79\n",
              "Name: 0, Length: 100, dtype: float64"
            ]
          },
          "metadata": {}
        },
        {
          "output_type": "display_data",
          "data": {
            "text/plain": [
              "<IPython.core.display.Javascript object>"
            ],
            "application/javascript": [
              "parent.postMessage({\"jupyterEvent\": \"custom.exercise_interaction\", \"data\": {\"outcomeType\": 1, \"valueTowardsCompletion\": 0.5, \"interactionType\": 1, \"questionType\": 2, \"questionId\": \"2.1_Q2A\", \"learnToolsVersion\": \"1.0.5\", \"failureMessage\": \"\", \"exceptionClass\": \"\", \"trace\": \"\"}}, \"*\")"
            ]
          },
          "metadata": {}
        },
        {
          "output_type": "display_data",
          "data": {
            "text/plain": [
              "CORRETO: \n"
            ],
            "text/markdown": "<span style=\"color:#33cc33\">CORRETO:</span> \n\n"
          },
          "metadata": {}
        }
      ],
      "source": [
        "# q2.a.hint()\n",
        "\n",
        "sample_1_weight = pd.read_csv('./pesos_amostra1.csv', index_col=False, header=None, squeeze=True)\n",
        "display(sample_1_weight)\n",
        "\n",
        "q2.a.check()"
      ]
    },
    {
      "cell_type": "markdown",
      "metadata": {
        "id": "k3vFLM4uce0t"
      },
      "source": [
        "### 2.b. Verifique se a amostra pertence a população.\n",
        "A amostra foi retirada ou não da população de pesos? Justifique\n",
        "\n",
        "Armazene a resposta booleana na variável `is_sample_1_from_population`. \n",
        "\n",
        "\n",
        "Chame a função `q2.b.check()` no fim da célula para verificar a resposta.\n",
        "Você pode pedir dicas com `q2.b.hint(n)` onde n é o número da dica.\n",
        "\n",
        "> OBS: Mesmo que o corretor aceite respostas booleanas (e você pode \"_roubar_\" testando a resposta antes), será analisado também a justificativa."
      ]
    },
    {
      "cell_type": "code",
      "execution_count": 63,
      "metadata": {
        "id": "JLL_kWbQce0t",
        "colab": {
          "base_uri": "https://localhost:8080/",
          "height": 64
        },
        "outputId": "ce25a7a6-1cfc-4c43-bf04-cb726f2db560"
      },
      "outputs": [
        {
          "output_type": "display_data",
          "data": {
            "text/plain": [
              "True"
            ]
          },
          "metadata": {}
        },
        {
          "output_type": "display_data",
          "data": {
            "text/plain": [
              "<IPython.core.display.Javascript object>"
            ],
            "application/javascript": [
              "parent.postMessage({\"jupyterEvent\": \"custom.exercise_interaction\", \"data\": {\"outcomeType\": 1, \"valueTowardsCompletion\": 0.5, \"interactionType\": 1, \"questionType\": 1, \"questionId\": \"2.2_Q2B\", \"learnToolsVersion\": \"1.0.5\", \"failureMessage\": \"\", \"exceptionClass\": \"\", \"trace\": \"\"}}, \"*\")"
            ]
          },
          "metadata": {}
        },
        {
          "output_type": "display_data",
          "data": {
            "text/plain": [
              "CORRETO: \n"
            ],
            "text/markdown": "<span style=\"color:#33cc33\">CORRETO:</span> \n\n"
          },
          "metadata": {}
        }
      ],
      "source": [
        "# q2.b.hint()\n",
        "\n",
        "mean_population = population_weight.mean()\n",
        "mean_sample = sample_1_weight.mean()\n",
        "\n",
        "std_error = population_weight.std() / np.sqrt(len(sample_1_weight))\n",
        "\n",
        "distance_about_errors = abs(mean_population - mean_sample)/std_error\n",
        "\n",
        "is_sample_1_from_population = True if (distance_about_errors < (3*std_error)) else False\n",
        "\n",
        "display(is_sample_1_from_population)\n",
        "\n",
        "'''\n",
        "Sabemos pelo teorema central do limite que as médias de amostras se situam dentro de três erros padrões\n",
        "da média da população, então este deve ser o ponto a ser analisado já que se verdadeiro a amostra pertence\n",
        "a população\n",
        "'''\n",
        "\n",
        "q2.b.check()"
      ]
    },
    {
      "cell_type": "markdown",
      "metadata": {
        "id": "8BhQK-xTce0t"
      },
      "source": [
        "## 3. Analise a `Amostra 2`\n",
        "Essa é uma atividade com múltiplas questões."
      ]
    },
    {
      "cell_type": "markdown",
      "metadata": {
        "id": "Goct_aTLce0t"
      },
      "source": [
        "### 3.a. Leia o arquivo com os dados da amostra.\n",
        "Armazene na variável `sample_2_weight`. \n",
        "\n",
        "Chame a função `q3.a.check()` no fim da célula para verificar a resposta.\n",
        "Você pode pedir dicas com `q3.a.hint()`"
      ]
    },
    {
      "cell_type": "code",
      "execution_count": 64,
      "metadata": {
        "id": "q2OynwLHce0u",
        "colab": {
          "base_uri": "https://localhost:8080/",
          "height": 255
        },
        "outputId": "2617c648-9ca9-46fa-b981-2a401aeae2a6"
      },
      "outputs": [
        {
          "output_type": "display_data",
          "data": {
            "text/plain": [
              "0     57.05\n",
              "1     52.67\n",
              "2     90.12\n",
              "3     51.51\n",
              "4     72.91\n",
              "      ...  \n",
              "95   103.64\n",
              "96    80.51\n",
              "97    59.21\n",
              "98    97.96\n",
              "99    91.60\n",
              "Name: 0, Length: 100, dtype: float64"
            ]
          },
          "metadata": {}
        },
        {
          "output_type": "display_data",
          "data": {
            "text/plain": [
              "<IPython.core.display.Javascript object>"
            ],
            "application/javascript": [
              "parent.postMessage({\"jupyterEvent\": \"custom.exercise_interaction\", \"data\": {\"outcomeType\": 1, \"valueTowardsCompletion\": 0.5, \"interactionType\": 1, \"questionType\": 2, \"questionId\": \"3.1_Q3A\", \"learnToolsVersion\": \"1.0.5\", \"failureMessage\": \"\", \"exceptionClass\": \"\", \"trace\": \"\"}}, \"*\")"
            ]
          },
          "metadata": {}
        },
        {
          "output_type": "display_data",
          "data": {
            "text/plain": [
              "CORRETO: \n"
            ],
            "text/markdown": "<span style=\"color:#33cc33\">CORRETO:</span> \n\n"
          },
          "metadata": {}
        }
      ],
      "source": [
        "#q3.a.hint()\n",
        "\n",
        "sample_2_weight = pd.read_csv('./pesos_amostra2.csv', index_col=False, header=None, squeeze=True)\n",
        "display(sample_2_weight)\n",
        "\n",
        "q3.a.check()"
      ]
    },
    {
      "cell_type": "markdown",
      "metadata": {
        "id": "weOh7rGWce0u"
      },
      "source": [
        "### 3.b. Verifique se a amostra pertence a população.\n",
        "A amostra foi retirada ou não da população de pesos? Justifique\n",
        "\n",
        "Armazene a resposta booleana na variável `is_sample_2_from_population`. \n",
        "\n",
        "\n",
        "Chame a função `q3.b.check()` no fim da célula para verificar a resposta.\n",
        "Você pode pedir dicas com `q3.b.hint(n)` onde n é o número da dica.\n",
        "\n",
        "> OBS: Mesmo que o corretor aceite respostas booleanas (e você pode \"_roubar_\" testando a resposta antes), será analisado também a justificativa."
      ]
    },
    {
      "cell_type": "code",
      "execution_count": 65,
      "metadata": {
        "id": "ADI57jIhce0u",
        "colab": {
          "base_uri": "https://localhost:8080/",
          "height": 64
        },
        "outputId": "30b41880-e81e-4dbd-bacf-a0c3f454df33"
      },
      "outputs": [
        {
          "output_type": "display_data",
          "data": {
            "text/plain": [
              "False"
            ]
          },
          "metadata": {}
        },
        {
          "output_type": "display_data",
          "data": {
            "text/plain": [
              "<IPython.core.display.Javascript object>"
            ],
            "application/javascript": [
              "parent.postMessage({\"jupyterEvent\": \"custom.exercise_interaction\", \"data\": {\"outcomeType\": 1, \"valueTowardsCompletion\": 0.5, \"interactionType\": 1, \"questionType\": 1, \"questionId\": \"3.2_Q3B\", \"learnToolsVersion\": \"1.0.5\", \"failureMessage\": \"\", \"exceptionClass\": \"\", \"trace\": \"\"}}, \"*\")"
            ]
          },
          "metadata": {}
        },
        {
          "output_type": "display_data",
          "data": {
            "text/plain": [
              "CORRETO: \n"
            ],
            "text/markdown": "<span style=\"color:#33cc33\">CORRETO:</span> \n\n"
          },
          "metadata": {}
        }
      ],
      "source": [
        "# q3.b.hint()\n",
        "\n",
        "\n",
        "mean_sample_2 = sample_2_weight.mean()\n",
        "\n",
        "std_error_2 = population_weight.std() / np.sqrt(len(sample_2_weight))\n",
        "\n",
        "distance_about_errors_2 = abs(mean_population - mean_sample_2)/std_error_2\n",
        "\n",
        "is_sample_2_from_population = True if (distance_about_errors_2 < (3*std_error_2)) else False\n",
        "\n",
        "'''\n",
        "Sabemos pelo teorema central do limite que as médias de amostras se situam dentro de três erros padrões\n",
        "da média da população, então este deve ser o ponto a ser analisado já que se verdadeiro a amostra pertence\n",
        "a população\n",
        "'''\n",
        "\n",
        "display(is_sample_2_from_population)\n",
        "\n",
        "q3.b.check()"
      ]
    },
    {
      "cell_type": "markdown",
      "metadata": {
        "id": "D1S_zwDwce0u"
      },
      "source": [
        "## 4. Analise a `Amostra 3`\n",
        "Essa é uma atividade com múltiplas questões."
      ]
    },
    {
      "cell_type": "markdown",
      "metadata": {
        "id": "V4t4szWcce0u"
      },
      "source": [
        "### 4.a. Leia o arquivo com os dados da amostra.\n",
        "Armazene na variável `sample_3_weight`. \n",
        "\n",
        "Chame a função `q4.a.check()` no fim da célula para verificar a resposta.\n",
        "Você pode pedir dicas com `q4.a.hint()`"
      ]
    },
    {
      "cell_type": "code",
      "execution_count": 66,
      "metadata": {
        "id": "QTgIHUcOce0u",
        "colab": {
          "base_uri": "https://localhost:8080/",
          "height": 255
        },
        "outputId": "43d88777-b322-4067-ca0f-2ec4d7e08640"
      },
      "outputs": [
        {
          "output_type": "display_data",
          "data": {
            "text/plain": [
              "0    214.26\n",
              "1    204.95\n",
              "2    216.39\n",
              "3    202.86\n",
              "4    190.51\n",
              "      ...  \n",
              "95   201.70\n",
              "96   221.31\n",
              "97   218.35\n",
              "98   213.32\n",
              "99   199.10\n",
              "Name: 0, Length: 100, dtype: float64"
            ]
          },
          "metadata": {}
        },
        {
          "output_type": "display_data",
          "data": {
            "text/plain": [
              "<IPython.core.display.Javascript object>"
            ],
            "application/javascript": [
              "parent.postMessage({\"jupyterEvent\": \"custom.exercise_interaction\", \"data\": {\"outcomeType\": 1, \"valueTowardsCompletion\": 0.5, \"interactionType\": 1, \"questionType\": 2, \"questionId\": \"4.1_Q4A\", \"learnToolsVersion\": \"1.0.5\", \"failureMessage\": \"\", \"exceptionClass\": \"\", \"trace\": \"\"}}, \"*\")"
            ]
          },
          "metadata": {}
        },
        {
          "output_type": "display_data",
          "data": {
            "text/plain": [
              "CORRETO: \n"
            ],
            "text/markdown": "<span style=\"color:#33cc33\">CORRETO:</span> \n\n"
          },
          "metadata": {}
        }
      ],
      "source": [
        "# q4.a.hint()\n",
        "\n",
        "sample_3_weight = pd.read_csv('./pesos_amostra3.csv', index_col=False, header=None, squeeze=True)\n",
        "display(sample_3_weight)\n",
        "\n",
        "q4.a.check()"
      ]
    },
    {
      "cell_type": "markdown",
      "metadata": {
        "id": "X0-d7FOuce0v"
      },
      "source": [
        "### 4.b. Verifique se a amostra pertence a população.\n",
        "A amostra foi retirada ou não da população de pesos? Justifique\n",
        "\n",
        "Armazene a resposta booleana na variável `is_sample_3_from_population`. \n",
        "\n",
        "\n",
        "Chame a função `q4.b.check()` no fim da célula para verificar a resposta.\n",
        "Você pode pedir dicas com `q4.b.hint(n)` onde n é o número da dica.\n",
        "\n",
        "> OBS: Mesmo que o corretor aceite respostas booleanas (e você pode \"_roubar_\" testando a resposta antes), será analisado também a justificativa."
      ]
    },
    {
      "cell_type": "code",
      "execution_count": 67,
      "metadata": {
        "id": "FNlXSD_Qce0v",
        "colab": {
          "base_uri": "https://localhost:8080/",
          "height": 64
        },
        "outputId": "ae90e0c5-a559-4aab-e4ed-f3d6ab6523db"
      },
      "outputs": [
        {
          "output_type": "display_data",
          "data": {
            "text/plain": [
              "False"
            ]
          },
          "metadata": {}
        },
        {
          "output_type": "display_data",
          "data": {
            "text/plain": [
              "<IPython.core.display.Javascript object>"
            ],
            "application/javascript": [
              "parent.postMessage({\"jupyterEvent\": \"custom.exercise_interaction\", \"data\": {\"outcomeType\": 1, \"valueTowardsCompletion\": 0.5, \"interactionType\": 1, \"questionType\": 1, \"questionId\": \"4.2_Q4B\", \"learnToolsVersion\": \"1.0.5\", \"failureMessage\": \"\", \"exceptionClass\": \"\", \"trace\": \"\"}}, \"*\")"
            ]
          },
          "metadata": {}
        },
        {
          "output_type": "display_data",
          "data": {
            "text/plain": [
              "CORRETO: \n"
            ],
            "text/markdown": "<span style=\"color:#33cc33\">CORRETO:</span> \n\n"
          },
          "metadata": {}
        }
      ],
      "source": [
        "# q4.b.hint()\n",
        "\n",
        "mean_sample_3 = sample_3_weight.mean()\n",
        "\n",
        "std_error_3 = population_weight.std() / np.sqrt(len(sample_3_weight))\n",
        "\n",
        "distance_about_errors_3 = abs(mean_population - mean_sample_3)/std_error_3\n",
        "\n",
        "is_sample_3_from_population = True if (distance_about_errors_3 < (3*std_error_3)) else False\n",
        "\n",
        "'''\n",
        "Sabemos pelo teorema central do limite que as médias de amostras se situam dentro de três erros padrões\n",
        "da média da população, então este deve ser o ponto a ser analisado já que se verdadeiro a amostra pertence\n",
        "a população\n",
        "'''\n",
        "display(is_sample_3_from_population)\n",
        "\n",
        "q4.b.check()"
      ]
    },
    {
      "cell_type": "markdown",
      "metadata": {
        "id": "iqBcNmxIce0v"
      },
      "source": [
        "## 5. Analise a `Amostra 4`\n",
        "Essa é uma atividade com múltiplas questões."
      ]
    },
    {
      "cell_type": "markdown",
      "metadata": {
        "id": "bjUidZpice0v"
      },
      "source": [
        "### 5.a. Leia o arquivo com os dados da amostra.\n",
        "Armazene na variável `sample_4_weight`. \n",
        "\n",
        "Chame a função `q5.a.check()` no fim da célula para verificar a resposta.\n",
        "Você pode pedir dicas com `q5.a.hint()`"
      ]
    },
    {
      "cell_type": "code",
      "execution_count": 68,
      "metadata": {
        "id": "YvpvzigCce0v",
        "colab": {
          "base_uri": "https://localhost:8080/",
          "height": 255
        },
        "outputId": "b145d662-69a8-4158-e522-900acc10f2b7"
      },
      "outputs": [
        {
          "output_type": "display_data",
          "data": {
            "text/plain": [
              "0    138.50\n",
              "1    133.93\n",
              "2    146.47\n",
              "3    174.60\n",
              "4    116.79\n",
              "      ...  \n",
              "95   171.52\n",
              "96   159.26\n",
              "97   164.46\n",
              "98   188.13\n",
              "99   163.94\n",
              "Name: 0, Length: 100, dtype: float64"
            ]
          },
          "metadata": {}
        },
        {
          "output_type": "display_data",
          "data": {
            "text/plain": [
              "<IPython.core.display.Javascript object>"
            ],
            "application/javascript": [
              "parent.postMessage({\"jupyterEvent\": \"custom.exercise_interaction\", \"data\": {\"outcomeType\": 1, \"valueTowardsCompletion\": 0.5, \"interactionType\": 1, \"questionType\": 2, \"questionId\": \"5.1_Q5A\", \"learnToolsVersion\": \"1.0.5\", \"failureMessage\": \"\", \"exceptionClass\": \"\", \"trace\": \"\"}}, \"*\")"
            ]
          },
          "metadata": {}
        },
        {
          "output_type": "display_data",
          "data": {
            "text/plain": [
              "CORRETO: \n"
            ],
            "text/markdown": "<span style=\"color:#33cc33\">CORRETO:</span> \n\n"
          },
          "metadata": {}
        }
      ],
      "source": [
        "# q5.a.hint()\n",
        "\n",
        "sample_4_weight = pd.read_csv('./pesos_amostra4.csv', index_col=False, header=None, squeeze=True)\n",
        "display(sample_4_weight)\n",
        "\n",
        "q5.a.check()"
      ]
    },
    {
      "cell_type": "markdown",
      "metadata": {
        "id": "YrF609M-ce0v"
      },
      "source": [
        "### 5.b. Verifique se a amostra pertence a população.\n",
        "A amostra foi retirada ou não da população de pesos? Justifique\n",
        "\n",
        "Armazene a resposta booleana na variável `is_sample_4_from_population`. \n",
        "\n",
        "\n",
        "Chame a função `q5.b.check()` no fim da célula para verificar a resposta.\n",
        "Você pode pedir dicas com `q5.b.hint(n)` onde n é o número da dica.\n",
        "\n",
        "> OBS: Mesmo que o corretor aceite respostas booleanas (e você pode \"_roubar_\" testando a resposta antes), será analisado também a justificativa."
      ]
    },
    {
      "cell_type": "code",
      "execution_count": 69,
      "metadata": {
        "id": "vbcA6yj9ce0v",
        "colab": {
          "base_uri": "https://localhost:8080/",
          "height": 64
        },
        "outputId": "fe8ec507-505d-4dad-fb89-0d64326d79d3"
      },
      "outputs": [
        {
          "output_type": "display_data",
          "data": {
            "text/plain": [
              "False"
            ]
          },
          "metadata": {}
        },
        {
          "output_type": "display_data",
          "data": {
            "text/plain": [
              "<IPython.core.display.Javascript object>"
            ],
            "application/javascript": [
              "parent.postMessage({\"jupyterEvent\": \"custom.exercise_interaction\", \"data\": {\"outcomeType\": 1, \"valueTowardsCompletion\": 0.5, \"interactionType\": 1, \"questionType\": 1, \"questionId\": \"5.2_Q5B\", \"learnToolsVersion\": \"1.0.5\", \"failureMessage\": \"\", \"exceptionClass\": \"\", \"trace\": \"\"}}, \"*\")"
            ]
          },
          "metadata": {}
        },
        {
          "output_type": "display_data",
          "data": {
            "text/plain": [
              "CORRETO: \n"
            ],
            "text/markdown": "<span style=\"color:#33cc33\">CORRETO:</span> \n\n"
          },
          "metadata": {}
        }
      ],
      "source": [
        "# q5.b.hint()\n",
        "\n",
        "mean_sample_4 = sample_4_weight.mean()\n",
        "\n",
        "std_error_4 = population_weight.std() / np.sqrt(len(sample_4_weight))\n",
        "\n",
        "distance_about_errors_4 = abs(mean_population - mean_sample_4)/std_error_4\n",
        "\n",
        "is_sample_4_from_population = True if (distance_about_errors_4 < (3*std_error_4)) else False\n",
        "\n",
        "'''\n",
        "Sabemos pelo teorema central do limite que as médias de amostras se situam dentro de três erros padrões\n",
        "da média da população, então este deve ser o ponto a ser analisado já que se verdadeiro a amostra pertence\n",
        "a população\n",
        "'''\n",
        "display(is_sample_4_from_population)\n",
        "\n",
        "q5.b.check()"
      ]
    },
    {
      "cell_type": "markdown",
      "metadata": {
        "id": "MK2u5ib7ce0v"
      },
      "source": [
        "## 6. Verifique se duas amostras são da mesma população.\n",
        "É provável que as amostras 2 e 3 tenham vindo de uma mesma população? Justifique.\n",
        "\n",
        "Essa atividade não tem `check`, mas você pode pedir dicas com `q6.hint()`"
      ]
    },
    {
      "cell_type": "code",
      "execution_count": 70,
      "metadata": {
        "id": "YDewtgaGce0w",
        "colab": {
          "base_uri": "https://localhost:8080/",
          "height": 34
        },
        "outputId": "780ecef8-f9a3-44c0-f6d3-fc5e9be545dc"
      },
      "outputs": [
        {
          "output_type": "display_data",
          "data": {
            "text/plain": [
              "False"
            ]
          },
          "metadata": {}
        }
      ],
      "source": [
        "# q6.hint()\n",
        "\n",
        "# população = amostra 2\n",
        "# amostra   = amostra 3\n",
        "\n",
        "mean_sample_5 = sample_3_weight.mean()\n",
        "\n",
        "std_error_5 = sample_2_weight.std() / np.sqrt(len(sample_3_weight))\n",
        "\n",
        "distance_about_errors_5 = abs(mean_sample_2 - mean_sample_3)/std_error_5\n",
        "\n",
        "is_sample_5_from_population = True if (distance_about_errors_5 < (3*std_error_5)) else False\n",
        "\n",
        "display(is_sample_5_from_population)"
      ]
    },
    {
      "cell_type": "markdown",
      "metadata": {
        "id": "tiX-8REZce0w"
      },
      "source": [
        "### Resposta para questão 6:\n",
        "\n",
        "Utilizando o teorema central do limite e usando:\n",
        "\n",
        "*   População = amostra 2 \n",
        "*   Amostra   = amostra 3\n",
        "\n",
        "Podemos afirmar que possivelmente as amostras 2 e 3 não tenham vindo de uma mesma população, já que as médias de amostras se situam fora de três erros padrões\n",
        "da média da população."
      ]
    }
  ],
  "metadata": {
    "colab": {
      "name": "3897-Luciano.ipynb",
      "provenance": [],
      "toc_visible": true,
      "collapsed_sections": []
    },
    "interpreter": {
      "hash": "aee8b7b246df8f9039afb4144a1f6fd8d2ca17a180786b69acc140d282b71a49"
    },
    "kernelspec": {
      "display_name": "Python 3.9.12 64-bit",
      "language": "python",
      "name": "python3"
    },
    "language_info": {
      "codemirror_mode": {
        "name": "ipython",
        "version": 3
      },
      "file_extension": ".py",
      "mimetype": "text/x-python",
      "name": "python",
      "nbconvert_exporter": "python",
      "pygments_lexer": "ipython3",
      "version": "3.9.12"
    }
  },
  "nbformat": 4,
  "nbformat_minor": 0
}